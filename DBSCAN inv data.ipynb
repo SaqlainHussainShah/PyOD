{
 "cells": [
  {
   "cell_type": "code",
   "execution_count": 63,
   "metadata": {},
   "outputs": [],
   "source": [
    "# Import necessary modules\n",
    "import pandas as pd\n",
    "import matplotlib.pyplot as plt\n",
    "import numpy as np\n",
    "import time\n",
    "from sklearn.metrics import accuracy_score\n",
    "from scipy import stats\n",
    "from sklearn.cluster import DBSCAN\n",
    "from sklearn.preprocessing import StandardScaler\n",
    "scaler = StandardScaler()"
   ]
  },
  {
   "cell_type": "code",
   "execution_count": 64,
   "metadata": {},
   "outputs": [],
   "source": [
    "df=pd.read_csv(\"./access_logs-all-with-difference.csv\")"
   ]
  },
  {
   "cell_type": "code",
   "execution_count": 65,
   "metadata": {},
   "outputs": [],
   "source": [
    "#display all columns and rows\n",
    "pd.set_option('display.max_columns', None)\n",
    "pd.set_option('display.max_rows', None)"
   ]
  },
  {
   "cell_type": "markdown",
   "metadata": {},
   "source": [
    "### select agent"
   ]
  },
  {
   "cell_type": "code",
   "execution_count": 66,
   "metadata": {},
   "outputs": [],
   "source": [
    "def select_agent(df, agent_id):\n",
    "    df_selected = df.loc[df['agent_id'] == agent_id]\n",
    "    return df_selected"
   ]
  },
  {
   "cell_type": "markdown",
   "metadata": {},
   "source": [
    "### show service ids"
   ]
  },
  {
   "cell_type": "code",
   "execution_count": 67,
   "metadata": {},
   "outputs": [],
   "source": [
    "def show_unique_service_ids(df, agent_id):\n",
    "    df_agent_selected = select_agent(df, agent_id)\n",
    "    service_ids = df_agent_selected.groupby('service_id')['service_id'].first()\n",
    "    print(service_ids)\n",
    " "
   ]
  },
  {
   "cell_type": "markdown",
   "metadata": {},
   "source": [
    "### select service id"
   ]
  },
  {
   "cell_type": "code",
   "execution_count": 68,
   "metadata": {},
   "outputs": [],
   "source": [
    "def select_service(df,service_id):\n",
    "    df_selected = df.loc[df['service_id'] == service_id]\n",
    "    return df_selected"
   ]
  },
  {
   "cell_type": "markdown",
   "metadata": {},
   "source": [
    "### select features"
   ]
  },
  {
   "cell_type": "code",
   "execution_count": 69,
   "metadata": {},
   "outputs": [],
   "source": [
    "def select_features(df, feature_list):\n",
    "    df_selected = df[feature_list]\n",
    "    return df_selected"
   ]
  },
  {
   "cell_type": "code",
   "execution_count": 70,
   "metadata": {},
   "outputs": [],
   "source": [
    "features = ['difference']"
   ]
  },
  {
   "cell_type": "markdown",
   "metadata": {},
   "source": [
    "### Normalize data"
   ]
  },
  {
   "cell_type": "code",
   "execution_count": 71,
   "metadata": {},
   "outputs": [],
   "source": [
    "def normalize_data(df):\n",
    "    \n",
    "    \"\"\" Method for normalizing data using zscore\n",
    "    \n",
    "    Args:\n",
    "        df (dataframe)\n",
    "        \n",
    "    Attributes:\n",
    "        df (dataframe): original dataframe with selected rows and columns\n",
    "        X (dataframe): consists of copy of df for processing\n",
    "    \n",
    "    Returns:\n",
    "        X(dataframe): Normalized dataframe\n",
    "        \n",
    "    \"\"\"\n",
    "    \n",
    "    X = df\n",
    "    for col in X:\n",
    "        X[col] = stats.zscore(X[col])\n",
    "        \n",
    "    return X"
   ]
  },
  {
   "cell_type": "markdown",
   "metadata": {},
   "source": [
    "### For Single feature run this outlier detection dbscan\n"
   ]
  },
  {
   "cell_type": "code",
   "execution_count": 72,
   "metadata": {},
   "outputs": [],
   "source": [
    "\n",
    "def outlier_detection_dbscan(eps, min_samples, X):\n",
    "    \n",
    "    \"\"\" Method for detecting multiple clusters, outliers and plotting them.\n",
    "    \n",
    "    Args:\n",
    "        eps (float): The maximum distance between two samples for one to be \n",
    "                    considered as in the neighborhood of the other\n",
    "        min_samples (int):The number of samples (or total weight) in a neighborhood for a point to be considered as a core point.\n",
    "                        This includes the point itself\n",
    "        X (dataframe): preprocessed datframe\n",
    "        \n",
    "    Attributes:\n",
    "        ss (object): standardscaler object\n",
    "        X (dataframe): consists of copy of df for processing\n",
    "        db (object): DBSCAN bject initialized\n",
    "        y_pred (results): results predicted by DBSCAN object\n",
    "        cluster_0 (data points): consists of points in cluster 0\n",
    "        cluster_1 (data points): consists of points in cluster 1\n",
    "        cluster_2 (data points): consists of points in cluster 2\n",
    "        cluster_3 (data points): consists of points in cluster 3\n",
    "        cluster_4 (data points): consists of points in cluster 4\n",
    "        cluster_5 (data points): consists of points in cluster 5\n",
    "        outlier (data points): consists of points detected as outliers\n",
    "    \n",
    "    Returns: None\n",
    "        \n",
    "    \"\"\" \n",
    "    \n",
    "    ss = StandardScaler()\n",
    "    X = ss.fit_transform(X)\n",
    "    db = DBSCAN(eps=eps, min_samples=min_samples)\n",
    "    db.fit(X)\n",
    "    y_pred = db.fit_predict(X)\n",
    "    \n",
    "    cluster_0 = []\n",
    "    cluster_1 = []\n",
    "    cluster_2 = []\n",
    "    cluster_3 = []\n",
    "    cluster_4 = []\n",
    "    cluster_5 = []\n",
    "    outliers = []\n",
    "    for i in range(len(X)):\n",
    "        if db.labels_[i] == -1:\n",
    "            outliers.append(X[i])\n",
    "        elif db.labels_[i] == 0:\n",
    "            cluster_0.append(X[i])\n",
    "        elif db.labels_[i] == 1:\n",
    "            cluster_1.append(X[i])\n",
    "        elif db.labels_[i] == 2:\n",
    "            cluster_2.append(X[i])\n",
    "        elif db.labels_[i] == 3:\n",
    "            cluster_3.append(X[i])\n",
    "        elif db.labels_[i] == 4:\n",
    "            cluster_4.append(X[i])\n",
    "        elif db.labels_[i] == 5:\n",
    "            cluster_5.append(X[i])\n",
    "\n",
    "            \n",
    "    if len(cluster_0) > 0:\n",
    "        x_0 = []\n",
    "        y_0 = []\n",
    "        for i in range(len(cluster_0)):\n",
    "            x_0.append(cluster_0[i][0])\n",
    "            y_0.append(0) # append labels \n",
    "            \n",
    "        plt.scatter(x_0, y_0,c='b', cmap='Paired')\n",
    "        print(\"Length of cluster 0 : \", len(cluster_0))\n",
    "\n",
    "        \n",
    "    if len(cluster_1) > 0:\n",
    "        x_1 = []\n",
    "        y_1 = []\n",
    "        for i in range(len(cluster_1)):\n",
    "            x_1.append(cluster_1[i][0])\n",
    "            y_1.append(1)\n",
    "        plt.scatter(x_1, y_1,c='g', cmap='Paired')\n",
    "        print(\"Length of cluster 1 : \", len(cluster_1))\n",
    "\n",
    "    \n",
    "    if len(cluster_2) > 0:\n",
    "        x_2 = []\n",
    "        y_2 = []\n",
    "        for i in range(len(cluster_2)):\n",
    "            x_2.append(cluster_2[i][0])\n",
    "            y_2.append(2)\n",
    "        plt.scatter(x_2, y_2,c='y', cmap='Paired')\n",
    "        print(\"Length of cluster 2 : \", len(cluster_2))\n",
    "\n",
    "            \n",
    "    if len(cluster_3) >0:\n",
    "        x_3 = []\n",
    "        y_3 = []\n",
    "        for i in range(len(cluster_3)):\n",
    "            x_3.append(cluster_3[i][0])\n",
    "            y_3.append(3)\n",
    "        plt.scatter(x_3, y_3,c='b', marker = \"1\" ,cmap='Paired')\n",
    "        print(\"Length of cluster 3 : \", len(cluster_3))\n",
    "\n",
    "            \n",
    "    if len(cluster_4) > 0:\n",
    "        x_4 = []\n",
    "        y_4 = []\n",
    "        for i in range(len(cluster_4)):\n",
    "            x_4.append(cluster_4[i][0])\n",
    "            y_4.append(4)\n",
    "        plt.scatter(x_4, y_4,c='b',marker = \"2\", cmap='Paired')\n",
    "        print(\"Length of cluster 4 : \", len(cluster_4))\n",
    "\n",
    "            \n",
    "    if len(cluster_5) > 0:\n",
    "        x_5 = []\n",
    "        y_5 = []\n",
    "        for i in range(len(cluster_5)):\n",
    "            x_5.append(cluster_5[i][0])\n",
    "            y_5.append(5)\n",
    "        plt.scatter(x_5, y_5,c='b',marker = \"3\", cmap='Paired')\n",
    "        print(\"Length of cluster 5 : \", len(cluster_5))\n",
    "\n",
    "            \n",
    "    if len(outliers) > 0:    \n",
    "        # outliers\n",
    "        x = []\n",
    "        y = []\n",
    "        for i in range(len(outliers)):\n",
    "            x.append(outliers[i][0])\n",
    "            y.append(-1)\n",
    "        plt.scatter(x, y,c='r', marker = '*', cmap='Paired') #outlier\n",
    "        print(\"Number of outliers : \", len(outliers))\n"
   ]
  },
  {
   "cell_type": "code",
   "execution_count": 60,
   "metadata": {},
   "outputs": [],
   "source": [
    "df = select_agent(df, 7238)\n",
    "df = select_service(df,700)\n",
    "df = select_features(df, feature_list)\n",
    "df = normalize_data(df)\n",
    "ss = StandardScaler()\n",
    "X = ss.fit_transform(df)\n",
    "db = DBSCAN(eps=0.2, min_samples=3)\n",
    "db.fit(X)\n",
    "y_pred = db.fit_predict(X)"
   ]
  },
  {
   "cell_type": "code",
   "execution_count": 73,
   "metadata": {},
   "outputs": [],
   "source": [
    "def dbscan_workflow(df, agent_id, service_id, feature_list, epsilon, min_samples):\n",
    "    \n",
    "    \"\"\" Method implementing the whole pipleline of work work dbscan\n",
    "    \n",
    "    Args:\n",
    "        df (dataframe): unprocessed data\n",
    "        epsilon (float): The maximum distance between two samples for one to be \n",
    "                    considered as in the neighborhood of the other\n",
    "        min_samples (int):The number of samples (or total weight) in a neighborhood for a point to be considered as a core point.\n",
    "                        This includes the point itself\n",
    "        features (list): names of features needed\n",
    "        \n",
    "    Returns: None\n",
    "        \n",
    "    \"\"\" \n",
    "    \n",
    "    df = select_agent(df, agent_id)\n",
    "    df = select_service(df,service_id)\n",
    "    df = select_features(df, feature_list)\n",
    "    df = normalize_data(df)\n",
    "    outlier_detection_dbscan(epsilon, min_samples, df)\n",
    "\n",
    "\n",
    "    \n",
    "    \n",
    "#     df = filter_ip(df)\n",
    "#     df = select_features(df,features)\n",
    "#     df = normalize_data(df)\n",
    "#     outlier_detection_dbscan(epsilon, min_samples, df)\n",
    "    "
   ]
  },
  {
   "cell_type": "code",
   "execution_count": 74,
   "metadata": {},
   "outputs": [
    {
     "name": "stdout",
     "output_type": "stream",
     "text": [
      "service_id\n",
      "700    700\n",
      "701    701\n",
      "706    706\n",
      "725    725\n",
      "770    770\n",
      "799    799\n",
      "800    800\n",
      "801    801\n",
      "809    809\n",
      "818    818\n",
      "820    820\n",
      "834    834\n",
      "838    838\n",
      "Name: service_id, dtype: int64\n"
     ]
    }
   ],
   "source": [
    "agent_id = 7238\n",
    "show_unique_service_ids(df, agent_id)"
   ]
  },
  {
   "cell_type": "code",
   "execution_count": 75,
   "metadata": {},
   "outputs": [
    {
     "name": "stdout",
     "output_type": "stream",
     "text": [
      "Length of cluster 0 :  6\n",
      "Length of cluster 1 :  2\n",
      "Length of cluster 2 :  12\n",
      "Length of cluster 3 :  3\n",
      "Length of cluster 4 :  3\n",
      "Length of cluster 5 :  2\n",
      "Number of outliers :  4\n"
     ]
    },
    {
     "data": {
      "image/png": "[encoded data removed]",
      "text/plain": [
       "<Figure size 432x288 with 1 Axes>"
      ]
     },
     "metadata": {
      "needs_background": "light"
     },
     "output_type": "display_data"
    }
   ],
   "source": [
    "agent_id = 7238\n",
    "service_id = 700\n",
    "feature_list = ['difference']\n",
    "epsilon = 0.1\n",
    "min_samples = 2\n",
    "dbscan_workflow(df, agent_id, service_id, feature_list, epsilon, min_samples)"
   ]
  },
  {
   "cell_type": "code",
   "execution_count": 76,
   "metadata": {},
   "outputs": [
    {
     "name": "stdout",
     "output_type": "stream",
     "text": [
      "Length of cluster 0 :  26\n",
      "Length of cluster 1 :  3\n",
      "Length of cluster 2 :  2\n",
      "Length of cluster 3 :  3\n",
      "Number of outliers :  2\n"
     ]
    },
    {
     "data": {
      "image/png": "[encoded data removed]",
      "text/plain": [
       "<Figure size 432x288 with 1 Axes>"
      ]
     },
     "metadata": {
      "needs_background": "light"
     },
     "output_type": "display_data"
    }
   ],
   "source": [
    "agent_id = 7238\n",
    "service_id = 700\n",
    "feature_list = ['difference']\n",
    "epsilon = 0.2\n",
    "min_samples = 2\n",
    "dbscan_workflow(df, agent_id, service_id, feature_list, epsilon, min_samples)"
   ]
  },
  {
   "cell_type": "code",
   "execution_count": 77,
   "metadata": {},
   "outputs": [
    {
     "name": "stdout",
     "output_type": "stream",
     "text": [
      "Length of cluster 0 :  31\n",
      "Length of cluster 1 :  4\n",
      "Number of outliers :  1\n"
     ]
    },
    {
     "data": {
      "image/png": "[encoded data removed]",
      "text/plain": [
       "<Figure size 432x288 with 1 Axes>"
      ]
     },
     "metadata": {
      "needs_background": "light"
     },
     "output_type": "display_data"
    }
   ],
   "source": [
    "agent_id = 7238\n",
    "service_id = 700\n",
    "feature_list = ['difference']\n",
    "epsilon = 0.5\n",
    "min_samples = 2\n",
    "dbscan_workflow(df, agent_id, service_id, feature_list, epsilon, min_samples)"
   ]
  },
  {
   "cell_type": "code",
   "execution_count": 78,
   "metadata": {},
   "outputs": [
    {
     "name": "stdout",
     "output_type": "stream",
     "text": [
      "Length of cluster 0 :  35\n",
      "Number of outliers :  1\n"
     ]
    },
    {
     "data": {
      "image/png": "[encoded data removed]",
      "text/plain": [
       "<Figure size 432x288 with 1 Axes>"
      ]
     },
     "metadata": {
      "needs_background": "light"
     },
     "output_type": "display_data"
    }
   ],
   "source": [
    "agent_id = 7238\n",
    "service_id = 700\n",
    "feature_list = ['difference']\n",
    "epsilon = 0.9\n",
    "min_samples = 2\n",
    "dbscan_workflow(df, agent_id, service_id, feature_list, epsilon, min_samples)"
   ]
  },
  {
   "cell_type": "code",
   "execution_count": 79,
   "metadata": {},
   "outputs": [
    {
     "name": "stdout",
     "output_type": "stream",
     "text": [
      "Length of cluster 0 :  12\n",
      "Length of cluster 1 :  6\n",
      "Number of outliers :  18\n"
     ]
    },
    {
     "data": {
      "image/png": "[encoded data removed]",
      "text/plain": [
       "<Figure size 432x288 with 1 Axes>"
      ]
     },
     "metadata": {
      "needs_background": "light"
     },
     "output_type": "display_data"
    }
   ],
   "source": [
    "agent_id = 7238\n",
    "service_id = 700\n",
    "feature_list = ['difference']\n",
    "epsilon = 0.1\n",
    "min_samples = 4\n",
    "dbscan_workflow(df, agent_id, service_id, feature_list, epsilon, min_samples)"
   ]
  },
  {
   "cell_type": "code",
   "execution_count": 80,
   "metadata": {},
   "outputs": [
    {
     "name": "stdout",
     "output_type": "stream",
     "text": [
      "Length of cluster 0 :  11\n",
      "Number of outliers :  25\n"
     ]
    },
    {
     "data": {
      "image/png": "[encoded data removed]",
      "text/plain": [
       "<Figure size 432x288 with 1 Axes>"
      ]
     },
     "metadata": {
      "needs_background": "light"
     },
     "output_type": "display_data"
    }
   ],
   "source": [
    "agent_id = 7238\n",
    "service_id = 700\n",
    "feature_list = ['difference']\n",
    "epsilon = 0.1\n",
    "min_samples = 8\n",
    "dbscan_workflow(df, agent_id, service_id, feature_list, epsilon, min_samples)"
   ]
  },
  {
   "cell_type": "code",
   "execution_count": 81,
   "metadata": {},
   "outputs": [
    {
     "name": "stdout",
     "output_type": "stream",
     "text": [
      "Number of outliers :  36\n"
     ]
    },
    {
     "data": {
      "image/png": "[encoded data removed]",
      "text/plain": [
       "<Figure size 432x288 with 1 Axes>"
      ]
     },
     "metadata": {
      "needs_background": "light"
     },
     "output_type": "display_data"
    }
   ],
   "source": [
    "agent_id = 7238\n",
    "service_id = 700\n",
    "feature_list = ['difference']\n",
    "epsilon = 0.1\n",
    "min_samples = 10\n",
    "dbscan_workflow(df, agent_id, service_id, feature_list, epsilon, min_samples)"
   ]
  },
  {
   "cell_type": "code",
   "execution_count": 82,
   "metadata": {},
   "outputs": [
    {
     "name": "stdout",
     "output_type": "stream",
     "text": [
      "Number of outliers :  36\n"
     ]
    },
    {
     "data": {
      "image/png": "[encoded data removed]",
      "text/plain": [
       "<Figure size 432x288 with 1 Axes>"
      ]
     },
     "metadata": {
      "needs_background": "light"
     },
     "output_type": "display_data"
    }
   ],
   "source": [
    "agent_id = 7238\n",
    "service_id = 700\n",
    "feature_list = ['difference']\n",
    "epsilon = 0.1\n",
    "min_samples = 20\n",
    "dbscan_workflow(df, agent_id, service_id, feature_list, epsilon, min_samples)"
   ]
  },
  {
   "cell_type": "code",
   "execution_count": 83,
   "metadata": {},
   "outputs": [
    {
     "name": "stdout",
     "output_type": "stream",
     "text": [
      "Length of cluster 0 :  9\n",
      "Length of cluster 1 :  5\n"
     ]
    },
    {
     "data": {
      "image/png": "[encoded data removed]",
      "text/plain": [
       "<Figure size 432x288 with 1 Axes>"
      ]
     },
     "metadata": {
      "needs_background": "light"
     },
     "output_type": "display_data"
    }
   ],
   "source": [
    "agent_id = 7238\n",
    "service_id = 701\n",
    "feature_list = ['difference']\n",
    "epsilon = 0.1\n",
    "min_samples = 2\n",
    "dbscan_workflow(df, agent_id, service_id, feature_list, epsilon, min_samples)"
   ]
  },
  {
   "cell_type": "code",
   "execution_count": 84,
   "metadata": {},
   "outputs": [
    {
     "name": "stdout",
     "output_type": "stream",
     "text": [
      "Length of cluster 0 :  9\n",
      "Number of outliers :  5\n"
     ]
    },
    {
     "data": {
      "image/png": "[encoded data removed]",
      "text/plain": [
       "<Figure size 432x288 with 1 Axes>"
      ]
     },
     "metadata": {
      "needs_background": "light"
     },
     "output_type": "display_data"
    }
   ],
   "source": [
    "agent_id = 7238\n",
    "service_id = 701\n",
    "feature_list = ['difference']\n",
    "epsilon = 0.1\n",
    "min_samples = 6\n",
    "dbscan_workflow(df, agent_id, service_id, feature_list, epsilon, min_samples)"
   ]
  },
  {
   "cell_type": "code",
   "execution_count": 85,
   "metadata": {},
   "outputs": [
    {
     "name": "stdout",
     "output_type": "stream",
     "text": [
      "Length of cluster 0 :  9\n",
      "Number of outliers :  5\n"
     ]
    },
    {
     "data": {
      "image/png": "[encoded data removed]",
      "text/plain": [
       "<Figure size 432x288 with 1 Axes>"
      ]
     },
     "metadata": {
      "needs_background": "light"
     },
     "output_type": "display_data"
    }
   ],
   "source": [
    "agent_id = 7238\n",
    "service_id = 701\n",
    "feature_list = ['difference']\n",
    "epsilon = 0.1\n",
    "min_samples = 9\n",
    "dbscan_workflow(df, agent_id, service_id, feature_list, epsilon, min_samples)"
   ]
  },
  {
   "cell_type": "code",
   "execution_count": 86,
   "metadata": {},
   "outputs": [
    {
     "name": "stdout",
     "output_type": "stream",
     "text": [
      "Number of outliers :  14\n"
     ]
    },
    {
     "data": {
      "image/png": "[encoded data removed]",
      "text/plain": [
       "<Figure size 432x288 with 1 Axes>"
      ]
     },
     "metadata": {
      "needs_background": "light"
     },
     "output_type": "display_data"
    }
   ],
   "source": [
    "agent_id = 7238\n",
    "service_id = 701\n",
    "feature_list = ['difference']\n",
    "epsilon = 0.1\n",
    "min_samples = 12\n",
    "dbscan_workflow(df, agent_id, service_id, feature_list, epsilon, min_samples)"
   ]
  },
  {
   "cell_type": "code",
   "execution_count": 87,
   "metadata": {},
   "outputs": [
    {
     "name": "stdout",
     "output_type": "stream",
     "text": [
      "Number of outliers :  14\n"
     ]
    },
    {
     "data": {
      "image/png": "[encoded data removed]",
      "text/plain": [
       "<Figure size 432x288 with 1 Axes>"
      ]
     },
     "metadata": {
      "needs_background": "light"
     },
     "output_type": "display_data"
    }
   ],
   "source": [
    "agent_id = 7238\n",
    "service_id = 701\n",
    "feature_list = ['difference']\n",
    "epsilon = 0.1\n",
    "min_samples = 20\n",
    "dbscan_workflow(df, agent_id, service_id, feature_list, epsilon, min_samples)"
   ]
  },
  {
   "cell_type": "code",
   "execution_count": 88,
   "metadata": {},
   "outputs": [
    {
     "name": "stdout",
     "output_type": "stream",
     "text": [
      "Length of cluster 0 :  9\n",
      "Length of cluster 1 :  5\n"
     ]
    },
    {
     "data": {
      "image/png": "[encoded data removed]",
      "text/plain": [
       "<Figure size 432x288 with 1 Axes>"
      ]
     },
     "metadata": {
      "needs_background": "light"
     },
     "output_type": "display_data"
    }
   ],
   "source": [
    "agent_id = 7238\n",
    "service_id = 701\n",
    "feature_list = ['difference']\n",
    "epsilon = 0.3\n",
    "min_samples = 2\n",
    "dbscan_workflow(df, agent_id, service_id, feature_list, epsilon, min_samples)"
   ]
  },
  {
   "cell_type": "code",
   "execution_count": 89,
   "metadata": {},
   "outputs": [
    {
     "name": "stdout",
     "output_type": "stream",
     "text": [
      "Length of cluster 0 :  9\n",
      "Length of cluster 1 :  5\n"
     ]
    },
    {
     "data": {
      "image/png": "[encoded data removed]",
      "text/plain": [
       "<Figure size 432x288 with 1 Axes>"
      ]
     },
     "metadata": {
      "needs_background": "light"
     },
     "output_type": "display_data"
    }
   ],
   "source": [
    "agent_id = 7238\n",
    "service_id = 701\n",
    "feature_list = ['difference']\n",
    "epsilon = 0.7\n",
    "min_samples = 2\n",
    "dbscan_workflow(df, agent_id, service_id, feature_list, epsilon, min_samples)"
   ]
  },
  {
   "cell_type": "code",
   "execution_count": 90,
   "metadata": {},
   "outputs": [
    {
     "name": "stdout",
     "output_type": "stream",
     "text": [
      "Length of cluster 0 :  9\n",
      "Length of cluster 1 :  5\n"
     ]
    },
    {
     "data": {
      "image/png": "[encoded data removed]",
      "text/plain": [
       "<Figure size 432x288 with 1 Axes>"
      ]
     },
     "metadata": {
      "needs_background": "light"
     },
     "output_type": "display_data"
    }
   ],
   "source": [
    "agent_id = 7238\n",
    "service_id = 701\n",
    "feature_list = ['difference']\n",
    "epsilon = 0.9\n",
    "min_samples = 2\n",
    "dbscan_workflow(df, agent_id, service_id, feature_list, epsilon, min_samples)"
   ]
  },
  {
   "cell_type": "code",
   "execution_count": 91,
   "metadata": {},
   "outputs": [
    {
     "name": "stdout",
     "output_type": "stream",
     "text": [
      "Length of cluster 0 :  14\n"
     ]
    },
    {
     "data": {
      "image/png": "[encoded data removed]",
      "text/plain": [
       "<Figure size 432x288 with 1 Axes>"
      ]
     },
     "metadata": {
      "needs_background": "light"
     },
     "output_type": "display_data"
    }
   ],
   "source": [
    "agent_id = 7238\n",
    "service_id = 701\n",
    "feature_list = ['difference']\n",
    "epsilon = 3\n",
    "min_samples = 2\n",
    "dbscan_workflow(df, agent_id, service_id, feature_list, epsilon, min_samples)"
   ]
  },
  {
   "cell_type": "code",
   "execution_count": 92,
   "metadata": {},
   "outputs": [
    {
     "name": "stdout",
     "output_type": "stream",
     "text": [
      "Number of outliers :  14\n"
     ]
    },
    {
     "data": {
      "image/png": "[encoded data removed]",
      "text/plain": [
       "<Figure size 432x288 with 1 Axes>"
      ]
     },
     "metadata": {
      "needs_background": "light"
     },
     "output_type": "display_data"
    }
   ],
   "source": [
    "agent_id = 7238\n",
    "service_id = 701\n",
    "feature_list = ['difference']\n",
    "epsilon = 0.9\n",
    "min_samples = 15\n",
    "dbscan_workflow(df, agent_id, service_id, feature_list, epsilon, min_samples)"
   ]
  },
  {
   "cell_type": "code",
   "execution_count": 93,
   "metadata": {},
   "outputs": [
    {
     "name": "stdout",
     "output_type": "stream",
     "text": [
      "Length of cluster 0 :  2\n",
      "Number of outliers :  6\n"
     ]
    },
    {
     "data": {
      "image/png": "[encoded data removed]",
      "text/plain": [
       "<Figure size 432x288 with 1 Axes>"
      ]
     },
     "metadata": {
      "needs_background": "light"
     },
     "output_type": "display_data"
    }
   ],
   "source": [
    "agent_id = 7238\n",
    "service_id = 838\n",
    "feature_list = ['difference']\n",
    "epsilon = 0.1\n",
    "min_samples = 2\n",
    "dbscan_workflow(df, agent_id, service_id, feature_list, epsilon, min_samples)"
   ]
  },
  {
   "cell_type": "code",
   "execution_count": 94,
   "metadata": {},
   "outputs": [
    {
     "name": "stdout",
     "output_type": "stream",
     "text": [
      "Length of cluster 0 :  2\n",
      "Length of cluster 1 :  2\n",
      "Length of cluster 2 :  3\n",
      "Number of outliers :  1\n"
     ]
    },
    {
     "data": {
      "image/png": "[encoded data removed]",
      "text/plain": [
       "<Figure size 432x288 with 1 Axes>"
      ]
     },
     "metadata": {
      "needs_background": "light"
     },
     "output_type": "display_data"
    }
   ],
   "source": [
    "agent_id = 7238\n",
    "service_id = 838\n",
    "feature_list = ['difference']\n",
    "epsilon = 0.5\n",
    "min_samples = 2\n",
    "dbscan_workflow(df, agent_id, service_id, feature_list, epsilon, min_samples)"
   ]
  },
  {
   "cell_type": "code",
   "execution_count": 95,
   "metadata": {},
   "outputs": [
    {
     "name": "stdout",
     "output_type": "stream",
     "text": [
      "Number of outliers :  8\n"
     ]
    },
    {
     "data": {
      "image/png": "[encoded data removed]",
      "text/plain": [
       "<Figure size 432x288 with 1 Axes>"
      ]
     },
     "metadata": {
      "needs_background": "light"
     },
     "output_type": "display_data"
    }
   ],
   "source": [
    "agent_id = 7238\n",
    "service_id = 838\n",
    "feature_list = ['difference']\n",
    "epsilon = 0.6\n",
    "min_samples = 10\n",
    "dbscan_workflow(df, agent_id, service_id, feature_list, epsilon, min_samples)"
   ]
  },
  {
   "cell_type": "markdown",
   "metadata": {},
   "source": [
    "### For multiple features run this outlier detection dbscan"
   ]
  },
  {
   "cell_type": "code",
   "execution_count": 96,
   "metadata": {},
   "outputs": [],
   "source": [
    "\n",
    "def outlier_detection_dbscan(eps, min_samples, X):\n",
    "    \n",
    "    \"\"\" Method for detecting multiple clusters, outliers and plotting them.\n",
    "    \n",
    "    Args:\n",
    "        eps (float): The maximum distance between two samples for one to be \n",
    "                    considered as in the neighborhood of the other\n",
    "        min_samples (int):The number of samples (or total weight) in a neighborhood for a point to be considered as a core point.\n",
    "                        This includes the point itself\n",
    "        X (dataframe): preprocessed datframe\n",
    "        \n",
    "    Attributes:\n",
    "        ss (object): standardscaler object\n",
    "        X (dataframe): consists of copy of df for processing\n",
    "        db (object): DBSCAN bject initialized\n",
    "        y_pred (results): results predicted by DBSCAN object\n",
    "        cluster_0 (data points): consists of points in cluster 0\n",
    "        cluster_1 (data points): consists of points in cluster 1\n",
    "        cluster_2 (data points): consists of points in cluster 2\n",
    "        cluster_3 (data points): consists of points in cluster 3\n",
    "        cluster_4 (data points): consists of points in cluster 4\n",
    "        cluster_5 (data points): consists of points in cluster 5\n",
    "        outlier (data points): consists of points detected as outliers\n",
    "    \n",
    "    Returns: None\n",
    "        \n",
    "    \"\"\" \n",
    "    \n",
    "    ss = StandardScaler()\n",
    "    X = ss.fit_transform(X)\n",
    "    db = DBSCAN(eps=eps, min_samples=min_samples)\n",
    "    db.fit(X)\n",
    "    y_pred = db.fit_predict(X)\n",
    "    \n",
    "    cluster_0 = []\n",
    "    cluster_1 = []\n",
    "    cluster_2 = []\n",
    "    cluster_3 = []\n",
    "    cluster_4 = []\n",
    "    cluster_5 = []\n",
    "    outliers = []\n",
    "    for i in range(len(X)):\n",
    "        if db.labels_[i] == -1:\n",
    "            outliers.append(X[i])\n",
    "        elif db.labels_[i] == 0:\n",
    "            cluster_0.append(X[i])\n",
    "        elif db.labels_[i] == 1:\n",
    "            cluster_1.append(X[i])\n",
    "        elif db.labels_[i] == 2:\n",
    "            cluster_2.append(X[i])\n",
    "        elif db.labels_[i] == 3:\n",
    "            cluster_3.append(X[i])\n",
    "        elif db.labels_[i] == 4:\n",
    "            cluster_4.append(X[i])\n",
    "        elif db.labels_[i] == 5:\n",
    "            cluster_5.append(X[i])\n",
    "\n",
    "            \n",
    "    if len(cluster_0) > 0:\n",
    "        x_0 = []\n",
    "        y_0 = []\n",
    "        for i in range(len(cluster_0)):\n",
    "            x_0.append(cluster_0[i][0])\n",
    "            y_0.append(cluster_0[i][1]) # append labels \n",
    "            \n",
    "        plt.scatter(x_0, y_0,c='b', cmap='Paired')\n",
    "        print(\"Length of cluster 0 : \", len(cluster_0))\n",
    "\n",
    "        \n",
    "    if len(cluster_1) > 0:\n",
    "        x_1 = []\n",
    "        y_1 = []\n",
    "        for i in range(len(cluster_1)):\n",
    "            x_1.append(cluster_1[i][0])\n",
    "            y_1.append(cluster_1[i][1])\n",
    "        plt.scatter(x_1, y_1,c='g', cmap='Paired')\n",
    "        print(\"Length of cluster 1 : \", len(cluster_1))\n",
    "\n",
    "    \n",
    "    if len(cluster_2) > 0:\n",
    "        x_2 = []\n",
    "        y_2 = []\n",
    "        for i in range(len(cluster_2)):\n",
    "            x_2.append(cluster_2[i][0])\n",
    "            y_2.append(cluster_2[i][1])\n",
    "        plt.scatter(x_2, y_2,c='y', cmap='Paired')\n",
    "        print(\"Length of cluster 2 : \", len(cluster_2))\n",
    "\n",
    "            \n",
    "    if len(cluster_3) >0:\n",
    "        x_3 = []\n",
    "        y_3 = []\n",
    "        for i in range(len(cluster_3)):\n",
    "            x_3.append(cluster_3[i][0])\n",
    "            y_3.append(cluster_3[i][1])\n",
    "        plt.scatter(x_3, y_3,c='b', marker = \"1\" ,cmap='Paired')\n",
    "        print(\"Length of cluster 3 : \", len(cluster_3))\n",
    "\n",
    "            \n",
    "    if len(cluster_4) > 0:\n",
    "        x_4 = []\n",
    "        y_4 = []\n",
    "        for i in range(len(cluster_4)):\n",
    "            x_4.append(cluster_4[i][0])\n",
    "            y_4.append(cluster_4[i][1])\n",
    "        plt.scatter(x_4, y_4,c='b',marker = \"2\", cmap='Paired')\n",
    "        print(\"Length of cluster 4 : \", len(cluster_4))\n",
    "\n",
    "            \n",
    "    if len(cluster_5) > 0:\n",
    "        x_5 = []\n",
    "        y_5 = []\n",
    "        for i in range(len(cluster_5)):\n",
    "            x_5.append(cluster_5[i][0])\n",
    "            y_5.append(cluster_5[i][1])\n",
    "        plt.scatter(x_5, y_5,c='b',marker = \"3\", cmap='Paired')\n",
    "        print(\"Length of cluster 5 : \", len(cluster_5))\n",
    "\n",
    "            \n",
    "    if len(outliers) > 0:    \n",
    "        # outliers\n",
    "        x = []\n",
    "        y = []\n",
    "        for i in range(len(outliers)):\n",
    "            x.append(outliers[i][0])\n",
    "            y.append(outliers[i][1])\n",
    "        plt.scatter(x, y,c='r', marker = '*', cmap='Paired') #outlier\n",
    "        print(\"Number of outliers : \", len(outliers))\n"
   ]
  },
  {
   "cell_type": "code",
   "execution_count": 97,
   "metadata": {},
   "outputs": [
    {
     "name": "stdout",
     "output_type": "stream",
     "text": [
      "Number of outliers :  36\n"
     ]
    },
    {
     "data": {
      "image/png": "[encoded data removed]",
      "text/plain": [
       "<Figure size 432x288 with 1 Axes>"
      ]
     },
     "metadata": {
      "needs_background": "light"
     },
     "output_type": "display_data"
    }
   ],
   "source": [
    "\n",
    "agent_id = 7238\n",
    "service_id = 700\n",
    "feature_list = ['difference', 'client_tx_bytes']\n",
    "epsilon = 0.1\n",
    "min_samples = 10\n",
    "dbscan_workflow(df, agent_id, service_id, feature_list, epsilon, min_samples)"
   ]
  },
  {
   "cell_type": "code",
   "execution_count": 98,
   "metadata": {},
   "outputs": [
    {
     "name": "stdout",
     "output_type": "stream",
     "text": [
      "Length of cluster 0 :  27\n",
      "Number of outliers :  9\n"
     ]
    },
    {
     "data": {
      "image/png": "[encoded data removed]",
      "text/plain": [
       "<Figure size 432x288 with 1 Axes>"
      ]
     },
     "metadata": {
      "needs_background": "light"
     },
     "output_type": "display_data"
    }
   ],
   "source": [
    "\n",
    "agent_id = 7238\n",
    "service_id = 700\n",
    "feature_list = ['difference', 'client_tx_bytes']\n",
    "epsilon = 0.6\n",
    "min_samples = 10\n",
    "dbscan_workflow(df, agent_id, service_id, feature_list, epsilon, min_samples)"
   ]
  },
  {
   "cell_type": "code",
   "execution_count": 99,
   "metadata": {},
   "outputs": [
    {
     "name": "stdout",
     "output_type": "stream",
     "text": [
      "Length of cluster 0 :  31\n",
      "Number of outliers :  5\n"
     ]
    },
    {
     "data": {
      "image/png": "[encoded data removed]",
      "text/plain": [
       "<Figure size 432x288 with 1 Axes>"
      ]
     },
     "metadata": {
      "needs_background": "light"
     },
     "output_type": "display_data"
    }
   ],
   "source": [
    "\n",
    "agent_id = 7238\n",
    "service_id = 700\n",
    "feature_list = ['difference', 'client_tx_bytes']\n",
    "epsilon = 1\n",
    "min_samples = 10\n",
    "dbscan_workflow(df, agent_id, service_id, feature_list, epsilon, min_samples)"
   ]
  },
  {
   "cell_type": "code",
   "execution_count": 100,
   "metadata": {},
   "outputs": [
    {
     "name": "stdout",
     "output_type": "stream",
     "text": [
      "Number of outliers :  36\n"
     ]
    },
    {
     "data": {
      "image/png": "[encoded data removed]",
      "text/plain": [
       "<Figure size 432x288 with 1 Axes>"
      ]
     },
     "metadata": {
      "needs_background": "light"
     },
     "output_type": "display_data"
    }
   ],
   "source": [
    "\n",
    "agent_id = 7238\n",
    "service_id = 700\n",
    "feature_list = ['difference', 'client_tx_bytes']\n",
    "epsilon = 0.1\n",
    "min_samples = 20\n",
    "dbscan_workflow(df, agent_id, service_id, feature_list, epsilon, min_samples)"
   ]
  },
  {
   "cell_type": "code",
   "execution_count": 101,
   "metadata": {},
   "outputs": [
    {
     "name": "stdout",
     "output_type": "stream",
     "text": [
      "Length of cluster 0 :  21\n",
      "Number of outliers :  15\n"
     ]
    },
    {
     "data": {
      "image/png": "[encoded data removed]",
      "text/plain": [
       "<Figure size 432x288 with 1 Axes>"
      ]
     },
     "metadata": {
      "needs_background": "light"
     },
     "output_type": "display_data"
    }
   ],
   "source": [
    "\n",
    "agent_id = 7238\n",
    "service_id = 700\n",
    "feature_list = ['difference', 'client_tx_bytes']\n",
    "epsilon = 0.6\n",
    "min_samples = 20\n",
    "dbscan_workflow(df, agent_id, service_id, feature_list, epsilon, min_samples)"
   ]
  },
  {
   "cell_type": "code",
   "execution_count": 102,
   "metadata": {},
   "outputs": [
    {
     "name": "stdout",
     "output_type": "stream",
     "text": [
      "Length of cluster 0 :  31\n",
      "Number of outliers :  5\n"
     ]
    },
    {
     "data": {
      "image/png": "[encoded data removed]",
      "text/plain": [
       "<Figure size 432x288 with 1 Axes>"
      ]
     },
     "metadata": {
      "needs_background": "light"
     },
     "output_type": "display_data"
    }
   ],
   "source": [
    "\n",
    "agent_id = 7238\n",
    "service_id = 700\n",
    "feature_list = ['difference', 'client_tx_bytes']\n",
    "epsilon = 1.6\n",
    "min_samples = 20\n",
    "dbscan_workflow(df, agent_id, service_id, feature_list, epsilon, min_samples)"
   ]
  },
  {
   "cell_type": "code",
   "execution_count": 103,
   "metadata": {},
   "outputs": [
    {
     "name": "stdout",
     "output_type": "stream",
     "text": [
      "Number of outliers :  8\n"
     ]
    },
    {
     "data": {
      "image/png": "[encoded data removed]",
      "text/plain": [
       "<Figure size 432x288 with 1 Axes>"
      ]
     },
     "metadata": {
      "needs_background": "light"
     },
     "output_type": "display_data"
    }
   ],
   "source": [
    "\n",
    "agent_id = 7238\n",
    "service_id = 838\n",
    "feature_list = ['difference', 'client_tx_bytes']\n",
    "epsilon = 0.6\n",
    "min_samples = 10\n",
    "dbscan_workflow(df, agent_id, service_id, feature_list, epsilon, min_samples)"
   ]
  },
  {
   "cell_type": "code",
   "execution_count": 104,
   "metadata": {},
   "outputs": [
    {
     "name": "stdout",
     "output_type": "stream",
     "text": [
      "Number of outliers :  8\n"
     ]
    },
    {
     "data": {
      "image/png": "[encoded data removed]",
      "text/plain": [
       "<Figure size 432x288 with 1 Axes>"
      ]
     },
     "metadata": {
      "needs_background": "light"
     },
     "output_type": "display_data"
    }
   ],
   "source": [
    "\n",
    "agent_id = 7238\n",
    "service_id = 838\n",
    "feature_list = ['difference', 'client_tx_bytes']\n",
    "epsilon = 0.1\n",
    "min_samples = 10\n",
    "dbscan_workflow(df, agent_id, service_id, feature_list, epsilon, min_samples)"
   ]
  },
  {
   "cell_type": "code",
   "execution_count": 105,
   "metadata": {},
   "outputs": [
    {
     "name": "stdout",
     "output_type": "stream",
     "text": [
      "Length of cluster 0 :  2\n",
      "Length of cluster 1 :  2\n",
      "Number of outliers :  4\n"
     ]
    },
    {
     "data": {
      "image/png": "[encoded data removed]",
      "text/plain": [
       "<Figure size 432x288 with 1 Axes>"
      ]
     },
     "metadata": {
      "needs_background": "light"
     },
     "output_type": "display_data"
    }
   ],
   "source": [
    "\n",
    "agent_id = 7238\n",
    "service_id = 838\n",
    "feature_list = ['difference', 'client_tx_bytes']\n",
    "epsilon = 0.6\n",
    "min_samples = 2\n",
    "dbscan_workflow(df, agent_id, service_id, feature_list, epsilon, min_samples)"
   ]
  },
  {
   "cell_type": "code",
   "execution_count": 106,
   "metadata": {},
   "outputs": [
    {
     "name": "stdout",
     "output_type": "stream",
     "text": [
      "Length of cluster 0 :  2\n",
      "Number of outliers :  6\n"
     ]
    },
    {
     "data": {
      "image/png": "[encoded data removed]",
      "text/plain": [
       "<Figure size 432x288 with 1 Axes>"
      ]
     },
     "metadata": {
      "needs_background": "light"
     },
     "output_type": "display_data"
    }
   ],
   "source": [
    "\n",
    "agent_id = 7238\n",
    "service_id = 838\n",
    "feature_list = ['difference', 'client_tx_bytes']\n",
    "epsilon = 0.5\n",
    "min_samples = 2\n",
    "dbscan_workflow(df, agent_id, service_id, feature_list, epsilon, min_samples)"
   ]
  },
  {
   "cell_type": "code",
   "execution_count": 107,
   "metadata": {},
   "outputs": [
    {
     "name": "stdout",
     "output_type": "stream",
     "text": [
      "service_id\n",
      "735    735\n",
      "800    800\n",
      "830    830\n",
      "Name: service_id, dtype: int64\n"
     ]
    }
   ],
   "source": [
    "agent_id = 7380\n",
    "show_unique_service_ids(df, agent_id)"
   ]
  },
  {
   "cell_type": "code",
   "execution_count": 129,
   "metadata": {},
   "outputs": [
    {
     "name": "stdout",
     "output_type": "stream",
     "text": [
      "Number of outliers :  23\n"
     ]
    },
    {
     "data": {
      "image/png": "[encoded data removed]",
      "text/plain": [
       "<Figure size 432x288 with 1 Axes>"
      ]
     },
     "metadata": {
      "needs_background": "light"
     },
     "output_type": "display_data"
    }
   ],
   "source": [
    "agent_id = 7380\n",
    "service_id = 735\n",
    "feature_list = ['difference', 'client_tx_bytes']\n",
    "epsilon = 0.1\n",
    "min_samples = 10\n",
    "dbscan_workflow(df, agent_id, service_id, feature_list, epsilon, min_samples)"
   ]
  },
  {
   "cell_type": "code",
   "execution_count": 130,
   "metadata": {},
   "outputs": [
    {
     "name": "stdout",
     "output_type": "stream",
     "text": [
      "Length of cluster 0 :  8\n",
      "Number of outliers :  15\n"
     ]
    },
    {
     "data": {
      "image/png": "[encoded data removed]",
      "text/plain": [
       "<Figure size 432x288 with 1 Axes>"
      ]
     },
     "metadata": {
      "needs_background": "light"
     },
     "output_type": "display_data"
    }
   ],
   "source": [
    "agent_id = 7380\n",
    "service_id = 735\n",
    "feature_list = ['difference', 'client_tx_bytes']\n",
    "epsilon = 0.1\n",
    "min_samples = 3\n",
    "dbscan_workflow(df, agent_id, service_id, feature_list, epsilon, min_samples)"
   ]
  },
  {
   "cell_type": "code",
   "execution_count": 131,
   "metadata": {},
   "outputs": [
    {
     "name": "stdout",
     "output_type": "stream",
     "text": [
      "Length of cluster 0 :  7\n",
      "Number of outliers :  16\n"
     ]
    },
    {
     "data": {
      "image/png": "[encoded data removed]",
      "text/plain": [
       "<Figure size 432x288 with 1 Axes>"
      ]
     },
     "metadata": {
      "needs_background": "light"
     },
     "output_type": "display_data"
    }
   ],
   "source": [
    "agent_id = 7380\n",
    "service_id = 735\n",
    "feature_list = ['difference', 'client_tx_bytes']\n",
    "epsilon = 0.1\n",
    "min_samples = 6\n",
    "dbscan_workflow(df, agent_id, service_id, feature_list, epsilon, min_samples)"
   ]
  },
  {
   "cell_type": "code",
   "execution_count": 132,
   "metadata": {},
   "outputs": [
    {
     "name": "stdout",
     "output_type": "stream",
     "text": [
      "Length of cluster 0 :  18\n",
      "Number of outliers :  5\n"
     ]
    },
    {
     "data": {
      "image/png": "[encoded data removed]",
      "text/plain": [
       "<Figure size 432x288 with 1 Axes>"
      ]
     },
     "metadata": {
      "needs_background": "light"
     },
     "output_type": "display_data"
    }
   ],
   "source": [
    "agent_id = 7380\n",
    "service_id = 735\n",
    "feature_list = ['difference', 'client_tx_bytes']\n",
    "epsilon = 0.4\n",
    "min_samples = 3\n",
    "dbscan_workflow(df, agent_id, service_id, feature_list, epsilon, min_samples)"
   ]
  },
  {
   "cell_type": "code",
   "execution_count": 133,
   "metadata": {},
   "outputs": [
    {
     "name": "stdout",
     "output_type": "stream",
     "text": [
      "Number of outliers :  23\n"
     ]
    },
    {
     "data": {
      "image/png": "[encoded data removed]",
      "text/plain": [
       "<Figure size 432x288 with 1 Axes>"
      ]
     },
     "metadata": {
      "needs_background": "light"
     },
     "output_type": "display_data"
    }
   ],
   "source": [
    "agent_id = 7380\n",
    "service_id = 735\n",
    "feature_list = ['difference', 'client_tx_bytes']\n",
    "epsilon = 0.8\n",
    "min_samples = 20\n",
    "dbscan_workflow(df, agent_id, service_id, feature_list, epsilon, min_samples)"
   ]
  },
  {
   "cell_type": "code",
   "execution_count": 134,
   "metadata": {},
   "outputs": [
    {
     "name": "stdout",
     "output_type": "stream",
     "text": [
      "Number of outliers :  4\n"
     ]
    },
    {
     "data": {
      "image/png": "[encoded data removed]",
      "text/plain": [
       "<Figure size 432x288 with 1 Axes>"
      ]
     },
     "metadata": {
      "needs_background": "light"
     },
     "output_type": "display_data"
    }
   ],
   "source": [
    "agent_id = 7380\n",
    "service_id = 800\n",
    "feature_list = ['difference', 'client_tx_bytes']\n",
    "epsilon = 0.1\n",
    "min_samples = 10\n",
    "dbscan_workflow(df, agent_id, service_id, feature_list, epsilon, min_samples)"
   ]
  },
  {
   "cell_type": "code",
   "execution_count": 135,
   "metadata": {},
   "outputs": [
    {
     "name": "stdout",
     "output_type": "stream",
     "text": [
      "Number of outliers :  4\n"
     ]
    },
    {
     "data": {
      "image/png": "[encoded data removed]",
      "text/plain": [
       "<Figure size 432x288 with 1 Axes>"
      ]
     },
     "metadata": {
      "needs_background": "light"
     },
     "output_type": "display_data"
    }
   ],
   "source": [
    "agent_id = 7380\n",
    "service_id = 800\n",
    "feature_list = ['difference', 'client_tx_bytes']\n",
    "epsilon = 0.3\n",
    "min_samples = 10\n",
    "dbscan_workflow(df, agent_id, service_id, feature_list, epsilon, min_samples)"
   ]
  },
  {
   "cell_type": "code",
   "execution_count": 136,
   "metadata": {},
   "outputs": [
    {
     "name": "stdout",
     "output_type": "stream",
     "text": [
      "Number of outliers :  4\n"
     ]
    },
    {
     "data": {
      "image/png": "[encoded data removed]",
      "text/plain": [
       "<Figure size 432x288 with 1 Axes>"
      ]
     },
     "metadata": {
      "needs_background": "light"
     },
     "output_type": "display_data"
    }
   ],
   "source": [
    "agent_id = 7380\n",
    "service_id = 800\n",
    "feature_list = ['difference', 'client_tx_bytes']\n",
    "epsilon = 0.8\n",
    "min_samples = 10\n",
    "dbscan_workflow(df, agent_id, service_id, feature_list, epsilon, min_samples)"
   ]
  },
  {
   "cell_type": "code",
   "execution_count": 116,
   "metadata": {},
   "outputs": [
    {
     "name": "stdout",
     "output_type": "stream",
     "text": [
      "Length of cluster 0 :  2\n",
      "Number of outliers :  2\n"
     ]
    },
    {
     "data": {
      "image/png": "[encoded data removed]",
      "text/plain": [
       "<Figure size 432x288 with 1 Axes>"
      ]
     },
     "metadata": {
      "needs_background": "light"
     },
     "output_type": "display_data"
    }
   ],
   "source": [
    "agent_id = 7380\n",
    "service_id = 800\n",
    "feature_list = ['difference', 'client_tx_bytes']\n",
    "epsilon = 0.3\n",
    "min_samples = 2\n",
    "dbscan_workflow(df, agent_id, service_id, feature_list, epsilon, min_samples)"
   ]
  },
  {
   "cell_type": "code",
   "execution_count": 117,
   "metadata": {},
   "outputs": [
    {
     "name": "stdout",
     "output_type": "stream",
     "text": [
      "Number of outliers :  4\n"
     ]
    },
    {
     "data": {
      "image/png": "[encoded data removed]",
      "text/plain": [
       "<Figure size 432x288 with 1 Axes>"
      ]
     },
     "metadata": {
      "needs_background": "light"
     },
     "output_type": "display_data"
    }
   ],
   "source": [
    "agent_id = 7380\n",
    "service_id = 800\n",
    "feature_list = ['difference', 'client_tx_bytes']\n",
    "epsilon = 0.3\n",
    "min_samples = 6\n",
    "dbscan_workflow(df, agent_id, service_id, feature_list, epsilon, min_samples)"
   ]
  },
  {
   "cell_type": "code",
   "execution_count": 118,
   "metadata": {},
   "outputs": [
    {
     "name": "stdout",
     "output_type": "stream",
     "text": [
      "Length of cluster 0 :  2\n",
      "Number of outliers :  2\n"
     ]
    },
    {
     "data": {
      "image/png": "[encoded data removed]",
      "text/plain": [
       "<Figure size 432x288 with 1 Axes>"
      ]
     },
     "metadata": {
      "needs_background": "light"
     },
     "output_type": "display_data"
    }
   ],
   "source": [
    "agent_id = 7380\n",
    "service_id = 800\n",
    "feature_list = ['difference', 'client_tx_bytes']\n",
    "epsilon = 0.6\n",
    "min_samples = 2\n",
    "dbscan_workflow(df, agent_id, service_id, feature_list, epsilon, min_samples)"
   ]
  },
  {
   "cell_type": "code",
   "execution_count": 119,
   "metadata": {},
   "outputs": [
    {
     "name": "stdout",
     "output_type": "stream",
     "text": [
      "Number of outliers :  4\n"
     ]
    },
    {
     "data": {
      "image/png": "[encoded data removed]",
      "text/plain": [
       "<Figure size 432x288 with 1 Axes>"
      ]
     },
     "metadata": {
      "needs_background": "light"
     },
     "output_type": "display_data"
    }
   ],
   "source": [
    "agent_id = 7380\n",
    "service_id = 800\n",
    "feature_list = ['difference', 'client_tx_bytes']\n",
    "epsilon = 0.8\n",
    "min_samples = 9\n",
    "dbscan_workflow(df, agent_id, service_id, feature_list, epsilon, min_samples)"
   ]
  },
  {
   "cell_type": "code",
   "execution_count": 120,
   "metadata": {},
   "outputs": [
    {
     "name": "stdout",
     "output_type": "stream",
     "text": [
      "Length of cluster 0 :  2\n",
      "Number of outliers :  2\n"
     ]
    },
    {
     "data": {
      "image/png": "[encoded data removed]",
      "text/plain": [
       "<Figure size 432x288 with 1 Axes>"
      ]
     },
     "metadata": {
      "needs_background": "light"
     },
     "output_type": "display_data"
    }
   ],
   "source": [
    "agent_id = 7380\n",
    "service_id = 800\n",
    "feature_list = ['difference', 'client_tx_bytes']\n",
    "epsilon = 0.3\n",
    "min_samples = 2\n",
    "dbscan_workflow(df, agent_id, service_id, feature_list, epsilon, min_samples)"
   ]
  },
  {
   "cell_type": "code",
   "execution_count": 121,
   "metadata": {},
   "outputs": [
    {
     "name": "stdout",
     "output_type": "stream",
     "text": [
      "Length of cluster 0 :  58\n",
      "Length of cluster 1 :  4\n",
      "Length of cluster 2 :  2\n",
      "Length of cluster 3 :  4\n",
      "Number of outliers :  7\n"
     ]
    },
    {
     "data": {
      "image/png": "[encoded data removed]",
      "text/plain": [
       "<Figure size 432x288 with 1 Axes>"
      ]
     },
     "metadata": {
      "needs_background": "light"
     },
     "output_type": "display_data"
    }
   ],
   "source": [
    "agent_id = 7380\n",
    "service_id = 830\n",
    "feature_list = ['difference', 'client_tx_bytes']\n",
    "epsilon = 0.1\n",
    "min_samples = 2\n",
    "dbscan_workflow(df, agent_id, service_id, feature_list, epsilon, min_samples)"
   ]
  },
  {
   "cell_type": "code",
   "execution_count": 122,
   "metadata": {},
   "outputs": [
    {
     "name": "stdout",
     "output_type": "stream",
     "text": [
      "Length of cluster 0 :  49\n",
      "Number of outliers :  26\n"
     ]
    },
    {
     "data": {
      "image/png": "[encoded data removed]",
      "text/plain": [
       "<Figure size 432x288 with 1 Axes>"
      ]
     },
     "metadata": {
      "needs_background": "light"
     },
     "output_type": "display_data"
    }
   ],
   "source": [
    "agent_id = 7380\n",
    "service_id = 830\n",
    "feature_list = ['difference', 'client_tx_bytes']\n",
    "epsilon = 0.1\n",
    "min_samples = 7\n",
    "dbscan_workflow(df, agent_id, service_id, feature_list, epsilon, min_samples)"
   ]
  },
  {
   "cell_type": "code",
   "execution_count": 123,
   "metadata": {},
   "outputs": [
    {
     "name": "stdout",
     "output_type": "stream",
     "text": [
      "Length of cluster 0 :  49\n",
      "Number of outliers :  26\n"
     ]
    },
    {
     "data": {
      "image/png": "[encoded data removed]",
      "text/plain": [
       "<Figure size 432x288 with 1 Axes>"
      ]
     },
     "metadata": {
      "needs_background": "light"
     },
     "output_type": "display_data"
    }
   ],
   "source": [
    "agent_id = 7380\n",
    "service_id = 830\n",
    "feature_list = ['difference', 'client_tx_bytes']\n",
    "epsilon = 0.1\n",
    "min_samples = 9\n",
    "dbscan_workflow(df, agent_id, service_id, feature_list, epsilon, min_samples)"
   ]
  },
  {
   "cell_type": "code",
   "execution_count": 124,
   "metadata": {},
   "outputs": [
    {
     "name": "stdout",
     "output_type": "stream",
     "text": [
      "Length of cluster 0 :  34\n",
      "Number of outliers :  41\n"
     ]
    },
    {
     "data": {
      "image/png": "[encoded data removed]",
      "text/plain": [
       "<Figure size 432x288 with 1 Axes>"
      ]
     },
     "metadata": {
      "needs_background": "light"
     },
     "output_type": "display_data"
    }
   ],
   "source": [
    "agent_id = 7380\n",
    "service_id = 830\n",
    "feature_list = ['difference', 'client_tx_bytes']\n",
    "epsilon = 0.1\n",
    "min_samples = 13\n",
    "dbscan_workflow(df, agent_id, service_id, feature_list, epsilon, min_samples)"
   ]
  },
  {
   "cell_type": "code",
   "execution_count": 125,
   "metadata": {},
   "outputs": [
    {
     "name": "stdout",
     "output_type": "stream",
     "text": [
      "Length of cluster 0 :  73\n",
      "Number of outliers :  2\n"
     ]
    },
    {
     "data": {
      "image/png": "[encoded data removed]",
      "text/plain": [
       "<Figure size 432x288 with 1 Axes>"
      ]
     },
     "metadata": {
      "needs_background": "light"
     },
     "output_type": "display_data"
    }
   ],
   "source": [
    "agent_id = 7380\n",
    "service_id = 830\n",
    "feature_list = ['difference', 'client_tx_bytes']\n",
    "epsilon = 0.3\n",
    "min_samples = 2\n",
    "dbscan_workflow(df, agent_id, service_id, feature_list, epsilon, min_samples)"
   ]
  },
  {
   "cell_type": "code",
   "execution_count": 126,
   "metadata": {},
   "outputs": [
    {
     "name": "stdout",
     "output_type": "stream",
     "text": [
      "Length of cluster 0 :  74\n",
      "Number of outliers :  1\n"
     ]
    },
    {
     "data": {
      "image/png": "[encoded data removed]",
      "text/plain": [
       "<Figure size 432x288 with 1 Axes>"
      ]
     },
     "metadata": {
      "needs_background": "light"
     },
     "output_type": "display_data"
    }
   ],
   "source": [
    "agent_id = 7380\n",
    "service_id = 830\n",
    "feature_list = ['difference', 'client_tx_bytes']\n",
    "epsilon = 0.6\n",
    "min_samples = 7\n",
    "dbscan_workflow(df, agent_id, service_id, feature_list, epsilon, min_samples)"
   ]
  },
  {
   "cell_type": "code",
   "execution_count": 127,
   "metadata": {},
   "outputs": [
    {
     "name": "stdout",
     "output_type": "stream",
     "text": [
      "Length of cluster 0 :  73\n",
      "Number of outliers :  2\n"
     ]
    },
    {
     "data": {
      "image/png": "[encoded data removed]",
      "text/plain": [
       "<Figure size 432x288 with 1 Axes>"
      ]
     },
     "metadata": {
      "needs_background": "light"
     },
     "output_type": "display_data"
    }
   ],
   "source": [
    "agent_id = 7380\n",
    "service_id = 830\n",
    "feature_list = ['difference', 'client_tx_bytes']\n",
    "epsilon = 0.7\n",
    "min_samples = 20\n",
    "dbscan_workflow(df, agent_id, service_id, feature_list, epsilon, min_samples)"
   ]
  }
 ],
 "metadata": {
  "kernelspec": {
   "display_name": "Python 3",
   "language": "python",
   "name": "python3"
  },
  "language_info": {
   "codemirror_mode": {
    "name": "ipython",
    "version": 3
   },
   "file_extension": ".py",
   "mimetype": "text/x-python",
   "name": "python",
   "nbconvert_exporter": "python",
   "pygments_lexer": "ipython3",
   "version": "3.7.6"
  }
 },
 "nbformat": 4,
 "nbformat_minor": 4
}
