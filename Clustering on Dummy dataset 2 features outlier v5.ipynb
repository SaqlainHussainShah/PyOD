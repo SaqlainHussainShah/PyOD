{
 "cells": [
  {
   "cell_type": "code",
   "execution_count": 1,
   "metadata": {},
   "outputs": [],
   "source": [
    "import pandas as pd\n",
    "import matplotlib.pyplot as plt\n",
    "import numpy as np\n",
    "import time\n",
    "from sklearn.metrics import accuracy_score"
   ]
  },
  {
   "cell_type": "code",
   "execution_count": 2,
   "metadata": {},
   "outputs": [],
   "source": [
    "df=pd.read_csv(\"./dummy dataset/localhost_1_pcap_Flow.csv\")"
   ]
  },
  {
   "cell_type": "code",
   "execution_count": 3,
   "metadata": {},
   "outputs": [
    {
     "data": {
      "text/html": [
       "<div>\n",
       "<style scoped>\n",
       "    .dataframe tbody tr th:only-of-type {\n",
       "        vertical-align: middle;\n",
       "    }\n",
       "\n",
       "    .dataframe tbody tr th {\n",
       "        vertical-align: top;\n",
       "    }\n",
       "\n",
       "    .dataframe thead th {\n",
       "        text-align: right;\n",
       "    }\n",
       "</style>\n",
       "<table border=\"1\" class=\"dataframe\">\n",
       "  <thead>\n",
       "    <tr style=\"text-align: right;\">\n",
       "      <th></th>\n",
       "      <th>Flow ID</th>\n",
       "      <th>Src IP</th>\n",
       "      <th>Src Port</th>\n",
       "      <th>Dst IP</th>\n",
       "      <th>Dst Port</th>\n",
       "      <th>Protocol</th>\n",
       "      <th>Timestamp</th>\n",
       "      <th>Flow Duration</th>\n",
       "      <th>Total Fwd Packet</th>\n",
       "      <th>Total Bwd packets</th>\n",
       "      <th>...</th>\n",
       "      <th>Fwd Seg Size Min</th>\n",
       "      <th>Active Mean</th>\n",
       "      <th>Active Std</th>\n",
       "      <th>Active Max</th>\n",
       "      <th>Active Min</th>\n",
       "      <th>Idle Mean</th>\n",
       "      <th>Idle Std</th>\n",
       "      <th>Idle Max</th>\n",
       "      <th>Idle Min</th>\n",
       "      <th>Label</th>\n",
       "    </tr>\n",
       "  </thead>\n",
       "  <tbody>\n",
       "    <tr>\n",
       "      <th>0</th>\n",
       "      <td>127.128.127.0-0.1.127.0-0-0-0</td>\n",
       "      <td>127.128.127.0</td>\n",
       "      <td>0</td>\n",
       "      <td>0.1.127.0</td>\n",
       "      <td>0</td>\n",
       "      <td>0</td>\n",
       "      <td>21/07/2020 02:27:17 PM</td>\n",
       "      <td>294</td>\n",
       "      <td>2</td>\n",
       "      <td>0</td>\n",
       "      <td>...</td>\n",
       "      <td>0</td>\n",
       "      <td>0</td>\n",
       "      <td>0</td>\n",
       "      <td>0</td>\n",
       "      <td>0</td>\n",
       "      <td>0.000000e+00</td>\n",
       "      <td>0.000000e+00</td>\n",
       "      <td>0.000000e+00</td>\n",
       "      <td>0.0</td>\n",
       "      <td>NeedManualLabel</td>\n",
       "    </tr>\n",
       "    <tr>\n",
       "      <th>1</th>\n",
       "      <td>202.164.127.0-0.1.127.0-0-0-0</td>\n",
       "      <td>202.164.127.0</td>\n",
       "      <td>0</td>\n",
       "      <td>0.1.127.0</td>\n",
       "      <td>0</td>\n",
       "      <td>0</td>\n",
       "      <td>21/07/2020 03:15:28 PM</td>\n",
       "      <td>8993</td>\n",
       "      <td>2</td>\n",
       "      <td>0</td>\n",
       "      <td>...</td>\n",
       "      <td>0</td>\n",
       "      <td>0</td>\n",
       "      <td>0</td>\n",
       "      <td>0</td>\n",
       "      <td>0</td>\n",
       "      <td>0.000000e+00</td>\n",
       "      <td>0.000000e+00</td>\n",
       "      <td>0.000000e+00</td>\n",
       "      <td>0.0</td>\n",
       "      <td>NeedManualLabel</td>\n",
       "    </tr>\n",
       "    <tr>\n",
       "      <th>2</th>\n",
       "      <td>60.206.127.0-0.1.127.0-0-0-0</td>\n",
       "      <td>60.206.127.0</td>\n",
       "      <td>0</td>\n",
       "      <td>0.1.127.0</td>\n",
       "      <td>0</td>\n",
       "      <td>0</td>\n",
       "      <td>21/07/2020 03:38:21 PM</td>\n",
       "      <td>88320782</td>\n",
       "      <td>3</td>\n",
       "      <td>0</td>\n",
       "      <td>...</td>\n",
       "      <td>0</td>\n",
       "      <td>0</td>\n",
       "      <td>0</td>\n",
       "      <td>0</td>\n",
       "      <td>0</td>\n",
       "      <td>7.976640e+14</td>\n",
       "      <td>1.128067e+15</td>\n",
       "      <td>1.595328e+15</td>\n",
       "      <td>88308769.0</td>\n",
       "      <td>NeedManualLabel</td>\n",
       "    </tr>\n",
       "    <tr>\n",
       "      <th>3</th>\n",
       "      <td>127.139.127.0-0.1.127.0-0-0-0</td>\n",
       "      <td>127.139.127.0</td>\n",
       "      <td>0</td>\n",
       "      <td>0.1.127.0</td>\n",
       "      <td>0</td>\n",
       "      <td>0</td>\n",
       "      <td>21/07/2020 02:27:17 PM</td>\n",
       "      <td>366</td>\n",
       "      <td>2</td>\n",
       "      <td>0</td>\n",
       "      <td>...</td>\n",
       "      <td>0</td>\n",
       "      <td>0</td>\n",
       "      <td>0</td>\n",
       "      <td>0</td>\n",
       "      <td>0</td>\n",
       "      <td>0.000000e+00</td>\n",
       "      <td>0.000000e+00</td>\n",
       "      <td>0.000000e+00</td>\n",
       "      <td>0.0</td>\n",
       "      <td>NeedManualLabel</td>\n",
       "    </tr>\n",
       "    <tr>\n",
       "      <th>4</th>\n",
       "      <td>56.248.127.0-0.53.127.0-0-0-0</td>\n",
       "      <td>56.248.127.0</td>\n",
       "      <td>0</td>\n",
       "      <td>0.53.127.0</td>\n",
       "      <td>0</td>\n",
       "      <td>0</td>\n",
       "      <td>21/07/2020 02:27:17 PM</td>\n",
       "      <td>262</td>\n",
       "      <td>2</td>\n",
       "      <td>0</td>\n",
       "      <td>...</td>\n",
       "      <td>0</td>\n",
       "      <td>0</td>\n",
       "      <td>0</td>\n",
       "      <td>0</td>\n",
       "      <td>0</td>\n",
       "      <td>0.000000e+00</td>\n",
       "      <td>0.000000e+00</td>\n",
       "      <td>0.000000e+00</td>\n",
       "      <td>0.0</td>\n",
       "      <td>NeedManualLabel</td>\n",
       "    </tr>\n",
       "  </tbody>\n",
       "</table>\n",
       "<p>5 rows × 84 columns</p>\n",
       "</div>"
      ],
      "text/plain": [
       "                         Flow ID         Src IP  Src Port      Dst IP  \\\n",
       "0  127.128.127.0-0.1.127.0-0-0-0  127.128.127.0         0   0.1.127.0   \n",
       "1  202.164.127.0-0.1.127.0-0-0-0  202.164.127.0         0   0.1.127.0   \n",
       "2   60.206.127.0-0.1.127.0-0-0-0   60.206.127.0         0   0.1.127.0   \n",
       "3  127.139.127.0-0.1.127.0-0-0-0  127.139.127.0         0   0.1.127.0   \n",
       "4  56.248.127.0-0.53.127.0-0-0-0   56.248.127.0         0  0.53.127.0   \n",
       "\n",
       "   Dst Port  Protocol               Timestamp  Flow Duration  \\\n",
       "0         0         0  21/07/2020 02:27:17 PM            294   \n",
       "1         0         0  21/07/2020 03:15:28 PM           8993   \n",
       "2         0         0  21/07/2020 03:38:21 PM       88320782   \n",
       "3         0         0  21/07/2020 02:27:17 PM            366   \n",
       "4         0         0  21/07/2020 02:27:17 PM            262   \n",
       "\n",
       "   Total Fwd Packet  Total Bwd packets  ...  Fwd Seg Size Min  Active Mean  \\\n",
       "0                 2                  0  ...                 0            0   \n",
       "1                 2                  0  ...                 0            0   \n",
       "2                 3                  0  ...                 0            0   \n",
       "3                 2                  0  ...                 0            0   \n",
       "4                 2                  0  ...                 0            0   \n",
       "\n",
       "   Active Std  Active Max  Active Min     Idle Mean      Idle Std  \\\n",
       "0           0           0           0  0.000000e+00  0.000000e+00   \n",
       "1           0           0           0  0.000000e+00  0.000000e+00   \n",
       "2           0           0           0  7.976640e+14  1.128067e+15   \n",
       "3           0           0           0  0.000000e+00  0.000000e+00   \n",
       "4           0           0           0  0.000000e+00  0.000000e+00   \n",
       "\n",
       "       Idle Max    Idle Min            Label  \n",
       "0  0.000000e+00         0.0  NeedManualLabel  \n",
       "1  0.000000e+00         0.0  NeedManualLabel  \n",
       "2  1.595328e+15  88308769.0  NeedManualLabel  \n",
       "3  0.000000e+00         0.0  NeedManualLabel  \n",
       "4  0.000000e+00         0.0  NeedManualLabel  \n",
       "\n",
       "[5 rows x 84 columns]"
      ]
     },
     "execution_count": 3,
     "metadata": {},
     "output_type": "execute_result"
    }
   ],
   "source": [
    "df.head()"
   ]
  },
  {
   "cell_type": "code",
   "execution_count": 4,
   "metadata": {},
   "outputs": [
    {
     "data": {
      "text/html": [
       "<div>\n",
       "<style scoped>\n",
       "    .dataframe tbody tr th:only-of-type {\n",
       "        vertical-align: middle;\n",
       "    }\n",
       "\n",
       "    .dataframe tbody tr th {\n",
       "        vertical-align: top;\n",
       "    }\n",
       "\n",
       "    .dataframe thead th {\n",
       "        text-align: right;\n",
       "    }\n",
       "</style>\n",
       "<table border=\"1\" class=\"dataframe\">\n",
       "  <thead>\n",
       "    <tr style=\"text-align: right;\">\n",
       "      <th></th>\n",
       "      <th>Flow ID</th>\n",
       "      <th>Src IP</th>\n",
       "      <th>Src Port</th>\n",
       "      <th>Dst IP</th>\n",
       "      <th>Dst Port</th>\n",
       "      <th>Protocol</th>\n",
       "      <th>Timestamp</th>\n",
       "      <th>Flow Duration</th>\n",
       "      <th>Total Fwd Packet</th>\n",
       "      <th>Total Bwd packets</th>\n",
       "      <th>...</th>\n",
       "      <th>Fwd Act Data Pkts</th>\n",
       "      <th>Fwd Seg Size Min</th>\n",
       "      <th>Active Mean</th>\n",
       "      <th>Active Std</th>\n",
       "      <th>Active Max</th>\n",
       "      <th>Active Min</th>\n",
       "      <th>Idle Mean</th>\n",
       "      <th>Idle Std</th>\n",
       "      <th>Idle Max</th>\n",
       "      <th>Idle Min</th>\n",
       "    </tr>\n",
       "    <tr>\n",
       "      <th>Label</th>\n",
       "      <th></th>\n",
       "      <th></th>\n",
       "      <th></th>\n",
       "      <th></th>\n",
       "      <th></th>\n",
       "      <th></th>\n",
       "      <th></th>\n",
       "      <th></th>\n",
       "      <th></th>\n",
       "      <th></th>\n",
       "      <th></th>\n",
       "      <th></th>\n",
       "      <th></th>\n",
       "      <th></th>\n",
       "      <th></th>\n",
       "      <th></th>\n",
       "      <th></th>\n",
       "      <th></th>\n",
       "      <th></th>\n",
       "      <th></th>\n",
       "      <th></th>\n",
       "    </tr>\n",
       "  </thead>\n",
       "  <tbody>\n",
       "    <tr>\n",
       "      <th>NeedManualLabel</th>\n",
       "      <td>127.128.127.0-0.1.127.0-0-0-0</td>\n",
       "      <td>127.128.127.0</td>\n",
       "      <td>0</td>\n",
       "      <td>0.1.127.0</td>\n",
       "      <td>0</td>\n",
       "      <td>0</td>\n",
       "      <td>21/07/2020 02:27:17 PM</td>\n",
       "      <td>294</td>\n",
       "      <td>2</td>\n",
       "      <td>0</td>\n",
       "      <td>...</td>\n",
       "      <td>0</td>\n",
       "      <td>0</td>\n",
       "      <td>0</td>\n",
       "      <td>0</td>\n",
       "      <td>0</td>\n",
       "      <td>0</td>\n",
       "      <td>0.0</td>\n",
       "      <td>0.0</td>\n",
       "      <td>0.0</td>\n",
       "      <td>0.0</td>\n",
       "    </tr>\n",
       "  </tbody>\n",
       "</table>\n",
       "<p>1 rows × 83 columns</p>\n",
       "</div>"
      ],
      "text/plain": [
       "                                       Flow ID         Src IP  Src Port  \\\n",
       "Label                                                                     \n",
       "NeedManualLabel  127.128.127.0-0.1.127.0-0-0-0  127.128.127.0         0   \n",
       "\n",
       "                    Dst IP  Dst Port  Protocol               Timestamp  \\\n",
       "Label                                                                    \n",
       "NeedManualLabel  0.1.127.0         0         0  21/07/2020 02:27:17 PM   \n",
       "\n",
       "                 Flow Duration  Total Fwd Packet  Total Bwd packets  ...  \\\n",
       "Label                                                                ...   \n",
       "NeedManualLabel            294                 2                  0  ...   \n",
       "\n",
       "                 Fwd Act Data Pkts  Fwd Seg Size Min  Active Mean  Active Std  \\\n",
       "Label                                                                           \n",
       "NeedManualLabel                  0                 0            0           0   \n",
       "\n",
       "                 Active Max  Active Min  Idle Mean  Idle Std  Idle Max  \\\n",
       "Label                                                                    \n",
       "NeedManualLabel           0           0        0.0       0.0       0.0   \n",
       "\n",
       "                 Idle Min  \n",
       "Label                      \n",
       "NeedManualLabel       0.0  \n",
       "\n",
       "[1 rows x 83 columns]"
      ]
     },
     "execution_count": 4,
     "metadata": {},
     "output_type": "execute_result"
    }
   ],
   "source": [
    "df.groupby('Label').first()"
   ]
  },
  {
   "cell_type": "code",
   "execution_count": 5,
   "metadata": {},
   "outputs": [
    {
     "name": "stdout",
     "output_type": "stream",
     "text": [
      "<class 'pandas.core.frame.DataFrame'>\n",
      "RangeIndex: 91 entries, 0 to 90\n",
      "Data columns (total 84 columns):\n",
      " #   Column                      Non-Null Count  Dtype  \n",
      "---  ------                      --------------  -----  \n",
      " 0   Flow ID                     91 non-null     object \n",
      " 1   Src IP                      91 non-null     object \n",
      " 2   Src Port                    91 non-null     int64  \n",
      " 3   Dst IP                      91 non-null     object \n",
      " 4   Dst Port                    91 non-null     int64  \n",
      " 5   Protocol                    91 non-null     int64  \n",
      " 6   Timestamp                   91 non-null     object \n",
      " 7   Flow Duration               91 non-null     int64  \n",
      " 8   Total Fwd Packet            91 non-null     int64  \n",
      " 9   Total Bwd packets           91 non-null     int64  \n",
      " 10  Total Length of Fwd Packet  91 non-null     int64  \n",
      " 11  Total Length of Bwd Packet  91 non-null     int64  \n",
      " 12  Fwd Packet Length Max       91 non-null     int64  \n",
      " 13  Fwd Packet Length Min       91 non-null     int64  \n",
      " 14  Fwd Packet Length Mean      91 non-null     int64  \n",
      " 15  Fwd Packet Length Std       91 non-null     int64  \n",
      " 16  Bwd Packet Length Max       91 non-null     int64  \n",
      " 17  Bwd Packet Length Min       91 non-null     int64  \n",
      " 18  Bwd Packet Length Mean      91 non-null     int64  \n",
      " 19  Bwd Packet Length Std       91 non-null     int64  \n",
      " 20  Flow Bytes/s                91 non-null     int64  \n",
      " 21  Flow Packets/s              91 non-null     float64\n",
      " 22  Flow IAT Mean               91 non-null     float64\n",
      " 23  Flow IAT Std                91 non-null     float64\n",
      " 24  Flow IAT Max                91 non-null     int64  \n",
      " 25  Flow IAT Min                91 non-null     int64  \n",
      " 26  Fwd IAT Total               91 non-null     int64  \n",
      " 27  Fwd IAT Mean                91 non-null     float64\n",
      " 28  Fwd IAT Std                 91 non-null     float64\n",
      " 29  Fwd IAT Max                 91 non-null     int64  \n",
      " 30  Fwd IAT Min                 91 non-null     int64  \n",
      " 31  Bwd IAT Total               91 non-null     int64  \n",
      " 32  Bwd IAT Mean                91 non-null     int64  \n",
      " 33  Bwd IAT Std                 91 non-null     int64  \n",
      " 34  Bwd IAT Max                 91 non-null     int64  \n",
      " 35  Bwd IAT Min                 91 non-null     int64  \n",
      " 36  Fwd PSH Flags               91 non-null     int64  \n",
      " 37  Bwd PSH Flags               91 non-null     int64  \n",
      " 38  Fwd URG Flags               91 non-null     int64  \n",
      " 39  Bwd URG Flags               91 non-null     int64  \n",
      " 40  Fwd Header Length           91 non-null     int64  \n",
      " 41  Bwd Header Length           91 non-null     int64  \n",
      " 42  Fwd Packets/s               91 non-null     float64\n",
      " 43  Bwd Packets/s               91 non-null     int64  \n",
      " 44  Packet Length Min           91 non-null     int64  \n",
      " 45  Packet Length Max           91 non-null     int64  \n",
      " 46  Packet Length Mean          91 non-null     int64  \n",
      " 47  Packet Length Std           91 non-null     int64  \n",
      " 48  Packet Length Variance      91 non-null     int64  \n",
      " 49  FIN Flag Count              91 non-null     int64  \n",
      " 50  SYN Flag Count              91 non-null     int64  \n",
      " 51  RST Flag Count              91 non-null     int64  \n",
      " 52  PSH Flag Count              91 non-null     int64  \n",
      " 53  ACK Flag Count              91 non-null     int64  \n",
      " 54  URG Flag Count              91 non-null     int64  \n",
      " 55  CWE Flag Count              91 non-null     int64  \n",
      " 56  ECE Flag Count              91 non-null     int64  \n",
      " 57  Down/Up Ratio               91 non-null     int64  \n",
      " 58  Average Packet Size         91 non-null     int64  \n",
      " 59  Fwd Segment Size Avg        91 non-null     int64  \n",
      " 60  Bwd Segment Size Avg        91 non-null     int64  \n",
      " 61  Fwd Bytes/Bulk Avg          91 non-null     int64  \n",
      " 62  Fwd Packet/Bulk Avg         91 non-null     int64  \n",
      " 63  Fwd Bulk Rate Avg           91 non-null     int64  \n",
      " 64  Bwd Bytes/Bulk Avg          91 non-null     int64  \n",
      " 65  Bwd Packet/Bulk Avg         91 non-null     int64  \n",
      " 66  Bwd Bulk Rate Avg           91 non-null     int64  \n",
      " 67  Subflow Fwd Packets         91 non-null     int64  \n",
      " 68  Subflow Fwd Bytes           91 non-null     int64  \n",
      " 69  Subflow Bwd Packets         91 non-null     int64  \n",
      " 70  Subflow Bwd Bytes           91 non-null     int64  \n",
      " 71  FWD Init Win Bytes          91 non-null     int64  \n",
      " 72  Bwd Init Win Bytes          91 non-null     int64  \n",
      " 73  Fwd Act Data Pkts           91 non-null     int64  \n",
      " 74  Fwd Seg Size Min            91 non-null     int64  \n",
      " 75  Active Mean                 91 non-null     int64  \n",
      " 76  Active Std                  91 non-null     int64  \n",
      " 77  Active Max                  91 non-null     int64  \n",
      " 78  Active Min                  91 non-null     int64  \n",
      " 79  Idle Mean                   91 non-null     float64\n",
      " 80  Idle Std                    91 non-null     float64\n",
      " 81  Idle Max                    91 non-null     float64\n",
      " 82  Idle Min                    91 non-null     float64\n",
      " 83  Label                       91 non-null     object \n",
      "dtypes: float64(10), int64(69), object(5)\n",
      "memory usage: 59.8+ KB\n"
     ]
    }
   ],
   "source": [
    "df.info()"
   ]
  },
  {
   "cell_type": "code",
   "execution_count": 6,
   "metadata": {},
   "outputs": [
    {
     "data": {
      "text/plain": [
       "Index(['Flow ID', 'Src IP', 'Src Port', 'Dst IP', 'Dst Port', 'Protocol',\n",
       "       'Timestamp', 'Flow Duration', 'Total Fwd Packet', 'Total Bwd packets',\n",
       "       'Total Length of Fwd Packet', 'Total Length of Bwd Packet',\n",
       "       'Fwd Packet Length Max', 'Fwd Packet Length Min',\n",
       "       'Fwd Packet Length Mean', 'Fwd Packet Length Std',\n",
       "       'Bwd Packet Length Max', 'Bwd Packet Length Min',\n",
       "       'Bwd Packet Length Mean', 'Bwd Packet Length Std', 'Flow Bytes/s',\n",
       "       'Flow Packets/s', 'Flow IAT Mean', 'Flow IAT Std', 'Flow IAT Max',\n",
       "       'Flow IAT Min', 'Fwd IAT Total', 'Fwd IAT Mean', 'Fwd IAT Std',\n",
       "       'Fwd IAT Max', 'Fwd IAT Min', 'Bwd IAT Total', 'Bwd IAT Mean',\n",
       "       'Bwd IAT Std', 'Bwd IAT Max', 'Bwd IAT Min', 'Fwd PSH Flags',\n",
       "       'Bwd PSH Flags', 'Fwd URG Flags', 'Bwd URG Flags', 'Fwd Header Length',\n",
       "       'Bwd Header Length', 'Fwd Packets/s', 'Bwd Packets/s',\n",
       "       'Packet Length Min', 'Packet Length Max', 'Packet Length Mean',\n",
       "       'Packet Length Std', 'Packet Length Variance', 'FIN Flag Count',\n",
       "       'SYN Flag Count', 'RST Flag Count', 'PSH Flag Count', 'ACK Flag Count',\n",
       "       'URG Flag Count', 'CWE Flag Count', 'ECE Flag Count', 'Down/Up Ratio',\n",
       "       'Average Packet Size', 'Fwd Segment Size Avg', 'Bwd Segment Size Avg',\n",
       "       'Fwd Bytes/Bulk Avg', 'Fwd Packet/Bulk Avg', 'Fwd Bulk Rate Avg',\n",
       "       'Bwd Bytes/Bulk Avg', 'Bwd Packet/Bulk Avg', 'Bwd Bulk Rate Avg',\n",
       "       'Subflow Fwd Packets', 'Subflow Fwd Bytes', 'Subflow Bwd Packets',\n",
       "       'Subflow Bwd Bytes', 'FWD Init Win Bytes', 'Bwd Init Win Bytes',\n",
       "       'Fwd Act Data Pkts', 'Fwd Seg Size Min', 'Active Mean', 'Active Std',\n",
       "       'Active Max', 'Active Min', 'Idle Mean', 'Idle Std', 'Idle Max',\n",
       "       'Idle Min', 'Label'],\n",
       "      dtype='object')"
      ]
     },
     "execution_count": 6,
     "metadata": {},
     "output_type": "execute_result"
    }
   ],
   "source": [
    "df.columns"
   ]
  },
  {
   "cell_type": "code",
   "execution_count": 7,
   "metadata": {},
   "outputs": [],
   "source": [
    "# Data Transfer Bytes (20 MB data download)\n",
    "# No. of Packets (200 packets per sec)\n",
    "# Session Time (2 Min/session)\n",
    "# Forward Packets (100 packets/session)\n",
    "# Backward Packets (100 packets/session)\n",
    "df = df[['Flow Duration','Flow Bytes/s', 'Total Fwd Packet', 'Total Bwd packets', 'Total Length of Fwd Packet', 'Total Length of Bwd Packet']]"
   ]
  },
  {
   "cell_type": "code",
   "execution_count": 8,
   "metadata": {},
   "outputs": [
    {
     "data": {
      "text/html": [
       "<div>\n",
       "<style scoped>\n",
       "    .dataframe tbody tr th:only-of-type {\n",
       "        vertical-align: middle;\n",
       "    }\n",
       "\n",
       "    .dataframe tbody tr th {\n",
       "        vertical-align: top;\n",
       "    }\n",
       "\n",
       "    .dataframe thead th {\n",
       "        text-align: right;\n",
       "    }\n",
       "</style>\n",
       "<table border=\"1\" class=\"dataframe\">\n",
       "  <thead>\n",
       "    <tr style=\"text-align: right;\">\n",
       "      <th></th>\n",
       "      <th>Flow Duration</th>\n",
       "      <th>Flow Bytes/s</th>\n",
       "      <th>Total Fwd Packet</th>\n",
       "      <th>Total Bwd packets</th>\n",
       "      <th>Total Length of Fwd Packet</th>\n",
       "      <th>Total Length of Bwd Packet</th>\n",
       "    </tr>\n",
       "  </thead>\n",
       "  <tbody>\n",
       "    <tr>\n",
       "      <th>0</th>\n",
       "      <td>294</td>\n",
       "      <td>0</td>\n",
       "      <td>2</td>\n",
       "      <td>0</td>\n",
       "      <td>0</td>\n",
       "      <td>0</td>\n",
       "    </tr>\n",
       "    <tr>\n",
       "      <th>1</th>\n",
       "      <td>8993</td>\n",
       "      <td>0</td>\n",
       "      <td>2</td>\n",
       "      <td>0</td>\n",
       "      <td>0</td>\n",
       "      <td>0</td>\n",
       "    </tr>\n",
       "    <tr>\n",
       "      <th>2</th>\n",
       "      <td>88320782</td>\n",
       "      <td>0</td>\n",
       "      <td>3</td>\n",
       "      <td>0</td>\n",
       "      <td>0</td>\n",
       "      <td>0</td>\n",
       "    </tr>\n",
       "    <tr>\n",
       "      <th>3</th>\n",
       "      <td>366</td>\n",
       "      <td>0</td>\n",
       "      <td>2</td>\n",
       "      <td>0</td>\n",
       "      <td>0</td>\n",
       "      <td>0</td>\n",
       "    </tr>\n",
       "    <tr>\n",
       "      <th>4</th>\n",
       "      <td>262</td>\n",
       "      <td>0</td>\n",
       "      <td>2</td>\n",
       "      <td>0</td>\n",
       "      <td>0</td>\n",
       "      <td>0</td>\n",
       "    </tr>\n",
       "  </tbody>\n",
       "</table>\n",
       "</div>"
      ],
      "text/plain": [
       "   Flow Duration  Flow Bytes/s  Total Fwd Packet  Total Bwd packets  \\\n",
       "0            294             0                 2                  0   \n",
       "1           8993             0                 2                  0   \n",
       "2       88320782             0                 3                  0   \n",
       "3            366             0                 2                  0   \n",
       "4            262             0                 2                  0   \n",
       "\n",
       "   Total Length of Fwd Packet  Total Length of Bwd Packet  \n",
       "0                           0                           0  \n",
       "1                           0                           0  \n",
       "2                           0                           0  \n",
       "3                           0                           0  \n",
       "4                           0                           0  "
      ]
     },
     "execution_count": 8,
     "metadata": {},
     "output_type": "execute_result"
    }
   ],
   "source": [
    "df.head()"
   ]
  },
  {
   "cell_type": "code",
   "execution_count": 9,
   "metadata": {},
   "outputs": [
    {
     "data": {
      "text/html": [
       "<div>\n",
       "<style scoped>\n",
       "    .dataframe tbody tr th:only-of-type {\n",
       "        vertical-align: middle;\n",
       "    }\n",
       "\n",
       "    .dataframe tbody tr th {\n",
       "        vertical-align: top;\n",
       "    }\n",
       "\n",
       "    .dataframe thead th {\n",
       "        text-align: right;\n",
       "    }\n",
       "</style>\n",
       "<table border=\"1\" class=\"dataframe\">\n",
       "  <thead>\n",
       "    <tr style=\"text-align: right;\">\n",
       "      <th></th>\n",
       "      <th>Flow Duration</th>\n",
       "      <th>Total Fwd Packet</th>\n",
       "      <th>Total Bwd packets</th>\n",
       "      <th>Total Length of Fwd Packet</th>\n",
       "      <th>Total Length of Bwd Packet</th>\n",
       "    </tr>\n",
       "    <tr>\n",
       "      <th>Flow Bytes/s</th>\n",
       "      <th></th>\n",
       "      <th></th>\n",
       "      <th></th>\n",
       "      <th></th>\n",
       "      <th></th>\n",
       "    </tr>\n",
       "  </thead>\n",
       "  <tbody>\n",
       "    <tr>\n",
       "      <th>0</th>\n",
       "      <td>294</td>\n",
       "      <td>2</td>\n",
       "      <td>0</td>\n",
       "      <td>0</td>\n",
       "      <td>0</td>\n",
       "    </tr>\n",
       "  </tbody>\n",
       "</table>\n",
       "</div>"
      ],
      "text/plain": [
       "              Flow Duration  Total Fwd Packet  Total Bwd packets  \\\n",
       "Flow Bytes/s                                                       \n",
       "0                       294                 2                  0   \n",
       "\n",
       "              Total Length of Fwd Packet  Total Length of Bwd Packet  \n",
       "Flow Bytes/s                                                          \n",
       "0                                      0                           0  "
      ]
     },
     "execution_count": 9,
     "metadata": {},
     "output_type": "execute_result"
    }
   ],
   "source": [
    "df.groupby('Flow Bytes/s').first()"
   ]
  },
  {
   "cell_type": "code",
   "execution_count": 10,
   "metadata": {},
   "outputs": [
    {
     "data": {
      "text/html": [
       "<div>\n",
       "<style scoped>\n",
       "    .dataframe tbody tr th:only-of-type {\n",
       "        vertical-align: middle;\n",
       "    }\n",
       "\n",
       "    .dataframe tbody tr th {\n",
       "        vertical-align: top;\n",
       "    }\n",
       "\n",
       "    .dataframe thead th {\n",
       "        text-align: right;\n",
       "    }\n",
       "</style>\n",
       "<table border=\"1\" class=\"dataframe\">\n",
       "  <thead>\n",
       "    <tr style=\"text-align: right;\">\n",
       "      <th></th>\n",
       "      <th>Flow Duration</th>\n",
       "      <th>Flow Bytes/s</th>\n",
       "      <th>Total Fwd Packet</th>\n",
       "      <th>Total Length of Fwd Packet</th>\n",
       "      <th>Total Length of Bwd Packet</th>\n",
       "    </tr>\n",
       "    <tr>\n",
       "      <th>Total Bwd packets</th>\n",
       "      <th></th>\n",
       "      <th></th>\n",
       "      <th></th>\n",
       "      <th></th>\n",
       "      <th></th>\n",
       "    </tr>\n",
       "  </thead>\n",
       "  <tbody>\n",
       "    <tr>\n",
       "      <th>0</th>\n",
       "      <td>294</td>\n",
       "      <td>0</td>\n",
       "      <td>2</td>\n",
       "      <td>0</td>\n",
       "      <td>0</td>\n",
       "    </tr>\n",
       "  </tbody>\n",
       "</table>\n",
       "</div>"
      ],
      "text/plain": [
       "                   Flow Duration  Flow Bytes/s  Total Fwd Packet  \\\n",
       "Total Bwd packets                                                  \n",
       "0                            294             0                 2   \n",
       "\n",
       "                   Total Length of Fwd Packet  Total Length of Bwd Packet  \n",
       "Total Bwd packets                                                          \n",
       "0                                           0                           0  "
      ]
     },
     "execution_count": 10,
     "metadata": {},
     "output_type": "execute_result"
    }
   ],
   "source": [
    "df.groupby('Total Bwd packets').first()"
   ]
  },
  {
   "cell_type": "code",
   "execution_count": 11,
   "metadata": {},
   "outputs": [
    {
     "data": {
      "text/html": [
       "<div>\n",
       "<style scoped>\n",
       "    .dataframe tbody tr th:only-of-type {\n",
       "        vertical-align: middle;\n",
       "    }\n",
       "\n",
       "    .dataframe tbody tr th {\n",
       "        vertical-align: top;\n",
       "    }\n",
       "\n",
       "    .dataframe thead th {\n",
       "        text-align: right;\n",
       "    }\n",
       "</style>\n",
       "<table border=\"1\" class=\"dataframe\">\n",
       "  <thead>\n",
       "    <tr style=\"text-align: right;\">\n",
       "      <th></th>\n",
       "      <th>Flow Duration</th>\n",
       "      <th>Flow Bytes/s</th>\n",
       "      <th>Total Fwd Packet</th>\n",
       "      <th>Total Bwd packets</th>\n",
       "      <th>Total Length of Bwd Packet</th>\n",
       "    </tr>\n",
       "    <tr>\n",
       "      <th>Total Length of Fwd Packet</th>\n",
       "      <th></th>\n",
       "      <th></th>\n",
       "      <th></th>\n",
       "      <th></th>\n",
       "      <th></th>\n",
       "    </tr>\n",
       "  </thead>\n",
       "  <tbody>\n",
       "    <tr>\n",
       "      <th>0</th>\n",
       "      <td>294</td>\n",
       "      <td>0</td>\n",
       "      <td>2</td>\n",
       "      <td>0</td>\n",
       "      <td>0</td>\n",
       "    </tr>\n",
       "  </tbody>\n",
       "</table>\n",
       "</div>"
      ],
      "text/plain": [
       "                            Flow Duration  Flow Bytes/s  Total Fwd Packet  \\\n",
       "Total Length of Fwd Packet                                                  \n",
       "0                                     294             0                 2   \n",
       "\n",
       "                            Total Bwd packets  Total Length of Bwd Packet  \n",
       "Total Length of Fwd Packet                                                 \n",
       "0                                           0                           0  "
      ]
     },
     "execution_count": 11,
     "metadata": {},
     "output_type": "execute_result"
    }
   ],
   "source": [
    "df.groupby('Total Length of Fwd Packet').first()"
   ]
  },
  {
   "cell_type": "code",
   "execution_count": 12,
   "metadata": {},
   "outputs": [
    {
     "data": {
      "text/html": [
       "<div>\n",
       "<style scoped>\n",
       "    .dataframe tbody tr th:only-of-type {\n",
       "        vertical-align: middle;\n",
       "    }\n",
       "\n",
       "    .dataframe tbody tr th {\n",
       "        vertical-align: top;\n",
       "    }\n",
       "\n",
       "    .dataframe thead th {\n",
       "        text-align: right;\n",
       "    }\n",
       "</style>\n",
       "<table border=\"1\" class=\"dataframe\">\n",
       "  <thead>\n",
       "    <tr style=\"text-align: right;\">\n",
       "      <th></th>\n",
       "      <th>Flow Duration</th>\n",
       "      <th>Flow Bytes/s</th>\n",
       "      <th>Total Fwd Packet</th>\n",
       "      <th>Total Bwd packets</th>\n",
       "      <th>Total Length of Fwd Packet</th>\n",
       "    </tr>\n",
       "    <tr>\n",
       "      <th>Total Length of Bwd Packet</th>\n",
       "      <th></th>\n",
       "      <th></th>\n",
       "      <th></th>\n",
       "      <th></th>\n",
       "      <th></th>\n",
       "    </tr>\n",
       "  </thead>\n",
       "  <tbody>\n",
       "    <tr>\n",
       "      <th>0</th>\n",
       "      <td>294</td>\n",
       "      <td>0</td>\n",
       "      <td>2</td>\n",
       "      <td>0</td>\n",
       "      <td>0</td>\n",
       "    </tr>\n",
       "  </tbody>\n",
       "</table>\n",
       "</div>"
      ],
      "text/plain": [
       "                            Flow Duration  Flow Bytes/s  Total Fwd Packet  \\\n",
       "Total Length of Bwd Packet                                                  \n",
       "0                                     294             0                 2   \n",
       "\n",
       "                            Total Bwd packets  Total Length of Fwd Packet  \n",
       "Total Length of Bwd Packet                                                 \n",
       "0                                           0                           0  "
      ]
     },
     "execution_count": 12,
     "metadata": {},
     "output_type": "execute_result"
    }
   ],
   "source": [
    "df.groupby('Total Length of Bwd Packet').first()"
   ]
  },
  {
   "cell_type": "code",
   "execution_count": 13,
   "metadata": {},
   "outputs": [],
   "source": [
    "df = df[['Flow Duration', 'Total Fwd Packet']]"
   ]
  },
  {
   "cell_type": "code",
   "execution_count": 14,
   "metadata": {},
   "outputs": [
    {
     "data": {
      "text/html": [
       "<div>\n",
       "<style scoped>\n",
       "    .dataframe tbody tr th:only-of-type {\n",
       "        vertical-align: middle;\n",
       "    }\n",
       "\n",
       "    .dataframe tbody tr th {\n",
       "        vertical-align: top;\n",
       "    }\n",
       "\n",
       "    .dataframe thead th {\n",
       "        text-align: right;\n",
       "    }\n",
       "</style>\n",
       "<table border=\"1\" class=\"dataframe\">\n",
       "  <thead>\n",
       "    <tr style=\"text-align: right;\">\n",
       "      <th></th>\n",
       "      <th>Flow Duration</th>\n",
       "      <th>Total Fwd Packet</th>\n",
       "    </tr>\n",
       "  </thead>\n",
       "  <tbody>\n",
       "    <tr>\n",
       "      <th>0</th>\n",
       "      <td>294</td>\n",
       "      <td>2</td>\n",
       "    </tr>\n",
       "    <tr>\n",
       "      <th>1</th>\n",
       "      <td>8993</td>\n",
       "      <td>2</td>\n",
       "    </tr>\n",
       "    <tr>\n",
       "      <th>2</th>\n",
       "      <td>88320782</td>\n",
       "      <td>3</td>\n",
       "    </tr>\n",
       "    <tr>\n",
       "      <th>3</th>\n",
       "      <td>366</td>\n",
       "      <td>2</td>\n",
       "    </tr>\n",
       "    <tr>\n",
       "      <th>4</th>\n",
       "      <td>262</td>\n",
       "      <td>2</td>\n",
       "    </tr>\n",
       "  </tbody>\n",
       "</table>\n",
       "</div>"
      ],
      "text/plain": [
       "   Flow Duration  Total Fwd Packet\n",
       "0            294                 2\n",
       "1           8993                 2\n",
       "2       88320782                 3\n",
       "3            366                 2\n",
       "4            262                 2"
      ]
     },
     "execution_count": 14,
     "metadata": {},
     "output_type": "execute_result"
    }
   ],
   "source": [
    "df.head()"
   ]
  },
  {
   "cell_type": "code",
   "execution_count": 15,
   "metadata": {},
   "outputs": [],
   "source": [
    "from scipy import stats"
   ]
  },
  {
   "cell_type": "code",
   "execution_count": 16,
   "metadata": {},
   "outputs": [],
   "source": [
    "X = df"
   ]
  },
  {
   "cell_type": "code",
   "execution_count": 17,
   "metadata": {},
   "outputs": [],
   "source": [
    "\n",
    "for col in X:\n",
    "    X[col] = stats.zscore(X[col])\n",
    "    \n"
   ]
  },
  {
   "cell_type": "code",
   "execution_count": 18,
   "metadata": {},
   "outputs": [
    {
     "data": {
      "text/html": [
       "<div>\n",
       "<style scoped>\n",
       "    .dataframe tbody tr th:only-of-type {\n",
       "        vertical-align: middle;\n",
       "    }\n",
       "\n",
       "    .dataframe tbody tr th {\n",
       "        vertical-align: top;\n",
       "    }\n",
       "\n",
       "    .dataframe thead th {\n",
       "        text-align: right;\n",
       "    }\n",
       "</style>\n",
       "<table border=\"1\" class=\"dataframe\">\n",
       "  <thead>\n",
       "    <tr style=\"text-align: right;\">\n",
       "      <th></th>\n",
       "      <th>Flow Duration</th>\n",
       "      <th>Total Fwd Packet</th>\n",
       "    </tr>\n",
       "  </thead>\n",
       "  <tbody>\n",
       "    <tr>\n",
       "      <th>0</th>\n",
       "      <td>-1.144392</td>\n",
       "      <td>-0.646537</td>\n",
       "    </tr>\n",
       "    <tr>\n",
       "      <th>1</th>\n",
       "      <td>-1.144201</td>\n",
       "      <td>-0.646537</td>\n",
       "    </tr>\n",
       "    <tr>\n",
       "      <th>2</th>\n",
       "      <td>0.796305</td>\n",
       "      <td>-0.390733</td>\n",
       "    </tr>\n",
       "    <tr>\n",
       "      <th>3</th>\n",
       "      <td>-1.144391</td>\n",
       "      <td>-0.646537</td>\n",
       "    </tr>\n",
       "    <tr>\n",
       "      <th>4</th>\n",
       "      <td>-1.144393</td>\n",
       "      <td>-0.646537</td>\n",
       "    </tr>\n",
       "  </tbody>\n",
       "</table>\n",
       "</div>"
      ],
      "text/plain": [
       "   Flow Duration  Total Fwd Packet\n",
       "0      -1.144392         -0.646537\n",
       "1      -1.144201         -0.646537\n",
       "2       0.796305         -0.390733\n",
       "3      -1.144391         -0.646537\n",
       "4      -1.144393         -0.646537"
      ]
     },
     "execution_count": 18,
     "metadata": {},
     "output_type": "execute_result"
    }
   ],
   "source": [
    "X.head()"
   ]
  },
  {
   "cell_type": "code",
   "execution_count": 19,
   "metadata": {},
   "outputs": [],
   "source": [
    "\n",
    "\n",
    "from sklearn.preprocessing import StandardScaler\n",
    "scaler = StandardScaler()\n",
    "\n"
   ]
  },
  {
   "cell_type": "markdown",
   "metadata": {},
   "source": [
    "### K Means"
   ]
  },
  {
   "cell_type": "code",
   "execution_count": 20,
   "metadata": {},
   "outputs": [],
   "source": [
    "from sklearn.cluster import KMeans"
   ]
  },
  {
   "cell_type": "code",
   "execution_count": 21,
   "metadata": {},
   "outputs": [],
   "source": [
    "def kmeans(X, n_clusters):\n",
    "    ss = StandardScaler()\n",
    "    X = ss.fit_transform(X)\n",
    "    km = KMeans(n_clusters=n_clusters)\n",
    "    km.fit(X)\n",
    "    y_pred = km.predict(X)\n",
    "    plt.scatter(X[:,0], X[:,1],c=y_pred, cmap='Paired')\n",
    "    plt.title(\"K-means\")"
   ]
  },
  {
   "cell_type": "code",
   "execution_count": 22,
   "metadata": {},
   "outputs": [
    {
     "data": {
      "image/png": "[encoded data removed]",
      "text/plain": [
       "<Figure size 432x288 with 1 Axes>"
      ]
     },
     "metadata": {
      "needs_background": "light"
     },
     "output_type": "display_data"
    }
   ],
   "source": [
    "kmeans(X,n_clusters=2)"
   ]
  },
  {
   "cell_type": "code",
   "execution_count": 23,
   "metadata": {},
   "outputs": [
    {
     "data": {
      "image/png": "[encoded data removed]",
      "text/plain": [
       "<Figure size 432x288 with 1 Axes>"
      ]
     },
     "metadata": {
      "needs_background": "light"
     },
     "output_type": "display_data"
    }
   ],
   "source": [
    "kmeans(X,n_clusters=3)"
   ]
  },
  {
   "cell_type": "code",
   "execution_count": 24,
   "metadata": {},
   "outputs": [
    {
     "data": {
      "image/png": "[encoded data removed]",
      "text/plain": [
       "<Figure size 432x288 with 1 Axes>"
      ]
     },
     "metadata": {
      "needs_background": "light"
     },
     "output_type": "display_data"
    }
   ],
   "source": [
    "kmeans(X,n_clusters=4)"
   ]
  },
  {
   "cell_type": "markdown",
   "metadata": {},
   "source": [
    "### DBSCAN\n"
   ]
  },
  {
   "cell_type": "code",
   "execution_count": 25,
   "metadata": {},
   "outputs": [],
   "source": [
    "from sklearn.cluster import DBSCAN"
   ]
  },
  {
   "cell_type": "code",
   "execution_count": 26,
   "metadata": {},
   "outputs": [],
   "source": [
    "# The maximum distance between two samples for one to be considered as in the neighborhood of the other.\n",
    "# This is not a maximum bound on the distances of points within a cluster.\n",
    "def dbscan(X, eps, min_samples):\n",
    "    ss = StandardScaler()\n",
    "    X = ss.fit_transform(X)\n",
    "    db = DBSCAN(eps=eps, min_samples=min_samples)\n",
    "    db.fit(X)\n",
    "    y_pred = db.fit_predict(X)\n",
    "    plt.scatter(X[:,0], X[:,1],c=y_pred, cmap='Paired')\n",
    "    plt.title(\"DBSCAN\")\n"
   ]
  },
  {
   "cell_type": "code",
   "execution_count": 27,
   "metadata": {},
   "outputs": [
    {
     "data": {
      "image/png": "[encoded data removed]",
      "text/plain": [
       "<Figure size 432x288 with 1 Axes>"
      ]
     },
     "metadata": {
      "needs_background": "light"
     },
     "output_type": "display_data"
    }
   ],
   "source": [
    "dbscan(X,eps=.3,min_samples=5)"
   ]
  },
  {
   "cell_type": "code",
   "execution_count": 28,
   "metadata": {},
   "outputs": [
    {
     "data": {
      "image/png": "[encoded data removed]",
      "text/plain": [
       "<Figure size 432x288 with 1 Axes>"
      ]
     },
     "metadata": {
      "needs_background": "light"
     },
     "output_type": "display_data"
    }
   ],
   "source": [
    "dbscan(X,eps=2,min_samples=20)"
   ]
  },
  {
   "cell_type": "code",
   "execution_count": 29,
   "metadata": {},
   "outputs": [
    {
     "data": {
      "image/png": "[encoded data removed]",
      "text/plain": [
       "<Figure size 432x288 with 1 Axes>"
      ]
     },
     "metadata": {
      "needs_background": "light"
     },
     "output_type": "display_data"
    }
   ],
   "source": [
    "dbscan(X,eps=1.5,min_samples=20)"
   ]
  },
  {
   "cell_type": "code",
   "execution_count": 30,
   "metadata": {},
   "outputs": [
    {
     "data": {
      "image/png": "[encoded data removed]",
      "text/plain": [
       "<Figure size 432x288 with 1 Axes>"
      ]
     },
     "metadata": {
      "needs_background": "light"
     },
     "output_type": "display_data"
    }
   ],
   "source": [
    "dbscan(X,eps=1,min_samples=20)"
   ]
  },
  {
   "cell_type": "code",
   "execution_count": 31,
   "metadata": {},
   "outputs": [
    {
     "data": {
      "image/png": "[encoded data removed]",
      "text/plain": [
       "<Figure size 432x288 with 1 Axes>"
      ]
     },
     "metadata": {
      "needs_background": "light"
     },
     "output_type": "display_data"
    }
   ],
   "source": [
    "dbscan(X,eps=0.5,min_samples=20)"
   ]
  },
  {
   "cell_type": "markdown",
   "metadata": {},
   "source": [
    "## Outlier detection"
   ]
  },
  {
   "cell_type": "code",
   "execution_count": 44,
   "metadata": {},
   "outputs": [],
   "source": [
    "def outlier_detection_dbscan(eps, min_samples, X):\n",
    "    \n",
    "    ss = StandardScaler()\n",
    "    X = ss.fit_transform(X)\n",
    "    db = DBSCAN(eps=eps, min_samples=min_samples)\n",
    "    db.fit(X)\n",
    "    y_pred = db.fit_predict(X)\n",
    "    \n",
    "    cluster_0 = []\n",
    "    cluster_1 = []\n",
    "    cluster_2 = []\n",
    "    cluster_3 = []\n",
    "    cluster_4 = []\n",
    "    cluster_5 = []\n",
    "    outliers = []\n",
    "    for i in range(len(X)):\n",
    "        if db.labels_[i] == -1:\n",
    "            outliers.append(X[i])\n",
    "        elif db.labels_[i] == 0:\n",
    "            cluster_0.append(X[i])\n",
    "        elif db.labels_[i] == 1:\n",
    "            cluster_1.append(X[i])\n",
    "        elif db.labels_[i] == 2:\n",
    "            cluster_2.append(X[i])\n",
    "        elif db.labels_[i] == 3:\n",
    "            cluster_3.append(X[i])\n",
    "        elif db.labels_[i] == 4:\n",
    "            cluster_4.append(X[i])\n",
    "        elif db.labels_[i] == 5:\n",
    "            cluster_5.append(X[i])\n",
    "            \n",
    "    if len(cluster_0) > 0:\n",
    "        x_0 = []\n",
    "        y_0 = []\n",
    "        for i in range(len(cluster_0)):\n",
    "            x_0.append(cluster_0[i][0])\n",
    "            y_0.append(cluster_0[i][1])\n",
    "        plt.scatter(x_0, y_0,c='b', cmap='Paired')\n",
    "        print(\"Length of cluster 0 : \", len(cluster_0))\n",
    "\n",
    "        \n",
    "    if len(cluster_1) > 0:\n",
    "        x_1 = []\n",
    "        y_1 = []\n",
    "        for i in range(len(cluster_1)):\n",
    "            x_1.append(cluster_1[i][0])\n",
    "            y_1.append(cluster_1[i][1])\n",
    "        plt.scatter(x_1, y_1,c='g', cmap='Paired')\n",
    "        print(\"Length of cluster 1 : \", len(cluster_1))\n",
    "\n",
    "    \n",
    "    if len(cluster_2) > 0:\n",
    "        x_2 = []\n",
    "        y_2 = []\n",
    "        for i in range(len(cluster_2)):\n",
    "            x_2.append(cluster_2[i][0])\n",
    "            y_2.append(cluster_2[i][1])\n",
    "        plt.scatter(x_2, y_2,c='y', cmap='Paired')\n",
    "        print(\"Length of cluster 2 : \", len(cluster_2))\n",
    "\n",
    "            \n",
    "    if len(cluster_3) >0:\n",
    "        x_3 = []\n",
    "        y_3 = []\n",
    "        for i in range(len(cluster_3)):\n",
    "            x_3.append(cluster_3[i][0])\n",
    "            y_3.append(cluster_3[i][1])\n",
    "        plt.scatter(x_3, y_3,c='b', marker = \"1\" ,cmap='Paired')\n",
    "        print(\"Length of cluster 3 : \", len(cluster_3))\n",
    "\n",
    "            \n",
    "    if len(cluster_4) > 0:\n",
    "        x_4 = []\n",
    "        y_4 = []\n",
    "        for i in range(len(cluster_4)):\n",
    "            x_4.append(cluster_4[i][0])\n",
    "            y_4.append(cluster_4[i][1])\n",
    "        plt.scatter(x_4, y_4,c='b',marker = \"2\", cmap='Paired')\n",
    "        print(\"Length of cluster 4 : \", len(cluster_4))\n",
    "\n",
    "            \n",
    "    if len(cluster_5) > 0:\n",
    "        x_5 = []\n",
    "        y_5 = []\n",
    "        for i in range(len(cluster_5)):\n",
    "            x_5.append(cluster_5[i][0])\n",
    "            y_5.append(cluster_5[i][1])\n",
    "        plt.scatter(x_5, y_5,c='b',marker = \"3\", cmap='Paired')\n",
    "        print(\"Length of cluster 5 : \", len(cluster_5))\n",
    "\n",
    "            \n",
    "    if len(outliers) > 0:    \n",
    "        # outliers\n",
    "        x = []\n",
    "        y = []\n",
    "        for i in range(len(outliers)):\n",
    "            x.append(outliers[i][0])\n",
    "            y.append(outliers[i][1])\n",
    "        plt.scatter(x, y,c='r', marker = '*', cmap='Paired') #outlier\n",
    "        print(\"Number f outliers : \", len(outliers))\n"
   ]
  },
  {
   "cell_type": "code",
   "execution_count": 45,
   "metadata": {},
   "outputs": [
    {
     "name": "stdout",
     "output_type": "stream",
     "text": [
      "Length of cluster 0 :  33\n",
      "Length of cluster 1 :  17\n",
      "Length of cluster 2 :  8\n",
      "Length of cluster 3 :  7\n",
      "Number f outliers :  26\n"
     ]
    },
    {
     "data": {
      "image/png": "[encoded data removed]",
      "text/plain": [
       "<Figure size 432x288 with 1 Axes>"
      ]
     },
     "metadata": {
      "needs_background": "light"
     },
     "output_type": "display_data"
    }
   ],
   "source": [
    "outlier_detection_dbscan(0.3, 6, X)"
   ]
  },
  {
   "cell_type": "code",
   "execution_count": 46,
   "metadata": {},
   "outputs": [
    {
     "name": "stdout",
     "output_type": "stream",
     "text": [
      "Length of cluster 0 :  42\n",
      "Length of cluster 1 :  28\n",
      "Number f outliers :  21\n"
     ]
    },
    {
     "data": {
      "image/png": "[encoded data removed]",
      "text/plain": [
       "<Figure size 432x288 with 1 Axes>"
      ]
     },
     "metadata": {
      "needs_background": "light"
     },
     "output_type": "display_data"
    }
   ],
   "source": [
    "outlier_detection_dbscan(0.6, 10, X)"
   ]
  },
  {
   "cell_type": "code",
   "execution_count": 47,
   "metadata": {},
   "outputs": [
    {
     "name": "stdout",
     "output_type": "stream",
     "text": [
      "Length of cluster 0 :  80\n",
      "Number f outliers :  11\n"
     ]
    },
    {
     "data": {
      "image/png": "[encoded data removed]",
      "text/plain": [
       "<Figure size 432x288 with 1 Axes>"
      ]
     },
     "metadata": {
      "needs_background": "light"
     },
     "output_type": "display_data"
    }
   ],
   "source": [
    "outlier_detection_dbscan(1, 15, X)"
   ]
  },
  {
   "cell_type": "code",
   "execution_count": 48,
   "metadata": {},
   "outputs": [
    {
     "name": "stdout",
     "output_type": "stream",
     "text": [
      "Length of cluster 0 :  85\n",
      "Number f outliers :  6\n"
     ]
    },
    {
     "data": {
      "image/png": "[encoded data removed]",
      "text/plain": [
       "<Figure size 432x288 with 1 Axes>"
      ]
     },
     "metadata": {
      "needs_background": "light"
     },
     "output_type": "display_data"
    }
   ],
   "source": [
    "outlier_detection_dbscan(1.3, 20, X)"
   ]
  },
  {
   "cell_type": "code",
   "execution_count": 49,
   "metadata": {},
   "outputs": [
    {
     "name": "stdout",
     "output_type": "stream",
     "text": [
      "Length of cluster 0 :  33\n",
      "Number f outliers :  58\n"
     ]
    },
    {
     "data": {
      "image/png": "[encoded data removed]",
      "text/plain": [
       "<Figure size 432x288 with 1 Axes>"
      ]
     },
     "metadata": {
      "needs_background": "light"
     },
     "output_type": "display_data"
    }
   ],
   "source": [
    "outlier_detection_dbscan(0.3, 20, X)"
   ]
  },
  {
   "cell_type": "code",
   "execution_count": 50,
   "metadata": {},
   "outputs": [
    {
     "name": "stdout",
     "output_type": "stream",
     "text": [
      "Length of cluster 0 :  29\n",
      "Length of cluster 1 :  4\n",
      "Length of cluster 2 :  4\n",
      "Length of cluster 3 :  2\n",
      "Length of cluster 4 :  2\n",
      "Length of cluster 5 :  2\n",
      "Number f outliers :  30\n"
     ]
    },
    {
     "data": {
      "image/png": "[encoded data removed]",
      "text/plain": [
       "<Figure size 432x288 with 1 Axes>"
      ]
     },
     "metadata": {
      "needs_background": "light"
     },
     "output_type": "display_data"
    }
   ],
   "source": [
    "outlier_detection_dbscan(0.1, 2, X)"
   ]
  },
  {
   "cell_type": "markdown",
   "metadata": {},
   "source": [
    "### Hierarchical clustering"
   ]
  },
  {
   "cell_type": "code",
   "execution_count": 35,
   "metadata": {},
   "outputs": [],
   "source": [
    "from sklearn.cluster import AgglomerativeClustering"
   ]
  },
  {
   "cell_type": "code",
   "execution_count": 36,
   "metadata": {},
   "outputs": [],
   "source": [
    "def hier(X, n_clusters):\n",
    "    ss = StandardScaler()\n",
    "    X = ss.fit_transform(X)\n",
    "    hier = AgglomerativeClustering(n_clusters=n_clusters)\n",
    "    y_pred = hier.fit_predict(X)\n",
    "    plt.scatter(X[:,0], X[:,1],c=y_pred, cmap='Paired')\n",
    "    plt.title(\"Hierarchical\")\n"
   ]
  },
  {
   "cell_type": "code",
   "execution_count": 37,
   "metadata": {},
   "outputs": [
    {
     "data": {
      "image/png": "[encoded data removed]",
      "text/plain": [
       "<Figure size 432x288 with 1 Axes>"
      ]
     },
     "metadata": {
      "needs_background": "light"
     },
     "output_type": "display_data"
    }
   ],
   "source": [
    "hier(X,n_clusters=2)"
   ]
  },
  {
   "cell_type": "code",
   "execution_count": 38,
   "metadata": {},
   "outputs": [
    {
     "data": {
      "image/png": "[encoded data removed]",
      "text/plain": [
       "<Figure size 432x288 with 1 Axes>"
      ]
     },
     "metadata": {
      "needs_background": "light"
     },
     "output_type": "display_data"
    }
   ],
   "source": [
    "hier(X,n_clusters=3)"
   ]
  },
  {
   "cell_type": "code",
   "execution_count": 39,
   "metadata": {},
   "outputs": [
    {
     "data": {
      "image/png": "[encoded data removed]",
      "text/plain": [
       "<Figure size 432x288 with 1 Axes>"
      ]
     },
     "metadata": {
      "needs_background": "light"
     },
     "output_type": "display_data"
    }
   ],
   "source": [
    "hier(X,n_clusters=4)"
   ]
  }
 ],
 "metadata": {
  "kernelspec": {
   "display_name": "Python 3",
   "language": "python",
   "name": "python3"
  },
  "language_info": {
   "codemirror_mode": {
    "name": "ipython",
    "version": 3
   },
   "file_extension": ".py",
   "mimetype": "text/x-python",
   "name": "python",
   "nbconvert_exporter": "python",
   "pygments_lexer": "ipython3",
   "version": "3.7.6"
  }
 },
 "nbformat": 4,
 "nbformat_minor": 4
}
