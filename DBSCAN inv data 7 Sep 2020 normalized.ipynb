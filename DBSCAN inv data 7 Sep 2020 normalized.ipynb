{
 "cells": [
  {
   "cell_type": "code",
   "execution_count": 1,
   "metadata": {},
   "outputs": [],
   "source": [
    "# Import necessary modules\n",
    "import pandas as pd\n",
    "import matplotlib.pyplot as plt\n",
    "import numpy as np\n",
    "import time\n",
    "from sklearn.metrics import accuracy_score\n",
    "from scipy import stats\n",
    "from sklearn.cluster import DBSCAN\n",
    "from sklearn.preprocessing import StandardScaler\n",
    "scaler = StandardScaler()"
   ]
  },
  {
   "cell_type": "code",
   "execution_count": 2,
   "metadata": {},
   "outputs": [],
   "source": [
    "df=pd.read_csv(\"./invisily_service_access_logs_07Sep20.csv\")"
   ]
  },
  {
   "cell_type": "code",
   "execution_count": 3,
   "metadata": {},
   "outputs": [],
   "source": [
    "#display all columns and rows\n",
    "pd.set_option('display.max_columns', None)\n",
    "pd.set_option('display.max_rows', None)"
   ]
  },
  {
   "cell_type": "code",
   "execution_count": 4,
   "metadata": {},
   "outputs": [
    {
     "data": {
      "text/html": [
       "<div>\n",
       "<style scoped>\n",
       "    .dataframe tbody tr th:only-of-type {\n",
       "        vertical-align: middle;\n",
       "    }\n",
       "\n",
       "    .dataframe tbody tr th {\n",
       "        vertical-align: top;\n",
       "    }\n",
       "\n",
       "    .dataframe thead th {\n",
       "        text-align: right;\n",
       "    }\n",
       "</style>\n",
       "<table border=\"1\" class=\"dataframe\">\n",
       "  <thead>\n",
       "    <tr style=\"text-align: right;\">\n",
       "      <th></th>\n",
       "      <th>id</th>\n",
       "      <th>agent_id</th>\n",
       "      <th>client_physical_ip</th>\n",
       "      <th>client_pseudo_ip</th>\n",
       "      <th>service_id</th>\n",
       "      <th>service_physical_ip</th>\n",
       "      <th>service_pseudo_ip</th>\n",
       "      <th>client_tx_bytes</th>\n",
       "      <th>service_tx_bytes</th>\n",
       "      <th>difference_bytes</th>\n",
       "      <th>createdAt</th>\n",
       "      <th>updatedAt</th>\n",
       "      <th>log_start_time</th>\n",
       "      <th>log_end_time</th>\n",
       "    </tr>\n",
       "  </thead>\n",
       "  <tbody>\n",
       "    <tr>\n",
       "      <th>0</th>\n",
       "      <td>26</td>\n",
       "      <td>7067</td>\n",
       "      <td>103.255.5.103</td>\n",
       "      <td>10.0.1.2</td>\n",
       "      <td>701</td>\n",
       "      <td>192.168.3.18</td>\n",
       "      <td>10.0.1.4</td>\n",
       "      <td>19347</td>\n",
       "      <td>52032</td>\n",
       "      <td>32685</td>\n",
       "      <td>2020-08-27 11:51:34</td>\n",
       "      <td>2020-08-27 11:51:34</td>\n",
       "      <td>1598508692</td>\n",
       "      <td>1598509007</td>\n",
       "    </tr>\n",
       "    <tr>\n",
       "      <th>1</th>\n",
       "      <td>32</td>\n",
       "      <td>7096</td>\n",
       "      <td>111.119.178.162</td>\n",
       "      <td>10.0.1.194</td>\n",
       "      <td>701</td>\n",
       "      <td>192.168.3.18</td>\n",
       "      <td>10.0.1.196</td>\n",
       "      <td>55508</td>\n",
       "      <td>137447</td>\n",
       "      <td>81939</td>\n",
       "      <td>2020-08-27 11:51:34</td>\n",
       "      <td>2020-08-27 11:51:34</td>\n",
       "      <td>1598509662</td>\n",
       "      <td>1598509776</td>\n",
       "    </tr>\n",
       "    <tr>\n",
       "      <th>2</th>\n",
       "      <td>48</td>\n",
       "      <td>7238</td>\n",
       "      <td>39.53.107.112</td>\n",
       "      <td>10.0.0.2</td>\n",
       "      <td>700</td>\n",
       "      <td>192.168.3.1</td>\n",
       "      <td>10.0.0.3</td>\n",
       "      <td>65615</td>\n",
       "      <td>505399</td>\n",
       "      <td>439784</td>\n",
       "      <td>2020-08-27 11:51:34</td>\n",
       "      <td>2020-08-27 11:51:34</td>\n",
       "      <td>1598507738</td>\n",
       "      <td>1598510917</td>\n",
       "    </tr>\n",
       "    <tr>\n",
       "      <th>3</th>\n",
       "      <td>74</td>\n",
       "      <td>7352</td>\n",
       "      <td>118.107.131.76</td>\n",
       "      <td>10.0.0.194</td>\n",
       "      <td>701</td>\n",
       "      <td>192.168.3.18</td>\n",
       "      <td>10.0.0.196</td>\n",
       "      <td>14768</td>\n",
       "      <td>77408</td>\n",
       "      <td>62640</td>\n",
       "      <td>2020-08-27 11:51:34</td>\n",
       "      <td>2020-08-27 11:51:34</td>\n",
       "      <td>1598510653</td>\n",
       "      <td>1598511031</td>\n",
       "    </tr>\n",
       "    <tr>\n",
       "      <th>4</th>\n",
       "      <td>82</td>\n",
       "      <td>7380</td>\n",
       "      <td>110.38.129.187</td>\n",
       "      <td>10.1.0.66</td>\n",
       "      <td>830</td>\n",
       "      <td>172.16.1.220</td>\n",
       "      <td>10.1.0.72</td>\n",
       "      <td>94493</td>\n",
       "      <td>116133</td>\n",
       "      <td>21640</td>\n",
       "      <td>2020-08-27 12:13:03</td>\n",
       "      <td>2020-08-27 12:13:03</td>\n",
       "      <td>1598508889</td>\n",
       "      <td>1598510156</td>\n",
       "    </tr>\n",
       "  </tbody>\n",
       "</table>\n",
       "</div>"
      ],
      "text/plain": [
       "   id  agent_id client_physical_ip client_pseudo_ip  service_id  \\\n",
       "0  26      7067      103.255.5.103         10.0.1.2         701   \n",
       "1  32      7096    111.119.178.162       10.0.1.194         701   \n",
       "2  48      7238      39.53.107.112         10.0.0.2         700   \n",
       "3  74      7352     118.107.131.76       10.0.0.194         701   \n",
       "4  82      7380     110.38.129.187        10.1.0.66         830   \n",
       "\n",
       "  service_physical_ip service_pseudo_ip  client_tx_bytes  service_tx_bytes  \\\n",
       "0        192.168.3.18          10.0.1.4            19347             52032   \n",
       "1        192.168.3.18        10.0.1.196            55508            137447   \n",
       "2         192.168.3.1          10.0.0.3            65615            505399   \n",
       "3        192.168.3.18        10.0.0.196            14768             77408   \n",
       "4        172.16.1.220         10.1.0.72            94493            116133   \n",
       "\n",
       "   difference_bytes            createdAt            updatedAt  log_start_time  \\\n",
       "0             32685  2020-08-27 11:51:34  2020-08-27 11:51:34      1598508692   \n",
       "1             81939  2020-08-27 11:51:34  2020-08-27 11:51:34      1598509662   \n",
       "2            439784  2020-08-27 11:51:34  2020-08-27 11:51:34      1598507738   \n",
       "3             62640  2020-08-27 11:51:34  2020-08-27 11:51:34      1598510653   \n",
       "4             21640  2020-08-27 12:13:03  2020-08-27 12:13:03      1598508889   \n",
       "\n",
       "   log_end_time  \n",
       "0    1598509007  \n",
       "1    1598509776  \n",
       "2    1598510917  \n",
       "3    1598511031  \n",
       "4    1598510156  "
      ]
     },
     "execution_count": 4,
     "metadata": {},
     "output_type": "execute_result"
    }
   ],
   "source": [
    "df.head()"
   ]
  },
  {
   "cell_type": "code",
   "execution_count": 5,
   "metadata": {},
   "outputs": [
    {
     "name": "stdout",
     "output_type": "stream",
     "text": [
      "<class 'pandas.core.frame.DataFrame'>\n",
      "RangeIndex: 1602 entries, 0 to 1601\n",
      "Data columns (total 14 columns):\n",
      " #   Column               Non-Null Count  Dtype \n",
      "---  ------               --------------  ----- \n",
      " 0   id                   1602 non-null   int64 \n",
      " 1   agent_id             1602 non-null   int64 \n",
      " 2   client_physical_ip   1602 non-null   object\n",
      " 3   client_pseudo_ip     1602 non-null   object\n",
      " 4   service_id           1602 non-null   int64 \n",
      " 5   service_physical_ip  1602 non-null   object\n",
      " 6   service_pseudo_ip    1602 non-null   object\n",
      " 7   client_tx_bytes      1602 non-null   int64 \n",
      " 8   service_tx_bytes     1602 non-null   int64 \n",
      " 9   difference_bytes     1602 non-null   int64 \n",
      " 10  createdAt            1602 non-null   object\n",
      " 11  updatedAt            1602 non-null   object\n",
      " 12  log_start_time       1602 non-null   int64 \n",
      " 13  log_end_time         1602 non-null   int64 \n",
      "dtypes: int64(8), object(6)\n",
      "memory usage: 175.3+ KB\n"
     ]
    }
   ],
   "source": [
    "df.info()"
   ]
  },
  {
   "cell_type": "code",
   "execution_count": 6,
   "metadata": {},
   "outputs": [
    {
     "data": {
      "text/html": [
       "<div>\n",
       "<style scoped>\n",
       "    .dataframe tbody tr th:only-of-type {\n",
       "        vertical-align: middle;\n",
       "    }\n",
       "\n",
       "    .dataframe tbody tr th {\n",
       "        vertical-align: top;\n",
       "    }\n",
       "\n",
       "    .dataframe thead th {\n",
       "        text-align: right;\n",
       "    }\n",
       "</style>\n",
       "<table border=\"1\" class=\"dataframe\">\n",
       "  <thead>\n",
       "    <tr style=\"text-align: right;\">\n",
       "      <th></th>\n",
       "      <th>id</th>\n",
       "      <th>agent_id</th>\n",
       "      <th>service_id</th>\n",
       "      <th>client_tx_bytes</th>\n",
       "      <th>service_tx_bytes</th>\n",
       "      <th>difference_bytes</th>\n",
       "      <th>log_start_time</th>\n",
       "      <th>log_end_time</th>\n",
       "    </tr>\n",
       "  </thead>\n",
       "  <tbody>\n",
       "    <tr>\n",
       "      <th>count</th>\n",
       "      <td>1602.000000</td>\n",
       "      <td>1602.000000</td>\n",
       "      <td>1602.000000</td>\n",
       "      <td>1.602000e+03</td>\n",
       "      <td>1.602000e+03</td>\n",
       "      <td>1.602000e+03</td>\n",
       "      <td>1.602000e+03</td>\n",
       "      <td>1.602000e+03</td>\n",
       "    </tr>\n",
       "    <tr>\n",
       "      <th>mean</th>\n",
       "      <td>10016.644819</td>\n",
       "      <td>7268.179775</td>\n",
       "      <td>757.602372</td>\n",
       "      <td>6.526405e+05</td>\n",
       "      <td>8.844353e+06</td>\n",
       "      <td>8.719485e+06</td>\n",
       "      <td>1.598888e+09</td>\n",
       "      <td>1.598890e+09</td>\n",
       "    </tr>\n",
       "    <tr>\n",
       "      <th>std</th>\n",
       "      <td>5986.330058</td>\n",
       "      <td>112.044306</td>\n",
       "      <td>52.831020</td>\n",
       "      <td>3.325140e+06</td>\n",
       "      <td>6.245574e+07</td>\n",
       "      <td>6.117173e+07</td>\n",
       "      <td>2.208976e+05</td>\n",
       "      <td>2.209020e+05</td>\n",
       "    </tr>\n",
       "    <tr>\n",
       "      <th>min</th>\n",
       "      <td>26.000000</td>\n",
       "      <td>7008.000000</td>\n",
       "      <td>700.000000</td>\n",
       "      <td>4.000000e+01</td>\n",
       "      <td>4.000000e+01</td>\n",
       "      <td>0.000000e+00</td>\n",
       "      <td>1.598508e+09</td>\n",
       "      <td>1.598509e+09</td>\n",
       "    </tr>\n",
       "    <tr>\n",
       "      <th>25%</th>\n",
       "      <td>4666.500000</td>\n",
       "      <td>7192.000000</td>\n",
       "      <td>701.000000</td>\n",
       "      <td>1.077100e+04</td>\n",
       "      <td>2.489875e+04</td>\n",
       "      <td>1.215375e+04</td>\n",
       "      <td>1.598624e+09</td>\n",
       "      <td>1.598627e+09</td>\n",
       "    </tr>\n",
       "    <tr>\n",
       "      <th>50%</th>\n",
       "      <td>10066.000000</td>\n",
       "      <td>7297.000000</td>\n",
       "      <td>745.000000</td>\n",
       "      <td>3.684600e+04</td>\n",
       "      <td>1.230135e+05</td>\n",
       "      <td>7.220900e+04</td>\n",
       "      <td>1.598938e+09</td>\n",
       "      <td>1.598941e+09</td>\n",
       "    </tr>\n",
       "    <tr>\n",
       "      <th>75%</th>\n",
       "      <td>15474.500000</td>\n",
       "      <td>7367.000000</td>\n",
       "      <td>800.000000</td>\n",
       "      <td>1.718010e+05</td>\n",
       "      <td>7.311465e+05</td>\n",
       "      <td>5.909708e+05</td>\n",
       "      <td>1.599052e+09</td>\n",
       "      <td>1.599054e+09</td>\n",
       "    </tr>\n",
       "    <tr>\n",
       "      <th>max</th>\n",
       "      <td>19984.000000</td>\n",
       "      <td>7401.000000</td>\n",
       "      <td>839.000000</td>\n",
       "      <td>5.285412e+07</td>\n",
       "      <td>1.172291e+09</td>\n",
       "      <td>1.148977e+09</td>\n",
       "      <td>1.599219e+09</td>\n",
       "      <td>1.599220e+09</td>\n",
       "    </tr>\n",
       "  </tbody>\n",
       "</table>\n",
       "</div>"
      ],
      "text/plain": [
       "                 id     agent_id   service_id  client_tx_bytes  \\\n",
       "count   1602.000000  1602.000000  1602.000000     1.602000e+03   \n",
       "mean   10016.644819  7268.179775   757.602372     6.526405e+05   \n",
       "std     5986.330058   112.044306    52.831020     3.325140e+06   \n",
       "min       26.000000  7008.000000   700.000000     4.000000e+01   \n",
       "25%     4666.500000  7192.000000   701.000000     1.077100e+04   \n",
       "50%    10066.000000  7297.000000   745.000000     3.684600e+04   \n",
       "75%    15474.500000  7367.000000   800.000000     1.718010e+05   \n",
       "max    19984.000000  7401.000000   839.000000     5.285412e+07   \n",
       "\n",
       "       service_tx_bytes  difference_bytes  log_start_time  log_end_time  \n",
       "count      1.602000e+03      1.602000e+03    1.602000e+03  1.602000e+03  \n",
       "mean       8.844353e+06      8.719485e+06    1.598888e+09  1.598890e+09  \n",
       "std        6.245574e+07      6.117173e+07    2.208976e+05  2.209020e+05  \n",
       "min        4.000000e+01      0.000000e+00    1.598508e+09  1.598509e+09  \n",
       "25%        2.489875e+04      1.215375e+04    1.598624e+09  1.598627e+09  \n",
       "50%        1.230135e+05      7.220900e+04    1.598938e+09  1.598941e+09  \n",
       "75%        7.311465e+05      5.909708e+05    1.599052e+09  1.599054e+09  \n",
       "max        1.172291e+09      1.148977e+09    1.599219e+09  1.599220e+09  "
      ]
     },
     "execution_count": 6,
     "metadata": {},
     "output_type": "execute_result"
    }
   ],
   "source": [
    "df.describe()"
   ]
  },
  {
   "cell_type": "code",
   "execution_count": 7,
   "metadata": {},
   "outputs": [
    {
     "data": {
      "text/plain": [
       "id                      int64\n",
       "agent_id                int64\n",
       "client_physical_ip     object\n",
       "client_pseudo_ip       object\n",
       "service_id              int64\n",
       "service_physical_ip    object\n",
       "service_pseudo_ip      object\n",
       "client_tx_bytes         int64\n",
       "service_tx_bytes        int64\n",
       "difference_bytes        int64\n",
       "createdAt              object\n",
       "updatedAt              object\n",
       "log_start_time          int64\n",
       "log_end_time            int64\n",
       "dtype: object"
      ]
     },
     "execution_count": 7,
     "metadata": {},
     "output_type": "execute_result"
    }
   ],
   "source": [
    "df.dtypes"
   ]
  },
  {
   "cell_type": "code",
   "execution_count": 8,
   "metadata": {},
   "outputs": [
    {
     "data": {
      "text/html": [
       "<div>\n",
       "<style scoped>\n",
       "    .dataframe tbody tr th:only-of-type {\n",
       "        vertical-align: middle;\n",
       "    }\n",
       "\n",
       "    .dataframe tbody tr th {\n",
       "        vertical-align: top;\n",
       "    }\n",
       "\n",
       "    .dataframe thead th {\n",
       "        text-align: right;\n",
       "    }\n",
       "</style>\n",
       "<table border=\"1\" class=\"dataframe\">\n",
       "  <thead>\n",
       "    <tr style=\"text-align: right;\">\n",
       "      <th></th>\n",
       "      <th>id</th>\n",
       "      <th>client_physical_ip</th>\n",
       "      <th>client_pseudo_ip</th>\n",
       "      <th>service_id</th>\n",
       "      <th>service_physical_ip</th>\n",
       "      <th>service_pseudo_ip</th>\n",
       "      <th>client_tx_bytes</th>\n",
       "      <th>service_tx_bytes</th>\n",
       "      <th>difference_bytes</th>\n",
       "      <th>createdAt</th>\n",
       "      <th>updatedAt</th>\n",
       "      <th>log_start_time</th>\n",
       "      <th>log_end_time</th>\n",
       "    </tr>\n",
       "    <tr>\n",
       "      <th>agent_id</th>\n",
       "      <th></th>\n",
       "      <th></th>\n",
       "      <th></th>\n",
       "      <th></th>\n",
       "      <th></th>\n",
       "      <th></th>\n",
       "      <th></th>\n",
       "      <th></th>\n",
       "      <th></th>\n",
       "      <th></th>\n",
       "      <th></th>\n",
       "      <th></th>\n",
       "      <th></th>\n",
       "    </tr>\n",
       "  </thead>\n",
       "  <tbody>\n",
       "    <tr>\n",
       "      <th>7008</th>\n",
       "      <td>6</td>\n",
       "      <td>6</td>\n",
       "      <td>6</td>\n",
       "      <td>6</td>\n",
       "      <td>6</td>\n",
       "      <td>6</td>\n",
       "      <td>6</td>\n",
       "      <td>6</td>\n",
       "      <td>6</td>\n",
       "      <td>6</td>\n",
       "      <td>6</td>\n",
       "      <td>6</td>\n",
       "      <td>6</td>\n",
       "    </tr>\n",
       "    <tr>\n",
       "      <th>7014</th>\n",
       "      <td>1</td>\n",
       "      <td>1</td>\n",
       "      <td>1</td>\n",
       "      <td>1</td>\n",
       "      <td>1</td>\n",
       "      <td>1</td>\n",
       "      <td>1</td>\n",
       "      <td>1</td>\n",
       "      <td>1</td>\n",
       "      <td>1</td>\n",
       "      <td>1</td>\n",
       "      <td>1</td>\n",
       "      <td>1</td>\n",
       "    </tr>\n",
       "    <tr>\n",
       "      <th>7026</th>\n",
       "      <td>17</td>\n",
       "      <td>17</td>\n",
       "      <td>17</td>\n",
       "      <td>17</td>\n",
       "      <td>17</td>\n",
       "      <td>17</td>\n",
       "      <td>17</td>\n",
       "      <td>17</td>\n",
       "      <td>17</td>\n",
       "      <td>17</td>\n",
       "      <td>17</td>\n",
       "      <td>17</td>\n",
       "      <td>17</td>\n",
       "    </tr>\n",
       "    <tr>\n",
       "      <th>7032</th>\n",
       "      <td>2</td>\n",
       "      <td>2</td>\n",
       "      <td>2</td>\n",
       "      <td>2</td>\n",
       "      <td>2</td>\n",
       "      <td>2</td>\n",
       "      <td>2</td>\n",
       "      <td>2</td>\n",
       "      <td>2</td>\n",
       "      <td>2</td>\n",
       "      <td>2</td>\n",
       "      <td>2</td>\n",
       "      <td>2</td>\n",
       "    </tr>\n",
       "    <tr>\n",
       "      <th>7039</th>\n",
       "      <td>6</td>\n",
       "      <td>6</td>\n",
       "      <td>6</td>\n",
       "      <td>6</td>\n",
       "      <td>6</td>\n",
       "      <td>6</td>\n",
       "      <td>6</td>\n",
       "      <td>6</td>\n",
       "      <td>6</td>\n",
       "      <td>6</td>\n",
       "      <td>6</td>\n",
       "      <td>6</td>\n",
       "      <td>6</td>\n",
       "    </tr>\n",
       "    <tr>\n",
       "      <th>7048</th>\n",
       "      <td>107</td>\n",
       "      <td>107</td>\n",
       "      <td>107</td>\n",
       "      <td>107</td>\n",
       "      <td>107</td>\n",
       "      <td>107</td>\n",
       "      <td>107</td>\n",
       "      <td>107</td>\n",
       "      <td>107</td>\n",
       "      <td>107</td>\n",
       "      <td>107</td>\n",
       "      <td>107</td>\n",
       "      <td>107</td>\n",
       "    </tr>\n",
       "    <tr>\n",
       "      <th>7067</th>\n",
       "      <td>22</td>\n",
       "      <td>22</td>\n",
       "      <td>22</td>\n",
       "      <td>22</td>\n",
       "      <td>22</td>\n",
       "      <td>22</td>\n",
       "      <td>22</td>\n",
       "      <td>22</td>\n",
       "      <td>22</td>\n",
       "      <td>22</td>\n",
       "      <td>22</td>\n",
       "      <td>22</td>\n",
       "      <td>22</td>\n",
       "    </tr>\n",
       "    <tr>\n",
       "      <th>7072</th>\n",
       "      <td>3</td>\n",
       "      <td>3</td>\n",
       "      <td>3</td>\n",
       "      <td>3</td>\n",
       "      <td>3</td>\n",
       "      <td>3</td>\n",
       "      <td>3</td>\n",
       "      <td>3</td>\n",
       "      <td>3</td>\n",
       "      <td>3</td>\n",
       "      <td>3</td>\n",
       "      <td>3</td>\n",
       "      <td>3</td>\n",
       "    </tr>\n",
       "    <tr>\n",
       "      <th>7079</th>\n",
       "      <td>2</td>\n",
       "      <td>2</td>\n",
       "      <td>2</td>\n",
       "      <td>2</td>\n",
       "      <td>2</td>\n",
       "      <td>2</td>\n",
       "      <td>2</td>\n",
       "      <td>2</td>\n",
       "      <td>2</td>\n",
       "      <td>2</td>\n",
       "      <td>2</td>\n",
       "      <td>2</td>\n",
       "      <td>2</td>\n",
       "    </tr>\n",
       "    <tr>\n",
       "      <th>7085</th>\n",
       "      <td>14</td>\n",
       "      <td>14</td>\n",
       "      <td>14</td>\n",
       "      <td>14</td>\n",
       "      <td>14</td>\n",
       "      <td>14</td>\n",
       "      <td>14</td>\n",
       "      <td>14</td>\n",
       "      <td>14</td>\n",
       "      <td>14</td>\n",
       "      <td>14</td>\n",
       "      <td>14</td>\n",
       "      <td>14</td>\n",
       "    </tr>\n",
       "    <tr>\n",
       "      <th>7096</th>\n",
       "      <td>18</td>\n",
       "      <td>18</td>\n",
       "      <td>18</td>\n",
       "      <td>18</td>\n",
       "      <td>18</td>\n",
       "      <td>18</td>\n",
       "      <td>18</td>\n",
       "      <td>18</td>\n",
       "      <td>18</td>\n",
       "      <td>18</td>\n",
       "      <td>18</td>\n",
       "      <td>18</td>\n",
       "      <td>18</td>\n",
       "    </tr>\n",
       "    <tr>\n",
       "      <th>7097</th>\n",
       "      <td>24</td>\n",
       "      <td>24</td>\n",
       "      <td>24</td>\n",
       "      <td>24</td>\n",
       "      <td>24</td>\n",
       "      <td>24</td>\n",
       "      <td>24</td>\n",
       "      <td>24</td>\n",
       "      <td>24</td>\n",
       "      <td>24</td>\n",
       "      <td>24</td>\n",
       "      <td>24</td>\n",
       "      <td>24</td>\n",
       "    </tr>\n",
       "    <tr>\n",
       "      <th>7098</th>\n",
       "      <td>10</td>\n",
       "      <td>10</td>\n",
       "      <td>10</td>\n",
       "      <td>10</td>\n",
       "      <td>10</td>\n",
       "      <td>10</td>\n",
       "      <td>10</td>\n",
       "      <td>10</td>\n",
       "      <td>10</td>\n",
       "      <td>10</td>\n",
       "      <td>10</td>\n",
       "      <td>10</td>\n",
       "      <td>10</td>\n",
       "    </tr>\n",
       "    <tr>\n",
       "      <th>7099</th>\n",
       "      <td>14</td>\n",
       "      <td>14</td>\n",
       "      <td>14</td>\n",
       "      <td>14</td>\n",
       "      <td>14</td>\n",
       "      <td>14</td>\n",
       "      <td>14</td>\n",
       "      <td>14</td>\n",
       "      <td>14</td>\n",
       "      <td>14</td>\n",
       "      <td>14</td>\n",
       "      <td>14</td>\n",
       "      <td>14</td>\n",
       "    </tr>\n",
       "    <tr>\n",
       "      <th>7102</th>\n",
       "      <td>2</td>\n",
       "      <td>2</td>\n",
       "      <td>2</td>\n",
       "      <td>2</td>\n",
       "      <td>2</td>\n",
       "      <td>2</td>\n",
       "      <td>2</td>\n",
       "      <td>2</td>\n",
       "      <td>2</td>\n",
       "      <td>2</td>\n",
       "      <td>2</td>\n",
       "      <td>2</td>\n",
       "      <td>2</td>\n",
       "    </tr>\n",
       "    <tr>\n",
       "      <th>7105</th>\n",
       "      <td>1</td>\n",
       "      <td>1</td>\n",
       "      <td>1</td>\n",
       "      <td>1</td>\n",
       "      <td>1</td>\n",
       "      <td>1</td>\n",
       "      <td>1</td>\n",
       "      <td>1</td>\n",
       "      <td>1</td>\n",
       "      <td>1</td>\n",
       "      <td>1</td>\n",
       "      <td>1</td>\n",
       "      <td>1</td>\n",
       "    </tr>\n",
       "    <tr>\n",
       "      <th>7106</th>\n",
       "      <td>1</td>\n",
       "      <td>1</td>\n",
       "      <td>1</td>\n",
       "      <td>1</td>\n",
       "      <td>1</td>\n",
       "      <td>1</td>\n",
       "      <td>1</td>\n",
       "      <td>1</td>\n",
       "      <td>1</td>\n",
       "      <td>1</td>\n",
       "      <td>1</td>\n",
       "      <td>1</td>\n",
       "      <td>1</td>\n",
       "    </tr>\n",
       "    <tr>\n",
       "      <th>7109</th>\n",
       "      <td>24</td>\n",
       "      <td>24</td>\n",
       "      <td>24</td>\n",
       "      <td>24</td>\n",
       "      <td>24</td>\n",
       "      <td>24</td>\n",
       "      <td>24</td>\n",
       "      <td>24</td>\n",
       "      <td>24</td>\n",
       "      <td>24</td>\n",
       "      <td>24</td>\n",
       "      <td>24</td>\n",
       "      <td>24</td>\n",
       "    </tr>\n",
       "    <tr>\n",
       "      <th>7115</th>\n",
       "      <td>13</td>\n",
       "      <td>13</td>\n",
       "      <td>13</td>\n",
       "      <td>13</td>\n",
       "      <td>13</td>\n",
       "      <td>13</td>\n",
       "      <td>13</td>\n",
       "      <td>13</td>\n",
       "      <td>13</td>\n",
       "      <td>13</td>\n",
       "      <td>13</td>\n",
       "      <td>13</td>\n",
       "      <td>13</td>\n",
       "    </tr>\n",
       "    <tr>\n",
       "      <th>7136</th>\n",
       "      <td>3</td>\n",
       "      <td>3</td>\n",
       "      <td>3</td>\n",
       "      <td>3</td>\n",
       "      <td>3</td>\n",
       "      <td>3</td>\n",
       "      <td>3</td>\n",
       "      <td>3</td>\n",
       "      <td>3</td>\n",
       "      <td>3</td>\n",
       "      <td>3</td>\n",
       "      <td>3</td>\n",
       "      <td>3</td>\n",
       "    </tr>\n",
       "    <tr>\n",
       "      <th>7140</th>\n",
       "      <td>4</td>\n",
       "      <td>4</td>\n",
       "      <td>4</td>\n",
       "      <td>4</td>\n",
       "      <td>4</td>\n",
       "      <td>4</td>\n",
       "      <td>4</td>\n",
       "      <td>4</td>\n",
       "      <td>4</td>\n",
       "      <td>4</td>\n",
       "      <td>4</td>\n",
       "      <td>4</td>\n",
       "      <td>4</td>\n",
       "    </tr>\n",
       "    <tr>\n",
       "      <th>7164</th>\n",
       "      <td>14</td>\n",
       "      <td>14</td>\n",
       "      <td>14</td>\n",
       "      <td>14</td>\n",
       "      <td>14</td>\n",
       "      <td>14</td>\n",
       "      <td>14</td>\n",
       "      <td>14</td>\n",
       "      <td>14</td>\n",
       "      <td>14</td>\n",
       "      <td>14</td>\n",
       "      <td>14</td>\n",
       "      <td>14</td>\n",
       "    </tr>\n",
       "    <tr>\n",
       "      <th>7169</th>\n",
       "      <td>2</td>\n",
       "      <td>2</td>\n",
       "      <td>2</td>\n",
       "      <td>2</td>\n",
       "      <td>2</td>\n",
       "      <td>2</td>\n",
       "      <td>2</td>\n",
       "      <td>2</td>\n",
       "      <td>2</td>\n",
       "      <td>2</td>\n",
       "      <td>2</td>\n",
       "      <td>2</td>\n",
       "      <td>2</td>\n",
       "    </tr>\n",
       "    <tr>\n",
       "      <th>7176</th>\n",
       "      <td>8</td>\n",
       "      <td>8</td>\n",
       "      <td>8</td>\n",
       "      <td>8</td>\n",
       "      <td>8</td>\n",
       "      <td>8</td>\n",
       "      <td>8</td>\n",
       "      <td>8</td>\n",
       "      <td>8</td>\n",
       "      <td>8</td>\n",
       "      <td>8</td>\n",
       "      <td>8</td>\n",
       "      <td>8</td>\n",
       "    </tr>\n",
       "    <tr>\n",
       "      <th>7177</th>\n",
       "      <td>14</td>\n",
       "      <td>14</td>\n",
       "      <td>14</td>\n",
       "      <td>14</td>\n",
       "      <td>14</td>\n",
       "      <td>14</td>\n",
       "      <td>14</td>\n",
       "      <td>14</td>\n",
       "      <td>14</td>\n",
       "      <td>14</td>\n",
       "      <td>14</td>\n",
       "      <td>14</td>\n",
       "      <td>14</td>\n",
       "    </tr>\n",
       "    <tr>\n",
       "      <th>7183</th>\n",
       "      <td>18</td>\n",
       "      <td>18</td>\n",
       "      <td>18</td>\n",
       "      <td>18</td>\n",
       "      <td>18</td>\n",
       "      <td>18</td>\n",
       "      <td>18</td>\n",
       "      <td>18</td>\n",
       "      <td>18</td>\n",
       "      <td>18</td>\n",
       "      <td>18</td>\n",
       "      <td>18</td>\n",
       "      <td>18</td>\n",
       "    </tr>\n",
       "    <tr>\n",
       "      <th>7188</th>\n",
       "      <td>33</td>\n",
       "      <td>33</td>\n",
       "      <td>33</td>\n",
       "      <td>33</td>\n",
       "      <td>33</td>\n",
       "      <td>33</td>\n",
       "      <td>33</td>\n",
       "      <td>33</td>\n",
       "      <td>33</td>\n",
       "      <td>33</td>\n",
       "      <td>33</td>\n",
       "      <td>33</td>\n",
       "      <td>33</td>\n",
       "    </tr>\n",
       "    <tr>\n",
       "      <th>7191</th>\n",
       "      <td>11</td>\n",
       "      <td>11</td>\n",
       "      <td>11</td>\n",
       "      <td>11</td>\n",
       "      <td>11</td>\n",
       "      <td>11</td>\n",
       "      <td>11</td>\n",
       "      <td>11</td>\n",
       "      <td>11</td>\n",
       "      <td>11</td>\n",
       "      <td>11</td>\n",
       "      <td>11</td>\n",
       "      <td>11</td>\n",
       "    </tr>\n",
       "    <tr>\n",
       "      <th>7192</th>\n",
       "      <td>9</td>\n",
       "      <td>9</td>\n",
       "      <td>9</td>\n",
       "      <td>9</td>\n",
       "      <td>9</td>\n",
       "      <td>9</td>\n",
       "      <td>9</td>\n",
       "      <td>9</td>\n",
       "      <td>9</td>\n",
       "      <td>9</td>\n",
       "      <td>9</td>\n",
       "      <td>9</td>\n",
       "      <td>9</td>\n",
       "    </tr>\n",
       "    <tr>\n",
       "      <th>7195</th>\n",
       "      <td>3</td>\n",
       "      <td>3</td>\n",
       "      <td>3</td>\n",
       "      <td>3</td>\n",
       "      <td>3</td>\n",
       "      <td>3</td>\n",
       "      <td>3</td>\n",
       "      <td>3</td>\n",
       "      <td>3</td>\n",
       "      <td>3</td>\n",
       "      <td>3</td>\n",
       "      <td>3</td>\n",
       "      <td>3</td>\n",
       "    </tr>\n",
       "    <tr>\n",
       "      <th>7213</th>\n",
       "      <td>18</td>\n",
       "      <td>18</td>\n",
       "      <td>18</td>\n",
       "      <td>18</td>\n",
       "      <td>18</td>\n",
       "      <td>18</td>\n",
       "      <td>18</td>\n",
       "      <td>18</td>\n",
       "      <td>18</td>\n",
       "      <td>18</td>\n",
       "      <td>18</td>\n",
       "      <td>18</td>\n",
       "      <td>18</td>\n",
       "    </tr>\n",
       "    <tr>\n",
       "      <th>7217</th>\n",
       "      <td>4</td>\n",
       "      <td>4</td>\n",
       "      <td>4</td>\n",
       "      <td>4</td>\n",
       "      <td>4</td>\n",
       "      <td>4</td>\n",
       "      <td>4</td>\n",
       "      <td>4</td>\n",
       "      <td>4</td>\n",
       "      <td>4</td>\n",
       "      <td>4</td>\n",
       "      <td>4</td>\n",
       "      <td>4</td>\n",
       "    </tr>\n",
       "    <tr>\n",
       "      <th>7238</th>\n",
       "      <td>196</td>\n",
       "      <td>196</td>\n",
       "      <td>196</td>\n",
       "      <td>196</td>\n",
       "      <td>196</td>\n",
       "      <td>196</td>\n",
       "      <td>196</td>\n",
       "      <td>196</td>\n",
       "      <td>196</td>\n",
       "      <td>196</td>\n",
       "      <td>196</td>\n",
       "      <td>196</td>\n",
       "      <td>196</td>\n",
       "    </tr>\n",
       "    <tr>\n",
       "      <th>7239</th>\n",
       "      <td>3</td>\n",
       "      <td>3</td>\n",
       "      <td>3</td>\n",
       "      <td>3</td>\n",
       "      <td>3</td>\n",
       "      <td>3</td>\n",
       "      <td>3</td>\n",
       "      <td>3</td>\n",
       "      <td>3</td>\n",
       "      <td>3</td>\n",
       "      <td>3</td>\n",
       "      <td>3</td>\n",
       "      <td>3</td>\n",
       "    </tr>\n",
       "    <tr>\n",
       "      <th>7247</th>\n",
       "      <td>1</td>\n",
       "      <td>1</td>\n",
       "      <td>1</td>\n",
       "      <td>1</td>\n",
       "      <td>1</td>\n",
       "      <td>1</td>\n",
       "      <td>1</td>\n",
       "      <td>1</td>\n",
       "      <td>1</td>\n",
       "      <td>1</td>\n",
       "      <td>1</td>\n",
       "      <td>1</td>\n",
       "      <td>1</td>\n",
       "    </tr>\n",
       "    <tr>\n",
       "      <th>7252</th>\n",
       "      <td>24</td>\n",
       "      <td>24</td>\n",
       "      <td>24</td>\n",
       "      <td>24</td>\n",
       "      <td>24</td>\n",
       "      <td>24</td>\n",
       "      <td>24</td>\n",
       "      <td>24</td>\n",
       "      <td>24</td>\n",
       "      <td>24</td>\n",
       "      <td>24</td>\n",
       "      <td>24</td>\n",
       "      <td>24</td>\n",
       "    </tr>\n",
       "    <tr>\n",
       "      <th>7257</th>\n",
       "      <td>3</td>\n",
       "      <td>3</td>\n",
       "      <td>3</td>\n",
       "      <td>3</td>\n",
       "      <td>3</td>\n",
       "      <td>3</td>\n",
       "      <td>3</td>\n",
       "      <td>3</td>\n",
       "      <td>3</td>\n",
       "      <td>3</td>\n",
       "      <td>3</td>\n",
       "      <td>3</td>\n",
       "      <td>3</td>\n",
       "    </tr>\n",
       "    <tr>\n",
       "      <th>7272</th>\n",
       "      <td>1</td>\n",
       "      <td>1</td>\n",
       "      <td>1</td>\n",
       "      <td>1</td>\n",
       "      <td>1</td>\n",
       "      <td>1</td>\n",
       "      <td>1</td>\n",
       "      <td>1</td>\n",
       "      <td>1</td>\n",
       "      <td>1</td>\n",
       "      <td>1</td>\n",
       "      <td>1</td>\n",
       "      <td>1</td>\n",
       "    </tr>\n",
       "    <tr>\n",
       "      <th>7274</th>\n",
       "      <td>16</td>\n",
       "      <td>16</td>\n",
       "      <td>16</td>\n",
       "      <td>16</td>\n",
       "      <td>16</td>\n",
       "      <td>16</td>\n",
       "      <td>16</td>\n",
       "      <td>16</td>\n",
       "      <td>16</td>\n",
       "      <td>16</td>\n",
       "      <td>16</td>\n",
       "      <td>16</td>\n",
       "      <td>16</td>\n",
       "    </tr>\n",
       "    <tr>\n",
       "      <th>7297</th>\n",
       "      <td>215</td>\n",
       "      <td>215</td>\n",
       "      <td>215</td>\n",
       "      <td>215</td>\n",
       "      <td>215</td>\n",
       "      <td>215</td>\n",
       "      <td>215</td>\n",
       "      <td>215</td>\n",
       "      <td>215</td>\n",
       "      <td>215</td>\n",
       "      <td>215</td>\n",
       "      <td>215</td>\n",
       "      <td>215</td>\n",
       "    </tr>\n",
       "    <tr>\n",
       "      <th>7299</th>\n",
       "      <td>2</td>\n",
       "      <td>2</td>\n",
       "      <td>2</td>\n",
       "      <td>2</td>\n",
       "      <td>2</td>\n",
       "      <td>2</td>\n",
       "      <td>2</td>\n",
       "      <td>2</td>\n",
       "      <td>2</td>\n",
       "      <td>2</td>\n",
       "      <td>2</td>\n",
       "      <td>2</td>\n",
       "      <td>2</td>\n",
       "    </tr>\n",
       "    <tr>\n",
       "      <th>7304</th>\n",
       "      <td>2</td>\n",
       "      <td>2</td>\n",
       "      <td>2</td>\n",
       "      <td>2</td>\n",
       "      <td>2</td>\n",
       "      <td>2</td>\n",
       "      <td>2</td>\n",
       "      <td>2</td>\n",
       "      <td>2</td>\n",
       "      <td>2</td>\n",
       "      <td>2</td>\n",
       "      <td>2</td>\n",
       "      <td>2</td>\n",
       "    </tr>\n",
       "    <tr>\n",
       "      <th>7306</th>\n",
       "      <td>42</td>\n",
       "      <td>42</td>\n",
       "      <td>42</td>\n",
       "      <td>42</td>\n",
       "      <td>42</td>\n",
       "      <td>42</td>\n",
       "      <td>42</td>\n",
       "      <td>42</td>\n",
       "      <td>42</td>\n",
       "      <td>42</td>\n",
       "      <td>42</td>\n",
       "      <td>42</td>\n",
       "      <td>42</td>\n",
       "    </tr>\n",
       "    <tr>\n",
       "      <th>7307</th>\n",
       "      <td>1</td>\n",
       "      <td>1</td>\n",
       "      <td>1</td>\n",
       "      <td>1</td>\n",
       "      <td>1</td>\n",
       "      <td>1</td>\n",
       "      <td>1</td>\n",
       "      <td>1</td>\n",
       "      <td>1</td>\n",
       "      <td>1</td>\n",
       "      <td>1</td>\n",
       "      <td>1</td>\n",
       "      <td>1</td>\n",
       "    </tr>\n",
       "    <tr>\n",
       "      <th>7310</th>\n",
       "      <td>1</td>\n",
       "      <td>1</td>\n",
       "      <td>1</td>\n",
       "      <td>1</td>\n",
       "      <td>1</td>\n",
       "      <td>1</td>\n",
       "      <td>1</td>\n",
       "      <td>1</td>\n",
       "      <td>1</td>\n",
       "      <td>1</td>\n",
       "      <td>1</td>\n",
       "      <td>1</td>\n",
       "      <td>1</td>\n",
       "    </tr>\n",
       "    <tr>\n",
       "      <th>7313</th>\n",
       "      <td>2</td>\n",
       "      <td>2</td>\n",
       "      <td>2</td>\n",
       "      <td>2</td>\n",
       "      <td>2</td>\n",
       "      <td>2</td>\n",
       "      <td>2</td>\n",
       "      <td>2</td>\n",
       "      <td>2</td>\n",
       "      <td>2</td>\n",
       "      <td>2</td>\n",
       "      <td>2</td>\n",
       "      <td>2</td>\n",
       "    </tr>\n",
       "    <tr>\n",
       "      <th>7314</th>\n",
       "      <td>16</td>\n",
       "      <td>16</td>\n",
       "      <td>16</td>\n",
       "      <td>16</td>\n",
       "      <td>16</td>\n",
       "      <td>16</td>\n",
       "      <td>16</td>\n",
       "      <td>16</td>\n",
       "      <td>16</td>\n",
       "      <td>16</td>\n",
       "      <td>16</td>\n",
       "      <td>16</td>\n",
       "      <td>16</td>\n",
       "    </tr>\n",
       "    <tr>\n",
       "      <th>7316</th>\n",
       "      <td>44</td>\n",
       "      <td>44</td>\n",
       "      <td>44</td>\n",
       "      <td>44</td>\n",
       "      <td>44</td>\n",
       "      <td>44</td>\n",
       "      <td>44</td>\n",
       "      <td>44</td>\n",
       "      <td>44</td>\n",
       "      <td>44</td>\n",
       "      <td>44</td>\n",
       "      <td>44</td>\n",
       "      <td>44</td>\n",
       "    </tr>\n",
       "    <tr>\n",
       "      <th>7339</th>\n",
       "      <td>2</td>\n",
       "      <td>2</td>\n",
       "      <td>2</td>\n",
       "      <td>2</td>\n",
       "      <td>2</td>\n",
       "      <td>2</td>\n",
       "      <td>2</td>\n",
       "      <td>2</td>\n",
       "      <td>2</td>\n",
       "      <td>2</td>\n",
       "      <td>2</td>\n",
       "      <td>2</td>\n",
       "      <td>2</td>\n",
       "    </tr>\n",
       "    <tr>\n",
       "      <th>7341</th>\n",
       "      <td>31</td>\n",
       "      <td>31</td>\n",
       "      <td>31</td>\n",
       "      <td>31</td>\n",
       "      <td>31</td>\n",
       "      <td>31</td>\n",
       "      <td>31</td>\n",
       "      <td>31</td>\n",
       "      <td>31</td>\n",
       "      <td>31</td>\n",
       "      <td>31</td>\n",
       "      <td>31</td>\n",
       "      <td>31</td>\n",
       "    </tr>\n",
       "    <tr>\n",
       "      <th>7343</th>\n",
       "      <td>13</td>\n",
       "      <td>13</td>\n",
       "      <td>13</td>\n",
       "      <td>13</td>\n",
       "      <td>13</td>\n",
       "      <td>13</td>\n",
       "      <td>13</td>\n",
       "      <td>13</td>\n",
       "      <td>13</td>\n",
       "      <td>13</td>\n",
       "      <td>13</td>\n",
       "      <td>13</td>\n",
       "      <td>13</td>\n",
       "    </tr>\n",
       "    <tr>\n",
       "      <th>7352</th>\n",
       "      <td>1</td>\n",
       "      <td>1</td>\n",
       "      <td>1</td>\n",
       "      <td>1</td>\n",
       "      <td>1</td>\n",
       "      <td>1</td>\n",
       "      <td>1</td>\n",
       "      <td>1</td>\n",
       "      <td>1</td>\n",
       "      <td>1</td>\n",
       "      <td>1</td>\n",
       "      <td>1</td>\n",
       "      <td>1</td>\n",
       "    </tr>\n",
       "    <tr>\n",
       "      <th>7354</th>\n",
       "      <td>20</td>\n",
       "      <td>20</td>\n",
       "      <td>20</td>\n",
       "      <td>20</td>\n",
       "      <td>20</td>\n",
       "      <td>20</td>\n",
       "      <td>20</td>\n",
       "      <td>20</td>\n",
       "      <td>20</td>\n",
       "      <td>20</td>\n",
       "      <td>20</td>\n",
       "      <td>20</td>\n",
       "      <td>20</td>\n",
       "    </tr>\n",
       "    <tr>\n",
       "      <th>7357</th>\n",
       "      <td>21</td>\n",
       "      <td>21</td>\n",
       "      <td>21</td>\n",
       "      <td>21</td>\n",
       "      <td>21</td>\n",
       "      <td>21</td>\n",
       "      <td>21</td>\n",
       "      <td>21</td>\n",
       "      <td>21</td>\n",
       "      <td>21</td>\n",
       "      <td>21</td>\n",
       "      <td>21</td>\n",
       "      <td>21</td>\n",
       "    </tr>\n",
       "    <tr>\n",
       "      <th>7358</th>\n",
       "      <td>2</td>\n",
       "      <td>2</td>\n",
       "      <td>2</td>\n",
       "      <td>2</td>\n",
       "      <td>2</td>\n",
       "      <td>2</td>\n",
       "      <td>2</td>\n",
       "      <td>2</td>\n",
       "      <td>2</td>\n",
       "      <td>2</td>\n",
       "      <td>2</td>\n",
       "      <td>2</td>\n",
       "      <td>2</td>\n",
       "    </tr>\n",
       "    <tr>\n",
       "      <th>7362</th>\n",
       "      <td>1</td>\n",
       "      <td>1</td>\n",
       "      <td>1</td>\n",
       "      <td>1</td>\n",
       "      <td>1</td>\n",
       "      <td>1</td>\n",
       "      <td>1</td>\n",
       "      <td>1</td>\n",
       "      <td>1</td>\n",
       "      <td>1</td>\n",
       "      <td>1</td>\n",
       "      <td>1</td>\n",
       "      <td>1</td>\n",
       "    </tr>\n",
       "    <tr>\n",
       "      <th>7367</th>\n",
       "      <td>132</td>\n",
       "      <td>132</td>\n",
       "      <td>132</td>\n",
       "      <td>132</td>\n",
       "      <td>132</td>\n",
       "      <td>132</td>\n",
       "      <td>132</td>\n",
       "      <td>132</td>\n",
       "      <td>132</td>\n",
       "      <td>132</td>\n",
       "      <td>132</td>\n",
       "      <td>132</td>\n",
       "      <td>132</td>\n",
       "    </tr>\n",
       "    <tr>\n",
       "      <th>7370</th>\n",
       "      <td>12</td>\n",
       "      <td>12</td>\n",
       "      <td>12</td>\n",
       "      <td>12</td>\n",
       "      <td>12</td>\n",
       "      <td>12</td>\n",
       "      <td>12</td>\n",
       "      <td>12</td>\n",
       "      <td>12</td>\n",
       "      <td>12</td>\n",
       "      <td>12</td>\n",
       "      <td>12</td>\n",
       "      <td>12</td>\n",
       "    </tr>\n",
       "    <tr>\n",
       "      <th>7371</th>\n",
       "      <td>37</td>\n",
       "      <td>37</td>\n",
       "      <td>37</td>\n",
       "      <td>37</td>\n",
       "      <td>37</td>\n",
       "      <td>37</td>\n",
       "      <td>37</td>\n",
       "      <td>37</td>\n",
       "      <td>37</td>\n",
       "      <td>37</td>\n",
       "      <td>37</td>\n",
       "      <td>37</td>\n",
       "      <td>37</td>\n",
       "    </tr>\n",
       "    <tr>\n",
       "      <th>7373</th>\n",
       "      <td>12</td>\n",
       "      <td>12</td>\n",
       "      <td>12</td>\n",
       "      <td>12</td>\n",
       "      <td>12</td>\n",
       "      <td>12</td>\n",
       "      <td>12</td>\n",
       "      <td>12</td>\n",
       "      <td>12</td>\n",
       "      <td>12</td>\n",
       "      <td>12</td>\n",
       "      <td>12</td>\n",
       "      <td>12</td>\n",
       "    </tr>\n",
       "    <tr>\n",
       "      <th>7375</th>\n",
       "      <td>3</td>\n",
       "      <td>3</td>\n",
       "      <td>3</td>\n",
       "      <td>3</td>\n",
       "      <td>3</td>\n",
       "      <td>3</td>\n",
       "      <td>3</td>\n",
       "      <td>3</td>\n",
       "      <td>3</td>\n",
       "      <td>3</td>\n",
       "      <td>3</td>\n",
       "      <td>3</td>\n",
       "      <td>3</td>\n",
       "    </tr>\n",
       "    <tr>\n",
       "      <th>7380</th>\n",
       "      <td>163</td>\n",
       "      <td>163</td>\n",
       "      <td>163</td>\n",
       "      <td>163</td>\n",
       "      <td>163</td>\n",
       "      <td>163</td>\n",
       "      <td>163</td>\n",
       "      <td>163</td>\n",
       "      <td>163</td>\n",
       "      <td>163</td>\n",
       "      <td>163</td>\n",
       "      <td>163</td>\n",
       "      <td>163</td>\n",
       "    </tr>\n",
       "    <tr>\n",
       "      <th>7384</th>\n",
       "      <td>44</td>\n",
       "      <td>44</td>\n",
       "      <td>44</td>\n",
       "      <td>44</td>\n",
       "      <td>44</td>\n",
       "      <td>44</td>\n",
       "      <td>44</td>\n",
       "      <td>44</td>\n",
       "      <td>44</td>\n",
       "      <td>44</td>\n",
       "      <td>44</td>\n",
       "      <td>44</td>\n",
       "      <td>44</td>\n",
       "    </tr>\n",
       "    <tr>\n",
       "      <th>7385</th>\n",
       "      <td>3</td>\n",
       "      <td>3</td>\n",
       "      <td>3</td>\n",
       "      <td>3</td>\n",
       "      <td>3</td>\n",
       "      <td>3</td>\n",
       "      <td>3</td>\n",
       "      <td>3</td>\n",
       "      <td>3</td>\n",
       "      <td>3</td>\n",
       "      <td>3</td>\n",
       "      <td>3</td>\n",
       "      <td>3</td>\n",
       "    </tr>\n",
       "    <tr>\n",
       "      <th>7391</th>\n",
       "      <td>13</td>\n",
       "      <td>13</td>\n",
       "      <td>13</td>\n",
       "      <td>13</td>\n",
       "      <td>13</td>\n",
       "      <td>13</td>\n",
       "      <td>13</td>\n",
       "      <td>13</td>\n",
       "      <td>13</td>\n",
       "      <td>13</td>\n",
       "      <td>13</td>\n",
       "      <td>13</td>\n",
       "      <td>13</td>\n",
       "    </tr>\n",
       "    <tr>\n",
       "      <th>7392</th>\n",
       "      <td>66</td>\n",
       "      <td>66</td>\n",
       "      <td>66</td>\n",
       "      <td>66</td>\n",
       "      <td>66</td>\n",
       "      <td>66</td>\n",
       "      <td>66</td>\n",
       "      <td>66</td>\n",
       "      <td>66</td>\n",
       "      <td>66</td>\n",
       "      <td>66</td>\n",
       "      <td>66</td>\n",
       "      <td>66</td>\n",
       "    </tr>\n",
       "    <tr>\n",
       "      <th>7398</th>\n",
       "      <td>25</td>\n",
       "      <td>25</td>\n",
       "      <td>25</td>\n",
       "      <td>25</td>\n",
       "      <td>25</td>\n",
       "      <td>25</td>\n",
       "      <td>25</td>\n",
       "      <td>25</td>\n",
       "      <td>25</td>\n",
       "      <td>25</td>\n",
       "      <td>25</td>\n",
       "      <td>25</td>\n",
       "      <td>25</td>\n",
       "    </tr>\n",
       "    <tr>\n",
       "      <th>7401</th>\n",
       "      <td>4</td>\n",
       "      <td>4</td>\n",
       "      <td>4</td>\n",
       "      <td>4</td>\n",
       "      <td>4</td>\n",
       "      <td>4</td>\n",
       "      <td>4</td>\n",
       "      <td>4</td>\n",
       "      <td>4</td>\n",
       "      <td>4</td>\n",
       "      <td>4</td>\n",
       "      <td>4</td>\n",
       "      <td>4</td>\n",
       "    </tr>\n",
       "  </tbody>\n",
       "</table>\n",
       "</div>"
      ],
      "text/plain": [
       "           id  client_physical_ip  client_pseudo_ip  service_id  \\\n",
       "agent_id                                                          \n",
       "7008        6                   6                 6           6   \n",
       "7014        1                   1                 1           1   \n",
       "7026       17                  17                17          17   \n",
       "7032        2                   2                 2           2   \n",
       "7039        6                   6                 6           6   \n",
       "7048      107                 107               107         107   \n",
       "7067       22                  22                22          22   \n",
       "7072        3                   3                 3           3   \n",
       "7079        2                   2                 2           2   \n",
       "7085       14                  14                14          14   \n",
       "7096       18                  18                18          18   \n",
       "7097       24                  24                24          24   \n",
       "7098       10                  10                10          10   \n",
       "7099       14                  14                14          14   \n",
       "7102        2                   2                 2           2   \n",
       "7105        1                   1                 1           1   \n",
       "7106        1                   1                 1           1   \n",
       "7109       24                  24                24          24   \n",
       "7115       13                  13                13          13   \n",
       "7136        3                   3                 3           3   \n",
       "7140        4                   4                 4           4   \n",
       "7164       14                  14                14          14   \n",
       "7169        2                   2                 2           2   \n",
       "7176        8                   8                 8           8   \n",
       "7177       14                  14                14          14   \n",
       "7183       18                  18                18          18   \n",
       "7188       33                  33                33          33   \n",
       "7191       11                  11                11          11   \n",
       "7192        9                   9                 9           9   \n",
       "7195        3                   3                 3           3   \n",
       "7213       18                  18                18          18   \n",
       "7217        4                   4                 4           4   \n",
       "7238      196                 196               196         196   \n",
       "7239        3                   3                 3           3   \n",
       "7247        1                   1                 1           1   \n",
       "7252       24                  24                24          24   \n",
       "7257        3                   3                 3           3   \n",
       "7272        1                   1                 1           1   \n",
       "7274       16                  16                16          16   \n",
       "7297      215                 215               215         215   \n",
       "7299        2                   2                 2           2   \n",
       "7304        2                   2                 2           2   \n",
       "7306       42                  42                42          42   \n",
       "7307        1                   1                 1           1   \n",
       "7310        1                   1                 1           1   \n",
       "7313        2                   2                 2           2   \n",
       "7314       16                  16                16          16   \n",
       "7316       44                  44                44          44   \n",
       "7339        2                   2                 2           2   \n",
       "7341       31                  31                31          31   \n",
       "7343       13                  13                13          13   \n",
       "7352        1                   1                 1           1   \n",
       "7354       20                  20                20          20   \n",
       "7357       21                  21                21          21   \n",
       "7358        2                   2                 2           2   \n",
       "7362        1                   1                 1           1   \n",
       "7367      132                 132               132         132   \n",
       "7370       12                  12                12          12   \n",
       "7371       37                  37                37          37   \n",
       "7373       12                  12                12          12   \n",
       "7375        3                   3                 3           3   \n",
       "7380      163                 163               163         163   \n",
       "7384       44                  44                44          44   \n",
       "7385        3                   3                 3           3   \n",
       "7391       13                  13                13          13   \n",
       "7392       66                  66                66          66   \n",
       "7398       25                  25                25          25   \n",
       "7401        4                   4                 4           4   \n",
       "\n",
       "          service_physical_ip  service_pseudo_ip  client_tx_bytes  \\\n",
       "agent_id                                                            \n",
       "7008                        6                  6                6   \n",
       "7014                        1                  1                1   \n",
       "7026                       17                 17               17   \n",
       "7032                        2                  2                2   \n",
       "7039                        6                  6                6   \n",
       "7048                      107                107              107   \n",
       "7067                       22                 22               22   \n",
       "7072                        3                  3                3   \n",
       "7079                        2                  2                2   \n",
       "7085                       14                 14               14   \n",
       "7096                       18                 18               18   \n",
       "7097                       24                 24               24   \n",
       "7098                       10                 10               10   \n",
       "7099                       14                 14               14   \n",
       "7102                        2                  2                2   \n",
       "7105                        1                  1                1   \n",
       "7106                        1                  1                1   \n",
       "7109                       24                 24               24   \n",
       "7115                       13                 13               13   \n",
       "7136                        3                  3                3   \n",
       "7140                        4                  4                4   \n",
       "7164                       14                 14               14   \n",
       "7169                        2                  2                2   \n",
       "7176                        8                  8                8   \n",
       "7177                       14                 14               14   \n",
       "7183                       18                 18               18   \n",
       "7188                       33                 33               33   \n",
       "7191                       11                 11               11   \n",
       "7192                        9                  9                9   \n",
       "7195                        3                  3                3   \n",
       "7213                       18                 18               18   \n",
       "7217                        4                  4                4   \n",
       "7238                      196                196              196   \n",
       "7239                        3                  3                3   \n",
       "7247                        1                  1                1   \n",
       "7252                       24                 24               24   \n",
       "7257                        3                  3                3   \n",
       "7272                        1                  1                1   \n",
       "7274                       16                 16               16   \n",
       "7297                      215                215              215   \n",
       "7299                        2                  2                2   \n",
       "7304                        2                  2                2   \n",
       "7306                       42                 42               42   \n",
       "7307                        1                  1                1   \n",
       "7310                        1                  1                1   \n",
       "7313                        2                  2                2   \n",
       "7314                       16                 16               16   \n",
       "7316                       44                 44               44   \n",
       "7339                        2                  2                2   \n",
       "7341                       31                 31               31   \n",
       "7343                       13                 13               13   \n",
       "7352                        1                  1                1   \n",
       "7354                       20                 20               20   \n",
       "7357                       21                 21               21   \n",
       "7358                        2                  2                2   \n",
       "7362                        1                  1                1   \n",
       "7367                      132                132              132   \n",
       "7370                       12                 12               12   \n",
       "7371                       37                 37               37   \n",
       "7373                       12                 12               12   \n",
       "7375                        3                  3                3   \n",
       "7380                      163                163              163   \n",
       "7384                       44                 44               44   \n",
       "7385                        3                  3                3   \n",
       "7391                       13                 13               13   \n",
       "7392                       66                 66               66   \n",
       "7398                       25                 25               25   \n",
       "7401                        4                  4                4   \n",
       "\n",
       "          service_tx_bytes  difference_bytes  createdAt  updatedAt  \\\n",
       "agent_id                                                             \n",
       "7008                     6                 6          6          6   \n",
       "7014                     1                 1          1          1   \n",
       "7026                    17                17         17         17   \n",
       "7032                     2                 2          2          2   \n",
       "7039                     6                 6          6          6   \n",
       "7048                   107               107        107        107   \n",
       "7067                    22                22         22         22   \n",
       "7072                     3                 3          3          3   \n",
       "7079                     2                 2          2          2   \n",
       "7085                    14                14         14         14   \n",
       "7096                    18                18         18         18   \n",
       "7097                    24                24         24         24   \n",
       "7098                    10                10         10         10   \n",
       "7099                    14                14         14         14   \n",
       "7102                     2                 2          2          2   \n",
       "7105                     1                 1          1          1   \n",
       "7106                     1                 1          1          1   \n",
       "7109                    24                24         24         24   \n",
       "7115                    13                13         13         13   \n",
       "7136                     3                 3          3          3   \n",
       "7140                     4                 4          4          4   \n",
       "7164                    14                14         14         14   \n",
       "7169                     2                 2          2          2   \n",
       "7176                     8                 8          8          8   \n",
       "7177                    14                14         14         14   \n",
       "7183                    18                18         18         18   \n",
       "7188                    33                33         33         33   \n",
       "7191                    11                11         11         11   \n",
       "7192                     9                 9          9          9   \n",
       "7195                     3                 3          3          3   \n",
       "7213                    18                18         18         18   \n",
       "7217                     4                 4          4          4   \n",
       "7238                   196               196        196        196   \n",
       "7239                     3                 3          3          3   \n",
       "7247                     1                 1          1          1   \n",
       "7252                    24                24         24         24   \n",
       "7257                     3                 3          3          3   \n",
       "7272                     1                 1          1          1   \n",
       "7274                    16                16         16         16   \n",
       "7297                   215               215        215        215   \n",
       "7299                     2                 2          2          2   \n",
       "7304                     2                 2          2          2   \n",
       "7306                    42                42         42         42   \n",
       "7307                     1                 1          1          1   \n",
       "7310                     1                 1          1          1   \n",
       "7313                     2                 2          2          2   \n",
       "7314                    16                16         16         16   \n",
       "7316                    44                44         44         44   \n",
       "7339                     2                 2          2          2   \n",
       "7341                    31                31         31         31   \n",
       "7343                    13                13         13         13   \n",
       "7352                     1                 1          1          1   \n",
       "7354                    20                20         20         20   \n",
       "7357                    21                21         21         21   \n",
       "7358                     2                 2          2          2   \n",
       "7362                     1                 1          1          1   \n",
       "7367                   132               132        132        132   \n",
       "7370                    12                12         12         12   \n",
       "7371                    37                37         37         37   \n",
       "7373                    12                12         12         12   \n",
       "7375                     3                 3          3          3   \n",
       "7380                   163               163        163        163   \n",
       "7384                    44                44         44         44   \n",
       "7385                     3                 3          3          3   \n",
       "7391                    13                13         13         13   \n",
       "7392                    66                66         66         66   \n",
       "7398                    25                25         25         25   \n",
       "7401                     4                 4          4          4   \n",
       "\n",
       "          log_start_time  log_end_time  \n",
       "agent_id                                \n",
       "7008                   6             6  \n",
       "7014                   1             1  \n",
       "7026                  17            17  \n",
       "7032                   2             2  \n",
       "7039                   6             6  \n",
       "7048                 107           107  \n",
       "7067                  22            22  \n",
       "7072                   3             3  \n",
       "7079                   2             2  \n",
       "7085                  14            14  \n",
       "7096                  18            18  \n",
       "7097                  24            24  \n",
       "7098                  10            10  \n",
       "7099                  14            14  \n",
       "7102                   2             2  \n",
       "7105                   1             1  \n",
       "7106                   1             1  \n",
       "7109                  24            24  \n",
       "7115                  13            13  \n",
       "7136                   3             3  \n",
       "7140                   4             4  \n",
       "7164                  14            14  \n",
       "7169                   2             2  \n",
       "7176                   8             8  \n",
       "7177                  14            14  \n",
       "7183                  18            18  \n",
       "7188                  33            33  \n",
       "7191                  11            11  \n",
       "7192                   9             9  \n",
       "7195                   3             3  \n",
       "7213                  18            18  \n",
       "7217                   4             4  \n",
       "7238                 196           196  \n",
       "7239                   3             3  \n",
       "7247                   1             1  \n",
       "7252                  24            24  \n",
       "7257                   3             3  \n",
       "7272                   1             1  \n",
       "7274                  16            16  \n",
       "7297                 215           215  \n",
       "7299                   2             2  \n",
       "7304                   2             2  \n",
       "7306                  42            42  \n",
       "7307                   1             1  \n",
       "7310                   1             1  \n",
       "7313                   2             2  \n",
       "7314                  16            16  \n",
       "7316                  44            44  \n",
       "7339                   2             2  \n",
       "7341                  31            31  \n",
       "7343                  13            13  \n",
       "7352                   1             1  \n",
       "7354                  20            20  \n",
       "7357                  21            21  \n",
       "7358                   2             2  \n",
       "7362                   1             1  \n",
       "7367                 132           132  \n",
       "7370                  12            12  \n",
       "7371                  37            37  \n",
       "7373                  12            12  \n",
       "7375                   3             3  \n",
       "7380                 163           163  \n",
       "7384                  44            44  \n",
       "7385                   3             3  \n",
       "7391                  13            13  \n",
       "7392                  66            66  \n",
       "7398                  25            25  \n",
       "7401                   4             4  "
      ]
     },
     "execution_count": 8,
     "metadata": {},
     "output_type": "execute_result"
    }
   ],
   "source": [
    "df.groupby('agent_id').count()"
   ]
  },
  {
   "cell_type": "markdown",
   "metadata": {},
   "source": [
    "Agent id's with maimum counts <br>\n",
    "Agent Id.....Count <br>\n",
    "  7297  .....    215 <br>\n",
    "  7238  .....    198 <br>\n",
    "  7380  .....    163 <br>\n",
    "  7367  .....    132 <br>\n",
    "  7048  .....    107"
   ]
  },
  {
   "cell_type": "markdown",
   "metadata": {},
   "source": [
    "### select agent"
   ]
  },
  {
   "cell_type": "code",
   "execution_count": 9,
   "metadata": {},
   "outputs": [],
   "source": [
    "def select_agent(df, agent_id):\n",
    "    df_selected = df.loc[df['agent_id'] == agent_id]\n",
    "    return df_selected"
   ]
  },
  {
   "cell_type": "markdown",
   "metadata": {},
   "source": [
    "### show service ids"
   ]
  },
  {
   "cell_type": "code",
   "execution_count": 10,
   "metadata": {},
   "outputs": [],
   "source": [
    "def show_unique_service_ids(df, agent_id):\n",
    "    df_agent_selected = select_agent(df, agent_id)\n",
    "    service_ids = df_agent_selected.groupby('service_id')['service_id'].first()\n",
    "    print(service_ids)\n",
    " "
   ]
  },
  {
   "cell_type": "markdown",
   "metadata": {},
   "source": [
    "### select service id"
   ]
  },
  {
   "cell_type": "code",
   "execution_count": 11,
   "metadata": {},
   "outputs": [],
   "source": [
    "def select_service(df,service_id):\n",
    "    df_selected = df.loc[df['service_id'] == service_id]\n",
    "    return df_selected"
   ]
  },
  {
   "cell_type": "markdown",
   "metadata": {},
   "source": [
    "### select features"
   ]
  },
  {
   "cell_type": "code",
   "execution_count": 12,
   "metadata": {},
   "outputs": [],
   "source": [
    "def select_features(df, feature_list):\n",
    "    df_selected = df[feature_list]\n",
    "    return df_selected"
   ]
  },
  {
   "cell_type": "code",
   "execution_count": 13,
   "metadata": {},
   "outputs": [],
   "source": [
    "features = ['difference_bytes']"
   ]
  },
  {
   "cell_type": "markdown",
   "metadata": {},
   "source": [
    "### Normalize data"
   ]
  },
  {
   "cell_type": "code",
   "execution_count": 14,
   "metadata": {},
   "outputs": [],
   "source": [
    "def normalize_data(df):\n",
    "    \n",
    "    \"\"\" Method for normalizing data using zscore\n",
    "    \n",
    "    Args:\n",
    "        df (dataframe)\n",
    "        \n",
    "    Attributes:\n",
    "        df (dataframe): original dataframe with selected rows and columns\n",
    "        X (dataframe): consists of copy of df for processing\n",
    "    \n",
    "    Returns:\n",
    "        X(dataframe): Normalized dataframe\n",
    "        \n",
    "    \"\"\"\n",
    "    \n",
    "    X = df\n",
    "    for col in X:\n",
    "        X[col] = stats.zscore(X[col])\n",
    "        \n",
    "    return X"
   ]
  },
  {
   "cell_type": "markdown",
   "metadata": {},
   "source": [
    "### For Single feature run this outlier detection dbscan\n"
   ]
  },
  {
   "cell_type": "code",
   "execution_count": 15,
   "metadata": {},
   "outputs": [],
   "source": [
    "\n",
    "def outlier_detection_dbscan(eps, min_samples, X):\n",
    "    \n",
    "    \"\"\" Method for detecting multiple clusters, outliers and plotting them.\n",
    "    \n",
    "    Args:\n",
    "        eps (float): The maximum distance between two samples for one to be \n",
    "                    considered as in the neighborhood of the other\n",
    "        min_samples (int):The number of samples (or total weight) in a neighborhood for a point to be considered as a core point.\n",
    "                        This includes the point itself\n",
    "        X (dataframe): preprocessed datframe\n",
    "        \n",
    "    Attributes:\n",
    "        ss (object): standardscaler object\n",
    "        X (dataframe): consists of copy of df for processing\n",
    "        db (object): DBSCAN bject initialized\n",
    "        y_pred (results): results predicted by DBSCAN object\n",
    "        cluster_0 (data points): consists of points in cluster 0\n",
    "        cluster_1 (data points): consists of points in cluster 1\n",
    "        cluster_2 (data points): consists of points in cluster 2\n",
    "        cluster_3 (data points): consists of points in cluster 3\n",
    "        cluster_4 (data points): consists of points in cluster 4\n",
    "        cluster_5 (data points): consists of points in cluster 5\n",
    "        outlier (data points): consists of points detected as outliers\n",
    "    \n",
    "    Returns: None\n",
    "        \n",
    "    \"\"\" \n",
    "    \n",
    "    ss = StandardScaler()\n",
    "    X = ss.fit_transform(X)\n",
    "    db = DBSCAN(eps=eps, min_samples=min_samples)\n",
    "    db.fit(X)\n",
    "    y_pred = db.fit_predict(X)\n",
    "    \n",
    "    cluster_0 = []\n",
    "    cluster_1 = []\n",
    "    cluster_2 = []\n",
    "    cluster_3 = []\n",
    "    cluster_4 = []\n",
    "    cluster_5 = []\n",
    "    outliers = []\n",
    "    for i in range(len(X)):\n",
    "        if db.labels_[i] == -1:\n",
    "            outliers.append(X[i])\n",
    "        elif db.labels_[i] == 0:\n",
    "            cluster_0.append(X[i])\n",
    "        elif db.labels_[i] == 1:\n",
    "            cluster_1.append(X[i])\n",
    "        elif db.labels_[i] == 2:\n",
    "            cluster_2.append(X[i])\n",
    "        elif db.labels_[i] == 3:\n",
    "            cluster_3.append(X[i])\n",
    "        elif db.labels_[i] == 4:\n",
    "            cluster_4.append(X[i])\n",
    "        elif db.labels_[i] == 5:\n",
    "            cluster_5.append(X[i])\n",
    "\n",
    "            \n",
    "    if len(cluster_0) > 0:\n",
    "        x_0 = []\n",
    "        y_0 = []\n",
    "        for i in range(len(cluster_0)):\n",
    "            x_0.append(cluster_0[i][0])\n",
    "            y_0.append(0) # append labels \n",
    "            \n",
    "        plt.scatter(x_0, y_0,c='b', cmap='Paired')\n",
    "        print(\"Length of cluster 0 : \", len(cluster_0))\n",
    "\n",
    "        \n",
    "    if len(cluster_1) > 0:\n",
    "        x_1 = []\n",
    "        y_1 = []\n",
    "        for i in range(len(cluster_1)):\n",
    "            x_1.append(cluster_1[i][0])\n",
    "            y_1.append(1)\n",
    "        plt.scatter(x_1, y_1,c='g', cmap='Paired')\n",
    "        print(\"Length of cluster 1 : \", len(cluster_1))\n",
    "\n",
    "    \n",
    "    if len(cluster_2) > 0:\n",
    "        x_2 = []\n",
    "        y_2 = []\n",
    "        for i in range(len(cluster_2)):\n",
    "            x_2.append(cluster_2[i][0])\n",
    "            y_2.append(2)\n",
    "        plt.scatter(x_2, y_2,c='y', cmap='Paired')\n",
    "        print(\"Length of cluster 2 : \", len(cluster_2))\n",
    "\n",
    "            \n",
    "    if len(cluster_3) >0:\n",
    "        x_3 = []\n",
    "        y_3 = []\n",
    "        for i in range(len(cluster_3)):\n",
    "            x_3.append(cluster_3[i][0])\n",
    "            y_3.append(3)\n",
    "        plt.scatter(x_3, y_3,c='b', marker = \"1\" ,cmap='Paired')\n",
    "        print(\"Length of cluster 3 : \", len(cluster_3))\n",
    "\n",
    "            \n",
    "    if len(cluster_4) > 0:\n",
    "        x_4 = []\n",
    "        y_4 = []\n",
    "        for i in range(len(cluster_4)):\n",
    "            x_4.append(cluster_4[i][0])\n",
    "            y_4.append(4)\n",
    "        plt.scatter(x_4, y_4,c='b',marker = \"2\", cmap='Paired')\n",
    "        print(\"Length of cluster 4 : \", len(cluster_4))\n",
    "\n",
    "            \n",
    "    if len(cluster_5) > 0:\n",
    "        x_5 = []\n",
    "        y_5 = []\n",
    "        for i in range(len(cluster_5)):\n",
    "            x_5.append(cluster_5[i][0])\n",
    "            y_5.append(5)\n",
    "        plt.scatter(x_5, y_5,c='b',marker = \"3\", cmap='Paired')\n",
    "        print(\"Length of cluster 5 : \", len(cluster_5))\n",
    "\n",
    "            \n",
    "    if len(outliers) > 0:    \n",
    "        # outliers\n",
    "        x = []\n",
    "        y = []\n",
    "        for i in range(len(outliers)):\n",
    "            x.append(outliers[i][0])\n",
    "            y.append(-1)\n",
    "        plt.scatter(x, y,c='r', marker = '*', cmap='Paired') #outlier\n",
    "        print(\"Number of outliers : \", len(outliers))\n"
   ]
  },
  {
   "cell_type": "code",
   "execution_count": 16,
   "metadata": {},
   "outputs": [],
   "source": [
    "def dbscan_workflow(df, agent_id, service_id, feature_list, epsilon, min_samples):\n",
    "    \n",
    "    \"\"\" Method implementing the whole pipleline of work work dbscan\n",
    "    \n",
    "    Args:\n",
    "        df (dataframe): unprocessed data\n",
    "        epsilon (float): The maximum distance between two samples for one to be \n",
    "                    considered as in the neighborhood of the other\n",
    "        min_samples (int):The number of samples (or total weight) in a neighborhood for a point to be considered as a core point.\n",
    "                        This includes the point itself\n",
    "        features (list): names of features needed\n",
    "        \n",
    "    Returns: None\n",
    "        \n",
    "    \"\"\" \n",
    "    \n",
    "    df = select_agent(df, agent_id)\n",
    "    df = select_service(df,service_id)\n",
    "    df = select_features(df, feature_list)\n",
    "    df = normalize_data(df)\n",
    "    outlier_detection_dbscan(epsilon, min_samples, df)\n",
    "\n",
    "\n",
    "    \n",
    "    \n",
    "#     df = filter_ip(df)\n",
    "#     df = select_features(df,features)\n",
    "#     df = normalize_data(df)\n",
    "#     outlier_detection_dbscan(epsilon, min_samples, df)\n",
    "    "
   ]
  },
  {
   "cell_type": "code",
   "execution_count": 17,
   "metadata": {},
   "outputs": [
    {
     "name": "stdout",
     "output_type": "stream",
     "text": [
      "service_id\n",
      "701    701\n",
      "703    703\n",
      "737    737\n",
      "747    747\n",
      "794    794\n",
      "795    795\n",
      "799    799\n",
      "800    800\n",
      "801    801\n",
      "820    820\n",
      "838    838\n",
      "839    839\n",
      "Name: service_id, dtype: int64\n"
     ]
    }
   ],
   "source": [
    "agent_id = 7297\n",
    "show_unique_service_ids(df, agent_id)"
   ]
  },
  {
   "cell_type": "code",
   "execution_count": 18,
   "metadata": {},
   "outputs": [
    {
     "name": "stdout",
     "output_type": "stream",
     "text": [
      "Length of cluster 0 :  11\n",
      "Length of cluster 1 :  2\n"
     ]
    },
    {
     "data": {
      "image/png": "[encoded data removed]",
      "text/plain": [
       "<Figure size 432x288 with 1 Axes>"
      ]
     },
     "metadata": {
      "needs_background": "light"
     },
     "output_type": "display_data"
    }
   ],
   "source": [
    "agent_id = 7297\n",
    "service_id = 701\n",
    "feature_list = ['difference_bytes']\n",
    "epsilon = 0.1\n",
    "min_samples = 2\n",
    "dbscan_workflow(df, agent_id, service_id, feature_list, epsilon, min_samples)"
   ]
  },
  {
   "cell_type": "code",
   "execution_count": 19,
   "metadata": {},
   "outputs": [
    {
     "name": "stdout",
     "output_type": "stream",
     "text": [
      "Length of cluster 0 :  11\n",
      "Length of cluster 1 :  2\n"
     ]
    },
    {
     "data": {
      "image/png": "[encoded data removed]",
      "text/plain": [
       "<Figure size 432x288 with 1 Axes>"
      ]
     },
     "metadata": {
      "needs_background": "light"
     },
     "output_type": "display_data"
    }
   ],
   "source": [
    "agent_id = 7297\n",
    "service_id = 701\n",
    "feature_list = ['difference_bytes']\n",
    "epsilon = 0.2\n",
    "min_samples = 2\n",
    "dbscan_workflow(df, agent_id, service_id, feature_list, epsilon, min_samples)"
   ]
  },
  {
   "cell_type": "code",
   "execution_count": 20,
   "metadata": {},
   "outputs": [
    {
     "name": "stdout",
     "output_type": "stream",
     "text": [
      "Length of cluster 0 :  28\n",
      "Number of outliers :  1\n"
     ]
    },
    {
     "data": {
      "image/png": "[encoded data removed]",
      "text/plain": [
       "<Figure size 432x288 with 1 Axes>"
      ]
     },
     "metadata": {
      "needs_background": "light"
     },
     "output_type": "display_data"
    }
   ],
   "source": [
    "agent_id = 7297\n",
    "service_id = 820\n",
    "feature_list = ['difference_bytes']\n",
    "epsilon = 0.5\n",
    "min_samples = 2\n",
    "dbscan_workflow(df, agent_id, service_id, feature_list, epsilon, min_samples)"
   ]
  },
  {
   "cell_type": "code",
   "execution_count": 21,
   "metadata": {},
   "outputs": [
    {
     "name": "stdout",
     "output_type": "stream",
     "text": [
      "Length of cluster 0 :  28\n",
      "Number of outliers :  1\n"
     ]
    },
    {
     "data": {
      "image/png": "[encoded data removed]",
      "text/plain": [
       "<Figure size 432x288 with 1 Axes>"
      ]
     },
     "metadata": {
      "needs_background": "light"
     },
     "output_type": "display_data"
    }
   ],
   "source": [
    "agent_id = 7297\n",
    "service_id = 820\n",
    "feature_list = ['difference_bytes']\n",
    "epsilon = 0.9\n",
    "min_samples = 2\n",
    "dbscan_workflow(df, agent_id, service_id, feature_list, epsilon, min_samples)"
   ]
  },
  {
   "cell_type": "code",
   "execution_count": 22,
   "metadata": {},
   "outputs": [
    {
     "name": "stdout",
     "output_type": "stream",
     "text": [
      "Length of cluster 0 :  4\n",
      "Length of cluster 1 :  8\n",
      "Number of outliers :  17\n"
     ]
    },
    {
     "data": {
      "image/png": "[encoded data removed]",
      "text/plain": [
       "<Figure size 432x288 with 1 Axes>"
      ]
     },
     "metadata": {
      "needs_background": "light"
     },
     "output_type": "display_data"
    }
   ],
   "source": [
    "agent_id = 7297\n",
    "service_id = 820\n",
    "feature_list = ['difference_bytes']\n",
    "epsilon = 0.1\n",
    "min_samples = 4\n",
    "dbscan_workflow(df, agent_id, service_id, feature_list, epsilon, min_samples)"
   ]
  },
  {
   "cell_type": "code",
   "execution_count": 23,
   "metadata": {},
   "outputs": [
    {
     "name": "stdout",
     "output_type": "stream",
     "text": [
      "Length of cluster 0 :  8\n",
      "Number of outliers :  21\n"
     ]
    },
    {
     "data": {
      "image/png": "[encoded data removed]",
      "text/plain": [
       "<Figure size 432x288 with 1 Axes>"
      ]
     },
     "metadata": {
      "needs_background": "light"
     },
     "output_type": "display_data"
    }
   ],
   "source": [
    "agent_id = 7297\n",
    "service_id = 820\n",
    "feature_list = ['difference_bytes']\n",
    "epsilon = 0.1\n",
    "min_samples = 8\n",
    "dbscan_workflow(df, agent_id, service_id, feature_list, epsilon, min_samples)"
   ]
  },
  {
   "cell_type": "code",
   "execution_count": 24,
   "metadata": {},
   "outputs": [
    {
     "name": "stdout",
     "output_type": "stream",
     "text": [
      "Number of outliers :  29\n"
     ]
    },
    {
     "data": {
      "image/png": "[encoded data removed]",
      "text/plain": [
       "<Figure size 432x288 with 1 Axes>"
      ]
     },
     "metadata": {
      "needs_background": "light"
     },
     "output_type": "display_data"
    }
   ],
   "source": [
    "agent_id = 7297\n",
    "service_id = 820\n",
    "feature_list = ['difference_bytes']\n",
    "epsilon = 0.1\n",
    "min_samples = 10\n",
    "dbscan_workflow(df, agent_id, service_id, feature_list, epsilon, min_samples)"
   ]
  },
  {
   "cell_type": "code",
   "execution_count": 25,
   "metadata": {},
   "outputs": [
    {
     "name": "stdout",
     "output_type": "stream",
     "text": [
      "Number of outliers :  29\n"
     ]
    },
    {
     "data": {
      "image/png": "[encoded data removed]",
      "text/plain": [
       "<Figure size 432x288 with 1 Axes>"
      ]
     },
     "metadata": {
      "needs_background": "light"
     },
     "output_type": "display_data"
    }
   ],
   "source": [
    "agent_id = 7297\n",
    "service_id = 820\n",
    "feature_list = ['difference_bytes']\n",
    "epsilon = 0.1\n",
    "min_samples = 20\n",
    "dbscan_workflow(df, agent_id, service_id, feature_list, epsilon, min_samples)"
   ]
  },
  {
   "cell_type": "code",
   "execution_count": 26,
   "metadata": {},
   "outputs": [
    {
     "name": "stdout",
     "output_type": "stream",
     "text": [
      "Length of cluster 0 :  2\n",
      "Length of cluster 1 :  2\n",
      "Length of cluster 2 :  4\n",
      "Length of cluster 3 :  8\n",
      "Length of cluster 4 :  3\n",
      "Length of cluster 5 :  3\n",
      "Number of outliers :  5\n"
     ]
    },
    {
     "data": {
      "image/png": "[encoded data removed]",
      "text/plain": [
       "<Figure size 432x288 with 1 Axes>"
      ]
     },
     "metadata": {
      "needs_background": "light"
     },
     "output_type": "display_data"
    }
   ],
   "source": [
    "agent_id = 7297\n",
    "service_id = 820\n",
    "feature_list = ['difference_bytes']\n",
    "epsilon = 0.1\n",
    "min_samples = 2\n",
    "dbscan_workflow(df, agent_id, service_id, feature_list, epsilon, min_samples)"
   ]
  },
  {
   "cell_type": "code",
   "execution_count": 27,
   "metadata": {},
   "outputs": [
    {
     "name": "stdout",
     "output_type": "stream",
     "text": [
      "Length of cluster 0 :  8\n",
      "Number of outliers :  21\n"
     ]
    },
    {
     "data": {
      "image/png": "[encoded data removed]",
      "text/plain": [
       "<Figure size 432x288 with 1 Axes>"
      ]
     },
     "metadata": {
      "needs_background": "light"
     },
     "output_type": "display_data"
    }
   ],
   "source": [
    "agent_id = 7297\n",
    "service_id = 820\n",
    "feature_list = ['difference_bytes']\n",
    "epsilon = 0.1\n",
    "min_samples = 6\n",
    "dbscan_workflow(df, agent_id, service_id, feature_list, epsilon, min_samples)"
   ]
  },
  {
   "cell_type": "code",
   "execution_count": 28,
   "metadata": {},
   "outputs": [
    {
     "name": "stdout",
     "output_type": "stream",
     "text": [
      "Number of outliers :  29\n"
     ]
    },
    {
     "data": {
      "image/png": "[encoded data removed]",
      "text/plain": [
       "<Figure size 432x288 with 1 Axes>"
      ]
     },
     "metadata": {
      "needs_background": "light"
     },
     "output_type": "display_data"
    }
   ],
   "source": [
    "agent_id = 7297\n",
    "service_id = 820\n",
    "feature_list = ['difference_bytes']\n",
    "epsilon = 0.1\n",
    "min_samples = 9\n",
    "dbscan_workflow(df, agent_id, service_id, feature_list, epsilon, min_samples)"
   ]
  },
  {
   "cell_type": "code",
   "execution_count": 29,
   "metadata": {},
   "outputs": [
    {
     "name": "stdout",
     "output_type": "stream",
     "text": [
      "Number of outliers :  29\n"
     ]
    },
    {
     "data": {
      "image/png": "[encoded data removed]",
      "text/plain": [
       "<Figure size 432x288 with 1 Axes>"
      ]
     },
     "metadata": {
      "needs_background": "light"
     },
     "output_type": "display_data"
    }
   ],
   "source": [
    "agent_id = 7297\n",
    "service_id = 820\n",
    "feature_list = ['difference_bytes']\n",
    "epsilon = 0.1\n",
    "min_samples = 12\n",
    "dbscan_workflow(df, agent_id, service_id, feature_list, epsilon, min_samples)"
   ]
  },
  {
   "cell_type": "code",
   "execution_count": 30,
   "metadata": {},
   "outputs": [
    {
     "name": "stdout",
     "output_type": "stream",
     "text": [
      "Number of outliers :  15\n"
     ]
    },
    {
     "data": {
      "image/png": "[encoded data removed]",
      "text/plain": [
       "<Figure size 432x288 with 1 Axes>"
      ]
     },
     "metadata": {
      "needs_background": "light"
     },
     "output_type": "display_data"
    }
   ],
   "source": [
    "agent_id = 7297\n",
    "service_id = 839\n",
    "feature_list = ['difference_bytes']\n",
    "epsilon = 0.1\n",
    "min_samples = 20\n",
    "dbscan_workflow(df, agent_id, service_id, feature_list, epsilon, min_samples)"
   ]
  },
  {
   "cell_type": "code",
   "execution_count": 31,
   "metadata": {},
   "outputs": [
    {
     "name": "stdout",
     "output_type": "stream",
     "text": [
      "Length of cluster 0 :  13\n",
      "Number of outliers :  2\n"
     ]
    },
    {
     "data": {
      "image/png": "[encoded data removed]",
      "text/plain": [
       "<Figure size 432x288 with 1 Axes>"
      ]
     },
     "metadata": {
      "needs_background": "light"
     },
     "output_type": "display_data"
    }
   ],
   "source": [
    "agent_id = 7297\n",
    "service_id = 839\n",
    "feature_list = ['difference_bytes']\n",
    "epsilon = 0.3\n",
    "min_samples = 2\n",
    "dbscan_workflow(df, agent_id, service_id, feature_list, epsilon, min_samples)"
   ]
  },
  {
   "cell_type": "code",
   "execution_count": 32,
   "metadata": {},
   "outputs": [
    {
     "name": "stdout",
     "output_type": "stream",
     "text": [
      "Length of cluster 0 :  13\n",
      "Number of outliers :  2\n"
     ]
    },
    {
     "data": {
      "image/png": "[encoded data removed]",
      "text/plain": [
       "<Figure size 432x288 with 1 Axes>"
      ]
     },
     "metadata": {
      "needs_background": "light"
     },
     "output_type": "display_data"
    }
   ],
   "source": [
    "agent_id = 7297\n",
    "service_id = 839\n",
    "feature_list = ['difference_bytes']\n",
    "epsilon = 0.7\n",
    "min_samples = 2\n",
    "dbscan_workflow(df, agent_id, service_id, feature_list, epsilon, min_samples)"
   ]
  },
  {
   "cell_type": "code",
   "execution_count": 33,
   "metadata": {},
   "outputs": [
    {
     "name": "stdout",
     "output_type": "stream",
     "text": [
      "Length of cluster 0 :  13\n",
      "Number of outliers :  2\n"
     ]
    },
    {
     "data": {
      "image/png": "[encoded data removed]",
      "text/plain": [
       "<Figure size 432x288 with 1 Axes>"
      ]
     },
     "metadata": {
      "needs_background": "light"
     },
     "output_type": "display_data"
    }
   ],
   "source": [
    "agent_id = 7297\n",
    "service_id = 839\n",
    "feature_list = ['difference_bytes']\n",
    "epsilon = 0.9\n",
    "min_samples = 2\n",
    "dbscan_workflow(df, agent_id, service_id, feature_list, epsilon, min_samples)"
   ]
  },
  {
   "cell_type": "code",
   "execution_count": 34,
   "metadata": {},
   "outputs": [
    {
     "name": "stdout",
     "output_type": "stream",
     "text": [
      "Length of cluster 0 :  15\n"
     ]
    },
    {
     "data": {
      "image/png": "[encoded data removed]",
      "text/plain": [
       "<Figure size 432x288 with 1 Axes>"
      ]
     },
     "metadata": {
      "needs_background": "light"
     },
     "output_type": "display_data"
    }
   ],
   "source": [
    "agent_id = 7297\n",
    "service_id = 839\n",
    "feature_list = ['difference_bytes']\n",
    "epsilon = 3\n",
    "min_samples = 2\n",
    "dbscan_workflow(df, agent_id, service_id, feature_list, epsilon, min_samples)"
   ]
  },
  {
   "cell_type": "code",
   "execution_count": 35,
   "metadata": {},
   "outputs": [
    {
     "name": "stdout",
     "output_type": "stream",
     "text": [
      "Number of outliers :  15\n"
     ]
    },
    {
     "data": {
      "image/png": "[encoded data removed]",
      "text/plain": [
       "<Figure size 432x288 with 1 Axes>"
      ]
     },
     "metadata": {
      "needs_background": "light"
     },
     "output_type": "display_data"
    }
   ],
   "source": [
    "agent_id = 7297\n",
    "service_id = 839\n",
    "feature_list = ['difference_bytes']\n",
    "epsilon = 0.9\n",
    "min_samples = 15\n",
    "dbscan_workflow(df, agent_id, service_id, feature_list, epsilon, min_samples)"
   ]
  },
  {
   "cell_type": "code",
   "execution_count": 36,
   "metadata": {},
   "outputs": [
    {
     "name": "stdout",
     "output_type": "stream",
     "text": [
      "Length of cluster 0 :  12\n",
      "Number of outliers :  3\n"
     ]
    },
    {
     "data": {
      "image/png": "[encoded data removed]",
      "text/plain": [
       "<Figure size 432x288 with 1 Axes>"
      ]
     },
     "metadata": {
      "needs_background": "light"
     },
     "output_type": "display_data"
    }
   ],
   "source": [
    "agent_id = 7297\n",
    "service_id = 839\n",
    "feature_list = ['difference_bytes']\n",
    "epsilon = 0.1\n",
    "min_samples = 2\n",
    "dbscan_workflow(df, agent_id, service_id, feature_list, epsilon, min_samples)"
   ]
  },
  {
   "cell_type": "code",
   "execution_count": 37,
   "metadata": {},
   "outputs": [
    {
     "name": "stdout",
     "output_type": "stream",
     "text": [
      "Length of cluster 0 :  13\n",
      "Number of outliers :  2\n"
     ]
    },
    {
     "data": {
      "image/png": "[encoded data removed]",
      "text/plain": [
       "<Figure size 432x288 with 1 Axes>"
      ]
     },
     "metadata": {
      "needs_background": "light"
     },
     "output_type": "display_data"
    }
   ],
   "source": [
    "agent_id = 7297\n",
    "service_id = 839\n",
    "feature_list = ['difference_bytes']\n",
    "epsilon = 0.5\n",
    "min_samples = 2\n",
    "dbscan_workflow(df, agent_id, service_id, feature_list, epsilon, min_samples)"
   ]
  },
  {
   "cell_type": "code",
   "execution_count": 38,
   "metadata": {},
   "outputs": [
    {
     "name": "stdout",
     "output_type": "stream",
     "text": [
      "Length of cluster 0 :  13\n",
      "Number of outliers :  2\n"
     ]
    },
    {
     "data": {
      "image/png": "[encoded data removed]",
      "text/plain": [
       "<Figure size 432x288 with 1 Axes>"
      ]
     },
     "metadata": {
      "needs_background": "light"
     },
     "output_type": "display_data"
    }
   ],
   "source": [
    "agent_id = 7297\n",
    "service_id = 839\n",
    "feature_list = ['difference_bytes']\n",
    "epsilon = 0.6\n",
    "min_samples = 10\n",
    "dbscan_workflow(df, agent_id, service_id, feature_list, epsilon, min_samples)"
   ]
  },
  {
   "cell_type": "markdown",
   "metadata": {},
   "source": [
    "### For multiple features run this outlier detection dbscan"
   ]
  },
  {
   "cell_type": "code",
   "execution_count": 39,
   "metadata": {},
   "outputs": [],
   "source": [
    "\n",
    "def outlier_detection_dbscan(eps, min_samples, X):\n",
    "    \n",
    "    \"\"\" Method for detecting multiple clusters, outliers and plotting them.\n",
    "    \n",
    "    Args:\n",
    "        eps (float): The maximum distance between two samples for one to be \n",
    "                    considered as in the neighborhood of the other\n",
    "        min_samples (int):The number of samples (or total weight) in a neighborhood for a point to be considered as a core point.\n",
    "                        This includes the point itself\n",
    "        X (dataframe): preprocessed datframe\n",
    "        \n",
    "    Attributes:\n",
    "        ss (object): standardscaler object\n",
    "        X (dataframe): consists of copy of df for processing\n",
    "        db (object): DBSCAN bject initialized\n",
    "        y_pred (results): results predicted by DBSCAN object\n",
    "        cluster_0 (data points): consists of points in cluster 0\n",
    "        cluster_1 (data points): consists of points in cluster 1\n",
    "        cluster_2 (data points): consists of points in cluster 2\n",
    "        cluster_3 (data points): consists of points in cluster 3\n",
    "        cluster_4 (data points): consists of points in cluster 4\n",
    "        cluster_5 (data points): consists of points in cluster 5\n",
    "        outlier (data points): consists of points detected as outliers\n",
    "    \n",
    "    Returns: None\n",
    "        \n",
    "    \"\"\" \n",
    "    \n",
    "    ss = StandardScaler()\n",
    "    X = ss.fit_transform(X)\n",
    "    db = DBSCAN(eps=eps, min_samples=min_samples)\n",
    "    db.fit(X)\n",
    "    y_pred = db.fit_predict(X)\n",
    "    \n",
    "    cluster_0 = []\n",
    "    cluster_1 = []\n",
    "    cluster_2 = []\n",
    "    cluster_3 = []\n",
    "    cluster_4 = []\n",
    "    cluster_5 = []\n",
    "    outliers = []\n",
    "    for i in range(len(X)):\n",
    "        if db.labels_[i] == -1:\n",
    "            outliers.append(X[i])\n",
    "        elif db.labels_[i] == 0:\n",
    "            cluster_0.append(X[i])\n",
    "        elif db.labels_[i] == 1:\n",
    "            cluster_1.append(X[i])\n",
    "        elif db.labels_[i] == 2:\n",
    "            cluster_2.append(X[i])\n",
    "        elif db.labels_[i] == 3:\n",
    "            cluster_3.append(X[i])\n",
    "        elif db.labels_[i] == 4:\n",
    "            cluster_4.append(X[i])\n",
    "        elif db.labels_[i] == 5:\n",
    "            cluster_5.append(X[i])\n",
    "\n",
    "            \n",
    "    if len(cluster_0) > 0:\n",
    "        x_0 = []\n",
    "        y_0 = []\n",
    "        for i in range(len(cluster_0)):\n",
    "            x_0.append(cluster_0[i][0])\n",
    "            y_0.append(cluster_0[i][1]) # append labels \n",
    "            \n",
    "        plt.scatter(x_0, y_0,c='b', cmap='Paired')\n",
    "        print(\"Length of cluster 0 : \", len(cluster_0))\n",
    "\n",
    "        \n",
    "    if len(cluster_1) > 0:\n",
    "        x_1 = []\n",
    "        y_1 = []\n",
    "        for i in range(len(cluster_1)):\n",
    "            x_1.append(cluster_1[i][0])\n",
    "            y_1.append(cluster_1[i][1])\n",
    "        plt.scatter(x_1, y_1,c='g', cmap='Paired')\n",
    "        print(\"Length of cluster 1 : \", len(cluster_1))\n",
    "\n",
    "    \n",
    "    if len(cluster_2) > 0:\n",
    "        x_2 = []\n",
    "        y_2 = []\n",
    "        for i in range(len(cluster_2)):\n",
    "            x_2.append(cluster_2[i][0])\n",
    "            y_2.append(cluster_2[i][1])\n",
    "        plt.scatter(x_2, y_2,c='y', cmap='Paired')\n",
    "        print(\"Length of cluster 2 : \", len(cluster_2))\n",
    "\n",
    "            \n",
    "    if len(cluster_3) >0:\n",
    "        x_3 = []\n",
    "        y_3 = []\n",
    "        for i in range(len(cluster_3)):\n",
    "            x_3.append(cluster_3[i][0])\n",
    "            y_3.append(cluster_3[i][1])\n",
    "        plt.scatter(x_3, y_3,c='b', marker = \"1\" ,cmap='Paired')\n",
    "        print(\"Length of cluster 3 : \", len(cluster_3))\n",
    "\n",
    "            \n",
    "    if len(cluster_4) > 0:\n",
    "        x_4 = []\n",
    "        y_4 = []\n",
    "        for i in range(len(cluster_4)):\n",
    "            x_4.append(cluster_4[i][0])\n",
    "            y_4.append(cluster_4[i][1])\n",
    "        plt.scatter(x_4, y_4,c='b',marker = \"2\", cmap='Paired')\n",
    "        print(\"Length of cluster 4 : \", len(cluster_4))\n",
    "\n",
    "            \n",
    "    if len(cluster_5) > 0:\n",
    "        x_5 = []\n",
    "        y_5 = []\n",
    "        for i in range(len(cluster_5)):\n",
    "            x_5.append(cluster_5[i][0])\n",
    "            y_5.append(cluster_5[i][1])\n",
    "        plt.scatter(x_5, y_5,c='b',marker = \"3\", cmap='Paired')\n",
    "        print(\"Length of cluster 5 : \", len(cluster_5))\n",
    "\n",
    "            \n",
    "    if len(outliers) > 0:    \n",
    "        # outliers\n",
    "        x = []\n",
    "        y = []\n",
    "        for i in range(len(outliers)):\n",
    "            x.append(outliers[i][0])\n",
    "            y.append(outliers[i][1])\n",
    "        plt.scatter(x, y,c='r', marker = '*', cmap='Paired') #outlier\n",
    "        print(\"Number of outliers : \", len(outliers))\n"
   ]
  },
  {
   "cell_type": "code",
   "execution_count": 40,
   "metadata": {},
   "outputs": [
    {
     "name": "stdout",
     "output_type": "stream",
     "text": [
      "Number of outliers :  29\n"
     ]
    },
    {
     "data": {
      "image/png": "[encoded data removed]",
      "text/plain": [
       "<Figure size 432x288 with 1 Axes>"
      ]
     },
     "metadata": {
      "needs_background": "light"
     },
     "output_type": "display_data"
    }
   ],
   "source": [
    "agent_id = 7297\n",
    "service_id = 820\n",
    "feature_list = ['service_tx_bytes', 'client_tx_bytes']\n",
    "epsilon = 0.1\n",
    "min_samples = 10\n",
    "dbscan_workflow(df, agent_id, service_id, feature_list, epsilon, min_samples)"
   ]
  },
  {
   "cell_type": "code",
   "execution_count": 41,
   "metadata": {},
   "outputs": [
    {
     "name": "stdout",
     "output_type": "stream",
     "text": [
      "Length of cluster 0 :  12\n",
      "Length of cluster 1 :  11\n",
      "Number of outliers :  6\n"
     ]
    },
    {
     "data": {
      "image/png": "[encoded data removed]",
      "text/plain": [
       "<Figure size 432x288 with 1 Axes>"
      ]
     },
     "metadata": {
      "needs_background": "light"
     },
     "output_type": "display_data"
    }
   ],
   "source": [
    "agent_id = 7297\n",
    "service_id = 820\n",
    "feature_list = ['service_tx_bytes', 'client_tx_bytes']\n",
    "epsilon = 0.6\n",
    "min_samples = 10\n",
    "dbscan_workflow(df, agent_id, service_id, feature_list, epsilon, min_samples)"
   ]
  },
  {
   "cell_type": "code",
   "execution_count": 42,
   "metadata": {},
   "outputs": [
    {
     "name": "stdout",
     "output_type": "stream",
     "text": [
      "Length of cluster 0 :  26\n",
      "Number of outliers :  3\n"
     ]
    },
    {
     "data": {
      "image/png": "[encoded data removed]",
      "text/plain": [
       "<Figure size 432x288 with 1 Axes>"
      ]
     },
     "metadata": {
      "needs_background": "light"
     },
     "output_type": "display_data"
    }
   ],
   "source": [
    "agent_id = 7297\n",
    "service_id = 820\n",
    "feature_list = ['service_tx_bytes', 'client_tx_bytes']\n",
    "epsilon = 1\n",
    "min_samples = 10\n",
    "dbscan_workflow(df, agent_id, service_id, feature_list, epsilon, min_samples)"
   ]
  },
  {
   "cell_type": "code",
   "execution_count": 43,
   "metadata": {},
   "outputs": [
    {
     "name": "stdout",
     "output_type": "stream",
     "text": [
      "Number of outliers :  29\n"
     ]
    },
    {
     "data": {
      "image/png": "[encoded data removed]",
      "text/plain": [
       "<Figure size 432x288 with 1 Axes>"
      ]
     },
     "metadata": {
      "needs_background": "light"
     },
     "output_type": "display_data"
    }
   ],
   "source": [
    "agent_id = 7297\n",
    "service_id = 820\n",
    "feature_list = ['service_tx_bytes', 'client_tx_bytes']\n",
    "epsilon = 0.1\n",
    "min_samples = 20\n",
    "dbscan_workflow(df, agent_id, service_id, feature_list, epsilon, min_samples)"
   ]
  },
  {
   "cell_type": "code",
   "execution_count": 44,
   "metadata": {},
   "outputs": [
    {
     "name": "stdout",
     "output_type": "stream",
     "text": [
      "Number of outliers :  29\n"
     ]
    },
    {
     "data": {
      "image/png": "[encoded data removed]",
      "text/plain": [
       "<Figure size 432x288 with 1 Axes>"
      ]
     },
     "metadata": {
      "needs_background": "light"
     },
     "output_type": "display_data"
    }
   ],
   "source": [
    "agent_id = 7297\n",
    "service_id = 820\n",
    "feature_list = ['service_tx_bytes', 'client_tx_bytes']\n",
    "epsilon = 0.6\n",
    "min_samples = 20\n",
    "dbscan_workflow(df, agent_id, service_id, feature_list, epsilon, min_samples)"
   ]
  },
  {
   "cell_type": "code",
   "execution_count": 45,
   "metadata": {},
   "outputs": [
    {
     "name": "stdout",
     "output_type": "stream",
     "text": [
      "Length of cluster 0 :  24\n",
      "Number of outliers :  5\n"
     ]
    },
    {
     "data": {
      "image/png": "[encoded data removed]",
      "text/plain": [
       "<Figure size 432x288 with 1 Axes>"
      ]
     },
     "metadata": {
      "needs_background": "light"
     },
     "output_type": "display_data"
    }
   ],
   "source": [
    "agent_id = 7297\n",
    "service_id = 820\n",
    "feature_list = ['service_tx_bytes', 'client_tx_bytes']\n",
    "epsilon = 1.6\n",
    "min_samples = 20\n",
    "dbscan_workflow(df, agent_id, service_id, feature_list, epsilon, min_samples)"
   ]
  },
  {
   "cell_type": "code",
   "execution_count": 46,
   "metadata": {},
   "outputs": [
    {
     "name": "stdout",
     "output_type": "stream",
     "text": [
      "Length of cluster 0 :  13\n",
      "Number of outliers :  2\n"
     ]
    },
    {
     "data": {
      "image/png": "[encoded data removed]",
      "text/plain": [
       "<Figure size 432x288 with 1 Axes>"
      ]
     },
     "metadata": {
      "needs_background": "light"
     },
     "output_type": "display_data"
    }
   ],
   "source": [
    "agent_id = 7297\n",
    "service_id = 839\n",
    "feature_list = ['service_tx_bytes', 'client_tx_bytes']\n",
    "epsilon = 0.6\n",
    "min_samples = 10\n",
    "dbscan_workflow(df, agent_id, service_id, feature_list, epsilon, min_samples)"
   ]
  },
  {
   "cell_type": "code",
   "execution_count": 47,
   "metadata": {},
   "outputs": [
    {
     "name": "stdout",
     "output_type": "stream",
     "text": [
      "Length of cluster 0 :  11\n",
      "Number of outliers :  4\n"
     ]
    },
    {
     "data": {
      "image/png": "[encoded data removed]",
      "text/plain": [
       "<Figure size 432x288 with 1 Axes>"
      ]
     },
     "metadata": {
      "needs_background": "light"
     },
     "output_type": "display_data"
    }
   ],
   "source": [
    "agent_id = 7297\n",
    "service_id = 839\n",
    "feature_list = ['service_tx_bytes', 'client_tx_bytes']\n",
    "epsilon = 0.1\n",
    "min_samples = 10\n",
    "dbscan_workflow(df, agent_id, service_id, feature_list, epsilon, min_samples)"
   ]
  },
  {
   "cell_type": "code",
   "execution_count": 48,
   "metadata": {},
   "outputs": [
    {
     "name": "stdout",
     "output_type": "stream",
     "text": [
      "Length of cluster 0 :  13\n",
      "Number of outliers :  2\n"
     ]
    },
    {
     "data": {
      "image/png": "[encoded data removed]",
      "text/plain": [
       "<Figure size 432x288 with 1 Axes>"
      ]
     },
     "metadata": {
      "needs_background": "light"
     },
     "output_type": "display_data"
    }
   ],
   "source": [
    "agent_id = 7297\n",
    "service_id = 839\n",
    "feature_list = ['service_tx_bytes', 'client_tx_bytes']\n",
    "epsilon = 0.6\n",
    "min_samples = 2\n",
    "dbscan_workflow(df, agent_id, service_id, feature_list, epsilon, min_samples)"
   ]
  },
  {
   "cell_type": "code",
   "execution_count": 49,
   "metadata": {},
   "outputs": [
    {
     "name": "stdout",
     "output_type": "stream",
     "text": [
      "Length of cluster 0 :  58\n",
      "Length of cluster 1 :  2\n",
      "Number of outliers :  1\n"
     ]
    },
    {
     "data": {
      "image/png": "[encoded data removed]",
      "text/plain": [
       "<Figure size 432x288 with 1 Axes>"
      ]
     },
     "metadata": {
      "needs_background": "light"
     },
     "output_type": "display_data"
    }
   ],
   "source": [
    "agent_id = 7238\n",
    "service_id = 700\n",
    "feature_list = ['service_tx_bytes', 'client_tx_bytes']\n",
    "epsilon = 0.5\n",
    "min_samples = 2\n",
    "dbscan_workflow(df, agent_id, service_id, feature_list, epsilon, min_samples)"
   ]
  },
  {
   "cell_type": "code",
   "execution_count": 50,
   "metadata": {},
   "outputs": [
    {
     "name": "stdout",
     "output_type": "stream",
     "text": [
      "service_id\n",
      "700    700\n",
      "701    701\n",
      "706    706\n",
      "725    725\n",
      "741    741\n",
      "770    770\n",
      "799    799\n",
      "800    800\n",
      "801    801\n",
      "809    809\n",
      "818    818\n",
      "820    820\n",
      "834    834\n",
      "838    838\n",
      "Name: service_id, dtype: int64\n"
     ]
    }
   ],
   "source": [
    "agent_id = 7238\n",
    "show_unique_service_ids(df, agent_id)"
   ]
  },
  {
   "cell_type": "code",
   "execution_count": 51,
   "metadata": {},
   "outputs": [
    {
     "name": "stdout",
     "output_type": "stream",
     "text": [
      "Length of cluster 0 :  10\n",
      "Length of cluster 1 :  5\n",
      "Number of outliers :  46\n"
     ]
    },
    {
     "data": {
      "image/png": "[encoded data removed]",
      "text/plain": [
       "<Figure size 432x288 with 1 Axes>"
      ]
     },
     "metadata": {
      "needs_background": "light"
     },
     "output_type": "display_data"
    }
   ],
   "source": [
    "agent_id = 7238\n",
    "service_id = 700\n",
    "feature_list = ['service_tx_bytes', 'client_tx_bytes']\n",
    "epsilon = 0.1\n",
    "min_samples = 10\n",
    "dbscan_workflow(df, agent_id, service_id, feature_list, epsilon, min_samples)"
   ]
  },
  {
   "cell_type": "code",
   "execution_count": 52,
   "metadata": {},
   "outputs": [
    {
     "name": "stdout",
     "output_type": "stream",
     "text": [
      "Length of cluster 0 :  17\n",
      "Length of cluster 1 :  3\n",
      "Length of cluster 2 :  11\n",
      "Number of outliers :  30\n"
     ]
    },
    {
     "data": {
      "image/png": "[encoded data removed]",
      "text/plain": [
       "<Figure size 432x288 with 1 Axes>"
      ]
     },
     "metadata": {
      "needs_background": "light"
     },
     "output_type": "display_data"
    }
   ],
   "source": [
    "agent_id = 7238\n",
    "service_id = 700\n",
    "feature_list = ['service_tx_bytes', 'client_tx_bytes']\n",
    "epsilon = 0.1\n",
    "min_samples = 3\n",
    "dbscan_workflow(df, agent_id, service_id, feature_list, epsilon, min_samples)"
   ]
  },
  {
   "cell_type": "code",
   "execution_count": 53,
   "metadata": {},
   "outputs": [
    {
     "name": "stdout",
     "output_type": "stream",
     "text": [
      "Length of cluster 0 :  16\n",
      "Length of cluster 1 :  8\n",
      "Number of outliers :  37\n"
     ]
    },
    {
     "data": {
      "image/png": "[encoded data removed]",
      "text/plain": [
       "<Figure size 432x288 with 1 Axes>"
      ]
     },
     "metadata": {
      "needs_background": "light"
     },
     "output_type": "display_data"
    }
   ],
   "source": [
    "agent_id = 7238\n",
    "service_id = 700\n",
    "feature_list = ['service_tx_bytes', 'client_tx_bytes']\n",
    "epsilon = 0.1\n",
    "min_samples = 6\n",
    "dbscan_workflow(df, agent_id, service_id, feature_list, epsilon, min_samples)"
   ]
  },
  {
   "cell_type": "code",
   "execution_count": 54,
   "metadata": {},
   "outputs": [
    {
     "name": "stdout",
     "output_type": "stream",
     "text": [
      "Length of cluster 0 :  44\n",
      "Length of cluster 1 :  4\n",
      "Length of cluster 2 :  10\n",
      "Number of outliers :  3\n"
     ]
    },
    {
     "data": {
      "image/png": "[encoded data removed]",
      "text/plain": [
       "<Figure size 432x288 with 1 Axes>"
      ]
     },
     "metadata": {
      "needs_background": "light"
     },
     "output_type": "display_data"
    }
   ],
   "source": [
    "agent_id = 7238\n",
    "service_id = 700\n",
    "feature_list = ['service_tx_bytes', 'client_tx_bytes']\n",
    "epsilon = 0.4\n",
    "min_samples = 3\n",
    "dbscan_workflow(df, agent_id, service_id, feature_list, epsilon, min_samples)"
   ]
  },
  {
   "cell_type": "code",
   "execution_count": 55,
   "metadata": {},
   "outputs": [
    {
     "name": "stdout",
     "output_type": "stream",
     "text": [
      "Length of cluster 0 :  44\n",
      "Number of outliers :  17\n"
     ]
    },
    {
     "data": {
      "image/png": "[encoded data removed]",
      "text/plain": [
       "<Figure size 432x288 with 1 Axes>"
      ]
     },
     "metadata": {
      "needs_background": "light"
     },
     "output_type": "display_data"
    }
   ],
   "source": [
    "agent_id = 7238\n",
    "service_id = 700\n",
    "feature_list = ['service_tx_bytes', 'client_tx_bytes']\n",
    "epsilon = 0.8\n",
    "min_samples = 20\n",
    "dbscan_workflow(df, agent_id, service_id, feature_list, epsilon, min_samples)"
   ]
  },
  {
   "cell_type": "code",
   "execution_count": 56,
   "metadata": {},
   "outputs": [
    {
     "name": "stdout",
     "output_type": "stream",
     "text": [
      "Length of cluster 0 :  10\n",
      "Length of cluster 1 :  5\n",
      "Number of outliers :  46\n"
     ]
    },
    {
     "data": {
      "image/png": "[encoded data removed]",
      "text/plain": [
       "<Figure size 432x288 with 1 Axes>"
      ]
     },
     "metadata": {
      "needs_background": "light"
     },
     "output_type": "display_data"
    }
   ],
   "source": [
    "agent_id = 7238\n",
    "service_id = 700\n",
    "feature_list = ['service_tx_bytes', 'client_tx_bytes']\n",
    "epsilon = 0.1\n",
    "min_samples = 10\n",
    "dbscan_workflow(df, agent_id, service_id, feature_list, epsilon, min_samples)"
   ]
  },
  {
   "cell_type": "code",
   "execution_count": 57,
   "metadata": {},
   "outputs": [
    {
     "name": "stdout",
     "output_type": "stream",
     "text": [
      "Length of cluster 0 :  36\n",
      "Number of outliers :  25\n"
     ]
    },
    {
     "data": {
      "image/png": "[encoded data removed]",
      "text/plain": [
       "<Figure size 432x288 with 1 Axes>"
      ]
     },
     "metadata": {
      "needs_background": "light"
     },
     "output_type": "display_data"
    }
   ],
   "source": [
    "agent_id = 7238\n",
    "service_id = 700\n",
    "feature_list = ['service_tx_bytes', 'client_tx_bytes']\n",
    "epsilon = 0.3\n",
    "min_samples = 10\n",
    "dbscan_workflow(df, agent_id, service_id, feature_list, epsilon, min_samples)"
   ]
  },
  {
   "cell_type": "code",
   "execution_count": 58,
   "metadata": {},
   "outputs": [
    {
     "name": "stdout",
     "output_type": "stream",
     "text": [
      "Length of cluster 0 :  55\n",
      "Number of outliers :  6\n"
     ]
    },
    {
     "data": {
      "image/png": "[encoded data removed]",
      "text/plain": [
       "<Figure size 432x288 with 1 Axes>"
      ]
     },
     "metadata": {
      "needs_background": "light"
     },
     "output_type": "display_data"
    }
   ],
   "source": [
    "agent_id = 7238\n",
    "service_id = 700\n",
    "feature_list = ['service_tx_bytes', 'client_tx_bytes']\n",
    "epsilon = 0.8\n",
    "min_samples = 10\n",
    "dbscan_workflow(df, agent_id, service_id, feature_list, epsilon, min_samples)"
   ]
  },
  {
   "cell_type": "code",
   "execution_count": 59,
   "metadata": {},
   "outputs": [
    {
     "name": "stdout",
     "output_type": "stream",
     "text": [
      "Length of cluster 0 :  43\n",
      "Length of cluster 1 :  2\n",
      "Length of cluster 2 :  9\n",
      "Length of cluster 3 :  2\n",
      "Number of outliers :  5\n"
     ]
    },
    {
     "data": {
      "image/png": "[encoded data removed]",
      "text/plain": [
       "<Figure size 432x288 with 1 Axes>"
      ]
     },
     "metadata": {
      "needs_background": "light"
     },
     "output_type": "display_data"
    }
   ],
   "source": [
    "agent_id = 7238\n",
    "service_id = 700\n",
    "feature_list = ['service_tx_bytes', 'client_tx_bytes']\n",
    "epsilon = 0.3\n",
    "min_samples = 2\n",
    "dbscan_workflow(df, agent_id, service_id, feature_list, epsilon, min_samples)"
   ]
  },
  {
   "cell_type": "code",
   "execution_count": 60,
   "metadata": {},
   "outputs": [
    {
     "name": "stdout",
     "output_type": "stream",
     "text": [
      "Length of cluster 0 :  39\n",
      "Number of outliers :  22\n"
     ]
    },
    {
     "data": {
      "image/png": "[encoded data removed]",
      "text/plain": [
       "<Figure size 432x288 with 1 Axes>"
      ]
     },
     "metadata": {
      "needs_background": "light"
     },
     "output_type": "display_data"
    }
   ],
   "source": [
    "agent_id = 7238\n",
    "service_id = 700\n",
    "feature_list = ['service_tx_bytes', 'client_tx_bytes']\n",
    "epsilon = 0.3\n",
    "min_samples = 6\n",
    "dbscan_workflow(df, agent_id, service_id, feature_list, epsilon, min_samples)"
   ]
  },
  {
   "cell_type": "code",
   "execution_count": 61,
   "metadata": {},
   "outputs": [
    {
     "name": "stdout",
     "output_type": "stream",
     "text": [
      "Length of cluster 0 :  58\n",
      "Length of cluster 1 :  2\n",
      "Number of outliers :  1\n"
     ]
    },
    {
     "data": {
      "image/png": "[encoded data removed]",
      "text/plain": [
       "<Figure size 432x288 with 1 Axes>"
      ]
     },
     "metadata": {
      "needs_background": "light"
     },
     "output_type": "display_data"
    }
   ],
   "source": [
    "agent_id = 7238\n",
    "service_id = 700\n",
    "feature_list = ['service_tx_bytes', 'client_tx_bytes']\n",
    "epsilon = 0.6\n",
    "min_samples = 2\n",
    "dbscan_workflow(df, agent_id, service_id, feature_list, epsilon, min_samples)"
   ]
  },
  {
   "cell_type": "code",
   "execution_count": 62,
   "metadata": {},
   "outputs": [
    {
     "name": "stdout",
     "output_type": "stream",
     "text": [
      "Length of cluster 0 :  56\n",
      "Number of outliers :  5\n"
     ]
    },
    {
     "data": {
      "image/png": "[encoded data removed]",
      "text/plain": [
       "<Figure size 432x288 with 1 Axes>"
      ]
     },
     "metadata": {
      "needs_background": "light"
     },
     "output_type": "display_data"
    }
   ],
   "source": [
    "agent_id = 7238\n",
    "service_id = 700\n",
    "feature_list = ['service_tx_bytes', 'client_tx_bytes']\n",
    "epsilon = 0.8\n",
    "min_samples = 9\n",
    "dbscan_workflow(df, agent_id, service_id, feature_list, epsilon, min_samples)"
   ]
  },
  {
   "cell_type": "code",
   "execution_count": 63,
   "metadata": {},
   "outputs": [
    {
     "name": "stdout",
     "output_type": "stream",
     "text": [
      "Length of cluster 0 :  43\n",
      "Length of cluster 1 :  2\n",
      "Length of cluster 2 :  9\n",
      "Length of cluster 3 :  2\n",
      "Number of outliers :  5\n"
     ]
    },
    {
     "data": {
      "image/png": "[encoded data removed]",
      "text/plain": [
       "<Figure size 432x288 with 1 Axes>"
      ]
     },
     "metadata": {
      "needs_background": "light"
     },
     "output_type": "display_data"
    }
   ],
   "source": [
    "agent_id = 7238\n",
    "service_id = 700\n",
    "feature_list = ['service_tx_bytes', 'client_tx_bytes']\n",
    "epsilon = 0.3\n",
    "min_samples = 2\n",
    "dbscan_workflow(df, agent_id, service_id, feature_list, epsilon, min_samples)"
   ]
  },
  {
   "cell_type": "code",
   "execution_count": 64,
   "metadata": {},
   "outputs": [
    {
     "name": "stdout",
     "output_type": "stream",
     "text": [
      "Length of cluster 0 :  17\n",
      "Length of cluster 1 :  2\n",
      "Length of cluster 2 :  3\n",
      "Length of cluster 3 :  11\n",
      "Length of cluster 4 :  2\n",
      "Number of outliers :  26\n"
     ]
    },
    {
     "data": {
      "image/png": "[encoded data removed]",
      "text/plain": [
       "<Figure size 432x288 with 1 Axes>"
      ]
     },
     "metadata": {
      "needs_background": "light"
     },
     "output_type": "display_data"
    }
   ],
   "source": [
    "agent_id = 7238\n",
    "service_id = 700\n",
    "feature_list = ['service_tx_bytes', 'client_tx_bytes']\n",
    "epsilon = 0.1\n",
    "min_samples = 2\n",
    "dbscan_workflow(df, agent_id, service_id, feature_list, epsilon, min_samples)"
   ]
  },
  {
   "cell_type": "code",
   "execution_count": 65,
   "metadata": {},
   "outputs": [
    {
     "name": "stdout",
     "output_type": "stream",
     "text": [
      "Length of cluster 0 :  15\n",
      "Length of cluster 1 :  8\n",
      "Number of outliers :  38\n"
     ]
    },
    {
     "data": {
      "image/png": "[encoded data removed]",
      "text/plain": [
       "<Figure size 432x288 with 1 Axes>"
      ]
     },
     "metadata": {
      "needs_background": "light"
     },
     "output_type": "display_data"
    }
   ],
   "source": [
    "agent_id = 7238\n",
    "service_id = 700\n",
    "feature_list = ['service_tx_bytes', 'client_tx_bytes']\n",
    "epsilon = 0.1\n",
    "min_samples = 7\n",
    "dbscan_workflow(df, agent_id, service_id, feature_list, epsilon, min_samples)"
   ]
  },
  {
   "cell_type": "code",
   "execution_count": 66,
   "metadata": {},
   "outputs": [
    {
     "name": "stdout",
     "output_type": "stream",
     "text": [
      "Length of cluster 0 :  10\n",
      "Length of cluster 1 :  5\n",
      "Number of outliers :  46\n"
     ]
    },
    {
     "data": {
      "image/png": "[encoded data removed]",
      "text/plain": [
       "<Figure size 432x288 with 1 Axes>"
      ]
     },
     "metadata": {
      "needs_background": "light"
     },
     "output_type": "display_data"
    }
   ],
   "source": [
    "agent_id = 7238\n",
    "service_id = 700\n",
    "feature_list = ['service_tx_bytes', 'client_tx_bytes']\n",
    "epsilon = 0.1\n",
    "min_samples = 9\n",
    "dbscan_workflow(df, agent_id, service_id, feature_list, epsilon, min_samples)"
   ]
  },
  {
   "cell_type": "code",
   "execution_count": 67,
   "metadata": {},
   "outputs": [
    {
     "name": "stdout",
     "output_type": "stream",
     "text": [
      "Number of outliers :  61\n"
     ]
    },
    {
     "data": {
      "image/png": "[encoded data removed]",
      "text/plain": [
       "<Figure size 432x288 with 1 Axes>"
      ]
     },
     "metadata": {
      "needs_background": "light"
     },
     "output_type": "display_data"
    }
   ],
   "source": [
    "agent_id = 7238\n",
    "service_id = 700\n",
    "feature_list = ['service_tx_bytes', 'client_tx_bytes']\n",
    "epsilon = 0.1\n",
    "min_samples = 13\n",
    "dbscan_workflow(df, agent_id, service_id, feature_list, epsilon, min_samples)"
   ]
  },
  {
   "cell_type": "code",
   "execution_count": 68,
   "metadata": {},
   "outputs": [
    {
     "name": "stdout",
     "output_type": "stream",
     "text": [
      "Length of cluster 0 :  43\n",
      "Length of cluster 1 :  2\n",
      "Length of cluster 2 :  9\n",
      "Length of cluster 3 :  2\n",
      "Number of outliers :  5\n"
     ]
    },
    {
     "data": {
      "image/png": "[encoded data removed]",
      "text/plain": [
       "<Figure size 432x288 with 1 Axes>"
      ]
     },
     "metadata": {
      "needs_background": "light"
     },
     "output_type": "display_data"
    }
   ],
   "source": [
    "agent_id = 7238\n",
    "service_id = 700\n",
    "feature_list = ['service_tx_bytes', 'client_tx_bytes']\n",
    "epsilon = 0.3\n",
    "min_samples = 2\n",
    "dbscan_workflow(df, agent_id, service_id, feature_list, epsilon, min_samples)"
   ]
  },
  {
   "cell_type": "code",
   "execution_count": 69,
   "metadata": {},
   "outputs": [
    {
     "name": "stdout",
     "output_type": "stream",
     "text": [
      "Length of cluster 0 :  55\n",
      "Number of outliers :  6\n"
     ]
    },
    {
     "data": {
      "image/png": "[encoded data removed]",
      "text/plain": [
       "<Figure size 432x288 with 1 Axes>"
      ]
     },
     "metadata": {
      "needs_background": "light"
     },
     "output_type": "display_data"
    }
   ],
   "source": [
    "agent_id = 7238\n",
    "service_id = 700\n",
    "feature_list = ['service_tx_bytes', 'client_tx_bytes']\n",
    "epsilon = 0.6\n",
    "min_samples = 7\n",
    "dbscan_workflow(df, agent_id, service_id, feature_list, epsilon, min_samples)"
   ]
  },
  {
   "cell_type": "code",
   "execution_count": 70,
   "metadata": {},
   "outputs": [
    {
     "name": "stdout",
     "output_type": "stream",
     "text": [
      "Length of cluster 0 :  43\n",
      "Number of outliers :  18\n"
     ]
    },
    {
     "data": {
      "image/png": "[encoded data removed]",
      "text/plain": [
       "<Figure size 432x288 with 1 Axes>"
      ]
     },
     "metadata": {
      "needs_background": "light"
     },
     "output_type": "display_data"
    }
   ],
   "source": [
    "agent_id = 7238\n",
    "service_id = 700\n",
    "feature_list = ['service_tx_bytes', 'client_tx_bytes']\n",
    "epsilon = 0.7\n",
    "min_samples = 20\n",
    "dbscan_workflow(df, agent_id, service_id, feature_list, epsilon, min_samples)"
   ]
  }
 ],
 "metadata": {
  "kernelspec": {
   "display_name": "Python 3",
   "language": "python",
   "name": "python3"
  },
  "language_info": {
   "codemirror_mode": {
    "name": "ipython",
    "version": 3
   },
   "file_extension": ".py",
   "mimetype": "text/x-python",
   "name": "python",
   "nbconvert_exporter": "python",
   "pygments_lexer": "ipython3",
   "version": "3.7.6"
  }
 },
 "nbformat": 4,
 "nbformat_minor": 4
}
