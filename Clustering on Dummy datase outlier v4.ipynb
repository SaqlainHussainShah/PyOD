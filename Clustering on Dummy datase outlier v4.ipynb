{
 "cells": [
  {
   "cell_type": "code",
   "execution_count": 2,
   "metadata": {},
   "outputs": [],
   "source": [
    "import pandas as pd\n",
    "import matplotlib.pyplot as plt\n",
    "import numpy as np\n",
    "import time\n",
    "from sklearn.metrics import accuracy_score"
   ]
  },
  {
   "cell_type": "code",
   "execution_count": 3,
   "metadata": {},
   "outputs": [],
   "source": [
    "df=pd.read_csv(\"./dummy dataset/localhost_1_pcap_Flow.csv\")"
   ]
  },
  {
   "cell_type": "code",
   "execution_count": 4,
   "metadata": {},
   "outputs": [
    {
     "data": {
      "text/html": [
       "<div>\n",
       "<style scoped>\n",
       "    .dataframe tbody tr th:only-of-type {\n",
       "        vertical-align: middle;\n",
       "    }\n",
       "\n",
       "    .dataframe tbody tr th {\n",
       "        vertical-align: top;\n",
       "    }\n",
       "\n",
       "    .dataframe thead th {\n",
       "        text-align: right;\n",
       "    }\n",
       "</style>\n",
       "<table border=\"1\" class=\"dataframe\">\n",
       "  <thead>\n",
       "    <tr style=\"text-align: right;\">\n",
       "      <th></th>\n",
       "      <th>Flow ID</th>\n",
       "      <th>Src IP</th>\n",
       "      <th>Src Port</th>\n",
       "      <th>Dst IP</th>\n",
       "      <th>Dst Port</th>\n",
       "      <th>Protocol</th>\n",
       "      <th>Timestamp</th>\n",
       "      <th>Flow Duration</th>\n",
       "      <th>Total Fwd Packet</th>\n",
       "      <th>Total Bwd packets</th>\n",
       "      <th>...</th>\n",
       "      <th>Fwd Seg Size Min</th>\n",
       "      <th>Active Mean</th>\n",
       "      <th>Active Std</th>\n",
       "      <th>Active Max</th>\n",
       "      <th>Active Min</th>\n",
       "      <th>Idle Mean</th>\n",
       "      <th>Idle Std</th>\n",
       "      <th>Idle Max</th>\n",
       "      <th>Idle Min</th>\n",
       "      <th>Label</th>\n",
       "    </tr>\n",
       "  </thead>\n",
       "  <tbody>\n",
       "    <tr>\n",
       "      <th>0</th>\n",
       "      <td>127.128.127.0-0.1.127.0-0-0-0</td>\n",
       "      <td>127.128.127.0</td>\n",
       "      <td>0</td>\n",
       "      <td>0.1.127.0</td>\n",
       "      <td>0</td>\n",
       "      <td>0</td>\n",
       "      <td>21/07/2020 02:27:17 PM</td>\n",
       "      <td>294</td>\n",
       "      <td>2</td>\n",
       "      <td>0</td>\n",
       "      <td>...</td>\n",
       "      <td>0</td>\n",
       "      <td>0</td>\n",
       "      <td>0</td>\n",
       "      <td>0</td>\n",
       "      <td>0</td>\n",
       "      <td>0.000000e+00</td>\n",
       "      <td>0.000000e+00</td>\n",
       "      <td>0.000000e+00</td>\n",
       "      <td>0.0</td>\n",
       "      <td>NeedManualLabel</td>\n",
       "    </tr>\n",
       "    <tr>\n",
       "      <th>1</th>\n",
       "      <td>202.164.127.0-0.1.127.0-0-0-0</td>\n",
       "      <td>202.164.127.0</td>\n",
       "      <td>0</td>\n",
       "      <td>0.1.127.0</td>\n",
       "      <td>0</td>\n",
       "      <td>0</td>\n",
       "      <td>21/07/2020 03:15:28 PM</td>\n",
       "      <td>8993</td>\n",
       "      <td>2</td>\n",
       "      <td>0</td>\n",
       "      <td>...</td>\n",
       "      <td>0</td>\n",
       "      <td>0</td>\n",
       "      <td>0</td>\n",
       "      <td>0</td>\n",
       "      <td>0</td>\n",
       "      <td>0.000000e+00</td>\n",
       "      <td>0.000000e+00</td>\n",
       "      <td>0.000000e+00</td>\n",
       "      <td>0.0</td>\n",
       "      <td>NeedManualLabel</td>\n",
       "    </tr>\n",
       "    <tr>\n",
       "      <th>2</th>\n",
       "      <td>60.206.127.0-0.1.127.0-0-0-0</td>\n",
       "      <td>60.206.127.0</td>\n",
       "      <td>0</td>\n",
       "      <td>0.1.127.0</td>\n",
       "      <td>0</td>\n",
       "      <td>0</td>\n",
       "      <td>21/07/2020 03:38:21 PM</td>\n",
       "      <td>88320782</td>\n",
       "      <td>3</td>\n",
       "      <td>0</td>\n",
       "      <td>...</td>\n",
       "      <td>0</td>\n",
       "      <td>0</td>\n",
       "      <td>0</td>\n",
       "      <td>0</td>\n",
       "      <td>0</td>\n",
       "      <td>7.976640e+14</td>\n",
       "      <td>1.128067e+15</td>\n",
       "      <td>1.595328e+15</td>\n",
       "      <td>88308769.0</td>\n",
       "      <td>NeedManualLabel</td>\n",
       "    </tr>\n",
       "    <tr>\n",
       "      <th>3</th>\n",
       "      <td>127.139.127.0-0.1.127.0-0-0-0</td>\n",
       "      <td>127.139.127.0</td>\n",
       "      <td>0</td>\n",
       "      <td>0.1.127.0</td>\n",
       "      <td>0</td>\n",
       "      <td>0</td>\n",
       "      <td>21/07/2020 02:27:17 PM</td>\n",
       "      <td>366</td>\n",
       "      <td>2</td>\n",
       "      <td>0</td>\n",
       "      <td>...</td>\n",
       "      <td>0</td>\n",
       "      <td>0</td>\n",
       "      <td>0</td>\n",
       "      <td>0</td>\n",
       "      <td>0</td>\n",
       "      <td>0.000000e+00</td>\n",
       "      <td>0.000000e+00</td>\n",
       "      <td>0.000000e+00</td>\n",
       "      <td>0.0</td>\n",
       "      <td>NeedManualLabel</td>\n",
       "    </tr>\n",
       "    <tr>\n",
       "      <th>4</th>\n",
       "      <td>56.248.127.0-0.53.127.0-0-0-0</td>\n",
       "      <td>56.248.127.0</td>\n",
       "      <td>0</td>\n",
       "      <td>0.53.127.0</td>\n",
       "      <td>0</td>\n",
       "      <td>0</td>\n",
       "      <td>21/07/2020 02:27:17 PM</td>\n",
       "      <td>262</td>\n",
       "      <td>2</td>\n",
       "      <td>0</td>\n",
       "      <td>...</td>\n",
       "      <td>0</td>\n",
       "      <td>0</td>\n",
       "      <td>0</td>\n",
       "      <td>0</td>\n",
       "      <td>0</td>\n",
       "      <td>0.000000e+00</td>\n",
       "      <td>0.000000e+00</td>\n",
       "      <td>0.000000e+00</td>\n",
       "      <td>0.0</td>\n",
       "      <td>NeedManualLabel</td>\n",
       "    </tr>\n",
       "  </tbody>\n",
       "</table>\n",
       "<p>5 rows × 84 columns</p>\n",
       "</div>"
      ],
      "text/plain": [
       "                         Flow ID         Src IP  Src Port      Dst IP  \\\n",
       "0  127.128.127.0-0.1.127.0-0-0-0  127.128.127.0         0   0.1.127.0   \n",
       "1  202.164.127.0-0.1.127.0-0-0-0  202.164.127.0         0   0.1.127.0   \n",
       "2   60.206.127.0-0.1.127.0-0-0-0   60.206.127.0         0   0.1.127.0   \n",
       "3  127.139.127.0-0.1.127.0-0-0-0  127.139.127.0         0   0.1.127.0   \n",
       "4  56.248.127.0-0.53.127.0-0-0-0   56.248.127.0         0  0.53.127.0   \n",
       "\n",
       "   Dst Port  Protocol               Timestamp  Flow Duration  \\\n",
       "0         0         0  21/07/2020 02:27:17 PM            294   \n",
       "1         0         0  21/07/2020 03:15:28 PM           8993   \n",
       "2         0         0  21/07/2020 03:38:21 PM       88320782   \n",
       "3         0         0  21/07/2020 02:27:17 PM            366   \n",
       "4         0         0  21/07/2020 02:27:17 PM            262   \n",
       "\n",
       "   Total Fwd Packet  Total Bwd packets  ...  Fwd Seg Size Min  Active Mean  \\\n",
       "0                 2                  0  ...                 0            0   \n",
       "1                 2                  0  ...                 0            0   \n",
       "2                 3                  0  ...                 0            0   \n",
       "3                 2                  0  ...                 0            0   \n",
       "4                 2                  0  ...                 0            0   \n",
       "\n",
       "   Active Std  Active Max  Active Min     Idle Mean      Idle Std  \\\n",
       "0           0           0           0  0.000000e+00  0.000000e+00   \n",
       "1           0           0           0  0.000000e+00  0.000000e+00   \n",
       "2           0           0           0  7.976640e+14  1.128067e+15   \n",
       "3           0           0           0  0.000000e+00  0.000000e+00   \n",
       "4           0           0           0  0.000000e+00  0.000000e+00   \n",
       "\n",
       "       Idle Max    Idle Min            Label  \n",
       "0  0.000000e+00         0.0  NeedManualLabel  \n",
       "1  0.000000e+00         0.0  NeedManualLabel  \n",
       "2  1.595328e+15  88308769.0  NeedManualLabel  \n",
       "3  0.000000e+00         0.0  NeedManualLabel  \n",
       "4  0.000000e+00         0.0  NeedManualLabel  \n",
       "\n",
       "[5 rows x 84 columns]"
      ]
     },
     "execution_count": 4,
     "metadata": {},
     "output_type": "execute_result"
    }
   ],
   "source": [
    "df.head()"
   ]
  },
  {
   "cell_type": "code",
   "execution_count": 5,
   "metadata": {},
   "outputs": [
    {
     "data": {
      "text/html": [
       "<div>\n",
       "<style scoped>\n",
       "    .dataframe tbody tr th:only-of-type {\n",
       "        vertical-align: middle;\n",
       "    }\n",
       "\n",
       "    .dataframe tbody tr th {\n",
       "        vertical-align: top;\n",
       "    }\n",
       "\n",
       "    .dataframe thead th {\n",
       "        text-align: right;\n",
       "    }\n",
       "</style>\n",
       "<table border=\"1\" class=\"dataframe\">\n",
       "  <thead>\n",
       "    <tr style=\"text-align: right;\">\n",
       "      <th></th>\n",
       "      <th>Flow ID</th>\n",
       "      <th>Src IP</th>\n",
       "      <th>Src Port</th>\n",
       "      <th>Dst IP</th>\n",
       "      <th>Dst Port</th>\n",
       "      <th>Protocol</th>\n",
       "      <th>Timestamp</th>\n",
       "      <th>Flow Duration</th>\n",
       "      <th>Total Fwd Packet</th>\n",
       "      <th>Total Bwd packets</th>\n",
       "      <th>...</th>\n",
       "      <th>Fwd Act Data Pkts</th>\n",
       "      <th>Fwd Seg Size Min</th>\n",
       "      <th>Active Mean</th>\n",
       "      <th>Active Std</th>\n",
       "      <th>Active Max</th>\n",
       "      <th>Active Min</th>\n",
       "      <th>Idle Mean</th>\n",
       "      <th>Idle Std</th>\n",
       "      <th>Idle Max</th>\n",
       "      <th>Idle Min</th>\n",
       "    </tr>\n",
       "    <tr>\n",
       "      <th>Label</th>\n",
       "      <th></th>\n",
       "      <th></th>\n",
       "      <th></th>\n",
       "      <th></th>\n",
       "      <th></th>\n",
       "      <th></th>\n",
       "      <th></th>\n",
       "      <th></th>\n",
       "      <th></th>\n",
       "      <th></th>\n",
       "      <th></th>\n",
       "      <th></th>\n",
       "      <th></th>\n",
       "      <th></th>\n",
       "      <th></th>\n",
       "      <th></th>\n",
       "      <th></th>\n",
       "      <th></th>\n",
       "      <th></th>\n",
       "      <th></th>\n",
       "      <th></th>\n",
       "    </tr>\n",
       "  </thead>\n",
       "  <tbody>\n",
       "    <tr>\n",
       "      <th>NeedManualLabel</th>\n",
       "      <td>127.128.127.0-0.1.127.0-0-0-0</td>\n",
       "      <td>127.128.127.0</td>\n",
       "      <td>0</td>\n",
       "      <td>0.1.127.0</td>\n",
       "      <td>0</td>\n",
       "      <td>0</td>\n",
       "      <td>21/07/2020 02:27:17 PM</td>\n",
       "      <td>294</td>\n",
       "      <td>2</td>\n",
       "      <td>0</td>\n",
       "      <td>...</td>\n",
       "      <td>0</td>\n",
       "      <td>0</td>\n",
       "      <td>0</td>\n",
       "      <td>0</td>\n",
       "      <td>0</td>\n",
       "      <td>0</td>\n",
       "      <td>0.0</td>\n",
       "      <td>0.0</td>\n",
       "      <td>0.0</td>\n",
       "      <td>0.0</td>\n",
       "    </tr>\n",
       "  </tbody>\n",
       "</table>\n",
       "<p>1 rows × 83 columns</p>\n",
       "</div>"
      ],
      "text/plain": [
       "                                       Flow ID         Src IP  Src Port  \\\n",
       "Label                                                                     \n",
       "NeedManualLabel  127.128.127.0-0.1.127.0-0-0-0  127.128.127.0         0   \n",
       "\n",
       "                    Dst IP  Dst Port  Protocol               Timestamp  \\\n",
       "Label                                                                    \n",
       "NeedManualLabel  0.1.127.0         0         0  21/07/2020 02:27:17 PM   \n",
       "\n",
       "                 Flow Duration  Total Fwd Packet  Total Bwd packets  ...  \\\n",
       "Label                                                                ...   \n",
       "NeedManualLabel            294                 2                  0  ...   \n",
       "\n",
       "                 Fwd Act Data Pkts  Fwd Seg Size Min  Active Mean  Active Std  \\\n",
       "Label                                                                           \n",
       "NeedManualLabel                  0                 0            0           0   \n",
       "\n",
       "                 Active Max  Active Min  Idle Mean  Idle Std  Idle Max  \\\n",
       "Label                                                                    \n",
       "NeedManualLabel           0           0        0.0       0.0       0.0   \n",
       "\n",
       "                 Idle Min  \n",
       "Label                      \n",
       "NeedManualLabel       0.0  \n",
       "\n",
       "[1 rows x 83 columns]"
      ]
     },
     "execution_count": 5,
     "metadata": {},
     "output_type": "execute_result"
    }
   ],
   "source": [
    "df.groupby('Label').first()"
   ]
  },
  {
   "cell_type": "code",
   "execution_count": 6,
   "metadata": {},
   "outputs": [
    {
     "name": "stdout",
     "output_type": "stream",
     "text": [
      "<class 'pandas.core.frame.DataFrame'>\n",
      "RangeIndex: 91 entries, 0 to 90\n",
      "Data columns (total 84 columns):\n",
      " #   Column                      Non-Null Count  Dtype  \n",
      "---  ------                      --------------  -----  \n",
      " 0   Flow ID                     91 non-null     object \n",
      " 1   Src IP                      91 non-null     object \n",
      " 2   Src Port                    91 non-null     int64  \n",
      " 3   Dst IP                      91 non-null     object \n",
      " 4   Dst Port                    91 non-null     int64  \n",
      " 5   Protocol                    91 non-null     int64  \n",
      " 6   Timestamp                   91 non-null     object \n",
      " 7   Flow Duration               91 non-null     int64  \n",
      " 8   Total Fwd Packet            91 non-null     int64  \n",
      " 9   Total Bwd packets           91 non-null     int64  \n",
      " 10  Total Length of Fwd Packet  91 non-null     int64  \n",
      " 11  Total Length of Bwd Packet  91 non-null     int64  \n",
      " 12  Fwd Packet Length Max       91 non-null     int64  \n",
      " 13  Fwd Packet Length Min       91 non-null     int64  \n",
      " 14  Fwd Packet Length Mean      91 non-null     int64  \n",
      " 15  Fwd Packet Length Std       91 non-null     int64  \n",
      " 16  Bwd Packet Length Max       91 non-null     int64  \n",
      " 17  Bwd Packet Length Min       91 non-null     int64  \n",
      " 18  Bwd Packet Length Mean      91 non-null     int64  \n",
      " 19  Bwd Packet Length Std       91 non-null     int64  \n",
      " 20  Flow Bytes/s                91 non-null     int64  \n",
      " 21  Flow Packets/s              91 non-null     float64\n",
      " 22  Flow IAT Mean               91 non-null     float64\n",
      " 23  Flow IAT Std                91 non-null     float64\n",
      " 24  Flow IAT Max                91 non-null     int64  \n",
      " 25  Flow IAT Min                91 non-null     int64  \n",
      " 26  Fwd IAT Total               91 non-null     int64  \n",
      " 27  Fwd IAT Mean                91 non-null     float64\n",
      " 28  Fwd IAT Std                 91 non-null     float64\n",
      " 29  Fwd IAT Max                 91 non-null     int64  \n",
      " 30  Fwd IAT Min                 91 non-null     int64  \n",
      " 31  Bwd IAT Total               91 non-null     int64  \n",
      " 32  Bwd IAT Mean                91 non-null     int64  \n",
      " 33  Bwd IAT Std                 91 non-null     int64  \n",
      " 34  Bwd IAT Max                 91 non-null     int64  \n",
      " 35  Bwd IAT Min                 91 non-null     int64  \n",
      " 36  Fwd PSH Flags               91 non-null     int64  \n",
      " 37  Bwd PSH Flags               91 non-null     int64  \n",
      " 38  Fwd URG Flags               91 non-null     int64  \n",
      " 39  Bwd URG Flags               91 non-null     int64  \n",
      " 40  Fwd Header Length           91 non-null     int64  \n",
      " 41  Bwd Header Length           91 non-null     int64  \n",
      " 42  Fwd Packets/s               91 non-null     float64\n",
      " 43  Bwd Packets/s               91 non-null     int64  \n",
      " 44  Packet Length Min           91 non-null     int64  \n",
      " 45  Packet Length Max           91 non-null     int64  \n",
      " 46  Packet Length Mean          91 non-null     int64  \n",
      " 47  Packet Length Std           91 non-null     int64  \n",
      " 48  Packet Length Variance      91 non-null     int64  \n",
      " 49  FIN Flag Count              91 non-null     int64  \n",
      " 50  SYN Flag Count              91 non-null     int64  \n",
      " 51  RST Flag Count              91 non-null     int64  \n",
      " 52  PSH Flag Count              91 non-null     int64  \n",
      " 53  ACK Flag Count              91 non-null     int64  \n",
      " 54  URG Flag Count              91 non-null     int64  \n",
      " 55  CWE Flag Count              91 non-null     int64  \n",
      " 56  ECE Flag Count              91 non-null     int64  \n",
      " 57  Down/Up Ratio               91 non-null     int64  \n",
      " 58  Average Packet Size         91 non-null     int64  \n",
      " 59  Fwd Segment Size Avg        91 non-null     int64  \n",
      " 60  Bwd Segment Size Avg        91 non-null     int64  \n",
      " 61  Fwd Bytes/Bulk Avg          91 non-null     int64  \n",
      " 62  Fwd Packet/Bulk Avg         91 non-null     int64  \n",
      " 63  Fwd Bulk Rate Avg           91 non-null     int64  \n",
      " 64  Bwd Bytes/Bulk Avg          91 non-null     int64  \n",
      " 65  Bwd Packet/Bulk Avg         91 non-null     int64  \n",
      " 66  Bwd Bulk Rate Avg           91 non-null     int64  \n",
      " 67  Subflow Fwd Packets         91 non-null     int64  \n",
      " 68  Subflow Fwd Bytes           91 non-null     int64  \n",
      " 69  Subflow Bwd Packets         91 non-null     int64  \n",
      " 70  Subflow Bwd Bytes           91 non-null     int64  \n",
      " 71  FWD Init Win Bytes          91 non-null     int64  \n",
      " 72  Bwd Init Win Bytes          91 non-null     int64  \n",
      " 73  Fwd Act Data Pkts           91 non-null     int64  \n",
      " 74  Fwd Seg Size Min            91 non-null     int64  \n",
      " 75  Active Mean                 91 non-null     int64  \n",
      " 76  Active Std                  91 non-null     int64  \n",
      " 77  Active Max                  91 non-null     int64  \n",
      " 78  Active Min                  91 non-null     int64  \n",
      " 79  Idle Mean                   91 non-null     float64\n",
      " 80  Idle Std                    91 non-null     float64\n",
      " 81  Idle Max                    91 non-null     float64\n",
      " 82  Idle Min                    91 non-null     float64\n",
      " 83  Label                       91 non-null     object \n",
      "dtypes: float64(10), int64(69), object(5)\n",
      "memory usage: 59.8+ KB\n"
     ]
    }
   ],
   "source": [
    "df.info()"
   ]
  },
  {
   "cell_type": "code",
   "execution_count": 7,
   "metadata": {},
   "outputs": [
    {
     "data": {
      "text/plain": [
       "Index(['Flow ID', 'Src IP', 'Src Port', 'Dst IP', 'Dst Port', 'Protocol',\n",
       "       'Timestamp', 'Flow Duration', 'Total Fwd Packet', 'Total Bwd packets',\n",
       "       'Total Length of Fwd Packet', 'Total Length of Bwd Packet',\n",
       "       'Fwd Packet Length Max', 'Fwd Packet Length Min',\n",
       "       'Fwd Packet Length Mean', 'Fwd Packet Length Std',\n",
       "       'Bwd Packet Length Max', 'Bwd Packet Length Min',\n",
       "       'Bwd Packet Length Mean', 'Bwd Packet Length Std', 'Flow Bytes/s',\n",
       "       'Flow Packets/s', 'Flow IAT Mean', 'Flow IAT Std', 'Flow IAT Max',\n",
       "       'Flow IAT Min', 'Fwd IAT Total', 'Fwd IAT Mean', 'Fwd IAT Std',\n",
       "       'Fwd IAT Max', 'Fwd IAT Min', 'Bwd IAT Total', 'Bwd IAT Mean',\n",
       "       'Bwd IAT Std', 'Bwd IAT Max', 'Bwd IAT Min', 'Fwd PSH Flags',\n",
       "       'Bwd PSH Flags', 'Fwd URG Flags', 'Bwd URG Flags', 'Fwd Header Length',\n",
       "       'Bwd Header Length', 'Fwd Packets/s', 'Bwd Packets/s',\n",
       "       'Packet Length Min', 'Packet Length Max', 'Packet Length Mean',\n",
       "       'Packet Length Std', 'Packet Length Variance', 'FIN Flag Count',\n",
       "       'SYN Flag Count', 'RST Flag Count', 'PSH Flag Count', 'ACK Flag Count',\n",
       "       'URG Flag Count', 'CWE Flag Count', 'ECE Flag Count', 'Down/Up Ratio',\n",
       "       'Average Packet Size', 'Fwd Segment Size Avg', 'Bwd Segment Size Avg',\n",
       "       'Fwd Bytes/Bulk Avg', 'Fwd Packet/Bulk Avg', 'Fwd Bulk Rate Avg',\n",
       "       'Bwd Bytes/Bulk Avg', 'Bwd Packet/Bulk Avg', 'Bwd Bulk Rate Avg',\n",
       "       'Subflow Fwd Packets', 'Subflow Fwd Bytes', 'Subflow Bwd Packets',\n",
       "       'Subflow Bwd Bytes', 'FWD Init Win Bytes', 'Bwd Init Win Bytes',\n",
       "       'Fwd Act Data Pkts', 'Fwd Seg Size Min', 'Active Mean', 'Active Std',\n",
       "       'Active Max', 'Active Min', 'Idle Mean', 'Idle Std', 'Idle Max',\n",
       "       'Idle Min', 'Label'],\n",
       "      dtype='object')"
      ]
     },
     "execution_count": 7,
     "metadata": {},
     "output_type": "execute_result"
    }
   ],
   "source": [
    "df.columns"
   ]
  },
  {
   "cell_type": "code",
   "execution_count": 8,
   "metadata": {},
   "outputs": [],
   "source": [
    "# Data Transfer Bytes (20 MB data download)\n",
    "# No. of Packets (200 packets per sec)\n",
    "# Session Time (2 Min/session)\n",
    "# Forward Packets (100 packets/session)\n",
    "# Backward Packets (100 packets/session)\n",
    "df = df[['Flow Duration','Flow Bytes/s', 'Total Fwd Packet', 'Total Bwd packets', 'Total Length of Fwd Packet', 'Total Length of Bwd Packet']]"
   ]
  },
  {
   "cell_type": "code",
   "execution_count": 9,
   "metadata": {},
   "outputs": [
    {
     "data": {
      "text/html": [
       "<div>\n",
       "<style scoped>\n",
       "    .dataframe tbody tr th:only-of-type {\n",
       "        vertical-align: middle;\n",
       "    }\n",
       "\n",
       "    .dataframe tbody tr th {\n",
       "        vertical-align: top;\n",
       "    }\n",
       "\n",
       "    .dataframe thead th {\n",
       "        text-align: right;\n",
       "    }\n",
       "</style>\n",
       "<table border=\"1\" class=\"dataframe\">\n",
       "  <thead>\n",
       "    <tr style=\"text-align: right;\">\n",
       "      <th></th>\n",
       "      <th>Flow Duration</th>\n",
       "      <th>Flow Bytes/s</th>\n",
       "      <th>Total Fwd Packet</th>\n",
       "      <th>Total Bwd packets</th>\n",
       "      <th>Total Length of Fwd Packet</th>\n",
       "      <th>Total Length of Bwd Packet</th>\n",
       "    </tr>\n",
       "  </thead>\n",
       "  <tbody>\n",
       "    <tr>\n",
       "      <th>0</th>\n",
       "      <td>294</td>\n",
       "      <td>0</td>\n",
       "      <td>2</td>\n",
       "      <td>0</td>\n",
       "      <td>0</td>\n",
       "      <td>0</td>\n",
       "    </tr>\n",
       "    <tr>\n",
       "      <th>1</th>\n",
       "      <td>8993</td>\n",
       "      <td>0</td>\n",
       "      <td>2</td>\n",
       "      <td>0</td>\n",
       "      <td>0</td>\n",
       "      <td>0</td>\n",
       "    </tr>\n",
       "    <tr>\n",
       "      <th>2</th>\n",
       "      <td>88320782</td>\n",
       "      <td>0</td>\n",
       "      <td>3</td>\n",
       "      <td>0</td>\n",
       "      <td>0</td>\n",
       "      <td>0</td>\n",
       "    </tr>\n",
       "    <tr>\n",
       "      <th>3</th>\n",
       "      <td>366</td>\n",
       "      <td>0</td>\n",
       "      <td>2</td>\n",
       "      <td>0</td>\n",
       "      <td>0</td>\n",
       "      <td>0</td>\n",
       "    </tr>\n",
       "    <tr>\n",
       "      <th>4</th>\n",
       "      <td>262</td>\n",
       "      <td>0</td>\n",
       "      <td>2</td>\n",
       "      <td>0</td>\n",
       "      <td>0</td>\n",
       "      <td>0</td>\n",
       "    </tr>\n",
       "  </tbody>\n",
       "</table>\n",
       "</div>"
      ],
      "text/plain": [
       "   Flow Duration  Flow Bytes/s  Total Fwd Packet  Total Bwd packets  \\\n",
       "0            294             0                 2                  0   \n",
       "1           8993             0                 2                  0   \n",
       "2       88320782             0                 3                  0   \n",
       "3            366             0                 2                  0   \n",
       "4            262             0                 2                  0   \n",
       "\n",
       "   Total Length of Fwd Packet  Total Length of Bwd Packet  \n",
       "0                           0                           0  \n",
       "1                           0                           0  \n",
       "2                           0                           0  \n",
       "3                           0                           0  \n",
       "4                           0                           0  "
      ]
     },
     "execution_count": 9,
     "metadata": {},
     "output_type": "execute_result"
    }
   ],
   "source": [
    "df.head()"
   ]
  },
  {
   "cell_type": "code",
   "execution_count": 10,
   "metadata": {},
   "outputs": [
    {
     "data": {
      "text/html": [
       "<div>\n",
       "<style scoped>\n",
       "    .dataframe tbody tr th:only-of-type {\n",
       "        vertical-align: middle;\n",
       "    }\n",
       "\n",
       "    .dataframe tbody tr th {\n",
       "        vertical-align: top;\n",
       "    }\n",
       "\n",
       "    .dataframe thead th {\n",
       "        text-align: right;\n",
       "    }\n",
       "</style>\n",
       "<table border=\"1\" class=\"dataframe\">\n",
       "  <thead>\n",
       "    <tr style=\"text-align: right;\">\n",
       "      <th></th>\n",
       "      <th>Flow Duration</th>\n",
       "      <th>Total Fwd Packet</th>\n",
       "      <th>Total Bwd packets</th>\n",
       "      <th>Total Length of Fwd Packet</th>\n",
       "      <th>Total Length of Bwd Packet</th>\n",
       "    </tr>\n",
       "    <tr>\n",
       "      <th>Flow Bytes/s</th>\n",
       "      <th></th>\n",
       "      <th></th>\n",
       "      <th></th>\n",
       "      <th></th>\n",
       "      <th></th>\n",
       "    </tr>\n",
       "  </thead>\n",
       "  <tbody>\n",
       "    <tr>\n",
       "      <th>0</th>\n",
       "      <td>294</td>\n",
       "      <td>2</td>\n",
       "      <td>0</td>\n",
       "      <td>0</td>\n",
       "      <td>0</td>\n",
       "    </tr>\n",
       "  </tbody>\n",
       "</table>\n",
       "</div>"
      ],
      "text/plain": [
       "              Flow Duration  Total Fwd Packet  Total Bwd packets  \\\n",
       "Flow Bytes/s                                                       \n",
       "0                       294                 2                  0   \n",
       "\n",
       "              Total Length of Fwd Packet  Total Length of Bwd Packet  \n",
       "Flow Bytes/s                                                          \n",
       "0                                      0                           0  "
      ]
     },
     "execution_count": 10,
     "metadata": {},
     "output_type": "execute_result"
    }
   ],
   "source": [
    "df.groupby('Flow Bytes/s').first()"
   ]
  },
  {
   "cell_type": "code",
   "execution_count": 11,
   "metadata": {},
   "outputs": [
    {
     "data": {
      "text/html": [
       "<div>\n",
       "<style scoped>\n",
       "    .dataframe tbody tr th:only-of-type {\n",
       "        vertical-align: middle;\n",
       "    }\n",
       "\n",
       "    .dataframe tbody tr th {\n",
       "        vertical-align: top;\n",
       "    }\n",
       "\n",
       "    .dataframe thead th {\n",
       "        text-align: right;\n",
       "    }\n",
       "</style>\n",
       "<table border=\"1\" class=\"dataframe\">\n",
       "  <thead>\n",
       "    <tr style=\"text-align: right;\">\n",
       "      <th></th>\n",
       "      <th>Flow Duration</th>\n",
       "      <th>Flow Bytes/s</th>\n",
       "      <th>Total Fwd Packet</th>\n",
       "      <th>Total Length of Fwd Packet</th>\n",
       "      <th>Total Length of Bwd Packet</th>\n",
       "    </tr>\n",
       "    <tr>\n",
       "      <th>Total Bwd packets</th>\n",
       "      <th></th>\n",
       "      <th></th>\n",
       "      <th></th>\n",
       "      <th></th>\n",
       "      <th></th>\n",
       "    </tr>\n",
       "  </thead>\n",
       "  <tbody>\n",
       "    <tr>\n",
       "      <th>0</th>\n",
       "      <td>294</td>\n",
       "      <td>0</td>\n",
       "      <td>2</td>\n",
       "      <td>0</td>\n",
       "      <td>0</td>\n",
       "    </tr>\n",
       "  </tbody>\n",
       "</table>\n",
       "</div>"
      ],
      "text/plain": [
       "                   Flow Duration  Flow Bytes/s  Total Fwd Packet  \\\n",
       "Total Bwd packets                                                  \n",
       "0                            294             0                 2   \n",
       "\n",
       "                   Total Length of Fwd Packet  Total Length of Bwd Packet  \n",
       "Total Bwd packets                                                          \n",
       "0                                           0                           0  "
      ]
     },
     "execution_count": 11,
     "metadata": {},
     "output_type": "execute_result"
    }
   ],
   "source": [
    "df.groupby('Total Bwd packets').first()"
   ]
  },
  {
   "cell_type": "code",
   "execution_count": 12,
   "metadata": {},
   "outputs": [
    {
     "data": {
      "text/html": [
       "<div>\n",
       "<style scoped>\n",
       "    .dataframe tbody tr th:only-of-type {\n",
       "        vertical-align: middle;\n",
       "    }\n",
       "\n",
       "    .dataframe tbody tr th {\n",
       "        vertical-align: top;\n",
       "    }\n",
       "\n",
       "    .dataframe thead th {\n",
       "        text-align: right;\n",
       "    }\n",
       "</style>\n",
       "<table border=\"1\" class=\"dataframe\">\n",
       "  <thead>\n",
       "    <tr style=\"text-align: right;\">\n",
       "      <th></th>\n",
       "      <th>Flow Duration</th>\n",
       "      <th>Flow Bytes/s</th>\n",
       "      <th>Total Fwd Packet</th>\n",
       "      <th>Total Bwd packets</th>\n",
       "      <th>Total Length of Bwd Packet</th>\n",
       "    </tr>\n",
       "    <tr>\n",
       "      <th>Total Length of Fwd Packet</th>\n",
       "      <th></th>\n",
       "      <th></th>\n",
       "      <th></th>\n",
       "      <th></th>\n",
       "      <th></th>\n",
       "    </tr>\n",
       "  </thead>\n",
       "  <tbody>\n",
       "    <tr>\n",
       "      <th>0</th>\n",
       "      <td>294</td>\n",
       "      <td>0</td>\n",
       "      <td>2</td>\n",
       "      <td>0</td>\n",
       "      <td>0</td>\n",
       "    </tr>\n",
       "  </tbody>\n",
       "</table>\n",
       "</div>"
      ],
      "text/plain": [
       "                            Flow Duration  Flow Bytes/s  Total Fwd Packet  \\\n",
       "Total Length of Fwd Packet                                                  \n",
       "0                                     294             0                 2   \n",
       "\n",
       "                            Total Bwd packets  Total Length of Bwd Packet  \n",
       "Total Length of Fwd Packet                                                 \n",
       "0                                           0                           0  "
      ]
     },
     "execution_count": 12,
     "metadata": {},
     "output_type": "execute_result"
    }
   ],
   "source": [
    "df.groupby('Total Length of Fwd Packet').first()"
   ]
  },
  {
   "cell_type": "code",
   "execution_count": 13,
   "metadata": {},
   "outputs": [
    {
     "data": {
      "text/html": [
       "<div>\n",
       "<style scoped>\n",
       "    .dataframe tbody tr th:only-of-type {\n",
       "        vertical-align: middle;\n",
       "    }\n",
       "\n",
       "    .dataframe tbody tr th {\n",
       "        vertical-align: top;\n",
       "    }\n",
       "\n",
       "    .dataframe thead th {\n",
       "        text-align: right;\n",
       "    }\n",
       "</style>\n",
       "<table border=\"1\" class=\"dataframe\">\n",
       "  <thead>\n",
       "    <tr style=\"text-align: right;\">\n",
       "      <th></th>\n",
       "      <th>Flow Duration</th>\n",
       "      <th>Flow Bytes/s</th>\n",
       "      <th>Total Fwd Packet</th>\n",
       "      <th>Total Bwd packets</th>\n",
       "      <th>Total Length of Fwd Packet</th>\n",
       "    </tr>\n",
       "    <tr>\n",
       "      <th>Total Length of Bwd Packet</th>\n",
       "      <th></th>\n",
       "      <th></th>\n",
       "      <th></th>\n",
       "      <th></th>\n",
       "      <th></th>\n",
       "    </tr>\n",
       "  </thead>\n",
       "  <tbody>\n",
       "    <tr>\n",
       "      <th>0</th>\n",
       "      <td>294</td>\n",
       "      <td>0</td>\n",
       "      <td>2</td>\n",
       "      <td>0</td>\n",
       "      <td>0</td>\n",
       "    </tr>\n",
       "  </tbody>\n",
       "</table>\n",
       "</div>"
      ],
      "text/plain": [
       "                            Flow Duration  Flow Bytes/s  Total Fwd Packet  \\\n",
       "Total Length of Bwd Packet                                                  \n",
       "0                                     294             0                 2   \n",
       "\n",
       "                            Total Bwd packets  Total Length of Fwd Packet  \n",
       "Total Length of Bwd Packet                                                 \n",
       "0                                           0                           0  "
      ]
     },
     "execution_count": 13,
     "metadata": {},
     "output_type": "execute_result"
    }
   ],
   "source": [
    "df.groupby('Total Length of Bwd Packet').first()"
   ]
  },
  {
   "cell_type": "code",
   "execution_count": 14,
   "metadata": {},
   "outputs": [],
   "source": [
    "df = df[['Flow Duration', 'Total Fwd Packet']]"
   ]
  },
  {
   "cell_type": "code",
   "execution_count": 15,
   "metadata": {},
   "outputs": [
    {
     "data": {
      "text/html": [
       "<div>\n",
       "<style scoped>\n",
       "    .dataframe tbody tr th:only-of-type {\n",
       "        vertical-align: middle;\n",
       "    }\n",
       "\n",
       "    .dataframe tbody tr th {\n",
       "        vertical-align: top;\n",
       "    }\n",
       "\n",
       "    .dataframe thead th {\n",
       "        text-align: right;\n",
       "    }\n",
       "</style>\n",
       "<table border=\"1\" class=\"dataframe\">\n",
       "  <thead>\n",
       "    <tr style=\"text-align: right;\">\n",
       "      <th></th>\n",
       "      <th>Flow Duration</th>\n",
       "      <th>Total Fwd Packet</th>\n",
       "    </tr>\n",
       "  </thead>\n",
       "  <tbody>\n",
       "    <tr>\n",
       "      <th>0</th>\n",
       "      <td>294</td>\n",
       "      <td>2</td>\n",
       "    </tr>\n",
       "    <tr>\n",
       "      <th>1</th>\n",
       "      <td>8993</td>\n",
       "      <td>2</td>\n",
       "    </tr>\n",
       "    <tr>\n",
       "      <th>2</th>\n",
       "      <td>88320782</td>\n",
       "      <td>3</td>\n",
       "    </tr>\n",
       "    <tr>\n",
       "      <th>3</th>\n",
       "      <td>366</td>\n",
       "      <td>2</td>\n",
       "    </tr>\n",
       "    <tr>\n",
       "      <th>4</th>\n",
       "      <td>262</td>\n",
       "      <td>2</td>\n",
       "    </tr>\n",
       "  </tbody>\n",
       "</table>\n",
       "</div>"
      ],
      "text/plain": [
       "   Flow Duration  Total Fwd Packet\n",
       "0            294                 2\n",
       "1           8993                 2\n",
       "2       88320782                 3\n",
       "3            366                 2\n",
       "4            262                 2"
      ]
     },
     "execution_count": 15,
     "metadata": {},
     "output_type": "execute_result"
    }
   ],
   "source": [
    "df.head()"
   ]
  },
  {
   "cell_type": "code",
   "execution_count": 16,
   "metadata": {},
   "outputs": [],
   "source": [
    "from scipy import stats"
   ]
  },
  {
   "cell_type": "code",
   "execution_count": 17,
   "metadata": {},
   "outputs": [],
   "source": [
    "X = df"
   ]
  },
  {
   "cell_type": "code",
   "execution_count": 18,
   "metadata": {},
   "outputs": [],
   "source": [
    "\n",
    "for col in X:\n",
    "    X[col] = stats.zscore(X[col])\n",
    "    \n"
   ]
  },
  {
   "cell_type": "code",
   "execution_count": 19,
   "metadata": {},
   "outputs": [
    {
     "data": {
      "text/html": [
       "<div>\n",
       "<style scoped>\n",
       "    .dataframe tbody tr th:only-of-type {\n",
       "        vertical-align: middle;\n",
       "    }\n",
       "\n",
       "    .dataframe tbody tr th {\n",
       "        vertical-align: top;\n",
       "    }\n",
       "\n",
       "    .dataframe thead th {\n",
       "        text-align: right;\n",
       "    }\n",
       "</style>\n",
       "<table border=\"1\" class=\"dataframe\">\n",
       "  <thead>\n",
       "    <tr style=\"text-align: right;\">\n",
       "      <th></th>\n",
       "      <th>Flow Duration</th>\n",
       "      <th>Total Fwd Packet</th>\n",
       "    </tr>\n",
       "  </thead>\n",
       "  <tbody>\n",
       "    <tr>\n",
       "      <th>0</th>\n",
       "      <td>-1.144392</td>\n",
       "      <td>-0.646537</td>\n",
       "    </tr>\n",
       "    <tr>\n",
       "      <th>1</th>\n",
       "      <td>-1.144201</td>\n",
       "      <td>-0.646537</td>\n",
       "    </tr>\n",
       "    <tr>\n",
       "      <th>2</th>\n",
       "      <td>0.796305</td>\n",
       "      <td>-0.390733</td>\n",
       "    </tr>\n",
       "    <tr>\n",
       "      <th>3</th>\n",
       "      <td>-1.144391</td>\n",
       "      <td>-0.646537</td>\n",
       "    </tr>\n",
       "    <tr>\n",
       "      <th>4</th>\n",
       "      <td>-1.144393</td>\n",
       "      <td>-0.646537</td>\n",
       "    </tr>\n",
       "  </tbody>\n",
       "</table>\n",
       "</div>"
      ],
      "text/plain": [
       "   Flow Duration  Total Fwd Packet\n",
       "0      -1.144392         -0.646537\n",
       "1      -1.144201         -0.646537\n",
       "2       0.796305         -0.390733\n",
       "3      -1.144391         -0.646537\n",
       "4      -1.144393         -0.646537"
      ]
     },
     "execution_count": 19,
     "metadata": {},
     "output_type": "execute_result"
    }
   ],
   "source": [
    "X.head()"
   ]
  },
  {
   "cell_type": "code",
   "execution_count": 20,
   "metadata": {},
   "outputs": [],
   "source": [
    "\n",
    "\n",
    "from sklearn.preprocessing import StandardScaler\n",
    "scaler = StandardScaler()\n",
    "\n"
   ]
  },
  {
   "cell_type": "markdown",
   "metadata": {},
   "source": [
    "### K Means"
   ]
  },
  {
   "cell_type": "code",
   "execution_count": 21,
   "metadata": {},
   "outputs": [],
   "source": [
    "from sklearn.cluster import KMeans"
   ]
  },
  {
   "cell_type": "code",
   "execution_count": 22,
   "metadata": {},
   "outputs": [],
   "source": [
    "def kmeans(X, n_clusters):\n",
    "    ss = StandardScaler()\n",
    "    X = ss.fit_transform(X)\n",
    "    km = KMeans(n_clusters=n_clusters)\n",
    "    km.fit(X)\n",
    "    y_pred = km.predict(X)\n",
    "    plt.scatter(X[:,0], X[:,1],c=y_pred, cmap='Paired')\n",
    "    plt.title(\"K-means\")"
   ]
  },
  {
   "cell_type": "code",
   "execution_count": 23,
   "metadata": {},
   "outputs": [
    {
     "data": {
      "image/png": "[encoded data removed]",
      "text/plain": [
       "<Figure size 432x288 with 1 Axes>"
      ]
     },
     "metadata": {
      "needs_background": "light"
     },
     "output_type": "display_data"
    }
   ],
   "source": [
    "kmeans(X,n_clusters=2)"
   ]
  },
  {
   "cell_type": "code",
   "execution_count": 24,
   "metadata": {},
   "outputs": [
    {
     "data": {
      "image/png": "[encoded data removed]",
      "text/plain": [
       "<Figure size 432x288 with 1 Axes>"
      ]
     },
     "metadata": {
      "needs_background": "light"
     },
     "output_type": "display_data"
    }
   ],
   "source": [
    "kmeans(X,n_clusters=3)"
   ]
  },
  {
   "cell_type": "code",
   "execution_count": 25,
   "metadata": {},
   "outputs": [
    {
     "data": {
      "image/png": "[encoded data removed]",
      "text/plain": [
       "<Figure size 432x288 with 1 Axes>"
      ]
     },
     "metadata": {
      "needs_background": "light"
     },
     "output_type": "display_data"
    }
   ],
   "source": [
    "kmeans(X,n_clusters=4)"
   ]
  },
  {
   "cell_type": "markdown",
   "metadata": {},
   "source": [
    "### DBSCAN\n"
   ]
  },
  {
   "cell_type": "code",
   "execution_count": 26,
   "metadata": {},
   "outputs": [],
   "source": [
    "from sklearn.cluster import DBSCAN"
   ]
  },
  {
   "cell_type": "code",
   "execution_count": 43,
   "metadata": {},
   "outputs": [],
   "source": [
    "# The maximum distance between two samples for one to be considered as in the neighborhood of the other.\n",
    "# This is not a maximum bound on the distances of points within a cluster.\n",
    "def dbscan(X, eps, min_samples):\n",
    "    ss = StandardScaler()\n",
    "    X = ss.fit_transform(X)\n",
    "    db = DBSCAN(eps=eps, min_samples=min_samples)\n",
    "    db.fit(X)\n",
    "    y_pred = db.fit_predict(X)\n",
    "    plt.scatter(X[:,0], X[:,1],c=y_pred, cmap='Paired')\n",
    "    plt.title(\"DBSCAN\")\n"
   ]
  },
  {
   "cell_type": "code",
   "execution_count": 44,
   "metadata": {},
   "outputs": [
    {
     "data": {
      "image/png": "[encoded data removed]",
      "text/plain": [
       "<Figure size 432x288 with 1 Axes>"
      ]
     },
     "metadata": {
      "needs_background": "light"
     },
     "output_type": "display_data"
    }
   ],
   "source": [
    "dbscan(X,eps=.3,min_samples=5)"
   ]
  },
  {
   "cell_type": "code",
   "execution_count": 45,
   "metadata": {},
   "outputs": [
    {
     "data": {
      "image/png": "[encoded data removed]",
      "text/plain": [
       "<Figure size 432x288 with 1 Axes>"
      ]
     },
     "metadata": {
      "needs_background": "light"
     },
     "output_type": "display_data"
    }
   ],
   "source": [
    "dbscan(X,eps=2,min_samples=20)"
   ]
  },
  {
   "cell_type": "code",
   "execution_count": 46,
   "metadata": {},
   "outputs": [
    {
     "data": {
      "image/png": "[encoded data removed]",
      "text/plain": [
       "<Figure size 432x288 with 1 Axes>"
      ]
     },
     "metadata": {
      "needs_background": "light"
     },
     "output_type": "display_data"
    }
   ],
   "source": [
    "dbscan(X,eps=1.5,min_samples=20)"
   ]
  },
  {
   "cell_type": "code",
   "execution_count": 47,
   "metadata": {},
   "outputs": [
    {
     "data": {
      "image/png": "[encoded data removed]",
      "text/plain": [
       "<Figure size 432x288 with 1 Axes>"
      ]
     },
     "metadata": {
      "needs_background": "light"
     },
     "output_type": "display_data"
    }
   ],
   "source": [
    "dbscan(X,eps=1,min_samples=20)"
   ]
  },
  {
   "cell_type": "code",
   "execution_count": 48,
   "metadata": {},
   "outputs": [
    {
     "data": {
      "image/png": "[encoded data removed]",
      "text/plain": [
       "<Figure size 432x288 with 1 Axes>"
      ]
     },
     "metadata": {
      "needs_background": "light"
     },
     "output_type": "display_data"
    }
   ],
   "source": [
    "dbscan(X,eps=0.5,min_samples=20)"
   ]
  },
  {
   "cell_type": "markdown",
   "metadata": {},
   "source": [
    "## Outlier detection"
   ]
  },
  {
   "cell_type": "code",
   "execution_count": 49,
   "metadata": {},
   "outputs": [],
   "source": [
    "db = DBSCAN(eps=0.5, min_samples=20)\n",
    "db.fit(X)\n",
    "y_pred = db.fit_predict(X)"
   ]
  },
  {
   "cell_type": "code",
   "execution_count": 50,
   "metadata": {},
   "outputs": [
    {
     "data": {
      "text/plain": [
       "array([ 0,  0, -1,  0,  0,  0,  0,  0,  0,  0,  0,  0, -1,  0,  0,  0,  0,\n",
       "        0,  0,  0, -1, -1, -1, -1, -1, -1, -1, -1, -1, -1, -1, -1,  0, -1,\n",
       "       -1, -1,  0, -1, -1, -1, -1, -1, -1,  0, -1, -1, -1, -1, -1, -1, -1,\n",
       "       -1,  0,  0, -1, -1,  0,  0, -1, -1, -1, -1, -1, -1,  0,  0,  0,  0,\n",
       "       -1,  0, -1, -1, -1,  0, -1, -1, -1, -1,  0,  0,  0,  0, -1, -1, -1,\n",
       "        0,  0, -1, -1, -1, -1])"
      ]
     },
     "execution_count": 50,
     "metadata": {},
     "output_type": "execute_result"
    }
   ],
   "source": [
    "y_pred"
   ]
  },
  {
   "cell_type": "code",
   "execution_count": 51,
   "metadata": {},
   "outputs": [
    {
     "data": {
      "text/plain": [
       "array([ 0,  0, -1,  0,  0,  0,  0,  0,  0,  0,  0,  0, -1,  0,  0,  0,  0,\n",
       "        0,  0,  0, -1, -1, -1, -1, -1, -1, -1, -1, -1, -1, -1, -1,  0, -1,\n",
       "       -1, -1,  0, -1, -1, -1, -1, -1, -1,  0, -1, -1, -1, -1, -1, -1, -1,\n",
       "       -1,  0,  0, -1, -1,  0,  0, -1, -1, -1, -1, -1, -1,  0,  0,  0,  0,\n",
       "       -1,  0, -1, -1, -1,  0, -1, -1, -1, -1,  0,  0,  0,  0, -1, -1, -1,\n",
       "        0,  0, -1, -1, -1, -1])"
      ]
     },
     "execution_count": 51,
     "metadata": {},
     "output_type": "execute_result"
    }
   ],
   "source": [
    "db.labels_"
   ]
  },
  {
   "cell_type": "code",
   "execution_count": 77,
   "metadata": {},
   "outputs": [
    {
     "name": "stdout",
     "output_type": "stream",
     "text": [
      "0 [-1.14439234 -0.64653692]\n",
      "1 [-1.14420119 -0.64653692]\n",
      "2 [ 0.79630511 -0.39073318]\n",
      "3 [-1.14439076 -0.64653692]\n",
      "4 [-1.14439304 -0.64653692]\n",
      "5 [-1.14439276 -0.64653692]\n",
      "6 [-1.1441518  -0.64653692]\n",
      "7 [-1.14419282 -0.64653692]\n",
      "8 [-1.14421326 -0.64653692]\n",
      "9 [-1.14439262 -0.64653692]\n",
      "10 [-1.14439739 -0.64653692]\n",
      "11 [-1.1441843  -0.64653692]\n",
      "12 [1.32157667 1.91150046]\n",
      "13 [-1.14439269 -0.64653692]\n",
      "14 [-1.14439284 -0.64653692]\n",
      "15 [-1.14439223 -0.64653692]\n",
      "16 [-1.14422125 -0.64653692]\n",
      "17 [-1.14439522 -0.64653692]\n",
      "18 [-1.1442053  -0.64653692]\n",
      "19 [-1.1443928  -0.64653692]\n",
      "20 [-0.27793942 -0.39073318]\n",
      "21 [ 0.36795015 -0.64653692]\n",
      "22 [1.34753889 0.63248177]\n",
      "23 [ 0.72054353 -0.13492944]\n",
      "24 [ 0.4829499  -0.39073318]\n",
      "25 [ 1.00378497 -0.64653692]\n",
      "26 [ 0.80465065 -0.39073318]\n",
      "27 [-0.35117112 -0.39073318]\n",
      "28 [ 1.22828176 -0.64653692]\n",
      "29 [ 0.44974214 -0.64653692]\n",
      "30 [ 1.32214081 -0.64653692]\n",
      "31 [-0.09639842  0.37667803]\n",
      "32 [-1.14417882 -0.39073318]\n",
      "33 [1.18030069 1.65569672]\n",
      "34 [ 0.83566385 -0.39073318]\n",
      "35 [ 1.40303523 -0.39073318]\n",
      "36 [-1.14432431 -0.64653692]\n",
      "37 [ 0.70838778 -0.13492944]\n",
      "38 [ 0.69442345 -0.64653692]\n",
      "39 [ 0.59912942 -0.39073318]\n",
      "40 [ 0.69169618 -0.64653692]\n",
      "41 [1.39515998 0.37667803]\n",
      "42 [ 1.39489846 -0.64653692]\n",
      "43 [-1.14423163 -0.39073318]\n",
      "44 [-0.30003934 -0.64653692]\n",
      "45 [ 0.88177214 -0.64653692]\n",
      "46 [ 0.88180791 -0.13492944]\n",
      "47 [ 1.47688342 -0.39073318]\n",
      "48 [-0.15852643 -0.39073318]\n",
      "49 [ 0.85395288 -0.64653692]\n",
      "50 [ 1.36218806 -0.39073318]\n",
      "51 [ 0.83566407 -0.39073318]\n",
      "52 [-0.41843589 -0.39073318]\n",
      "53 [-0.41841732 -0.64653692]\n",
      "54 [0.31393802 2.67891167]\n",
      "55 [-0.32550808  1.14408924]\n",
      "56 [-0.88822936 -0.13492944]\n",
      "57 [-1.14230738 -0.64653692]\n",
      "58 [-0.34795281 -0.39073318]\n",
      "59 [0.9131448  1.65569672]\n",
      "60 [1.42482863 1.91150046]\n",
      "61 [-0.09044043  1.14408924]\n",
      "62 [1.21960566 2.42310793]\n",
      "63 [1.42997815 2.67891167]\n",
      "64 [-1.1443975  -0.64653692]\n",
      "65 [-1.14438724 -0.64653692]\n",
      "66 [-1.14438832 -0.64653692]\n",
      "67 [-1.14438557 -0.64653692]\n",
      "68 [0.14744103 1.14408924]\n",
      "69 [-1.14438649 -0.64653692]\n",
      "70 [0.44525318 0.37667803]\n",
      "71 [0.09982211 0.63248177]\n",
      "72 [1.21210943 1.91150046]\n",
      "73 [-0.3817791  -0.64653692]\n",
      "74 [1.32050274 0.63248177]\n",
      "75 [1.48545063 1.14408924]\n",
      "76 [ 1.45751597 -0.13492944]\n",
      "77 [1.35796878 3.19051915]\n",
      "78 [-1.08704775 -0.64653692]\n",
      "79 [-1.12988645 -0.64653692]\n",
      "80 [-1.14066177 -0.64653692]\n",
      "81 [-1.14423822 -0.13492944]\n",
      "82 [0.82067611 0.37667803]\n",
      "83 [1.44985294 0.37667803]\n",
      "84 [0.05935415 2.93471541]\n",
      "85 [-1.14434323 -0.64653692]\n",
      "86 [-0.84445244 -0.64653692]\n",
      "87 [ 0.8725677  -0.64653692]\n",
      "88 [0.24230374 0.88828551]\n",
      "89 [0.08619096 2.42310793]\n",
      "90 [0.04121664 0.88828551]\n"
     ]
    },
    {
     "data": {
      "image/png": "[encoded data removed]",
      "text/plain": [
       "<Figure size 432x288 with 1 Axes>"
      ]
     },
     "metadata": {
      "needs_background": "light"
     },
     "output_type": "display_data"
    }
   ],
   "source": [
    "ss = StandardScaler()\n",
    "X = ss.fit_transform(X)\n",
    "db = DBSCAN(eps=.3, min_samples=5)\n",
    "db.fit(X)\n",
    "y_pred = db.fit_predict(X)\n",
    "plt.scatter(X[:,0], X[:,1],c=y_pred, cmap='Paired')\n",
    "plt.title(\"DBSCAN\")\n",
    "for i,j in enumerate(X):\n",
    "    print(i,j)"
   ]
  },
  {
   "cell_type": "code",
   "execution_count": 78,
   "metadata": {},
   "outputs": [
    {
     "name": "stdout",
     "output_type": "stream",
     "text": [
      "91\n"
     ]
    }
   ],
   "source": [
    "print(len(X))"
   ]
  },
  {
   "cell_type": "code",
   "execution_count": 79,
   "metadata": {},
   "outputs": [
    {
     "data": {
      "text/plain": [
       "array([-1.14439234, -0.64653692])"
      ]
     },
     "execution_count": 79,
     "metadata": {},
     "output_type": "execute_result"
    }
   ],
   "source": [
    "X[0]"
   ]
  },
  {
   "cell_type": "code",
   "execution_count": 80,
   "metadata": {},
   "outputs": [
    {
     "name": "stdout",
     "output_type": "stream",
     "text": [
      "91\n"
     ]
    }
   ],
   "source": [
    "print(len(db.labels_))"
   ]
  },
  {
   "cell_type": "code",
   "execution_count": 81,
   "metadata": {},
   "outputs": [
    {
     "data": {
      "text/plain": [
       "array([ 0,  0,  1,  0,  0,  0,  0,  0,  0,  0,  0,  0, -1,  0,  0,  0,  0,\n",
       "        0,  0,  0,  2,  1, -1,  1,  1,  1,  1,  2,  1,  1,  1, -1,  0, -1,\n",
       "        1,  1,  0,  1,  1,  1,  1, -1,  1,  0,  2,  1,  1,  1,  2,  1,  1,\n",
       "        1,  2,  2, -1, -1, -1,  0,  2, -1, -1,  3, -1, -1,  0,  0,  0,  0,\n",
       "        3,  0, -1,  3, -1,  2, -1, -1,  1, -1,  0,  0,  0,  0, -1, -1, -1,\n",
       "        0,  0,  1,  3, -1,  3])"
      ]
     },
     "execution_count": 81,
     "metadata": {},
     "output_type": "execute_result"
    }
   ],
   "source": [
    "db.labels_"
   ]
  },
  {
   "cell_type": "code",
   "execution_count": 106,
   "metadata": {},
   "outputs": [],
   "source": [
    "cluster_0 = []\n",
    "cluster_1 = []\n",
    "cluster_2 = []\n",
    "cluster_3 = []\n",
    "outliers = []\n",
    "for i in range(len(X)):\n",
    "    if db.labels_[i] == -1:\n",
    "        outliers.append(X[i])\n",
    "    elif db.labels_[i] == 0:\n",
    "        cluster_0.append(X[i])\n",
    "    elif db.labels_[i] == 1:\n",
    "        cluster_1.append(X[i])\n",
    "    elif db.labels_[i] == 2:\n",
    "        cluster_2.append(X[i])\n",
    "    elif db.labels_[i] == 3:\n",
    "        cluster_3.append(X[i])\n"
   ]
  },
  {
   "cell_type": "code",
   "execution_count": 107,
   "metadata": {},
   "outputs": [
    {
     "data": {
      "text/plain": [
       "21"
      ]
     },
     "execution_count": 107,
     "metadata": {},
     "output_type": "execute_result"
    }
   ],
   "source": [
    "len(outliers)"
   ]
  },
  {
   "cell_type": "code",
   "execution_count": 108,
   "metadata": {},
   "outputs": [
    {
     "data": {
      "text/plain": [
       "33"
      ]
     },
     "execution_count": 108,
     "metadata": {},
     "output_type": "execute_result"
    }
   ],
   "source": [
    "len(cluster_0)"
   ]
  },
  {
   "cell_type": "code",
   "execution_count": 109,
   "metadata": {},
   "outputs": [
    {
     "data": {
      "text/plain": [
       "24"
      ]
     },
     "execution_count": 109,
     "metadata": {},
     "output_type": "execute_result"
    }
   ],
   "source": [
    "len(cluster_1)"
   ]
  },
  {
   "cell_type": "code",
   "execution_count": 110,
   "metadata": {},
   "outputs": [
    {
     "data": {
      "text/plain": [
       "8"
      ]
     },
     "execution_count": 110,
     "metadata": {},
     "output_type": "execute_result"
    }
   ],
   "source": [
    "len(cluster_2)"
   ]
  },
  {
   "cell_type": "code",
   "execution_count": 111,
   "metadata": {},
   "outputs": [
    {
     "data": {
      "text/plain": [
       "5"
      ]
     },
     "execution_count": 111,
     "metadata": {},
     "output_type": "execute_result"
    }
   ],
   "source": [
    "len(cluster_3)"
   ]
  },
  {
   "cell_type": "code",
   "execution_count": 143,
   "metadata": {},
   "outputs": [],
   "source": [
    "x_0 = []\n",
    "y_0 = []\n",
    "for i in range(len(cluster_0)):\n",
    "    x_0.append(cluster_0[i][0])\n",
    "    y_0.append(cluster_0[i][1])"
   ]
  },
  {
   "cell_type": "code",
   "execution_count": 144,
   "metadata": {},
   "outputs": [],
   "source": [
    "x_1 = []\n",
    "y_1 = []\n",
    "for i in range(len(cluster_1)):\n",
    "    x_1.append(cluster_1[i][0])\n",
    "    y_1.append(cluster_1[i][1])"
   ]
  },
  {
   "cell_type": "code",
   "execution_count": 145,
   "metadata": {},
   "outputs": [],
   "source": [
    "x_2 = []\n",
    "y_2 = []\n",
    "for i in range(len(cluster_2)):\n",
    "    x_2.append(cluster_2[i][0])\n",
    "    y_2.append(cluster_2[i][1])"
   ]
  },
  {
   "cell_type": "code",
   "execution_count": 146,
   "metadata": {},
   "outputs": [],
   "source": [
    "x_3 = []\n",
    "y_3 = []\n",
    "for i in range(len(cluster_3)):\n",
    "    x_3.append(cluster_3[i][0])\n",
    "    y_3.append(cluster_3[i][1])"
   ]
  },
  {
   "cell_type": "code",
   "execution_count": 176,
   "metadata": {},
   "outputs": [],
   "source": [
    "# outliers\n",
    "x = []\n",
    "y = []\n",
    "for i in range(len(outliers)):\n",
    "    x.append(outliers[i][0])\n",
    "    y.append(outliers[i][1])"
   ]
  },
  {
   "cell_type": "code",
   "execution_count": 177,
   "metadata": {},
   "outputs": [
    {
     "data": {
      "text/plain": [
       "<matplotlib.collections.PathCollection at 0x7f6e655f6350>"
      ]
     },
     "execution_count": 177,
     "metadata": {},
     "output_type": "execute_result"
    },
    {
     "data": {
      "image/png": "[encoded data removed]",
      "text/plain": [
       "<Figure size 432x288 with 1 Axes>"
      ]
     },
     "metadata": {
      "needs_background": "light"
     },
     "output_type": "display_data"
    }
   ],
   "source": [
    "plt.scatter(x, y,c='r', marker = '*', cmap='Paired') #outlier\n",
    "plt.scatter(x_0, y_0,c='b', cmap='Paired')\n",
    "plt.scatter(x_1, y_1,c='g', cmap='Paired')\n",
    "plt.scatter(x_2, y_2,c='y', cmap='Paired')\n",
    "plt.scatter(x_3, y_3,c='b', cmap='Paired')\n"
   ]
  },
  {
   "cell_type": "code",
   "execution_count": null,
   "metadata": {},
   "outputs": [],
   "source": []
  },
  {
   "cell_type": "code",
   "execution_count": null,
   "metadata": {},
   "outputs": [],
   "source": []
  },
  {
   "cell_type": "markdown",
   "metadata": {},
   "source": [
    "### Hierarchical clustering"
   ]
  },
  {
   "cell_type": "code",
   "execution_count": 35,
   "metadata": {},
   "outputs": [],
   "source": [
    "from sklearn.cluster import AgglomerativeClustering"
   ]
  },
  {
   "cell_type": "code",
   "execution_count": 36,
   "metadata": {},
   "outputs": [],
   "source": [
    "def hier(X, n_clusters):\n",
    "    ss = StandardScaler()\n",
    "    X = ss.fit_transform(X)\n",
    "    hier = AgglomerativeClustering(n_clusters=n_clusters)\n",
    "    y_pred = hier.fit_predict(X)\n",
    "    plt.scatter(X[:,0], X[:,1],c=y_pred, cmap='Paired')\n",
    "    plt.title(\"Hierarchical\")\n"
   ]
  },
  {
   "cell_type": "code",
   "execution_count": 37,
   "metadata": {},
   "outputs": [
    {
     "data": {
      "image/png": "[encoded data removed]",
      "text/plain": [
       "<Figure size 432x288 with 1 Axes>"
      ]
     },
     "metadata": {
      "needs_background": "light"
     },
     "output_type": "display_data"
    }
   ],
   "source": [
    "hier(X,n_clusters=2)"
   ]
  },
  {
   "cell_type": "code",
   "execution_count": 38,
   "metadata": {},
   "outputs": [
    {
     "data": {
      "image/png": "[encoded data removed]",
      "text/plain": [
       "<Figure size 432x288 with 1 Axes>"
      ]
     },
     "metadata": {
      "needs_background": "light"
     },
     "output_type": "display_data"
    }
   ],
   "source": [
    "hier(X,n_clusters=3)"
   ]
  },
  {
   "cell_type": "code",
   "execution_count": 39,
   "metadata": {},
   "outputs": [
    {
     "data": {
      "image/png": "[encoded data removed]",
      "text/plain": [
       "<Figure size 432x288 with 1 Axes>"
      ]
     },
     "metadata": {
      "needs_background": "light"
     },
     "output_type": "display_data"
    }
   ],
   "source": [
    "hier(X,n_clusters=4)"
   ]
  }
 ],
 "metadata": {
  "kernelspec": {
   "display_name": "Python 3",
   "language": "python",
   "name": "python3"
  },
  "language_info": {
   "codemirror_mode": {
    "name": "ipython",
    "version": 3
   },
   "file_extension": ".py",
   "mimetype": "text/x-python",
   "name": "python",
   "nbconvert_exporter": "python",
   "pygments_lexer": "ipython3",
   "version": "3.7.6"
  }
 },
 "nbformat": 4,
 "nbformat_minor": 4
}
