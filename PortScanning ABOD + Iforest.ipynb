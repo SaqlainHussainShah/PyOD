{
 "cells": [
  {
   "cell_type": "markdown",
   "metadata": {
    "colab_type": "text",
    "id": "3bd2vXMeSx6s"
   },
   "source": [
    "# Steps for implementation\n",
    "#### Reading CSV\n",
    "#### Data Description\n",
    "#### Data Cleaning\n",
    "#### Data Normalization\n",
    "#### Features\n",
    "#### Applying KNN and NB\n",
    "#### Confusion Matrix"
   ]
  },
  {
   "cell_type": "code",
   "execution_count": 1,
   "metadata": {
    "colab": {},
    "colab_type": "code",
    "id": "O46P3metTaPc"
   },
   "outputs": [
    {
     "name": "stderr",
     "output_type": "stream",
     "text": [
      "Using TensorFlow backend.\n",
      "/home/muhammad.usman@ebryx.com/.local/lib/python3.6/site-packages/tensorflow/python/framework/dtypes.py:516: FutureWarning: Passing (type, 1) or '1type' as a synonym of type is deprecated; in a future version of numpy, it will be understood as (type, (1,)) / '(1,)type'.\n",
      "  _np_qint8 = np.dtype([(\"qint8\", np.int8, 1)])\n",
      "/home/muhammad.usman@ebryx.com/.local/lib/python3.6/site-packages/tensorflow/python/framework/dtypes.py:517: FutureWarning: Passing (type, 1) or '1type' as a synonym of type is deprecated; in a future version of numpy, it will be understood as (type, (1,)) / '(1,)type'.\n",
      "  _np_quint8 = np.dtype([(\"quint8\", np.uint8, 1)])\n",
      "/home/muhammad.usman@ebryx.com/.local/lib/python3.6/site-packages/tensorflow/python/framework/dtypes.py:518: FutureWarning: Passing (type, 1) or '1type' as a synonym of type is deprecated; in a future version of numpy, it will be understood as (type, (1,)) / '(1,)type'.\n",
      "  _np_qint16 = np.dtype([(\"qint16\", np.int16, 1)])\n",
      "/home/muhammad.usman@ebryx.com/.local/lib/python3.6/site-packages/tensorflow/python/framework/dtypes.py:519: FutureWarning: Passing (type, 1) or '1type' as a synonym of type is deprecated; in a future version of numpy, it will be understood as (type, (1,)) / '(1,)type'.\n",
      "  _np_quint16 = np.dtype([(\"quint16\", np.uint16, 1)])\n",
      "/home/muhammad.usman@ebryx.com/.local/lib/python3.6/site-packages/tensorflow/python/framework/dtypes.py:520: FutureWarning: Passing (type, 1) or '1type' as a synonym of type is deprecated; in a future version of numpy, it will be understood as (type, (1,)) / '(1,)type'.\n",
      "  _np_qint32 = np.dtype([(\"qint32\", np.int32, 1)])\n",
      "/home/muhammad.usman@ebryx.com/.local/lib/python3.6/site-packages/tensorflow/python/framework/dtypes.py:525: FutureWarning: Passing (type, 1) or '1type' as a synonym of type is deprecated; in a future version of numpy, it will be understood as (type, (1,)) / '(1,)type'.\n",
      "  np_resource = np.dtype([(\"resource\", np.ubyte, 1)])\n",
      "/home/muhammad.usman@ebryx.com/.local/lib/python3.6/site-packages/tensorboard/compat/tensorflow_stub/dtypes.py:541: FutureWarning: Passing (type, 1) or '1type' as a synonym of type is deprecated; in a future version of numpy, it will be understood as (type, (1,)) / '(1,)type'.\n",
      "  _np_qint8 = np.dtype([(\"qint8\", np.int8, 1)])\n",
      "/home/muhammad.usman@ebryx.com/.local/lib/python3.6/site-packages/tensorboard/compat/tensorflow_stub/dtypes.py:542: FutureWarning: Passing (type, 1) or '1type' as a synonym of type is deprecated; in a future version of numpy, it will be understood as (type, (1,)) / '(1,)type'.\n",
      "  _np_quint8 = np.dtype([(\"quint8\", np.uint8, 1)])\n",
      "/home/muhammad.usman@ebryx.com/.local/lib/python3.6/site-packages/tensorboard/compat/tensorflow_stub/dtypes.py:543: FutureWarning: Passing (type, 1) or '1type' as a synonym of type is deprecated; in a future version of numpy, it will be understood as (type, (1,)) / '(1,)type'.\n",
      "  _np_qint16 = np.dtype([(\"qint16\", np.int16, 1)])\n",
      "/home/muhammad.usman@ebryx.com/.local/lib/python3.6/site-packages/tensorboard/compat/tensorflow_stub/dtypes.py:544: FutureWarning: Passing (type, 1) or '1type' as a synonym of type is deprecated; in a future version of numpy, it will be understood as (type, (1,)) / '(1,)type'.\n",
      "  _np_quint16 = np.dtype([(\"quint16\", np.uint16, 1)])\n",
      "/home/muhammad.usman@ebryx.com/.local/lib/python3.6/site-packages/tensorboard/compat/tensorflow_stub/dtypes.py:545: FutureWarning: Passing (type, 1) or '1type' as a synonym of type is deprecated; in a future version of numpy, it will be understood as (type, (1,)) / '(1,)type'.\n",
      "  _np_qint32 = np.dtype([(\"qint32\", np.int32, 1)])\n",
      "/home/muhammad.usman@ebryx.com/.local/lib/python3.6/site-packages/tensorboard/compat/tensorflow_stub/dtypes.py:550: FutureWarning: Passing (type, 1) or '1type' as a synonym of type is deprecated; in a future version of numpy, it will be understood as (type, (1,)) / '(1,)type'.\n",
      "  np_resource = np.dtype([(\"resource\", np.ubyte, 1)])\n"
     ]
    }
   ],
   "source": [
    "#Importing Necessary Modules\n",
    "import pandas as pd\n",
    "import matplotlib.pyplot as plt\n",
    "import numpy as np\n",
    "import time\n",
    "from sklearn.metrics import accuracy_score\n",
    "from sklearn.model_selection import train_test_split     # import module for train test split\n",
    "from pyod.models.knn import KNN\n",
    "from pyod.models.cblof import CBLOF\n",
    "from pyod.models.lof import LOF\n",
    "from pyod.models.hbos import HBOS\n",
    "from pyod.models.loci import LOCI\n",
    "from pyod.models.abod import ABOD\n",
    "from pyod.models.iforest import IsolationForest\n",
    "from pyod.models.auto_encoder import AutoEncoder\n",
    "from pyod.utils.data import evaluate_print\n",
    "from sklearn.decomposition import PCA"
   ]
  },
  {
   "cell_type": "markdown",
   "metadata": {
    "colab_type": "text",
    "id": "WD1b7cY4TSU7"
   },
   "source": [
    "### Reading CSV"
   ]
  },
  {
   "cell_type": "code",
   "execution_count": null,
   "metadata": {
    "colab": {
     "base_uri": "https://localhost:8080/",
     "height": 122
    },
    "colab_type": "code",
    "id": "4vVz_jcYTQUQ",
    "outputId": "b26b7b51-9a1d-47f2-f6df-c31eabdc2fbf"
   },
   "outputs": [],
   "source": []
  },
  {
   "cell_type": "code",
   "execution_count": 2,
   "metadata": {
    "colab": {},
    "colab_type": "code",
    "id": "JIfpjgFOTj7I"
   },
   "outputs": [],
   "source": [
    "#df1=pd.read_csv(\"../Datasets/MachineLearningCVE/Friday-WorkingHours-Afternoon-DDos.pcap_ISCX.csv\")\n",
    "df2=pd.read_csv(\"../../Datasets/MachineLearningCVE/Friday-WorkingHours-Afternoon-PortScan.pcap_ISCX.csv\")\n",
    "#df3=pd.read_csv(\"../Datasets/MachineLearningCVE/Friday-WorkingHours-Morning.pcap_ISCX.csv\")\n",
    "#df4=pd.read_csv(\"../Datasets/MachineLearningCVE/Monday-WorkingHours.pcap_ISCX.csv\")\n",
    "#df5=pd.read_csv(\"../Datasets/MachineLearningCVE/Thursday-WorkingHours-Afternoon-Infilteration.pcap_ISCX.csv\")\n",
    "#df6=pd.read_csv(\"../Datasets/MachineLearningCVE/Thursday-WorkingHours-Morning-WebAttacks.pcap_ISCX.csv\")\n",
    "#df7=pd.read_csv(\"../Datasets/MachineLearningCVE/Tuesday-WorkingHours.pcap_ISCX.csv\")\n",
    "#df8=pd.read_csv(\"../Datasets/MachineLearningCVE/Wednesday-workingHours.pcap_ISCX.csv\")\n"
   ]
  },
  {
   "cell_type": "code",
   "execution_count": 3,
   "metadata": {
    "colab": {},
    "colab_type": "code",
    "id": "SRElBp73VFOY"
   },
   "outputs": [],
   "source": [
    "\n",
    "df=df2\n",
    "#df=pd.concat([df1,df2,df3,df4,df5,df6,df7,df8])"
   ]
  },
  {
   "cell_type": "code",
   "execution_count": 4,
   "metadata": {
    "colab": {},
    "colab_type": "code",
    "id": "1uGFWgKaVVgO"
   },
   "outputs": [],
   "source": [
    "del df2\n",
    "#del df1,df2,df3,df4,df5,df6,df7,df8\n"
   ]
  },
  {
   "cell_type": "code",
   "execution_count": 5,
   "metadata": {},
   "outputs": [
    {
     "data": {
      "text/html": [
       "<div>\n",
       "<style scoped>\n",
       "    .dataframe tbody tr th:only-of-type {\n",
       "        vertical-align: middle;\n",
       "    }\n",
       "\n",
       "    .dataframe tbody tr th {\n",
       "        vertical-align: top;\n",
       "    }\n",
       "\n",
       "    .dataframe thead th {\n",
       "        text-align: right;\n",
       "    }\n",
       "</style>\n",
       "<table border=\"1\" class=\"dataframe\">\n",
       "  <thead>\n",
       "    <tr style=\"text-align: right;\">\n",
       "      <th></th>\n",
       "      <th>Destination Port</th>\n",
       "      <th>Flow Duration</th>\n",
       "      <th>Total Fwd Packets</th>\n",
       "      <th>Total Backward Packets</th>\n",
       "      <th>Total Length of Fwd Packets</th>\n",
       "      <th>Total Length of Bwd Packets</th>\n",
       "      <th>Fwd Packet Length Max</th>\n",
       "      <th>Fwd Packet Length Min</th>\n",
       "      <th>Fwd Packet Length Mean</th>\n",
       "      <th>Fwd Packet Length Std</th>\n",
       "      <th>...</th>\n",
       "      <th>act_data_pkt_fwd</th>\n",
       "      <th>min_seg_size_forward</th>\n",
       "      <th>Active Mean</th>\n",
       "      <th>Active Std</th>\n",
       "      <th>Active Max</th>\n",
       "      <th>Active Min</th>\n",
       "      <th>Idle Mean</th>\n",
       "      <th>Idle Std</th>\n",
       "      <th>Idle Max</th>\n",
       "      <th>Idle Min</th>\n",
       "    </tr>\n",
       "  </thead>\n",
       "  <tbody>\n",
       "    <tr>\n",
       "      <th>count</th>\n",
       "      <td>286467.000000</td>\n",
       "      <td>2.864670e+05</td>\n",
       "      <td>286467.000000</td>\n",
       "      <td>286467.000000</td>\n",
       "      <td>286467.000000</td>\n",
       "      <td>2.864670e+05</td>\n",
       "      <td>286467.000000</td>\n",
       "      <td>286467.000000</td>\n",
       "      <td>286467.000000</td>\n",
       "      <td>286467.000000</td>\n",
       "      <td>...</td>\n",
       "      <td>286467.000000</td>\n",
       "      <td>286467.000000</td>\n",
       "      <td>2.864670e+05</td>\n",
       "      <td>2.864670e+05</td>\n",
       "      <td>2.864670e+05</td>\n",
       "      <td>2.864670e+05</td>\n",
       "      <td>2.864670e+05</td>\n",
       "      <td>2.864670e+05</td>\n",
       "      <td>2.864670e+05</td>\n",
       "      <td>2.864670e+05</td>\n",
       "    </tr>\n",
       "    <tr>\n",
       "      <th>mean</th>\n",
       "      <td>8044.876324</td>\n",
       "      <td>5.379331e+06</td>\n",
       "      <td>3.473283</td>\n",
       "      <td>3.520500</td>\n",
       "      <td>233.407667</td>\n",
       "      <td>2.707247e+03</td>\n",
       "      <td>81.033369</td>\n",
       "      <td>10.352013</td>\n",
       "      <td>24.138688</td>\n",
       "      <td>24.590994</td>\n",
       "      <td>...</td>\n",
       "      <td>1.728618</td>\n",
       "      <td>29.075328</td>\n",
       "      <td>3.409213e+04</td>\n",
       "      <td>2.294987e+04</td>\n",
       "      <td>7.785722e+04</td>\n",
       "      <td>2.171380e+04</td>\n",
       "      <td>1.602973e+06</td>\n",
       "      <td>6.120390e+04</td>\n",
       "      <td>1.647188e+06</td>\n",
       "      <td>1.536286e+06</td>\n",
       "    </tr>\n",
       "    <tr>\n",
       "      <th>std</th>\n",
       "      <td>15378.583442</td>\n",
       "      <td>2.192364e+07</td>\n",
       "      <td>19.515131</td>\n",
       "      <td>28.288916</td>\n",
       "      <td>1865.523600</td>\n",
       "      <td>5.097783e+04</td>\n",
       "      <td>327.768035</td>\n",
       "      <td>24.237795</td>\n",
       "      <td>78.381542</td>\n",
       "      <td>117.218043</td>\n",
       "      <td>...</td>\n",
       "      <td>14.897361</td>\n",
       "      <td>8.014607</td>\n",
       "      <td>4.659319e+05</td>\n",
       "      <td>2.623049e+05</td>\n",
       "      <td>7.342606e+05</td>\n",
       "      <td>4.223145e+05</td>\n",
       "      <td>8.682334e+06</td>\n",
       "      <td>1.217016e+06</td>\n",
       "      <td>8.882728e+06</td>\n",
       "      <td>8.561545e+06</td>\n",
       "    </tr>\n",
       "    <tr>\n",
       "      <th>min</th>\n",
       "      <td>0.000000</td>\n",
       "      <td>-1.300000e+01</td>\n",
       "      <td>1.000000</td>\n",
       "      <td>0.000000</td>\n",
       "      <td>0.000000</td>\n",
       "      <td>0.000000e+00</td>\n",
       "      <td>0.000000</td>\n",
       "      <td>0.000000</td>\n",
       "      <td>0.000000</td>\n",
       "      <td>0.000000</td>\n",
       "      <td>...</td>\n",
       "      <td>0.000000</td>\n",
       "      <td>0.000000</td>\n",
       "      <td>0.000000e+00</td>\n",
       "      <td>0.000000e+00</td>\n",
       "      <td>0.000000e+00</td>\n",
       "      <td>0.000000e+00</td>\n",
       "      <td>0.000000e+00</td>\n",
       "      <td>0.000000e+00</td>\n",
       "      <td>0.000000e+00</td>\n",
       "      <td>0.000000e+00</td>\n",
       "    </tr>\n",
       "    <tr>\n",
       "      <th>25%</th>\n",
       "      <td>80.000000</td>\n",
       "      <td>4.400000e+01</td>\n",
       "      <td>1.000000</td>\n",
       "      <td>1.000000</td>\n",
       "      <td>0.000000</td>\n",
       "      <td>6.000000e+00</td>\n",
       "      <td>0.000000</td>\n",
       "      <td>0.000000</td>\n",
       "      <td>0.000000</td>\n",
       "      <td>0.000000</td>\n",
       "      <td>...</td>\n",
       "      <td>0.000000</td>\n",
       "      <td>20.000000</td>\n",
       "      <td>0.000000e+00</td>\n",
       "      <td>0.000000e+00</td>\n",
       "      <td>0.000000e+00</td>\n",
       "      <td>0.000000e+00</td>\n",
       "      <td>0.000000e+00</td>\n",
       "      <td>0.000000e+00</td>\n",
       "      <td>0.000000e+00</td>\n",
       "      <td>0.000000e+00</td>\n",
       "    </tr>\n",
       "    <tr>\n",
       "      <th>50%</th>\n",
       "      <td>1110.000000</td>\n",
       "      <td>6.500000e+01</td>\n",
       "      <td>1.000000</td>\n",
       "      <td>1.000000</td>\n",
       "      <td>2.000000</td>\n",
       "      <td>6.000000e+00</td>\n",
       "      <td>2.000000</td>\n",
       "      <td>2.000000</td>\n",
       "      <td>2.000000</td>\n",
       "      <td>0.000000</td>\n",
       "      <td>...</td>\n",
       "      <td>0.000000</td>\n",
       "      <td>24.000000</td>\n",
       "      <td>0.000000e+00</td>\n",
       "      <td>0.000000e+00</td>\n",
       "      <td>0.000000e+00</td>\n",
       "      <td>0.000000e+00</td>\n",
       "      <td>0.000000e+00</td>\n",
       "      <td>0.000000e+00</td>\n",
       "      <td>0.000000e+00</td>\n",
       "      <td>0.000000e+00</td>\n",
       "    </tr>\n",
       "    <tr>\n",
       "      <th>75%</th>\n",
       "      <td>6881.000000</td>\n",
       "      <td>2.380600e+04</td>\n",
       "      <td>2.000000</td>\n",
       "      <td>2.000000</td>\n",
       "      <td>62.000000</td>\n",
       "      <td>1.150000e+02</td>\n",
       "      <td>37.000000</td>\n",
       "      <td>6.000000</td>\n",
       "      <td>34.000000</td>\n",
       "      <td>0.000000</td>\n",
       "      <td>...</td>\n",
       "      <td>1.000000</td>\n",
       "      <td>40.000000</td>\n",
       "      <td>0.000000e+00</td>\n",
       "      <td>0.000000e+00</td>\n",
       "      <td>0.000000e+00</td>\n",
       "      <td>0.000000e+00</td>\n",
       "      <td>0.000000e+00</td>\n",
       "      <td>0.000000e+00</td>\n",
       "      <td>0.000000e+00</td>\n",
       "      <td>0.000000e+00</td>\n",
       "    </tr>\n",
       "    <tr>\n",
       "      <th>max</th>\n",
       "      <td>65389.000000</td>\n",
       "      <td>1.199999e+08</td>\n",
       "      <td>3119.000000</td>\n",
       "      <td>3635.000000</td>\n",
       "      <td>232349.000000</td>\n",
       "      <td>7.150819e+06</td>\n",
       "      <td>13929.000000</td>\n",
       "      <td>1472.000000</td>\n",
       "      <td>3412.938776</td>\n",
       "      <td>3541.466551</td>\n",
       "      <td>...</td>\n",
       "      <td>2056.000000</td>\n",
       "      <td>60.000000</td>\n",
       "      <td>1.100000e+08</td>\n",
       "      <td>7.050000e+07</td>\n",
       "      <td>1.100000e+08</td>\n",
       "      <td>1.100000e+08</td>\n",
       "      <td>1.200000e+08</td>\n",
       "      <td>7.050000e+07</td>\n",
       "      <td>1.200000e+08</td>\n",
       "      <td>1.200000e+08</td>\n",
       "    </tr>\n",
       "  </tbody>\n",
       "</table>\n",
       "<p>8 rows × 78 columns</p>\n",
       "</div>"
      ],
      "text/plain": [
       "        Destination Port   Flow Duration   Total Fwd Packets  \\\n",
       "count      286467.000000    2.864670e+05       286467.000000   \n",
       "mean         8044.876324    5.379331e+06            3.473283   \n",
       "std         15378.583442    2.192364e+07           19.515131   \n",
       "min             0.000000   -1.300000e+01            1.000000   \n",
       "25%            80.000000    4.400000e+01            1.000000   \n",
       "50%          1110.000000    6.500000e+01            1.000000   \n",
       "75%          6881.000000    2.380600e+04            2.000000   \n",
       "max         65389.000000    1.199999e+08         3119.000000   \n",
       "\n",
       "        Total Backward Packets  Total Length of Fwd Packets  \\\n",
       "count            286467.000000                286467.000000   \n",
       "mean                  3.520500                   233.407667   \n",
       "std                  28.288916                  1865.523600   \n",
       "min                   0.000000                     0.000000   \n",
       "25%                   1.000000                     0.000000   \n",
       "50%                   1.000000                     2.000000   \n",
       "75%                   2.000000                    62.000000   \n",
       "max                3635.000000                232349.000000   \n",
       "\n",
       "        Total Length of Bwd Packets   Fwd Packet Length Max  \\\n",
       "count                  2.864670e+05           286467.000000   \n",
       "mean                   2.707247e+03               81.033369   \n",
       "std                    5.097783e+04              327.768035   \n",
       "min                    0.000000e+00                0.000000   \n",
       "25%                    6.000000e+00                0.000000   \n",
       "50%                    6.000000e+00                2.000000   \n",
       "75%                    1.150000e+02               37.000000   \n",
       "max                    7.150819e+06            13929.000000   \n",
       "\n",
       "        Fwd Packet Length Min   Fwd Packet Length Mean  \\\n",
       "count           286467.000000            286467.000000   \n",
       "mean                10.352013                24.138688   \n",
       "std                 24.237795                78.381542   \n",
       "min                  0.000000                 0.000000   \n",
       "25%                  0.000000                 0.000000   \n",
       "50%                  2.000000                 2.000000   \n",
       "75%                  6.000000                34.000000   \n",
       "max               1472.000000              3412.938776   \n",
       "\n",
       "        Fwd Packet Length Std  ...   act_data_pkt_fwd   min_seg_size_forward  \\\n",
       "count           286467.000000  ...      286467.000000          286467.000000   \n",
       "mean                24.590994  ...           1.728618              29.075328   \n",
       "std                117.218043  ...          14.897361               8.014607   \n",
       "min                  0.000000  ...           0.000000               0.000000   \n",
       "25%                  0.000000  ...           0.000000              20.000000   \n",
       "50%                  0.000000  ...           0.000000              24.000000   \n",
       "75%                  0.000000  ...           1.000000              40.000000   \n",
       "max               3541.466551  ...        2056.000000              60.000000   \n",
       "\n",
       "        Active Mean    Active Std    Active Max    Active Min     Idle Mean  \\\n",
       "count  2.864670e+05  2.864670e+05  2.864670e+05  2.864670e+05  2.864670e+05   \n",
       "mean   3.409213e+04  2.294987e+04  7.785722e+04  2.171380e+04  1.602973e+06   \n",
       "std    4.659319e+05  2.623049e+05  7.342606e+05  4.223145e+05  8.682334e+06   \n",
       "min    0.000000e+00  0.000000e+00  0.000000e+00  0.000000e+00  0.000000e+00   \n",
       "25%    0.000000e+00  0.000000e+00  0.000000e+00  0.000000e+00  0.000000e+00   \n",
       "50%    0.000000e+00  0.000000e+00  0.000000e+00  0.000000e+00  0.000000e+00   \n",
       "75%    0.000000e+00  0.000000e+00  0.000000e+00  0.000000e+00  0.000000e+00   \n",
       "max    1.100000e+08  7.050000e+07  1.100000e+08  1.100000e+08  1.200000e+08   \n",
       "\n",
       "           Idle Std      Idle Max      Idle Min  \n",
       "count  2.864670e+05  2.864670e+05  2.864670e+05  \n",
       "mean   6.120390e+04  1.647188e+06  1.536286e+06  \n",
       "std    1.217016e+06  8.882728e+06  8.561545e+06  \n",
       "min    0.000000e+00  0.000000e+00  0.000000e+00  \n",
       "25%    0.000000e+00  0.000000e+00  0.000000e+00  \n",
       "50%    0.000000e+00  0.000000e+00  0.000000e+00  \n",
       "75%    0.000000e+00  0.000000e+00  0.000000e+00  \n",
       "max    7.050000e+07  1.200000e+08  1.200000e+08  \n",
       "\n",
       "[8 rows x 78 columns]"
      ]
     },
     "execution_count": 5,
     "metadata": {},
     "output_type": "execute_result"
    }
   ],
   "source": [
    "df.describe()"
   ]
  },
  {
   "cell_type": "code",
   "execution_count": null,
   "metadata": {},
   "outputs": [],
   "source": []
  },
  {
   "cell_type": "code",
   "execution_count": null,
   "metadata": {},
   "outputs": [],
   "source": []
  },
  {
   "cell_type": "code",
   "execution_count": null,
   "metadata": {},
   "outputs": [],
   "source": []
  },
  {
   "cell_type": "markdown",
   "metadata": {},
   "source": [
    "# Data Cleaning"
   ]
  },
  {
   "cell_type": "code",
   "execution_count": null,
   "metadata": {},
   "outputs": [],
   "source": []
  },
  {
   "cell_type": "code",
   "execution_count": 6,
   "metadata": {},
   "outputs": [],
   "source": [
    "df['Bwd Avg Bulk Rate']=df[\"Bwd Avg Bulk Rate\"].astype(\"float64\")\n",
    "df[' Bwd Avg Packets/Bulk']=df[\" Bwd Avg Packets/Bulk\"].astype(\"float64\")\n",
    "df[' Bwd Avg Bytes/Bulk']=df[\" Bwd Avg Bytes/Bulk\"].astype(\"float64\")\n",
    "df[' Fwd Avg Bulk Rate']=df[\" Fwd Avg Bulk Rate\"].astype(\"float64\")\n",
    "df[' Fwd Avg Packets/Bulk']=df[\" Fwd Avg Packets/Bulk\"].astype(\"float64\")\n",
    "df['Fwd Avg Bytes/Bulk']=df[\"Fwd Avg Bytes/Bulk\"].astype(\"float64\")\n",
    "df[' CWE Flag Count']=df[\" CWE Flag Count\"].astype(\"float64\")\n",
    "df[' Bwd URG Flags']=df[\" Bwd URG Flags\"].astype(\"float64\")\n",
    "df[' Bwd PSH Flags']=df[\" Bwd PSH Flags\"].astype(\"float64\")\n",
    "df[' Fwd URG Flags']=df[\" Fwd URG Flags\"].astype(\"float64\")"
   ]
  },
  {
   "cell_type": "code",
   "execution_count": 7,
   "metadata": {},
   "outputs": [],
   "source": [
    "df=df.dropna( axis=0, how='any')\n",
    "df.replace(\"Infinity\", 0, inplace=True)\n",
    "df=df.replace(',,', np.nan, inplace=False)\n",
    "df.replace('NaN',0.0, inplace=True)"
   ]
  },
  {
   "cell_type": "code",
   "execution_count": 8,
   "metadata": {},
   "outputs": [],
   "source": [
    "for column in df.columns[:-1]:\n",
    "    df.loc[df[column] < 0, column] = 0\n",
    "    df[column] = (df[column] - df[column].min() + 0.000001)/ df[column].max()"
   ]
  },
  {
   "cell_type": "code",
   "execution_count": 9,
   "metadata": {},
   "outputs": [
    {
     "name": "stdout",
     "output_type": "stream",
     "text": [
      " Destination Port 1.000000000015293\n",
      " Flow Duration 1.0000000000000082\n",
      " Total Fwd Packets 0.9996793847386982\n",
      " Total Backward Packets 1.000000000275103\n",
      "Total Length of Fwd Packets 1.000000000004304\n",
      " Total Length of Bwd Packets 1.0000000000001399\n",
      " Fwd Packet Length Max 1.0000000000717928\n",
      " Fwd Packet Length Min 1.000000000679348\n",
      " Fwd Packet Length Mean 1.0000000002930025\n",
      " Fwd Packet Length Std 1.0000000002823688\n",
      "Bwd Packet Length Max 1.0000000000986582\n",
      " Bwd Packet Length Min 1.0000000006849317\n",
      " Bwd Packet Length Mean 1.0000000004094127\n",
      " Bwd Packet Length Std 1.0000000003803897\n",
      "Flow Bytes/s 0.0\n",
      " Flow Packets/s 0.0\n",
      " Flow IAT Mean 1.0000000000000102\n",
      " Flow IAT Std 1.0000000000000118\n",
      " Flow IAT Max 1.0000000000000082\n",
      " Flow IAT Min 1.0000000000000102\n",
      "Fwd IAT Total 1.0000000000000082\n",
      " Fwd IAT Mean 1.0000000000000082\n",
      " Fwd IAT Std 1.0000000000000122\n",
      " Fwd IAT Max 1.0000000000000082\n",
      " Fwd IAT Min 1.0000000000000082\n",
      "Bwd IAT Total 1.0000000000000082\n",
      " Bwd IAT Mean 1.0000000000000082\n",
      " Bwd IAT Std 1.0000000000000122\n",
      " Bwd IAT Max 1.0000000000000082\n",
      " Bwd IAT Min 1.0000000000000082\n",
      "Fwd PSH Flags 1.000001\n",
      " Bwd PSH Flags inf\n",
      " Fwd URG Flags inf\n",
      " Bwd URG Flags inf\n",
      " Fwd Header Length 1.0000000000125577\n",
      " Bwd Header Length 1.000000000012302\n",
      "Fwd Packets/s 1.0000000000003333\n",
      " Bwd Packets/s 1.0000000000005\n",
      " Min Packet Length 1.0000000034602077\n",
      " Max Packet Length 1.0000000000717928\n",
      " Packet Length Mean 1.000000000629723\n",
      " Packet Length Std 1.0000000004004774\n",
      " Packet Length Variance 1.0000000000001603\n",
      "FIN Flag Count 1.000001\n",
      " SYN Flag Count 1.000001\n",
      " RST Flag Count 1.000001\n",
      " PSH Flag Count 1.000001\n",
      " ACK Flag Count 1.000001\n",
      " URG Flag Count 1.000001\n",
      " CWE Flag Count inf\n",
      " ECE Flag Count 1.000001\n",
      " Down/Up Ratio 1.0000000080645162\n",
      " Average Packet Size 1.000000000483559\n",
      " Avg Fwd Segment Size 1.0000000002930025\n",
      " Avg Bwd Segment Size 1.0000000004094127\n",
      " Fwd Header Length.1 1.0000000000125577\n",
      "Fwd Avg Bytes/Bulk inf\n",
      " Fwd Avg Packets/Bulk inf\n",
      " Fwd Avg Bulk Rate inf\n",
      " Bwd Avg Bytes/Bulk inf\n",
      " Bwd Avg Packets/Bulk inf\n",
      "Bwd Avg Bulk Rate inf\n",
      "Subflow Fwd Packets 0.9996793847386982\n",
      " Subflow Fwd Bytes 1.000000000004304\n",
      " Subflow Bwd Packets 1.000000000275103\n",
      " Subflow Bwd Bytes 1.0000000000001399\n",
      "Init_Win_bytes_forward 1.0000000000152591\n",
      " Init_Win_bytes_backward 1.0000000000152591\n",
      " act_data_pkt_fwd 1.0000000004863812\n",
      " min_seg_size_forward 1.0000000166666667\n",
      "Active Mean 1.000000000000009\n",
      " Active Std 1.0000000000000142\n",
      " Active Max 1.000000000000009\n",
      " Active Min 1.000000000000009\n",
      "Idle Mean 1.0000000000000082\n",
      " Idle Std 1.0000000000000142\n",
      " Idle Max 1.0000000000000082\n",
      " Idle Min 1.0000000000000082\n"
     ]
    }
   ],
   "source": [
    "s=df.describe()\n",
    "for i in s.columns:\n",
    "    print(i,s[i][7])"
   ]
  },
  {
   "cell_type": "code",
   "execution_count": 10,
   "metadata": {},
   "outputs": [],
   "source": [
    "df.replace([np.inf, -np.inf], np.nan, inplace=True)\n",
    "df.dropna(subset=df.columns, how=\"all\",inplace=True)"
   ]
  },
  {
   "cell_type": "code",
   "execution_count": 11,
   "metadata": {},
   "outputs": [
    {
     "name": "stdout",
     "output_type": "stream",
     "text": [
      " Destination Port 1.000000000015293\n",
      " Flow Duration 1.0000000000000082\n",
      " Total Fwd Packets 0.9996793847386982\n",
      " Total Backward Packets 1.000000000275103\n",
      "Total Length of Fwd Packets 1.000000000004304\n",
      " Total Length of Bwd Packets 1.0000000000001399\n",
      " Fwd Packet Length Max 1.0000000000717928\n",
      " Fwd Packet Length Min 1.000000000679348\n",
      " Fwd Packet Length Mean 1.0000000002930025\n",
      " Fwd Packet Length Std 1.0000000002823688\n",
      "Bwd Packet Length Max 1.0000000000986582\n",
      " Bwd Packet Length Min 1.0000000006849317\n",
      " Bwd Packet Length Mean 1.0000000004094127\n",
      " Bwd Packet Length Std 1.0000000003803897\n",
      "Flow Bytes/s 0.0\n",
      " Flow Packets/s 0.0\n",
      " Flow IAT Mean 1.0000000000000102\n",
      " Flow IAT Std 1.0000000000000118\n",
      " Flow IAT Max 1.0000000000000082\n",
      " Flow IAT Min 1.0000000000000102\n",
      "Fwd IAT Total 1.0000000000000082\n",
      " Fwd IAT Mean 1.0000000000000082\n",
      " Fwd IAT Std 1.0000000000000122\n",
      " Fwd IAT Max 1.0000000000000082\n",
      " Fwd IAT Min 1.0000000000000082\n",
      "Bwd IAT Total 1.0000000000000082\n",
      " Bwd IAT Mean 1.0000000000000082\n",
      " Bwd IAT Std 1.0000000000000122\n",
      " Bwd IAT Max 1.0000000000000082\n",
      " Bwd IAT Min 1.0000000000000082\n",
      "Fwd PSH Flags 1.000001\n",
      " Bwd PSH Flags nan\n",
      " Fwd URG Flags nan\n",
      " Bwd URG Flags nan\n",
      " Fwd Header Length 1.0000000000125577\n",
      " Bwd Header Length 1.000000000012302\n",
      "Fwd Packets/s 1.0000000000003333\n",
      " Bwd Packets/s 1.0000000000005\n",
      " Min Packet Length 1.0000000034602077\n",
      " Max Packet Length 1.0000000000717928\n",
      " Packet Length Mean 1.000000000629723\n",
      " Packet Length Std 1.0000000004004774\n",
      " Packet Length Variance 1.0000000000001603\n",
      "FIN Flag Count 1.000001\n",
      " SYN Flag Count 1.000001\n",
      " RST Flag Count 1.000001\n",
      " PSH Flag Count 1.000001\n",
      " ACK Flag Count 1.000001\n",
      " URG Flag Count 1.000001\n",
      " CWE Flag Count nan\n",
      " ECE Flag Count 1.000001\n",
      " Down/Up Ratio 1.0000000080645162\n",
      " Average Packet Size 1.000000000483559\n",
      " Avg Fwd Segment Size 1.0000000002930025\n",
      " Avg Bwd Segment Size 1.0000000004094127\n",
      " Fwd Header Length.1 1.0000000000125577\n",
      "Fwd Avg Bytes/Bulk nan\n",
      " Fwd Avg Packets/Bulk nan\n",
      " Fwd Avg Bulk Rate nan\n",
      " Bwd Avg Bytes/Bulk nan\n",
      " Bwd Avg Packets/Bulk nan\n",
      "Bwd Avg Bulk Rate nan\n",
      "Subflow Fwd Packets 0.9996793847386982\n",
      " Subflow Fwd Bytes 1.000000000004304\n",
      " Subflow Bwd Packets 1.000000000275103\n",
      " Subflow Bwd Bytes 1.0000000000001399\n",
      "Init_Win_bytes_forward 1.0000000000152591\n",
      " Init_Win_bytes_backward 1.0000000000152591\n",
      " act_data_pkt_fwd 1.0000000004863812\n",
      " min_seg_size_forward 1.0000000166666667\n",
      "Active Mean 1.000000000000009\n",
      " Active Std 1.0000000000000142\n",
      " Active Max 1.000000000000009\n",
      " Active Min 1.000000000000009\n",
      "Idle Mean 1.0000000000000082\n",
      " Idle Std 1.0000000000000142\n",
      " Idle Max 1.0000000000000082\n",
      " Idle Min 1.0000000000000082\n"
     ]
    }
   ],
   "source": [
    "s=df.describe()\n",
    "for i in s.columns:\n",
    "    print(i,s[i][7])"
   ]
  },
  {
   "cell_type": "code",
   "execution_count": null,
   "metadata": {},
   "outputs": [],
   "source": []
  },
  {
   "cell_type": "code",
   "execution_count": null,
   "metadata": {},
   "outputs": [],
   "source": []
  },
  {
   "cell_type": "code",
   "execution_count": null,
   "metadata": {
    "colab": {},
    "colab_type": "code",
    "id": "rKO9HBniidpL"
   },
   "outputs": [],
   "source": []
  },
  {
   "cell_type": "code",
   "execution_count": null,
   "metadata": {
    "colab": {},
    "colab_type": "code",
    "id": "SFkUfzNAjYs1"
   },
   "outputs": [],
   "source": []
  },
  {
   "cell_type": "code",
   "execution_count": null,
   "metadata": {
    "colab": {
     "base_uri": "https://localhost:8080/",
     "height": 450
    },
    "colab_type": "code",
    "id": "v6i51BJskggR",
    "outputId": "936a34f3-079e-40ee-b0bc-0c94957644d6"
   },
   "outputs": [],
   "source": [
    "\n"
   ]
  },
  {
   "cell_type": "code",
   "execution_count": null,
   "metadata": {},
   "outputs": [],
   "source": []
  },
  {
   "cell_type": "code",
   "execution_count": null,
   "metadata": {
    "colab": {},
    "colab_type": "code",
    "id": "_cDBnJT0leq7"
   },
   "outputs": [],
   "source": []
  },
  {
   "cell_type": "code",
   "execution_count": null,
   "metadata": {
    "colab": {},
    "colab_type": "code",
    "id": "xUOavxarkXfi"
   },
   "outputs": [],
   "source": []
  },
  {
   "cell_type": "markdown",
   "metadata": {
    "colab_type": "text",
    "id": "J7uQ7c4mXdW8"
   },
   "source": [
    "### Data Description"
   ]
  },
  {
   "cell_type": "code",
   "execution_count": null,
   "metadata": {
    "colab": {
     "base_uri": "https://localhost:8080/",
     "height": 1000
    },
    "colab_type": "code",
    "id": "D9DetS6KlRs8",
    "outputId": "b3a58720-ab47-4707-c5fa-648f0ba6ed15"
   },
   "outputs": [],
   "source": []
  },
  {
   "cell_type": "code",
   "execution_count": 12,
   "metadata": {},
   "outputs": [
    {
     "data": {
      "text/plain": [
       "<matplotlib.axes._subplots.AxesSubplot at 0x7f893f0f4400>"
      ]
     },
     "execution_count": 12,
     "metadata": {},
     "output_type": "execute_result"
    },
    {
     "data": {
      "image/png": "[encoded data removed]",
      "text/plain": [
       "<Figure size 1440x1440 with 1 Axes>"
      ]
     },
     "metadata": {
      "needs_background": "light"
     },
     "output_type": "display_data"
    }
   ],
   "source": [
    "lowVarianceThreshold = 0.004\n",
    "varinaces = df.var()\n",
    "varinaces.plot(kind='barh', figsize =(20,20))\n"
   ]
  },
  {
   "cell_type": "code",
   "execution_count": 13,
   "metadata": {},
   "outputs": [],
   "source": [
    "selectedColumns = varinaces[ varinaces > lowVarianceThreshold ]\n",
    "filteredColumns = varinaces[ varinaces <= lowVarianceThreshold ]"
   ]
  },
  {
   "cell_type": "code",
   "execution_count": 14,
   "metadata": {},
   "outputs": [
    {
     "data": {
      "text/plain": [
       "25"
      ]
     },
     "execution_count": 14,
     "metadata": {},
     "output_type": "execute_result"
    }
   ],
   "source": [
    "selectedColumns.count()"
   ]
  },
  {
   "cell_type": "code",
   "execution_count": 15,
   "metadata": {},
   "outputs": [
    {
     "data": {
      "text/plain": [
       "43"
      ]
     },
     "execution_count": 15,
     "metadata": {},
     "output_type": "execute_result"
    }
   ],
   "source": [
    "filteredColumns.count()"
   ]
  },
  {
   "cell_type": "code",
   "execution_count": null,
   "metadata": {},
   "outputs": [],
   "source": []
  },
  {
   "cell_type": "code",
   "execution_count": null,
   "metadata": {},
   "outputs": [],
   "source": []
  },
  {
   "cell_type": "code",
   "execution_count": null,
   "metadata": {},
   "outputs": [],
   "source": []
  },
  {
   "cell_type": "code",
   "execution_count": 16,
   "metadata": {},
   "outputs": [],
   "source": [
    "# category A attacks\n",
    "dfPortScan=df[df[' Label']=='PortScan']\n",
    "# benign data\n",
    "dfBenign=df[df[' Label']=='BENIGN']"
   ]
  },
  {
   "cell_type": "code",
   "execution_count": 17,
   "metadata": {},
   "outputs": [
    {
     "data": {
      "text/html": [
       "<div>\n",
       "<style scoped>\n",
       "    .dataframe tbody tr th:only-of-type {\n",
       "        vertical-align: middle;\n",
       "    }\n",
       "\n",
       "    .dataframe tbody tr th {\n",
       "        vertical-align: top;\n",
       "    }\n",
       "\n",
       "    .dataframe thead th {\n",
       "        text-align: right;\n",
       "    }\n",
       "</style>\n",
       "<table border=\"1\" class=\"dataframe\">\n",
       "  <thead>\n",
       "    <tr style=\"text-align: right;\">\n",
       "      <th></th>\n",
       "      <th>Destination Port</th>\n",
       "      <th>Flow Duration</th>\n",
       "      <th>Total Fwd Packets</th>\n",
       "      <th>Total Backward Packets</th>\n",
       "      <th>Total Length of Fwd Packets</th>\n",
       "      <th>Total Length of Bwd Packets</th>\n",
       "      <th>Fwd Packet Length Max</th>\n",
       "      <th>Fwd Packet Length Min</th>\n",
       "      <th>Fwd Packet Length Mean</th>\n",
       "      <th>Fwd Packet Length Std</th>\n",
       "      <th>...</th>\n",
       "      <th>act_data_pkt_fwd</th>\n",
       "      <th>min_seg_size_forward</th>\n",
       "      <th>Active Mean</th>\n",
       "      <th>Active Std</th>\n",
       "      <th>Active Max</th>\n",
       "      <th>Active Min</th>\n",
       "      <th>Idle Mean</th>\n",
       "      <th>Idle Std</th>\n",
       "      <th>Idle Max</th>\n",
       "      <th>Idle Min</th>\n",
       "    </tr>\n",
       "  </thead>\n",
       "  <tbody>\n",
       "    <tr>\n",
       "      <th>count</th>\n",
       "      <td>1.275220e+05</td>\n",
       "      <td>1.275220e+05</td>\n",
       "      <td>1.275220e+05</td>\n",
       "      <td>1.275220e+05</td>\n",
       "      <td>1.275220e+05</td>\n",
       "      <td>1.275220e+05</td>\n",
       "      <td>1.275220e+05</td>\n",
       "      <td>1.275220e+05</td>\n",
       "      <td>1.275220e+05</td>\n",
       "      <td>1.275220e+05</td>\n",
       "      <td>...</td>\n",
       "      <td>1.275220e+05</td>\n",
       "      <td>1.275220e+05</td>\n",
       "      <td>1.275220e+05</td>\n",
       "      <td>1.275220e+05</td>\n",
       "      <td>1.275220e+05</td>\n",
       "      <td>1.275220e+05</td>\n",
       "      <td>1.275220e+05</td>\n",
       "      <td>1.275220e+05</td>\n",
       "      <td>1.275220e+05</td>\n",
       "      <td>1.275220e+05</td>\n",
       "    </tr>\n",
       "    <tr>\n",
       "      <th>mean</th>\n",
       "      <td>1.119270e-01</td>\n",
       "      <td>9.984151e-02</td>\n",
       "      <td>1.774305e-03</td>\n",
       "      <td>1.831073e-03</td>\n",
       "      <td>2.250806e-03</td>\n",
       "      <td>8.483421e-04</td>\n",
       "      <td>1.297302e-02</td>\n",
       "      <td>1.496217e-02</td>\n",
       "      <td>1.551958e-02</td>\n",
       "      <td>1.558405e-02</td>\n",
       "      <td>...</td>\n",
       "      <td>1.886289e-03</td>\n",
       "      <td>4.228183e-01</td>\n",
       "      <td>6.954591e-04</td>\n",
       "      <td>7.312207e-04</td>\n",
       "      <td>1.589167e-03</td>\n",
       "      <td>4.427054e-04</td>\n",
       "      <td>2.918081e-02</td>\n",
       "      <td>1.949117e-03</td>\n",
       "      <td>3.000712e-02</td>\n",
       "      <td>2.793272e-02</td>\n",
       "    </tr>\n",
       "    <tr>\n",
       "      <th>std</th>\n",
       "      <td>2.670110e-01</td>\n",
       "      <td>2.627902e-01</td>\n",
       "      <td>9.283566e-03</td>\n",
       "      <td>1.160656e-02</td>\n",
       "      <td>1.191697e-02</td>\n",
       "      <td>1.066621e-02</td>\n",
       "      <td>3.393434e-02</td>\n",
       "      <td>2.225205e-02</td>\n",
       "      <td>3.249719e-02</td>\n",
       "      <td>4.823087e-02</td>\n",
       "      <td>...</td>\n",
       "      <td>1.076891e-02</td>\n",
       "      <td>1.051547e-01</td>\n",
       "      <td>6.326248e-03</td>\n",
       "      <td>5.549839e-03</td>\n",
       "      <td>9.933577e-03</td>\n",
       "      <td>5.743640e-03</td>\n",
       "      <td>1.042208e-01</td>\n",
       "      <td>2.583003e-02</td>\n",
       "      <td>1.066959e-01</td>\n",
       "      <td>1.028383e-01</td>\n",
       "    </tr>\n",
       "    <tr>\n",
       "      <th>min</th>\n",
       "      <td>1.529309e-11</td>\n",
       "      <td>8.333337e-15</td>\n",
       "      <td>3.206156e-10</td>\n",
       "      <td>2.751032e-10</td>\n",
       "      <td>4.303870e-12</td>\n",
       "      <td>1.398441e-13</td>\n",
       "      <td>7.179266e-11</td>\n",
       "      <td>6.793478e-10</td>\n",
       "      <td>2.930026e-10</td>\n",
       "      <td>2.823689e-10</td>\n",
       "      <td>...</td>\n",
       "      <td>4.863813e-10</td>\n",
       "      <td>1.666667e-08</td>\n",
       "      <td>9.090909e-15</td>\n",
       "      <td>1.418440e-14</td>\n",
       "      <td>9.090909e-15</td>\n",
       "      <td>9.090909e-15</td>\n",
       "      <td>8.333333e-15</td>\n",
       "      <td>1.418440e-14</td>\n",
       "      <td>8.333333e-15</td>\n",
       "      <td>8.333333e-15</td>\n",
       "    </tr>\n",
       "    <tr>\n",
       "      <th>25%</th>\n",
       "      <td>8.105339e-04</td>\n",
       "      <td>1.550001e-06</td>\n",
       "      <td>3.206159e-04</td>\n",
       "      <td>2.751034e-04</td>\n",
       "      <td>1.248122e-04</td>\n",
       "      <td>8.390649e-07</td>\n",
       "      <td>4.307560e-04</td>\n",
       "      <td>6.793478e-10</td>\n",
       "      <td>1.758016e-03</td>\n",
       "      <td>2.823689e-10</td>\n",
       "      <td>...</td>\n",
       "      <td>4.863813e-10</td>\n",
       "      <td>3.333334e-01</td>\n",
       "      <td>9.090909e-15</td>\n",
       "      <td>1.418440e-14</td>\n",
       "      <td>9.090909e-15</td>\n",
       "      <td>9.090909e-15</td>\n",
       "      <td>8.333333e-15</td>\n",
       "      <td>1.418440e-14</td>\n",
       "      <td>8.333333e-15</td>\n",
       "      <td>8.333333e-15</td>\n",
       "    </tr>\n",
       "    <tr>\n",
       "      <th>50%</th>\n",
       "      <td>1.223447e-03</td>\n",
       "      <td>2.580418e-04</td>\n",
       "      <td>3.206159e-04</td>\n",
       "      <td>5.502066e-04</td>\n",
       "      <td>2.926632e-04</td>\n",
       "      <td>1.971802e-05</td>\n",
       "      <td>2.871707e-03</td>\n",
       "      <td>4.076088e-03</td>\n",
       "      <td>1.084110e-02</td>\n",
       "      <td>2.823689e-10</td>\n",
       "      <td>...</td>\n",
       "      <td>4.863818e-04</td>\n",
       "      <td>3.333334e-01</td>\n",
       "      <td>9.090909e-15</td>\n",
       "      <td>1.418440e-14</td>\n",
       "      <td>9.090909e-15</td>\n",
       "      <td>9.090909e-15</td>\n",
       "      <td>8.333333e-15</td>\n",
       "      <td>1.418440e-14</td>\n",
       "      <td>8.333333e-15</td>\n",
       "      <td>8.333333e-15</td>\n",
       "    </tr>\n",
       "    <tr>\n",
       "      <th>75%</th>\n",
       "      <td>6.774840e-03</td>\n",
       "      <td>4.604996e-03</td>\n",
       "      <td>9.618471e-04</td>\n",
       "      <td>5.502066e-04</td>\n",
       "      <td>6.627961e-04</td>\n",
       "      <td>4.726731e-05</td>\n",
       "      <td>4.594730e-03</td>\n",
       "      <td>2.785326e-02</td>\n",
       "      <td>1.465013e-02</td>\n",
       "      <td>5.682565e-03</td>\n",
       "      <td>...</td>\n",
       "      <td>1.459144e-03</td>\n",
       "      <td>5.333333e-01</td>\n",
       "      <td>9.090909e-15</td>\n",
       "      <td>1.418440e-14</td>\n",
       "      <td>9.090909e-15</td>\n",
       "      <td>9.090909e-15</td>\n",
       "      <td>8.333333e-15</td>\n",
       "      <td>1.418440e-14</td>\n",
       "      <td>8.333333e-15</td>\n",
       "      <td>8.333333e-15</td>\n",
       "    </tr>\n",
       "    <tr>\n",
       "      <th>max</th>\n",
       "      <td>9.986389e-01</td>\n",
       "      <td>1.000000e+00</td>\n",
       "      <td>9.996794e-01</td>\n",
       "      <td>1.000000e+00</td>\n",
       "      <td>1.000000e+00</td>\n",
       "      <td>1.000000e+00</td>\n",
       "      <td>1.000000e+00</td>\n",
       "      <td>1.000000e+00</td>\n",
       "      <td>1.000000e+00</td>\n",
       "      <td>1.000000e+00</td>\n",
       "      <td>...</td>\n",
       "      <td>1.000000e+00</td>\n",
       "      <td>1.000000e+00</td>\n",
       "      <td>1.000000e+00</td>\n",
       "      <td>1.000000e+00</td>\n",
       "      <td>1.000000e+00</td>\n",
       "      <td>1.000000e+00</td>\n",
       "      <td>1.000000e+00</td>\n",
       "      <td>1.000000e+00</td>\n",
       "      <td>1.000000e+00</td>\n",
       "      <td>1.000000e+00</td>\n",
       "    </tr>\n",
       "  </tbody>\n",
       "</table>\n",
       "<p>8 rows × 78 columns</p>\n",
       "</div>"
      ],
      "text/plain": [
       "        Destination Port   Flow Duration   Total Fwd Packets  \\\n",
       "count       1.275220e+05    1.275220e+05        1.275220e+05   \n",
       "mean        1.119270e-01    9.984151e-02        1.774305e-03   \n",
       "std         2.670110e-01    2.627902e-01        9.283566e-03   \n",
       "min         1.529309e-11    8.333337e-15        3.206156e-10   \n",
       "25%         8.105339e-04    1.550001e-06        3.206159e-04   \n",
       "50%         1.223447e-03    2.580418e-04        3.206159e-04   \n",
       "75%         6.774840e-03    4.604996e-03        9.618471e-04   \n",
       "max         9.986389e-01    1.000000e+00        9.996794e-01   \n",
       "\n",
       "        Total Backward Packets  Total Length of Fwd Packets  \\\n",
       "count             1.275220e+05                 1.275220e+05   \n",
       "mean              1.831073e-03                 2.250806e-03   \n",
       "std               1.160656e-02                 1.191697e-02   \n",
       "min               2.751032e-10                 4.303870e-12   \n",
       "25%               2.751034e-04                 1.248122e-04   \n",
       "50%               5.502066e-04                 2.926632e-04   \n",
       "75%               5.502066e-04                 6.627961e-04   \n",
       "max               1.000000e+00                 1.000000e+00   \n",
       "\n",
       "        Total Length of Bwd Packets   Fwd Packet Length Max  \\\n",
       "count                  1.275220e+05            1.275220e+05   \n",
       "mean                   8.483421e-04            1.297302e-02   \n",
       "std                    1.066621e-02            3.393434e-02   \n",
       "min                    1.398441e-13            7.179266e-11   \n",
       "25%                    8.390649e-07            4.307560e-04   \n",
       "50%                    1.971802e-05            2.871707e-03   \n",
       "75%                    4.726731e-05            4.594730e-03   \n",
       "max                    1.000000e+00            1.000000e+00   \n",
       "\n",
       "        Fwd Packet Length Min   Fwd Packet Length Mean  \\\n",
       "count            1.275220e+05             1.275220e+05   \n",
       "mean             1.496217e-02             1.551958e-02   \n",
       "std              2.225205e-02             3.249719e-02   \n",
       "min              6.793478e-10             2.930026e-10   \n",
       "25%              6.793478e-10             1.758016e-03   \n",
       "50%              4.076088e-03             1.084110e-02   \n",
       "75%              2.785326e-02             1.465013e-02   \n",
       "max              1.000000e+00             1.000000e+00   \n",
       "\n",
       "        Fwd Packet Length Std  ...   act_data_pkt_fwd   min_seg_size_forward  \\\n",
       "count            1.275220e+05  ...       1.275220e+05           1.275220e+05   \n",
       "mean             1.558405e-02  ...       1.886289e-03           4.228183e-01   \n",
       "std              4.823087e-02  ...       1.076891e-02           1.051547e-01   \n",
       "min              2.823689e-10  ...       4.863813e-10           1.666667e-08   \n",
       "25%              2.823689e-10  ...       4.863813e-10           3.333334e-01   \n",
       "50%              2.823689e-10  ...       4.863818e-04           3.333334e-01   \n",
       "75%              5.682565e-03  ...       1.459144e-03           5.333333e-01   \n",
       "max              1.000000e+00  ...       1.000000e+00           1.000000e+00   \n",
       "\n",
       "        Active Mean    Active Std    Active Max    Active Min     Idle Mean  \\\n",
       "count  1.275220e+05  1.275220e+05  1.275220e+05  1.275220e+05  1.275220e+05   \n",
       "mean   6.954591e-04  7.312207e-04  1.589167e-03  4.427054e-04  2.918081e-02   \n",
       "std    6.326248e-03  5.549839e-03  9.933577e-03  5.743640e-03  1.042208e-01   \n",
       "min    9.090909e-15  1.418440e-14  9.090909e-15  9.090909e-15  8.333333e-15   \n",
       "25%    9.090909e-15  1.418440e-14  9.090909e-15  9.090909e-15  8.333333e-15   \n",
       "50%    9.090909e-15  1.418440e-14  9.090909e-15  9.090909e-15  8.333333e-15   \n",
       "75%    9.090909e-15  1.418440e-14  9.090909e-15  9.090909e-15  8.333333e-15   \n",
       "max    1.000000e+00  1.000000e+00  1.000000e+00  1.000000e+00  1.000000e+00   \n",
       "\n",
       "           Idle Std      Idle Max      Idle Min  \n",
       "count  1.275220e+05  1.275220e+05  1.275220e+05  \n",
       "mean   1.949117e-03  3.000712e-02  2.793272e-02  \n",
       "std    2.583003e-02  1.066959e-01  1.028383e-01  \n",
       "min    1.418440e-14  8.333333e-15  8.333333e-15  \n",
       "25%    1.418440e-14  8.333333e-15  8.333333e-15  \n",
       "50%    1.418440e-14  8.333333e-15  8.333333e-15  \n",
       "75%    1.418440e-14  8.333333e-15  8.333333e-15  \n",
       "max    1.000000e+00  1.000000e+00  1.000000e+00  \n",
       "\n",
       "[8 rows x 78 columns]"
      ]
     },
     "execution_count": 17,
     "metadata": {},
     "output_type": "execute_result"
    }
   ],
   "source": [
    "dfBenign.describe()"
   ]
  },
  {
   "cell_type": "code",
   "execution_count": null,
   "metadata": {},
   "outputs": [],
   "source": []
  },
  {
   "cell_type": "markdown",
   "metadata": {},
   "source": [
    "### Benign Data"
   ]
  },
  {
   "cell_type": "code",
   "execution_count": 18,
   "metadata": {
    "colab": {},
    "colab_type": "code",
    "id": "gfjC1OHuYz8N"
   },
   "outputs": [],
   "source": [
    "X=dfBenign[dfBenign.columns[0:-1]]\n",
    "y=dfBenign[dfBenign.columns[-1]]\n",
    "\n"
   ]
  },
  {
   "cell_type": "code",
   "execution_count": 19,
   "metadata": {},
   "outputs": [
    {
     "data": {
      "text/html": [
       "<div>\n",
       "<style scoped>\n",
       "    .dataframe tbody tr th:only-of-type {\n",
       "        vertical-align: middle;\n",
       "    }\n",
       "\n",
       "    .dataframe tbody tr th {\n",
       "        vertical-align: top;\n",
       "    }\n",
       "\n",
       "    .dataframe thead th {\n",
       "        text-align: right;\n",
       "    }\n",
       "</style>\n",
       "<table border=\"1\" class=\"dataframe\">\n",
       "  <thead>\n",
       "    <tr style=\"text-align: right;\">\n",
       "      <th></th>\n",
       "      <th>Destination Port</th>\n",
       "      <th>Flow Duration</th>\n",
       "      <th>Bwd Packet Length Mean</th>\n",
       "      <th>Bwd Packet Length Std</th>\n",
       "      <th>Flow IAT Max</th>\n",
       "      <th>Fwd IAT Total</th>\n",
       "      <th>Fwd IAT Max</th>\n",
       "      <th>Bwd IAT Total</th>\n",
       "      <th>Bwd IAT Max</th>\n",
       "      <th>Fwd PSH Flags</th>\n",
       "      <th>...</th>\n",
       "      <th>PSH Flag Count</th>\n",
       "      <th>ACK Flag Count</th>\n",
       "      <th>URG Flag Count</th>\n",
       "      <th>Avg Bwd Segment Size</th>\n",
       "      <th>Init_Win_bytes_forward</th>\n",
       "      <th>Init_Win_bytes_backward</th>\n",
       "      <th>min_seg_size_forward</th>\n",
       "      <th>Idle Mean</th>\n",
       "      <th>Idle Max</th>\n",
       "      <th>Idle Min</th>\n",
       "    </tr>\n",
       "  </thead>\n",
       "  <tbody>\n",
       "    <tr>\n",
       "      <th>0</th>\n",
       "      <td>0.000336</td>\n",
       "      <td>1.055285e-02</td>\n",
       "      <td>6.470582e-02</td>\n",
       "      <td>1.189384e-01</td>\n",
       "      <td>7.904475e-03</td>\n",
       "      <td>1.055285e-02</td>\n",
       "      <td>8.302700e-03</td>\n",
       "      <td>2.647258e-03</td>\n",
       "      <td>8.718000e-04</td>\n",
       "      <td>0.000001</td>\n",
       "      <td>...</td>\n",
       "      <td>1.000001</td>\n",
       "      <td>0.000001</td>\n",
       "      <td>0.000001</td>\n",
       "      <td>6.470582e-02</td>\n",
       "      <td>0.445563</td>\n",
       "      <td>0.003708</td>\n",
       "      <td>0.533333</td>\n",
       "      <td>8.333333e-15</td>\n",
       "      <td>8.333333e-15</td>\n",
       "      <td>8.333333e-15</td>\n",
       "    </tr>\n",
       "    <tr>\n",
       "      <th>1</th>\n",
       "      <td>0.000336</td>\n",
       "      <td>1.099461e-02</td>\n",
       "      <td>6.470582e-02</td>\n",
       "      <td>1.189384e-01</td>\n",
       "      <td>7.964917e-03</td>\n",
       "      <td>1.099461e-02</td>\n",
       "      <td>8.303525e-03</td>\n",
       "      <td>3.028575e-03</td>\n",
       "      <td>8.734583e-04</td>\n",
       "      <td>0.000001</td>\n",
       "      <td>...</td>\n",
       "      <td>1.000001</td>\n",
       "      <td>0.000001</td>\n",
       "      <td>0.000001</td>\n",
       "      <td>6.470582e-02</td>\n",
       "      <td>0.445563</td>\n",
       "      <td>0.003708</td>\n",
       "      <td>0.533333</td>\n",
       "      <td>8.333333e-15</td>\n",
       "      <td>8.333333e-15</td>\n",
       "      <td>8.333333e-15</td>\n",
       "    </tr>\n",
       "    <tr>\n",
       "      <th>2</th>\n",
       "      <td>0.000336</td>\n",
       "      <td>1.333334e-06</td>\n",
       "      <td>4.094127e-10</td>\n",
       "      <td>3.803897e-10</td>\n",
       "      <td>1.333333e-06</td>\n",
       "      <td>8.333333e-15</td>\n",
       "      <td>8.333333e-15</td>\n",
       "      <td>8.333333e-15</td>\n",
       "      <td>8.333333e-15</td>\n",
       "      <td>0.000001</td>\n",
       "      <td>...</td>\n",
       "      <td>0.000001</td>\n",
       "      <td>1.000001</td>\n",
       "      <td>1.000001</td>\n",
       "      <td>4.094127e-10</td>\n",
       "      <td>0.004425</td>\n",
       "      <td>0.003708</td>\n",
       "      <td>0.533333</td>\n",
       "      <td>8.333333e-15</td>\n",
       "      <td>8.333333e-15</td>\n",
       "      <td>8.333333e-15</td>\n",
       "    </tr>\n",
       "    <tr>\n",
       "      <th>3</th>\n",
       "      <td>0.000336</td>\n",
       "      <td>1.086240e-02</td>\n",
       "      <td>6.466771e-02</td>\n",
       "      <td>1.213905e-01</td>\n",
       "      <td>7.971258e-03</td>\n",
       "      <td>1.086240e-02</td>\n",
       "      <td>8.311308e-03</td>\n",
       "      <td>2.890425e-03</td>\n",
       "      <td>1.152458e-03</td>\n",
       "      <td>0.000001</td>\n",
       "      <td>...</td>\n",
       "      <td>1.000001</td>\n",
       "      <td>0.000001</td>\n",
       "      <td>0.000001</td>\n",
       "      <td>6.466771e-02</td>\n",
       "      <td>0.445563</td>\n",
       "      <td>0.003708</td>\n",
       "      <td>0.533333</td>\n",
       "      <td>8.333333e-15</td>\n",
       "      <td>8.333333e-15</td>\n",
       "      <td>8.333333e-15</td>\n",
       "    </tr>\n",
       "    <tr>\n",
       "      <th>4</th>\n",
       "      <td>0.541314</td>\n",
       "      <td>6.416669e-07</td>\n",
       "      <td>4.094127e-10</td>\n",
       "      <td>3.803897e-10</td>\n",
       "      <td>4.083333e-07</td>\n",
       "      <td>8.333333e-15</td>\n",
       "      <td>8.333333e-15</td>\n",
       "      <td>4.083333e-07</td>\n",
       "      <td>4.083333e-07</td>\n",
       "      <td>0.000001</td>\n",
       "      <td>...</td>\n",
       "      <td>0.000001</td>\n",
       "      <td>1.000001</td>\n",
       "      <td>1.000001</td>\n",
       "      <td>4.094127e-10</td>\n",
       "      <td>0.003708</td>\n",
       "      <td>0.004425</td>\n",
       "      <td>0.533333</td>\n",
       "      <td>8.333333e-15</td>\n",
       "      <td>8.333333e-15</td>\n",
       "      <td>8.333333e-15</td>\n",
       "    </tr>\n",
       "  </tbody>\n",
       "</table>\n",
       "<p>5 rows × 25 columns</p>\n",
       "</div>"
      ],
      "text/plain": [
       "    Destination Port   Flow Duration   Bwd Packet Length Mean  \\\n",
       "0           0.000336    1.055285e-02             6.470582e-02   \n",
       "1           0.000336    1.099461e-02             6.470582e-02   \n",
       "2           0.000336    1.333334e-06             4.094127e-10   \n",
       "3           0.000336    1.086240e-02             6.466771e-02   \n",
       "4           0.541314    6.416669e-07             4.094127e-10   \n",
       "\n",
       "    Bwd Packet Length Std   Flow IAT Max  Fwd IAT Total   Fwd IAT Max  \\\n",
       "0            1.189384e-01   7.904475e-03   1.055285e-02  8.302700e-03   \n",
       "1            1.189384e-01   7.964917e-03   1.099461e-02  8.303525e-03   \n",
       "2            3.803897e-10   1.333333e-06   8.333333e-15  8.333333e-15   \n",
       "3            1.213905e-01   7.971258e-03   1.086240e-02  8.311308e-03   \n",
       "4            3.803897e-10   4.083333e-07   8.333333e-15  8.333333e-15   \n",
       "\n",
       "   Bwd IAT Total   Bwd IAT Max  Fwd PSH Flags  ...   PSH Flag Count  \\\n",
       "0   2.647258e-03  8.718000e-04       0.000001  ...         1.000001   \n",
       "1   3.028575e-03  8.734583e-04       0.000001  ...         1.000001   \n",
       "2   8.333333e-15  8.333333e-15       0.000001  ...         0.000001   \n",
       "3   2.890425e-03  1.152458e-03       0.000001  ...         1.000001   \n",
       "4   4.083333e-07  4.083333e-07       0.000001  ...         0.000001   \n",
       "\n",
       "    ACK Flag Count   URG Flag Count   Avg Bwd Segment Size  \\\n",
       "0         0.000001         0.000001           6.470582e-02   \n",
       "1         0.000001         0.000001           6.470582e-02   \n",
       "2         1.000001         1.000001           4.094127e-10   \n",
       "3         0.000001         0.000001           6.466771e-02   \n",
       "4         1.000001         1.000001           4.094127e-10   \n",
       "\n",
       "   Init_Win_bytes_forward   Init_Win_bytes_backward   min_seg_size_forward  \\\n",
       "0                0.445563                  0.003708               0.533333   \n",
       "1                0.445563                  0.003708               0.533333   \n",
       "2                0.004425                  0.003708               0.533333   \n",
       "3                0.445563                  0.003708               0.533333   \n",
       "4                0.003708                  0.004425               0.533333   \n",
       "\n",
       "      Idle Mean      Idle Max      Idle Min  \n",
       "0  8.333333e-15  8.333333e-15  8.333333e-15  \n",
       "1  8.333333e-15  8.333333e-15  8.333333e-15  \n",
       "2  8.333333e-15  8.333333e-15  8.333333e-15  \n",
       "3  8.333333e-15  8.333333e-15  8.333333e-15  \n",
       "4  8.333333e-15  8.333333e-15  8.333333e-15  \n",
       "\n",
       "[5 rows x 25 columns]"
      ]
     },
     "execution_count": 19,
     "metadata": {},
     "output_type": "execute_result"
    }
   ],
   "source": [
    "X=X[selectedColumns.index].copy()\n",
    "X.head()"
   ]
  },
  {
   "cell_type": "code",
   "execution_count": 20,
   "metadata": {},
   "outputs": [
    {
     "name": "stdout",
     "output_type": "stream",
     "text": [
      " Destination Port 0.9986389148174769\n",
      " Flow Duration 1.0000000000000082\n",
      " Bwd Packet Length Mean 1.0000000004094127\n",
      " Bwd Packet Length Std 0.9503805327017903\n",
      " Flow IAT Max 1.0000000000000082\n",
      "Fwd IAT Total 1.0000000000000082\n",
      " Fwd IAT Max 1.0000000000000082\n",
      "Bwd IAT Total 1.0000000000000082\n",
      " Bwd IAT Max 1.0000000000000082\n",
      "Fwd PSH Flags 1.000001\n",
      " Min Packet Length 1.0000000034602077\n",
      " Packet Length Mean 1.000000000629723\n",
      " Packet Length Std 1.0000000004004774\n",
      "FIN Flag Count 1.000001\n",
      " SYN Flag Count 1.000001\n",
      " PSH Flag Count 1.000001\n",
      " ACK Flag Count 1.000001\n",
      " URG Flag Count 1.000001\n",
      " Avg Bwd Segment Size 1.0000000004094127\n",
      "Init_Win_bytes_forward 1.0000000000152591\n",
      " Init_Win_bytes_backward 1.0000000000152591\n",
      " min_seg_size_forward 1.0000000166666667\n",
      "Idle Mean 1.0000000000000082\n",
      " Idle Max 1.0000000000000082\n",
      " Idle Min 1.0000000000000082\n"
     ]
    }
   ],
   "source": [
    "s=X.describe()\n",
    "for i in s.columns:\n",
    "    print(i,s[i][7])"
   ]
  },
  {
   "cell_type": "code",
   "execution_count": null,
   "metadata": {
    "colab": {
     "base_uri": "https://localhost:8080/",
     "height": 275
    },
    "colab_type": "code",
    "id": "-whY9ZjkZfea",
    "outputId": "d2c57a6a-dba6-4cd0-c760-ee03f0e631be"
   },
   "outputs": [],
   "source": []
  },
  {
   "cell_type": "markdown",
   "metadata": {
    "colab_type": "text",
    "id": "OQW3Ma3ZZmTe"
   },
   "source": [
    "### Feature Selection"
   ]
  },
  {
   "cell_type": "code",
   "execution_count": 21,
   "metadata": {
    "colab": {},
    "colab_type": "code",
    "id": "B9W2MJLBZiuO"
   },
   "outputs": [],
   "source": [
    "features=[\" Fwd Packet Length Max\",\" Flow IAT Std\",\" Fwd Packet Length Std\" ,\"Fwd IAT Total\",' Flow Duration', \" Fwd Packet Length Mean\", \" Total Length of Bwd Packets\", \"Total Length of Fwd Packets\", \" Flow IAT Mean\", \" Bwd Packet Length Mean\",  \" Flow IAT Max\", \" Bwd Packet Length Std\", ' Total Fwd Packets', ' Total Backward Packets']"
   ]
  },
  {
   "cell_type": "code",
   "execution_count": 22,
   "metadata": {},
   "outputs": [],
   "source": [
    "pca = PCA(n_components=10)\n",
    "pca_result = pca.fit_transform(X)"
   ]
  },
  {
   "cell_type": "code",
   "execution_count": 23,
   "metadata": {},
   "outputs": [
    {
     "data": {
      "text/plain": [
       "array([0.38562438, 0.21855687, 0.11091564, 0.087383  , 0.03835518,\n",
       "       0.0341794 , 0.02946217, 0.0248387 , 0.02048582, 0.01754575])"
      ]
     },
     "execution_count": 23,
     "metadata": {},
     "output_type": "execute_result"
    }
   ],
   "source": [
    "pca.explained_variance_ratio_"
   ]
  },
  {
   "cell_type": "code",
   "execution_count": 24,
   "metadata": {},
   "outputs": [
    {
     "data": {
      "text/plain": [
       "array([[ 0.56464338, -0.12292699, -0.59642741, ..., -0.18445022,\n",
       "         0.15788181, -0.08313002],\n",
       "       [ 0.56501781, -0.12254409, -0.59608877, ..., -0.18442333,\n",
       "         0.15793408, -0.08308309],\n",
       "       [-0.78493219,  0.49005953, -0.23881651, ...,  0.04643437,\n",
       "        -0.11532381, -0.04786893],\n",
       "       ...,\n",
       "       [ 0.86605744, -0.04794656, -0.84178886, ...,  0.97440649,\n",
       "        -0.06931032,  0.31725431],\n",
       "       [ 0.80865065, -0.06259968, -0.79824382, ...,  0.76063161,\n",
       "        -0.03948126,  0.24386004],\n",
       "       [ 0.80895123, -0.06145685, -0.79834956, ...,  0.75536209,\n",
       "        -0.03935832,  0.24125849]])"
      ]
     },
     "execution_count": 24,
     "metadata": {},
     "output_type": "execute_result"
    }
   ],
   "source": [
    "pca_result"
   ]
  },
  {
   "cell_type": "code",
   "execution_count": null,
   "metadata": {
    "colab": {
     "base_uri": "https://localhost:8080/",
     "height": 255
    },
    "colab_type": "code",
    "id": "wLyWUYjxZrhj",
    "outputId": "cec4eac5-8d77-42cf-a741-8766f2783e3c"
   },
   "outputs": [],
   "source": []
  },
  {
   "cell_type": "code",
   "execution_count": 25,
   "metadata": {
    "colab": {},
    "colab_type": "code",
    "id": "TGW3m_ufZ3tK"
   },
   "outputs": [
    {
     "data": {
      "text/plain": [
       "25"
      ]
     },
     "execution_count": 25,
     "metadata": {},
     "output_type": "execute_result"
    }
   ],
   "source": [
    "len(X.columns)"
   ]
  },
  {
   "cell_type": "markdown",
   "metadata": {
    "colab_type": "text",
    "id": "gTCI3zUAaY0p"
   },
   "source": [
    "### Applying Algorithms"
   ]
  },
  {
   "cell_type": "code",
   "execution_count": 26,
   "metadata": {
    "colab": {
     "base_uri": "https://localhost:8080/",
     "height": 595
    },
    "colab_type": "code",
    "id": "hz2NjsybSXyo",
    "outputId": "2ad4b627-ab1d-49f7-df7e-9bd5d0d452d0"
   },
   "outputs": [],
   "source": [
    "X_train, X_test, y_train, y_test=train_test_split(X,y,test_size=0.2, random_state=10)"
   ]
  },
  {
   "cell_type": "code",
   "execution_count": 27,
   "metadata": {
    "colab": {
     "base_uri": "https://localhost:8080/",
     "height": 282
    },
    "colab_type": "code",
    "id": "c_bLu7UJcpJU",
    "outputId": "8d070b2a-e7c5-4305-8525-da8d60f7ae6c"
   },
   "outputs": [],
   "source": [
    "#y_tn nnnnnnnnnnnnnnnnnnnnnest_arr=y_test.as_matrix()"
   ]
  },
  {
   "cell_type": "markdown",
   "metadata": {
    "colab_type": "text",
    "id": "c7NeQmV1aimT"
   },
   "source": [
    "#### PYOD"
   ]
  },
  {
   "cell_type": "markdown",
   "metadata": {},
   "source": [
    "### Abnormal traffic"
   ]
  },
  {
   "cell_type": "code",
   "execution_count": 31,
   "metadata": {},
   "outputs": [
    {
     "data": {
      "text/plain": [
       "25"
      ]
     },
     "execution_count": 31,
     "metadata": {},
     "output_type": "execute_result"
    }
   ],
   "source": [
    "X_Anomaly=dfPortScan[selectedColumns.index].copy()\n",
    "len(X_Anomaly.columns)"
   ]
  },
  {
   "cell_type": "code",
   "execution_count": 32,
   "metadata": {},
   "outputs": [],
   "source": [
    "y_test_pred = clf.predict(X_Anomaly)  # outlier labels (0 or 1)"
   ]
  },
  {
   "cell_type": "code",
   "execution_count": 33,
   "metadata": {},
   "outputs": [
    {
     "name": "stdout",
     "output_type": "stream",
     "text": [
      "Total Samples :  158930\n",
      "Inliers :  156339\n",
      "Outliers :  2591\n"
     ]
    }
   ],
   "source": [
    "print(\"Total Samples : \",len(y_test_pred))\n",
    "print( \"Inliers : \",len(y_test_pred[y_test_pred == 0]))\n",
    "print( \"Outliers : \",len(y_test_pred[y_test_pred == 1]))"
   ]
  },
  {
   "cell_type": "markdown",
   "metadata": {},
   "source": [
    "### ABOD"
   ]
  },
  {
   "cell_type": "code",
   "execution_count": 36,
   "metadata": {},
   "outputs": [
    {
     "name": "stderr",
     "output_type": "stream",
     "text": [
      "/home/muhammad.usman@ebryx.com/.local/lib/python3.6/site-packages/numpy/core/fromnumeric.py:3584: RuntimeWarning: Degrees of freedom <= 0 for slice\n",
      "  **kwargs)\n",
      "/home/muhammad.usman@ebryx.com/.local/lib/python3.6/site-packages/numpy/core/_methods.py:186: RuntimeWarning: invalid value encountered in true_divide\n",
      "  arrmean, rcount, out=arrmean, casting='unsafe', subok=False)\n",
      "/home/muhammad.usman@ebryx.com/.local/lib/python3.6/site-packages/numpy/core/_methods.py:209: RuntimeWarning: invalid value encountered in double_scalars\n",
      "  ret = ret.dtype.type(ret / rcount)\n",
      "/home/muhammad.usman@ebryx.com/.local/lib/python3.6/site-packages/pyod/models/base.py:365: RuntimeWarning: invalid value encountered in greater\n",
      "  self.labels_ = (self.decision_scores_ > self.threshold_).astype(\n",
      "/home/muhammad.usman@ebryx.com/.local/lib/python3.6/site-packages/numpy/core/fromnumeric.py:3584: RuntimeWarning: Degrees of freedom <= 0 for slice\n",
      "  **kwargs)\n",
      "/home/muhammad.usman@ebryx.com/.local/lib/python3.6/site-packages/numpy/core/_methods.py:186: RuntimeWarning: invalid value encountered in true_divide\n",
      "  arrmean, rcount, out=arrmean, casting='unsafe', subok=False)\n",
      "/home/muhammad.usman@ebryx.com/.local/lib/python3.6/site-packages/numpy/core/_methods.py:209: RuntimeWarning: invalid value encountered in double_scalars\n",
      "  ret = ret.dtype.type(ret / rcount)\n",
      "/home/muhammad.usman@ebryx.com/.local/lib/python3.6/site-packages/pyod/models/base.py:168: RuntimeWarning: invalid value encountered in greater\n",
      "  return (pred_score > self.threshold_).astype('int').ravel()\n"
     ]
    },
    {
     "name": "stdout",
     "output_type": "stream",
     "text": [
      "Total Samples :  25505\n",
      "Inliers :  25505\n",
      "Outliers :  0\n",
      "Total Anomlus Samples :  158930\n",
      "Inliers :  158930\n",
      "Outliers :  0\n"
     ]
    },
    {
     "name": "stderr",
     "output_type": "stream",
     "text": [
      "/home/muhammad.usman@ebryx.com/.local/lib/python3.6/site-packages/pyod/models/base.py:168: RuntimeWarning: invalid value encountered in greater\n",
      "  return (pred_score > self.threshold_).astype('int').ravel()\n"
     ]
    }
   ],
   "source": [
    "clf_name = 'ABOD'\n",
    "clf = ABOD(contamination=0.1)\n",
    "clf.fit(X_train)\n",
    "y_test_pred = clf.predict(X_test)\n",
    "print(\"Total Samples : \",len(y_test_pred))\n",
    "print( \"Inliers : \",len(y_test_pred[y_test_pred == 0]))\n",
    "print( \"Outliers : \",len(y_test_pred[y_test_pred == 1]))\n",
    "y_test_pred = clf.predict(X_Anomaly)  # outlier labels (0 or 1)\n",
    "print(\"Total Anomlus Samples : \",len(y_test_pred))\n",
    "print( \"Inliers : \",len(y_test_pred[y_test_pred == 0]))\n",
    "print( \"Outliers : \",len(y_test_pred[y_test_pred == 1]))"
   ]
  },
  {
   "cell_type": "code",
   "execution_count": null,
   "metadata": {},
   "outputs": [],
   "source": []
  },
  {
   "cell_type": "code",
   "execution_count": 40,
   "metadata": {},
   "outputs": [
    {
     "name": "stdout",
     "output_type": "stream",
     "text": [
      "Total Samples :  25505\n",
      "Inliers :  0\n",
      "Outliers :  25486\n",
      "Total Anomlus Samples :  158930\n",
      "Inliers :  0\n",
      "Outliers :  158922\n"
     ]
    }
   ],
   "source": [
    "clf_name = 'IForest'\n",
    "clf = IsolationForest(contamination=0.001)\n",
    "clf.fit(X_train)\n",
    "y_test_pred = clf.predict(X_test)\n",
    "print(\"Total Samples : \",len(y_test_pred))\n",
    "print( \"Inliers : \",len(y_test_pred[y_test_pred == 0]))\n",
    "print( \"Outliers : \",len(y_test_pred[y_test_pred == 1]))\n",
    "y_test_pred = clf.predict(X_Anomaly)  # outlier labels (0 or 1)\n",
    "print(\"Total Anomlus Samples : \",len(y_test_pred))\n",
    "print( \"Inliers : \",len(y_test_pred[y_test_pred == 0]))\n",
    "print( \"Outliers : \",len(y_test_pred[y_test_pred == 1]))"
   ]
  },
  {
   "cell_type": "code",
   "execution_count": null,
   "metadata": {},
   "outputs": [],
   "source": []
  },
  {
   "cell_type": "code",
   "execution_count": null,
   "metadata": {},
   "outputs": [],
   "source": []
  },
  {
   "cell_type": "code",
   "execution_count": null,
   "metadata": {},
   "outputs": [],
   "source": []
  }
 ],
 "metadata": {
  "colab": {
   "collapsed_sections": [],
   "machine_shape": "hm",
   "name": "Copy of Copy of K fold Separate Notebook A.ipynb",
   "provenance": [],
   "toc_visible": true
  },
  "kernelspec": {
   "display_name": "Python 3",
   "language": "python",
   "name": "python3"
  },
  "language_info": {
   "codemirror_mode": {
    "name": "ipython",
    "version": 3
   },
   "file_extension": ".py",
   "mimetype": "text/x-python",
   "name": "python",
   "nbconvert_exporter": "python",
   "pygments_lexer": "ipython3",
   "version": "3.7.6"
  }
 },
 "nbformat": 4,
 "nbformat_minor": 1
}
