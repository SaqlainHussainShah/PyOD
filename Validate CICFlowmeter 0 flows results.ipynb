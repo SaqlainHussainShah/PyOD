{
 "cells": [
  {
   "cell_type": "code",
   "execution_count": 34,
   "metadata": {},
   "outputs": [],
   "source": [
    "import scapy\n",
    "from scapy.all import *"
   ]
  },
  {
   "cell_type": "code",
   "execution_count": 35,
   "metadata": {},
   "outputs": [],
   "source": [
    "# According to CICFlowmeter For valid file 20 packets are valid and 1 not valid\n",
    "# For Not valid 0 apckets are valid and 15 are not valid\n",
    "valid_file_name = \"../../GW_Data/gateway_traffic/gw1/2021-01-14/tcpdump-gat78-14-Jan-2021-11-21-02.pcap\" \n",
    "not_valid_file_name = \"../../GW_Data/gateway_traffic/gw1/2021-01-14/tcpdump-gat36-14-Jan-2021-13-04-10.pcap\""
   ]
  },
  {
   "cell_type": "code",
   "execution_count": 36,
   "metadata": {},
   "outputs": [],
   "source": [
    "valid_file = rdpcap(valid_file_name) "
   ]
  },
  {
   "cell_type": "code",
   "execution_count": 37,
   "metadata": {},
   "outputs": [],
   "source": [
    "not_valid_file = rdpcap(not_valid_file_name)"
   ]
  },
  {
   "cell_type": "code",
   "execution_count": 38,
   "metadata": {},
   "outputs": [
    {
     "data": {
      "text/plain": [
       "<tcpdump-gat78-14-Jan-2021-11-21-02.pcap: TCP:20 UDP:0 ICMP:0 Other:1>"
      ]
     },
     "execution_count": 38,
     "metadata": {},
     "output_type": "execute_result"
    }
   ],
   "source": [
    "valid_file"
   ]
  },
  {
   "cell_type": "code",
   "execution_count": 39,
   "metadata": {},
   "outputs": [],
   "source": [
    "def count_tcp_non_tcp_packets(file):\n",
    "    tcp_count = 0\n",
    "    non_tcp_count = 0\n",
    "    for i in range(len(file)):\n",
    "        try:\n",
    "            if file[i]['TCP']:\n",
    "                tcp_count += 1     \n",
    "            else:\n",
    "                pass\n",
    "        except:\n",
    "            non_tcp_count += 1\n",
    "    return tcp_count, non_tcp_count"
   ]
  },
  {
   "cell_type": "code",
   "execution_count": 40,
   "metadata": {},
   "outputs": [],
   "source": [
    "tcp_count, non_tcp_count = count_tcp_non_tcp_packets(valid_file)"
   ]
  },
  {
   "cell_type": "code",
   "execution_count": 41,
   "metadata": {},
   "outputs": [
    {
     "name": "stdout",
     "output_type": "stream",
     "text": [
      "TCP flows in Valid file 20, Non TCP flows in valid file 1\n"
     ]
    }
   ],
   "source": [
    "print(\"TCP flows in Valid file {0}, Non TCP flows in valid file {1}\".format(tcp_count, non_tcp_count))"
   ]
  },
  {
   "cell_type": "code",
   "execution_count": 42,
   "metadata": {},
   "outputs": [],
   "source": [
    "tcp_count, non_tcp_count = count_tcp_non_tcp_packets(not_valid_file)"
   ]
  },
  {
   "cell_type": "code",
   "execution_count": 43,
   "metadata": {},
   "outputs": [
    {
     "name": "stdout",
     "output_type": "stream",
     "text": [
      "TCP flows in Not Valid file 0, Non TCP flows in valid file 15\n"
     ]
    }
   ],
   "source": [
    "print(\"TCP flows in Not Valid file {0}, Non TCP flows in valid file {1}\".format(tcp_count, non_tcp_count))"
   ]
  },
  {
   "cell_type": "code",
   "execution_count": 44,
   "metadata": {},
   "outputs": [
    {
     "data": {
      "text/plain": [
       "<mod tcpdump-gat78-14-Jan-2021-11-21-02.pcap: TCP:20 UDP:0 ICMP:0 Other:1>"
      ]
     },
     "execution_count": 44,
     "metadata": {},
     "output_type": "execute_result"
    }
   ],
   "source": [
    "valid_file[:]"
   ]
  },
  {
   "cell_type": "code",
   "execution_count": 45,
   "metadata": {},
   "outputs": [
    {
     "data": {
      "text/plain": [
       "21"
      ]
     },
     "execution_count": 45,
     "metadata": {},
     "output_type": "execute_result"
    }
   ],
   "source": [
    "len(valid_file)"
   ]
  },
  {
   "cell_type": "code",
   "execution_count": 46,
   "metadata": {},
   "outputs": [
    {
     "data": {
      "text/plain": [
       "<mod tcpdump-gat36-14-Jan-2021-13-04-10.pcap: TCP:0 UDP:0 ICMP:0 Other:15>"
      ]
     },
     "execution_count": 46,
     "metadata": {},
     "output_type": "execute_result"
    }
   ],
   "source": [
    "not_valid_file[:]"
   ]
  },
  {
   "cell_type": "code",
   "execution_count": 47,
   "metadata": {},
   "outputs": [
    {
     "data": {
      "text/plain": [
       "15"
      ]
     },
     "execution_count": 47,
     "metadata": {},
     "output_type": "execute_result"
    }
   ],
   "source": [
    "len(not_valid_file)"
   ]
  },
  {
   "cell_type": "markdown",
   "metadata": {},
   "source": [
    "### Based on above results and comparing them with CICFlowMeter results, CICFlow meter working is validated and also it is worth noting that files,packets having 0 TCP traffic are stated non valid by CICFlowmeter"
   ]
  }
 ],
 "metadata": {
  "kernelspec": {
   "display_name": "Python 3",
   "language": "python",
   "name": "python3"
  },
  "language_info": {
   "codemirror_mode": {
    "name": "ipython",
    "version": 3
   },
   "file_extension": ".py",
   "mimetype": "text/x-python",
   "name": "python",
   "nbconvert_exporter": "python",
   "pygments_lexer": "ipython3",
   "version": "3.7.6"
  }
 },
 "nbformat": 4,
 "nbformat_minor": 4
}
