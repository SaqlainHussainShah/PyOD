{
 "cells": [
  {
   "cell_type": "markdown",
   "metadata": {},
   "source": [
    "the total time in reading, normalizing, applying LOF, saving and then getting inference out of it for this attached CSV data in microseconds."
   ]
  },
  {
   "cell_type": "code",
   "execution_count": 87,
   "metadata": {},
   "outputs": [],
   "source": [
    "# Import necessary modules\n",
    "import time\n",
    "time_taken = []\n",
    "t1 = time.time()\n",
    "\n",
    "import pandas as pd\n",
    "import matplotlib.pyplot as plt\n",
    "import numpy as np\n",
    "from sklearn.metrics import accuracy_score\n",
    "from scipy import stats\n",
    "from sklearn.cluster import DBSCAN\n",
    "from sklearn.preprocessing import StandardScaler\n",
    "scaler = StandardScaler()\n",
    "from pyod.models.lof import LOF\n",
    "# from sklearn.neighbors import LocalOutlierFactor\n",
    "from pyod.utils.data import evaluate_print\n",
    "\n",
    "t2 = time.time()\n",
    "time_taken.append(t2-t1)"
   ]
  },
  {
   "cell_type": "code",
   "execution_count": 88,
   "metadata": {},
   "outputs": [
    {
     "data": {
      "text/plain": [
       "[0.0006606578826904297]"
      ]
     },
     "execution_count": 88,
     "metadata": {},
     "output_type": "execute_result"
    }
   ],
   "source": [
    "time_taken"
   ]
  },
  {
   "cell_type": "code",
   "execution_count": 89,
   "metadata": {},
   "outputs": [
    {
     "data": {
      "text/plain": [
       "103"
      ]
     },
     "execution_count": 89,
     "metadata": {},
     "output_type": "execute_result"
    }
   ],
   "source": [
    "len(df)"
   ]
  },
  {
   "cell_type": "code",
   "execution_count": 90,
   "metadata": {},
   "outputs": [],
   "source": [
    "t1 = time.time()\n",
    "df=pd.read_csv(\"./7238-700.csv\")\n",
    "t2 = time.time()\n",
    "\n",
    "time_taken.append(t2 - t1)"
   ]
  },
  {
   "cell_type": "code",
   "execution_count": 91,
   "metadata": {},
   "outputs": [
    {
     "data": {
      "text/plain": [
       "[0.0006606578826904297, 0.005612373352050781]"
      ]
     },
     "execution_count": 91,
     "metadata": {},
     "output_type": "execute_result"
    }
   ],
   "source": [
    "time_taken"
   ]
  },
  {
   "cell_type": "code",
   "execution_count": 92,
   "metadata": {},
   "outputs": [],
   "source": [
    "t1 = time.time()\n",
    "features = ['difference_bytes']\n",
    "df_selected = df[features]\n",
    "t2 = time.time()\n",
    "time_taken.append(t2-t1)"
   ]
  },
  {
   "cell_type": "code",
   "execution_count": 93,
   "metadata": {},
   "outputs": [
    {
     "data": {
      "text/plain": [
       "[0.0006606578826904297, 0.005612373352050781, 0.0022089481353759766]"
      ]
     },
     "execution_count": 93,
     "metadata": {},
     "output_type": "execute_result"
    }
   ],
   "source": [
    "time_taken"
   ]
  },
  {
   "cell_type": "code",
   "execution_count": 94,
   "metadata": {},
   "outputs": [
    {
     "name": "stderr",
     "output_type": "stream",
     "text": [
      "/home/ebryx/anaconda3/lib/python3.7/site-packages/ipykernel_launcher.py:5: SettingWithCopyWarning: \n",
      "A value is trying to be set on a copy of a slice from a DataFrame.\n",
      "Try using .loc[row_indexer,col_indexer] = value instead\n",
      "\n",
      "See the caveats in the documentation: https://pandas.pydata.org/pandas-docs/stable/user_guide/indexing.html#returning-a-view-versus-a-copy\n",
      "  \"\"\"\n"
     ]
    }
   ],
   "source": [
    "t1 = time.time()\n",
    "\n",
    "X = df_selected\n",
    "for col in X:\n",
    "    X[col] = stats.zscore(X[col])\n",
    "\n",
    "t2 = time.time()\n",
    "\n",
    "time_taken.append(t2-t1)"
   ]
  },
  {
   "cell_type": "code",
   "execution_count": 95,
   "metadata": {},
   "outputs": [
    {
     "data": {
      "text/plain": [
       "[0.0006606578826904297,\n",
       " 0.005612373352050781,\n",
       " 0.0022089481353759766,\n",
       " 0.0013949871063232422]"
      ]
     },
     "execution_count": 95,
     "metadata": {},
     "output_type": "execute_result"
    }
   ],
   "source": [
    "time_taken"
   ]
  },
  {
   "cell_type": "code",
   "execution_count": 96,
   "metadata": {},
   "outputs": [
    {
     "name": "stdout",
     "output_type": "stream",
     "text": [
      "Time for Preprocessing :  0.00987696647644043 seconds\n"
     ]
    }
   ],
   "source": [
    "print(\"Time for Preprocessing : \", np.sum(time_taken), \"seconds\")"
   ]
  },
  {
   "cell_type": "code",
   "execution_count": 97,
   "metadata": {},
   "outputs": [],
   "source": [
    "t1 = time.time()\n",
    "\n",
    "clf_name = 'LOF'\n",
    "clf = LOF(contamination=0.09)\n",
    "\n",
    "clf.fit(X)\n",
    "\n",
    "t2 = time.time()\n",
    "\n",
    "time_taken.append(t2-t1)"
   ]
  },
  {
   "cell_type": "code",
   "execution_count": 98,
   "metadata": {},
   "outputs": [
    {
     "data": {
      "text/plain": [
       "[0.0006606578826904297,\n",
       " 0.005612373352050781,\n",
       " 0.0022089481353759766,\n",
       " 0.0013949871063232422,\n",
       " 0.005322456359863281]"
      ]
     },
     "execution_count": 98,
     "metadata": {},
     "output_type": "execute_result"
    }
   ],
   "source": [
    "time_taken"
   ]
  },
  {
   "cell_type": "code",
   "execution_count": 99,
   "metadata": {},
   "outputs": [
    {
     "name": "stdout",
     "output_type": "stream",
     "text": [
      "Time For training model with 103 records 0.005322456359863281 seconds\n"
     ]
    }
   ],
   "source": [
    "print(\"Time For training model with {0} records {1} seconds\".format(len(df),time_taken[-1]))"
   ]
  },
  {
   "cell_type": "code",
   "execution_count": 100,
   "metadata": {},
   "outputs": [
    {
     "name": "stdout",
     "output_type": "stream",
     "text": [
      "Time for saving model :  0.005422115325927734\n"
     ]
    }
   ],
   "source": [
    "t1 = time.time() \n",
    "from joblib import dump\n",
    "\n",
    "# save the model\n",
    "dump(clf, 'clf.joblib')\n",
    "\n",
    "t2 = time.time()\n",
    "time_taken.append(t2-t1)\n",
    "\n",
    "print(\"Time for saving model : \", time_taken[-1])"
   ]
  },
  {
   "cell_type": "code",
   "execution_count": 101,
   "metadata": {},
   "outputs": [
    {
     "name": "stdout",
     "output_type": "stream",
     "text": [
      "Time for loading model :  0.003991842269897461 seconds\n"
     ]
    }
   ],
   "source": [
    "t1 = time.time() \n",
    "\n",
    "from joblib import load\n",
    "# load the model\n",
    "clf2 = load('clf.joblib')\n",
    "\n",
    "\n",
    "t2 = time.time()\n",
    "time_taken.append(t2-t1)\n",
    "\n",
    "print(\"Time for loading model : \", time_taken[-1], \"seconds\")\n"
   ]
  },
  {
   "cell_type": "code",
   "execution_count": 102,
   "metadata": {},
   "outputs": [
    {
     "name": "stdout",
     "output_type": "stream",
     "text": [
      "Time taken to predict 103 records 0.0027539730072021484 seconds\n"
     ]
    }
   ],
   "source": [
    "t1 = time.time()\n",
    "\n",
    "y_pred = clf2.predict(X)\n",
    "\n",
    "t2 = time.time()\n",
    "\n",
    "time_taken.append(t2 - t1)\n",
    "\n",
    "print(\"Time taken to predict {0} records {1} seconds\".format(len(df),time_taken[-1]) )"
   ]
  },
  {
   "cell_type": "code",
   "execution_count": 103,
   "metadata": {},
   "outputs": [
    {
     "name": "stdout",
     "output_type": "stream",
     "text": [
      "Total time taken for loading data, preprocessing, training, saving model and getting inference : \n",
      "  0.027367353439331055 seconds\n"
     ]
    }
   ],
   "source": [
    "print(\"Total time taken for loading data, preprocessing, training, saving model and getting inference : \\n \", np.sum(time_taken), \"seconds\")"
   ]
  },
  {
   "cell_type": "code",
   "execution_count": null,
   "metadata": {},
   "outputs": [],
   "source": []
  }
 ],
 "metadata": {
  "kernelspec": {
   "display_name": "Python 3",
   "language": "python",
   "name": "python3"
  },
  "language_info": {
   "codemirror_mode": {
    "name": "ipython",
    "version": 3
   },
   "file_extension": ".py",
   "mimetype": "text/x-python",
   "name": "python",
   "nbconvert_exporter": "python",
   "pygments_lexer": "ipython3",
   "version": "3.7.6"
  }
 },
 "nbformat": 4,
 "nbformat_minor": 4
}
