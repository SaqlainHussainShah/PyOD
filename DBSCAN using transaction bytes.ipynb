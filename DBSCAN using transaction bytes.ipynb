{
 "cells": [
  {
   "cell_type": "markdown",
   "metadata": {},
   "source": [
    "### Using features \n",
    "#### Client transaction bytes\n",
    "#### Service transaction bytes"
   ]
  },
  {
   "cell_type": "code",
   "execution_count": 4,
   "metadata": {},
   "outputs": [],
   "source": [
    "# Import necessary modules\n",
    "import pandas as pd\n",
    "import matplotlib.pyplot as plt\n",
    "import numpy as np\n",
    "import time\n",
    "from sklearn.metrics import accuracy_score\n",
    "from scipy import stats\n",
    "from sklearn.cluster import DBSCAN\n",
    "from sklearn.preprocessing import StandardScaler\n",
    "scaler = StandardScaler()"
   ]
  },
  {
   "cell_type": "code",
   "execution_count": 5,
   "metadata": {},
   "outputs": [],
   "source": [
    "df=pd.read_csv(\"./access_logs-all-with-difference.csv\")"
   ]
  },
  {
   "cell_type": "code",
   "execution_count": 6,
   "metadata": {},
   "outputs": [],
   "source": [
    "#display all columns and rows\n",
    "pd.set_option('display.max_columns', None)\n",
    "pd.set_option('display.max_rows', None)"
   ]
  },
  {
   "cell_type": "markdown",
   "metadata": {},
   "source": [
    "### select agent"
   ]
  },
  {
   "cell_type": "code",
   "execution_count": 7,
   "metadata": {},
   "outputs": [],
   "source": [
    "def select_agent(df, agent_id):\n",
    "    df_selected = df.loc[df['agent_id'] == agent_id]\n",
    "    return df_selected"
   ]
  },
  {
   "cell_type": "markdown",
   "metadata": {},
   "source": [
    "### show service ids"
   ]
  },
  {
   "cell_type": "code",
   "execution_count": 8,
   "metadata": {},
   "outputs": [],
   "source": [
    "def show_unique_service_ids(df, agent_id):\n",
    "    df_agent_selected = select_agent(df, agent_id)\n",
    "    service_ids = df_agent_selected.groupby('service_id')['service_id'].first()\n",
    "    print(service_ids)\n",
    " "
   ]
  },
  {
   "cell_type": "markdown",
   "metadata": {},
   "source": [
    "### select service id"
   ]
  },
  {
   "cell_type": "code",
   "execution_count": 9,
   "metadata": {},
   "outputs": [],
   "source": [
    "def select_service(df,service_id):\n",
    "    df_selected = df.loc[df['service_id'] == service_id]\n",
    "    return df_selected"
   ]
  },
  {
   "cell_type": "markdown",
   "metadata": {},
   "source": [
    "### select features"
   ]
  },
  {
   "cell_type": "code",
   "execution_count": 10,
   "metadata": {},
   "outputs": [],
   "source": [
    "def select_features(df, feature_list):\n",
    "    df_selected = df[feature_list]\n",
    "    return df_selected"
   ]
  },
  {
   "cell_type": "code",
   "execution_count": 11,
   "metadata": {},
   "outputs": [],
   "source": [
    "features = ['difference']"
   ]
  },
  {
   "cell_type": "markdown",
   "metadata": {},
   "source": [
    "### Normalize data"
   ]
  },
  {
   "cell_type": "code",
   "execution_count": 12,
   "metadata": {},
   "outputs": [],
   "source": [
    "def normalize_data(df):\n",
    "    \n",
    "    \"\"\" Method for normalizing data using zscore\n",
    "    \n",
    "    Args:\n",
    "        df (dataframe)\n",
    "        \n",
    "    Attributes:\n",
    "        df (dataframe): original dataframe with selected rows and columns\n",
    "        X (dataframe): consists of copy of df for processing\n",
    "    \n",
    "    Returns:\n",
    "        X(dataframe): Normalized dataframe\n",
    "        \n",
    "    \"\"\"\n",
    "    \n",
    "    X = df\n",
    "    for col in X:\n",
    "        X[col] = stats.zscore(X[col])\n",
    "        \n",
    "    return X"
   ]
  },
  {
   "cell_type": "code",
   "execution_count": 13,
   "metadata": {},
   "outputs": [],
   "source": [
    "def outlier_detection_dbscan(eps, min_samples, X):\n",
    "    \n",
    "    \"\"\" Method for detecting multiple clusters, outliers and plotting them.\n",
    "    \n",
    "    Args:\n",
    "        eps (float): The maximum distance between two samples for one to be \n",
    "                    considered as in the neighborhood of the other\n",
    "        min_samples (int):The number of samples (or total weight) in a neighborhood for a point to be considered as a core point.\n",
    "                        This includes the point itself\n",
    "        X (dataframe): preprocessed datframe\n",
    "        \n",
    "    Attributes:\n",
    "        ss (object): standardscaler object\n",
    "        X (dataframe): consists of copy of df for processing\n",
    "        db (object): DBSCAN bject initialized\n",
    "        y_pred (results): results predicted by DBSCAN object\n",
    "        cluster_0 (data points): consists of points in cluster 0\n",
    "        cluster_1 (data points): consists of points in cluster 1\n",
    "        cluster_2 (data points): consists of points in cluster 2\n",
    "        cluster_3 (data points): consists of points in cluster 3\n",
    "        cluster_4 (data points): consists of points in cluster 4\n",
    "        cluster_5 (data points): consists of points in cluster 5\n",
    "        outlier (data points): consists of points detected as outliers\n",
    "    \n",
    "    Returns: None\n",
    "        \n",
    "    \"\"\" \n",
    "    \n",
    "    ss = StandardScaler()\n",
    "    X = ss.fit_transform(X)\n",
    "    db = DBSCAN(eps=eps, min_samples=min_samples)\n",
    "    db.fit(X)\n",
    "    y_pred = db.fit_predict(X)\n",
    "    \n",
    "    cluster_0 = []\n",
    "    cluster_1 = []\n",
    "    cluster_2 = []\n",
    "    cluster_3 = []\n",
    "    cluster_4 = []\n",
    "    cluster_5 = []\n",
    "    outliers = []\n",
    "    for i in range(len(X)):\n",
    "        if db.labels_[i] == -1:\n",
    "            outliers.append(X[i])\n",
    "        elif db.labels_[i] == 0:\n",
    "            cluster_0.append(X[i])\n",
    "        elif db.labels_[i] == 1:\n",
    "            cluster_1.append(X[i])\n",
    "        elif db.labels_[i] == 2:\n",
    "            cluster_2.append(X[i])\n",
    "        elif db.labels_[i] == 3:\n",
    "            cluster_3.append(X[i])\n",
    "        elif db.labels_[i] == 4:\n",
    "            cluster_4.append(X[i])\n",
    "        elif db.labels_[i] == 5:\n",
    "            cluster_5.append(X[i])\n",
    "            \n",
    "    if len(cluster_0) > 0:\n",
    "        x_0 = []\n",
    "        y_0 = []\n",
    "        for i in range(len(cluster_0)):\n",
    "            x_0.append(cluster_0[i][0])\n",
    "            y_0.append(cluster_0[i][1])\n",
    "        plt.scatter(x_0, y_0,c='b', cmap='Paired')\n",
    "        print(\"Length of cluster 0 : \", len(cluster_0))\n",
    "\n",
    "        \n",
    "    if len(cluster_1) > 0:\n",
    "        x_1 = []\n",
    "        y_1 = []\n",
    "        for i in range(len(cluster_1)):\n",
    "            x_1.append(cluster_1[i][0])\n",
    "            y_1.append(cluster_1[i][1])\n",
    "        plt.scatter(x_1, y_1,c='g', cmap='Paired')\n",
    "        print(\"Length of cluster 1 : \", len(cluster_1))\n",
    "\n",
    "    \n",
    "    if len(cluster_2) > 0:\n",
    "        x_2 = []\n",
    "        y_2 = []\n",
    "        for i in range(len(cluster_2)):\n",
    "            x_2.append(cluster_2[i][0])\n",
    "            y_2.append(cluster_2[i][1])\n",
    "        plt.scatter(x_2, y_2,c='y', cmap='Paired')\n",
    "        print(\"Length of cluster 2 : \", len(cluster_2))\n",
    "\n",
    "            \n",
    "    if len(cluster_3) >0:\n",
    "        x_3 = []\n",
    "        y_3 = []\n",
    "        for i in range(len(cluster_3)):\n",
    "            x_3.append(cluster_3[i][0])\n",
    "            y_3.append(cluster_3[i][1])\n",
    "        plt.scatter(x_3, y_3,c='b', marker = \"1\" ,cmap='Paired')\n",
    "        print(\"Length of cluster 3 : \", len(cluster_3))\n",
    "\n",
    "            \n",
    "    if len(cluster_4) > 0:\n",
    "        x_4 = []\n",
    "        y_4 = []\n",
    "        for i in range(len(cluster_4)):\n",
    "            x_4.append(cluster_4[i][0])\n",
    "            y_4.append(cluster_4[i][1])\n",
    "        plt.scatter(x_4, y_4,c='b',marker = \"2\", cmap='Paired')\n",
    "        print(\"Length of cluster 4 : \", len(cluster_4))\n",
    "\n",
    "            \n",
    "    if len(cluster_5) > 0:\n",
    "        x_5 = []\n",
    "        y_5 = []\n",
    "        for i in range(len(cluster_5)):\n",
    "            x_5.append(cluster_5[i][0])\n",
    "            y_5.append(cluster_5[i][1])\n",
    "        plt.scatter(x_5, y_5,c='b',marker = \"3\", cmap='Paired')\n",
    "        print(\"Length of cluster 5 : \", len(cluster_5))\n",
    "\n",
    "            \n",
    "    if len(outliers) > 0:    \n",
    "        # outliers\n",
    "        x = []\n",
    "        y = []\n",
    "        for i in range(len(outliers)):\n",
    "            x.append(outliers[i][0])\n",
    "            y.append(outliers[i][1])\n",
    "        plt.scatter(x, y,c='r', marker = '*', cmap='Paired') #outlier\n",
    "        print(\"Number of outliers : \", len(outliers))\n"
   ]
  },
  {
   "cell_type": "code",
   "execution_count": 14,
   "metadata": {},
   "outputs": [],
   "source": [
    "def dbscan_workflow(df, agent_id, service_id, feature_list, epsilon, min_samples):\n",
    "    \n",
    "    \"\"\" Method implementing the whole pipleline of work work dbscan\n",
    "    \n",
    "    Args:\n",
    "        df (dataframe): unprocessed data\n",
    "        epsilon (float): The maximum distance between two samples for one to be \n",
    "                    considered as in the neighborhood of the other\n",
    "        min_samples (int):The number of samples (or total weight) in a neighborhood for a point to be considered as a core point.\n",
    "                        This includes the point itself\n",
    "        features (list): names of features needed\n",
    "        \n",
    "    Returns: None\n",
    "        \n",
    "    \"\"\" \n",
    "    \n",
    "    df = select_agent(df, agent_id)\n",
    "    df = select_service(df,service_id)\n",
    "    df = select_features(df, feature_list)\n",
    "    df = normalize_data(df)\n",
    "    outlier_detection_dbscan(epsilon, min_samples, df)\n",
    "\n",
    "\n",
    "    \n",
    "    \n",
    "#     df = filter_ip(df)\n",
    "#     df = select_features(df,features)\n",
    "#     df = normalize_data(df)\n",
    "#     outlier_detection_dbscan(epsilon, min_samples, df)\n",
    "    "
   ]
  },
  {
   "cell_type": "code",
   "execution_count": 16,
   "metadata": {},
   "outputs": [
    {
     "data": {
      "text/html": [
       "<div>\n",
       "<style scoped>\n",
       "    .dataframe tbody tr th:only-of-type {\n",
       "        vertical-align: middle;\n",
       "    }\n",
       "\n",
       "    .dataframe tbody tr th {\n",
       "        vertical-align: top;\n",
       "    }\n",
       "\n",
       "    .dataframe thead th {\n",
       "        text-align: right;\n",
       "    }\n",
       "</style>\n",
       "<table border=\"1\" class=\"dataframe\">\n",
       "  <thead>\n",
       "    <tr style=\"text-align: right;\">\n",
       "      <th></th>\n",
       "      <th>id</th>\n",
       "      <th>agent_id</th>\n",
       "      <th>client_physical_ip</th>\n",
       "      <th>client_pseudo_ip</th>\n",
       "      <th>service_id</th>\n",
       "      <th>service_physical_ip</th>\n",
       "      <th>service_pseudo_ip</th>\n",
       "      <th>client_tx_bytes</th>\n",
       "      <th>service_tx_bytes</th>\n",
       "      <th>difference</th>\n",
       "      <th>createdAt</th>\n",
       "      <th>updatedAt</th>\n",
       "      <th>log_start_time</th>\n",
       "      <th>log_end_time</th>\n",
       "    </tr>\n",
       "  </thead>\n",
       "  <tbody>\n",
       "    <tr>\n",
       "      <th>0</th>\n",
       "      <td>26</td>\n",
       "      <td>7067</td>\n",
       "      <td>103.255.5.103</td>\n",
       "      <td>10.0.1.2</td>\n",
       "      <td>701</td>\n",
       "      <td>192.168.3.18</td>\n",
       "      <td>10.0.1.4</td>\n",
       "      <td>19347</td>\n",
       "      <td>52032</td>\n",
       "      <td>32685</td>\n",
       "      <td>27-08-20 11:51</td>\n",
       "      <td>27-08-20 11:51</td>\n",
       "      <td>1598508692</td>\n",
       "      <td>1598509007</td>\n",
       "    </tr>\n",
       "    <tr>\n",
       "      <th>1</th>\n",
       "      <td>32</td>\n",
       "      <td>7096</td>\n",
       "      <td>111.119.178.162</td>\n",
       "      <td>10.0.1.194</td>\n",
       "      <td>701</td>\n",
       "      <td>192.168.3.18</td>\n",
       "      <td>10.0.1.196</td>\n",
       "      <td>55508</td>\n",
       "      <td>137447</td>\n",
       "      <td>81939</td>\n",
       "      <td>27-08-20 11:51</td>\n",
       "      <td>27-08-20 11:51</td>\n",
       "      <td>1598509662</td>\n",
       "      <td>1598509776</td>\n",
       "    </tr>\n",
       "    <tr>\n",
       "      <th>2</th>\n",
       "      <td>48</td>\n",
       "      <td>7238</td>\n",
       "      <td>39.53.107.112</td>\n",
       "      <td>10.0.0.2</td>\n",
       "      <td>700</td>\n",
       "      <td>192.168.3.1</td>\n",
       "      <td>10.0.0.3</td>\n",
       "      <td>65615</td>\n",
       "      <td>505399</td>\n",
       "      <td>439784</td>\n",
       "      <td>27-08-20 11:51</td>\n",
       "      <td>27-08-20 11:51</td>\n",
       "      <td>1598507738</td>\n",
       "      <td>1598510917</td>\n",
       "    </tr>\n",
       "    <tr>\n",
       "      <th>3</th>\n",
       "      <td>74</td>\n",
       "      <td>7352</td>\n",
       "      <td>118.107.131.76</td>\n",
       "      <td>10.0.0.194</td>\n",
       "      <td>701</td>\n",
       "      <td>192.168.3.18</td>\n",
       "      <td>10.0.0.196</td>\n",
       "      <td>14768</td>\n",
       "      <td>77408</td>\n",
       "      <td>62640</td>\n",
       "      <td>27-08-20 11:51</td>\n",
       "      <td>27-08-20 11:51</td>\n",
       "      <td>1598510653</td>\n",
       "      <td>1598511031</td>\n",
       "    </tr>\n",
       "    <tr>\n",
       "      <th>4</th>\n",
       "      <td>82</td>\n",
       "      <td>7380</td>\n",
       "      <td>110.38.129.187</td>\n",
       "      <td>10.1.0.66</td>\n",
       "      <td>830</td>\n",
       "      <td>172.16.1.220</td>\n",
       "      <td>10.1.0.72</td>\n",
       "      <td>94493</td>\n",
       "      <td>116133</td>\n",
       "      <td>21640</td>\n",
       "      <td>27-08-20 12:13</td>\n",
       "      <td>27-08-20 12:13</td>\n",
       "      <td>1598508889</td>\n",
       "      <td>1598510156</td>\n",
       "    </tr>\n",
       "  </tbody>\n",
       "</table>\n",
       "</div>"
      ],
      "text/plain": [
       "   id  agent_id client_physical_ip client_pseudo_ip  service_id  \\\n",
       "0  26      7067      103.255.5.103         10.0.1.2         701   \n",
       "1  32      7096    111.119.178.162       10.0.1.194         701   \n",
       "2  48      7238      39.53.107.112         10.0.0.2         700   \n",
       "3  74      7352     118.107.131.76       10.0.0.194         701   \n",
       "4  82      7380     110.38.129.187        10.1.0.66         830   \n",
       "\n",
       "  service_physical_ip service_pseudo_ip  client_tx_bytes  service_tx_bytes  \\\n",
       "0        192.168.3.18          10.0.1.4            19347             52032   \n",
       "1        192.168.3.18        10.0.1.196            55508            137447   \n",
       "2         192.168.3.1          10.0.0.3            65615            505399   \n",
       "3        192.168.3.18        10.0.0.196            14768             77408   \n",
       "4        172.16.1.220         10.1.0.72            94493            116133   \n",
       "\n",
       "   difference       createdAt       updatedAt  log_start_time  log_end_time  \n",
       "0       32685  27-08-20 11:51  27-08-20 11:51      1598508692    1598509007  \n",
       "1       81939  27-08-20 11:51  27-08-20 11:51      1598509662    1598509776  \n",
       "2      439784  27-08-20 11:51  27-08-20 11:51      1598507738    1598510917  \n",
       "3       62640  27-08-20 11:51  27-08-20 11:51      1598510653    1598511031  \n",
       "4       21640  27-08-20 12:13  27-08-20 12:13      1598508889    1598510156  "
      ]
     },
     "execution_count": 16,
     "metadata": {},
     "output_type": "execute_result"
    }
   ],
   "source": [
    "df.head()"
   ]
  },
  {
   "cell_type": "code",
   "execution_count": 17,
   "metadata": {},
   "outputs": [
    {
     "name": "stdout",
     "output_type": "stream",
     "text": [
      "service_id\n",
      "700    700\n",
      "701    701\n",
      "706    706\n",
      "725    725\n",
      "770    770\n",
      "799    799\n",
      "800    800\n",
      "801    801\n",
      "809    809\n",
      "818    818\n",
      "820    820\n",
      "834    834\n",
      "838    838\n",
      "Name: service_id, dtype: int64\n"
     ]
    }
   ],
   "source": [
    "agent_id = 7238\n",
    "show_unique_service_ids(df, agent_id)"
   ]
  },
  {
   "cell_type": "code",
   "execution_count": 18,
   "metadata": {},
   "outputs": [
    {
     "name": "stdout",
     "output_type": "stream",
     "text": [
      "Length of cluster 0 :  3\n",
      "Length of cluster 1 :  2\n",
      "Length of cluster 2 :  3\n",
      "Length of cluster 3 :  3\n",
      "Length of cluster 4 :  6\n",
      "Length of cluster 5 :  2\n",
      "Number of outliers :  17\n"
     ]
    },
    {
     "data": {
      "image/png": "[encoded data removed]",
      "text/plain": [
       "<Figure size 432x288 with 1 Axes>"
      ]
     },
     "metadata": {
      "needs_background": "light"
     },
     "output_type": "display_data"
    }
   ],
   "source": [
    "agent_id = 7238\n",
    "service_id = 700\n",
    "feature_list = ['client_tx_bytes', \"service_tx_bytes\"]\n",
    "epsilon = 0.1\n",
    "min_samples = 2\n",
    "dbscan_workflow(df, agent_id, service_id, feature_list, epsilon, min_samples)"
   ]
  },
  {
   "cell_type": "code",
   "execution_count": 20,
   "metadata": {},
   "outputs": [
    {
     "name": "stdout",
     "output_type": "stream",
     "text": [
      "Length of cluster 0 :  20\n",
      "Length of cluster 1 :  3\n",
      "Length of cluster 2 :  2\n",
      "Number of outliers :  11\n"
     ]
    },
    {
     "data": {
      "image/png": "[encoded data removed]",
      "text/plain": [
       "<Figure size 432x288 with 1 Axes>"
      ]
     },
     "metadata": {
      "needs_background": "light"
     },
     "output_type": "display_data"
    }
   ],
   "source": [
    "agent_id = 7238\n",
    "service_id = 700\n",
    "feature_list = ['client_tx_bytes', \"service_tx_bytes\"]\n",
    "epsilon = 0.2\n",
    "min_samples = 2\n",
    "dbscan_workflow(df, agent_id, service_id, feature_list, epsilon, min_samples)"
   ]
  },
  {
   "cell_type": "code",
   "execution_count": 21,
   "metadata": {},
   "outputs": [
    {
     "name": "stdout",
     "output_type": "stream",
     "text": [
      "Length of cluster 0 :  27\n",
      "Length of cluster 1 :  4\n",
      "Length of cluster 2 :  3\n",
      "Number of outliers :  2\n"
     ]
    },
    {
     "data": {
      "image/png": "[encoded data removed]",
      "text/plain": [
       "<Figure size 432x288 with 1 Axes>"
      ]
     },
     "metadata": {
      "needs_background": "light"
     },
     "output_type": "display_data"
    }
   ],
   "source": [
    "agent_id = 7238\n",
    "service_id = 700\n",
    "feature_list = ['client_tx_bytes', \"service_tx_bytes\"]\n",
    "epsilon = 0.5\n",
    "min_samples = 2\n",
    "dbscan_workflow(df, agent_id, service_id, feature_list, epsilon, min_samples)"
   ]
  },
  {
   "cell_type": "code",
   "execution_count": 22,
   "metadata": {},
   "outputs": [
    {
     "name": "stdout",
     "output_type": "stream",
     "text": [
      "Length of cluster 0 :  35\n",
      "Number of outliers :  1\n"
     ]
    },
    {
     "data": {
      "image/png": "[encoded data removed]",
      "text/plain": [
       "<Figure size 432x288 with 1 Axes>"
      ]
     },
     "metadata": {
      "needs_background": "light"
     },
     "output_type": "display_data"
    }
   ],
   "source": [
    "agent_id = 7238\n",
    "service_id = 700\n",
    "feature_list = ['client_tx_bytes', \"service_tx_bytes\"]\n",
    "epsilon = 0.9\n",
    "min_samples = 2\n",
    "dbscan_workflow(df, agent_id, service_id, feature_list, epsilon, min_samples)"
   ]
  },
  {
   "cell_type": "code",
   "execution_count": 23,
   "metadata": {},
   "outputs": [
    {
     "name": "stdout",
     "output_type": "stream",
     "text": [
      "Length of cluster 0 :  6\n",
      "Number of outliers :  30\n"
     ]
    },
    {
     "data": {
      "image/png": "[encoded data removed]",
      "text/plain": [
       "<Figure size 432x288 with 1 Axes>"
      ]
     },
     "metadata": {
      "needs_background": "light"
     },
     "output_type": "display_data"
    }
   ],
   "source": [
    "agent_id = 7238\n",
    "service_id = 700\n",
    "feature_list = ['client_tx_bytes', \"service_tx_bytes\"]\n",
    "epsilon = 0.1\n",
    "min_samples = 4\n",
    "dbscan_workflow(df, agent_id, service_id, feature_list, epsilon, min_samples)"
   ]
  },
  {
   "cell_type": "code",
   "execution_count": 24,
   "metadata": {},
   "outputs": [
    {
     "name": "stdout",
     "output_type": "stream",
     "text": [
      "Number of outliers :  36\n"
     ]
    },
    {
     "data": {
      "image/png": "[encoded data removed]",
      "text/plain": [
       "<Figure size 432x288 with 1 Axes>"
      ]
     },
     "metadata": {
      "needs_background": "light"
     },
     "output_type": "display_data"
    }
   ],
   "source": [
    "agent_id = 7238\n",
    "service_id = 700\n",
    "feature_list = ['client_tx_bytes', \"service_tx_bytes\"]\n",
    "epsilon = 0.1\n",
    "min_samples = 8\n",
    "dbscan_workflow(df, agent_id, service_id, feature_list, epsilon, min_samples)"
   ]
  },
  {
   "cell_type": "code",
   "execution_count": 25,
   "metadata": {},
   "outputs": [
    {
     "name": "stdout",
     "output_type": "stream",
     "text": [
      "Number of outliers :  36\n"
     ]
    },
    {
     "data": {
      "image/png": "[encoded data removed]",
      "text/plain": [
       "<Figure size 432x288 with 1 Axes>"
      ]
     },
     "metadata": {
      "needs_background": "light"
     },
     "output_type": "display_data"
    }
   ],
   "source": [
    "agent_id = 7238\n",
    "service_id = 700\n",
    "feature_list = ['client_tx_bytes', \"service_tx_bytes\"]\n",
    "epsilon = 0.1\n",
    "min_samples = 10\n",
    "dbscan_workflow(df, agent_id, service_id, feature_list, epsilon, min_samples)"
   ]
  },
  {
   "cell_type": "code",
   "execution_count": 26,
   "metadata": {},
   "outputs": [
    {
     "name": "stdout",
     "output_type": "stream",
     "text": [
      "Number of outliers :  36\n"
     ]
    },
    {
     "data": {
      "image/png": "[encoded data removed]",
      "text/plain": [
       "<Figure size 432x288 with 1 Axes>"
      ]
     },
     "metadata": {
      "needs_background": "light"
     },
     "output_type": "display_data"
    }
   ],
   "source": [
    "agent_id = 7238\n",
    "service_id = 700\n",
    "feature_list = ['client_tx_bytes', \"service_tx_bytes\"]\n",
    "epsilon = 0.1\n",
    "min_samples = 20\n",
    "dbscan_workflow(df, agent_id, service_id, feature_list, epsilon, min_samples)"
   ]
  },
  {
   "cell_type": "code",
   "execution_count": 27,
   "metadata": {},
   "outputs": [
    {
     "name": "stdout",
     "output_type": "stream",
     "text": [
      "Length of cluster 0 :  3\n",
      "Length of cluster 1 :  2\n",
      "Length of cluster 2 :  2\n",
      "Length of cluster 3 :  2\n",
      "Number of outliers :  5\n"
     ]
    },
    {
     "data": {
      "image/png": "[encoded data removed]",
      "text/plain": [
       "<Figure size 432x288 with 1 Axes>"
      ]
     },
     "metadata": {
      "needs_background": "light"
     },
     "output_type": "display_data"
    }
   ],
   "source": [
    "agent_id = 7238\n",
    "service_id = 701\n",
    "feature_list = ['client_tx_bytes', \"service_tx_bytes\"]\n",
    "epsilon = 0.1\n",
    "min_samples = 2\n",
    "dbscan_workflow(df, agent_id, service_id, feature_list, epsilon, min_samples)"
   ]
  },
  {
   "cell_type": "code",
   "execution_count": 28,
   "metadata": {},
   "outputs": [
    {
     "name": "stdout",
     "output_type": "stream",
     "text": [
      "Number of outliers :  14\n"
     ]
    },
    {
     "data": {
      "image/png": "[encoded data removed]",
      "text/plain": [
       "<Figure size 432x288 with 1 Axes>"
      ]
     },
     "metadata": {
      "needs_background": "light"
     },
     "output_type": "display_data"
    }
   ],
   "source": [
    "agent_id = 7238\n",
    "service_id = 701\n",
    "feature_list = ['client_tx_bytes', \"service_tx_bytes\"]\n",
    "epsilon = 0.1\n",
    "min_samples = 6\n",
    "dbscan_workflow(df, agent_id, service_id, feature_list, epsilon, min_samples)"
   ]
  },
  {
   "cell_type": "code",
   "execution_count": 29,
   "metadata": {},
   "outputs": [
    {
     "name": "stdout",
     "output_type": "stream",
     "text": [
      "Number of outliers :  14\n"
     ]
    },
    {
     "data": {
      "image/png": "[encoded data removed]",
      "text/plain": [
       "<Figure size 432x288 with 1 Axes>"
      ]
     },
     "metadata": {
      "needs_background": "light"
     },
     "output_type": "display_data"
    }
   ],
   "source": [
    "agent_id = 7238\n",
    "service_id = 701\n",
    "feature_list = ['client_tx_bytes', \"service_tx_bytes\"]\n",
    "epsilon = 0.1\n",
    "min_samples = 9\n",
    "dbscan_workflow(df, agent_id, service_id, feature_list, epsilon, min_samples)"
   ]
  },
  {
   "cell_type": "code",
   "execution_count": 30,
   "metadata": {},
   "outputs": [
    {
     "name": "stdout",
     "output_type": "stream",
     "text": [
      "Number of outliers :  14\n"
     ]
    },
    {
     "data": {
      "image/png": "[encoded data removed]",
      "text/plain": [
       "<Figure size 432x288 with 1 Axes>"
      ]
     },
     "metadata": {
      "needs_background": "light"
     },
     "output_type": "display_data"
    }
   ],
   "source": [
    "agent_id = 7238\n",
    "service_id = 701\n",
    "feature_list = ['client_tx_bytes', \"service_tx_bytes\"]\n",
    "epsilon = 0.1\n",
    "min_samples = 12\n",
    "dbscan_workflow(df, agent_id, service_id, feature_list, epsilon, min_samples)"
   ]
  },
  {
   "cell_type": "code",
   "execution_count": 31,
   "metadata": {},
   "outputs": [
    {
     "name": "stdout",
     "output_type": "stream",
     "text": [
      "Number of outliers :  14\n"
     ]
    },
    {
     "data": {
      "image/png": "[encoded data removed]",
      "text/plain": [
       "<Figure size 432x288 with 1 Axes>"
      ]
     },
     "metadata": {
      "needs_background": "light"
     },
     "output_type": "display_data"
    }
   ],
   "source": [
    "agent_id = 7238\n",
    "service_id = 701\n",
    "feature_list = ['client_tx_bytes', \"service_tx_bytes\"]\n",
    "epsilon = 0.1\n",
    "min_samples = 20\n",
    "dbscan_workflow(df, agent_id, service_id, feature_list, epsilon, min_samples)"
   ]
  },
  {
   "cell_type": "code",
   "execution_count": 32,
   "metadata": {},
   "outputs": [
    {
     "name": "stdout",
     "output_type": "stream",
     "text": [
      "Length of cluster 0 :  2\n",
      "Length of cluster 1 :  5\n",
      "Length of cluster 2 :  3\n",
      "Length of cluster 3 :  2\n",
      "Number of outliers :  2\n"
     ]
    },
    {
     "data": {
      "image/png": "[encoded data removed]",
      "text/plain": [
       "<Figure size 432x288 with 1 Axes>"
      ]
     },
     "metadata": {
      "needs_background": "light"
     },
     "output_type": "display_data"
    }
   ],
   "source": [
    "agent_id = 7238\n",
    "service_id = 701\n",
    "feature_list = ['client_tx_bytes', \"service_tx_bytes\"]\n",
    "epsilon = 0.3\n",
    "min_samples = 2\n",
    "dbscan_workflow(df, agent_id, service_id, feature_list, epsilon, min_samples)"
   ]
  },
  {
   "cell_type": "code",
   "execution_count": 33,
   "metadata": {},
   "outputs": [
    {
     "name": "stdout",
     "output_type": "stream",
     "text": [
      "Length of cluster 0 :  2\n",
      "Length of cluster 1 :  7\n",
      "Length of cluster 2 :  4\n",
      "Number of outliers :  1\n"
     ]
    },
    {
     "data": {
      "image/png": "[encoded data removed]",
      "text/plain": [
       "<Figure size 432x288 with 1 Axes>"
      ]
     },
     "metadata": {
      "needs_background": "light"
     },
     "output_type": "display_data"
    }
   ],
   "source": [
    "agent_id = 7238\n",
    "service_id = 701\n",
    "feature_list = ['client_tx_bytes', \"service_tx_bytes\"]\n",
    "epsilon = 0.7\n",
    "min_samples = 2\n",
    "dbscan_workflow(df, agent_id, service_id, feature_list, epsilon, min_samples)"
   ]
  },
  {
   "cell_type": "code",
   "execution_count": 34,
   "metadata": {},
   "outputs": [
    {
     "name": "stdout",
     "output_type": "stream",
     "text": [
      "Length of cluster 0 :  2\n",
      "Length of cluster 1 :  7\n",
      "Length of cluster 2 :  5\n"
     ]
    },
    {
     "data": {
      "image/png": "[encoded data removed]",
      "text/plain": [
       "<Figure size 432x288 with 1 Axes>"
      ]
     },
     "metadata": {
      "needs_background": "light"
     },
     "output_type": "display_data"
    }
   ],
   "source": [
    "agent_id = 7238\n",
    "service_id = 701\n",
    "feature_list = ['client_tx_bytes', \"service_tx_bytes\"]\n",
    "epsilon = 0.9\n",
    "min_samples = 2\n",
    "dbscan_workflow(df, agent_id, service_id, feature_list, epsilon, min_samples)"
   ]
  },
  {
   "cell_type": "code",
   "execution_count": 35,
   "metadata": {},
   "outputs": [
    {
     "name": "stdout",
     "output_type": "stream",
     "text": [
      "Length of cluster 0 :  14\n"
     ]
    },
    {
     "data": {
      "image/png": "[encoded data removed]",
      "text/plain": [
       "<Figure size 432x288 with 1 Axes>"
      ]
     },
     "metadata": {
      "needs_background": "light"
     },
     "output_type": "display_data"
    }
   ],
   "source": [
    "agent_id = 7238\n",
    "service_id = 701\n",
    "feature_list = ['client_tx_bytes', \"service_tx_bytes\"]\n",
    "epsilon = 3\n",
    "min_samples = 2\n",
    "dbscan_workflow(df, agent_id, service_id, feature_list, epsilon, min_samples)"
   ]
  },
  {
   "cell_type": "code",
   "execution_count": 36,
   "metadata": {},
   "outputs": [
    {
     "name": "stdout",
     "output_type": "stream",
     "text": [
      "Number of outliers :  14\n"
     ]
    },
    {
     "data": {
      "image/png": "[encoded data removed]",
      "text/plain": [
       "<Figure size 432x288 with 1 Axes>"
      ]
     },
     "metadata": {
      "needs_background": "light"
     },
     "output_type": "display_data"
    }
   ],
   "source": [
    "agent_id = 7238\n",
    "service_id = 701\n",
    "feature_list = ['client_tx_bytes', \"service_tx_bytes\"]\n",
    "epsilon = 0.9\n",
    "min_samples = 15\n",
    "dbscan_workflow(df, agent_id, service_id, feature_list, epsilon, min_samples)"
   ]
  },
  {
   "cell_type": "code",
   "execution_count": 37,
   "metadata": {},
   "outputs": [
    {
     "name": "stdout",
     "output_type": "stream",
     "text": [
      "Number of outliers :  8\n"
     ]
    },
    {
     "data": {
      "image/png": "[encoded data removed]",
      "text/plain": [
       "<Figure size 432x288 with 1 Axes>"
      ]
     },
     "metadata": {
      "needs_background": "light"
     },
     "output_type": "display_data"
    }
   ],
   "source": [
    "agent_id = 7238\n",
    "service_id = 838\n",
    "feature_list = ['client_tx_bytes', \"service_tx_bytes\"]\n",
    "epsilon = 0.1\n",
    "min_samples = 2\n",
    "dbscan_workflow(df, agent_id, service_id, feature_list, epsilon, min_samples)"
   ]
  },
  {
   "cell_type": "code",
   "execution_count": 38,
   "metadata": {},
   "outputs": [
    {
     "name": "stdout",
     "output_type": "stream",
     "text": [
      "Length of cluster 0 :  2\n",
      "Number of outliers :  6\n"
     ]
    },
    {
     "data": {
      "image/png": "[encoded data removed]",
      "text/plain": [
       "<Figure size 432x288 with 1 Axes>"
      ]
     },
     "metadata": {
      "needs_background": "light"
     },
     "output_type": "display_data"
    }
   ],
   "source": [
    "agent_id = 7238\n",
    "service_id = 838\n",
    "feature_list = ['client_tx_bytes', \"service_tx_bytes\"]\n",
    "epsilon = 0.5\n",
    "min_samples = 2\n",
    "dbscan_workflow(df, agent_id, service_id, feature_list, epsilon, min_samples)"
   ]
  },
  {
   "cell_type": "code",
   "execution_count": 39,
   "metadata": {},
   "outputs": [
    {
     "name": "stdout",
     "output_type": "stream",
     "text": [
      "Number of outliers :  8\n"
     ]
    },
    {
     "data": {
      "image/png": "[encoded data removed]",
      "text/plain": [
       "<Figure size 432x288 with 1 Axes>"
      ]
     },
     "metadata": {
      "needs_background": "light"
     },
     "output_type": "display_data"
    }
   ],
   "source": [
    "agent_id = 7238\n",
    "service_id = 838\n",
    "feature_list = ['client_tx_bytes', \"service_tx_bytes\"]\n",
    "epsilon = 0.6\n",
    "min_samples = 10\n",
    "dbscan_workflow(df, agent_id, service_id, feature_list, epsilon, min_samples)"
   ]
  },
  {
   "cell_type": "code",
   "execution_count": 40,
   "metadata": {},
   "outputs": [
    {
     "name": "stdout",
     "output_type": "stream",
     "text": [
      "Number of outliers :  36\n"
     ]
    },
    {
     "data": {
      "image/png": "[encoded data removed]",
      "text/plain": [
       "<Figure size 432x288 with 1 Axes>"
      ]
     },
     "metadata": {
      "needs_background": "light"
     },
     "output_type": "display_data"
    }
   ],
   "source": [
    "\n",
    "agent_id = 7238\n",
    "service_id = 700\n",
    "feature_list = ['client_tx_bytes', \"service_tx_bytes\"]\n",
    "epsilon = 0.1\n",
    "min_samples = 10\n",
    "dbscan_workflow(df, agent_id, service_id, feature_list, epsilon, min_samples)"
   ]
  },
  {
   "cell_type": "code",
   "execution_count": 41,
   "metadata": {},
   "outputs": [
    {
     "name": "stdout",
     "output_type": "stream",
     "text": [
      "Length of cluster 0 :  31\n",
      "Number of outliers :  5\n"
     ]
    },
    {
     "data": {
      "image/png": "[encoded data removed]",
      "text/plain": [
       "<Figure size 432x288 with 1 Axes>"
      ]
     },
     "metadata": {
      "needs_background": "light"
     },
     "output_type": "display_data"
    }
   ],
   "source": [
    "\n",
    "agent_id = 7238\n",
    "service_id = 700\n",
    "feature_list = ['client_tx_bytes', \"service_tx_bytes\"]\n",
    "epsilon = 1\n",
    "min_samples = 10\n",
    "dbscan_workflow(df, agent_id, service_id, feature_list, epsilon, min_samples)"
   ]
  },
  {
   "cell_type": "code",
   "execution_count": 42,
   "metadata": {},
   "outputs": [
    {
     "name": "stdout",
     "output_type": "stream",
     "text": [
      "Number of outliers :  36\n"
     ]
    },
    {
     "data": {
      "image/png": "[encoded data removed]",
      "text/plain": [
       "<Figure size 432x288 with 1 Axes>"
      ]
     },
     "metadata": {
      "needs_background": "light"
     },
     "output_type": "display_data"
    }
   ],
   "source": [
    "\n",
    "agent_id = 7238\n",
    "service_id = 700\n",
    "feature_list = ['client_tx_bytes', \"service_tx_bytes\"]\n",
    "epsilon = 0.1\n",
    "min_samples = 20\n",
    "dbscan_workflow(df, agent_id, service_id, feature_list, epsilon, min_samples)"
   ]
  },
  {
   "cell_type": "code",
   "execution_count": 43,
   "metadata": {},
   "outputs": [
    {
     "name": "stdout",
     "output_type": "stream",
     "text": [
      "Length of cluster 0 :  23\n",
      "Number of outliers :  13\n"
     ]
    },
    {
     "data": {
      "image/png": "[encoded data removed]",
      "text/plain": [
       "<Figure size 432x288 with 1 Axes>"
      ]
     },
     "metadata": {
      "needs_background": "light"
     },
     "output_type": "display_data"
    }
   ],
   "source": [
    "\n",
    "agent_id = 7238\n",
    "service_id = 700\n",
    "feature_list = ['client_tx_bytes', \"service_tx_bytes\"]\n",
    "epsilon = 0.6\n",
    "min_samples = 20\n",
    "dbscan_workflow(df, agent_id, service_id, feature_list, epsilon, min_samples)"
   ]
  },
  {
   "cell_type": "code",
   "execution_count": 44,
   "metadata": {},
   "outputs": [
    {
     "name": "stdout",
     "output_type": "stream",
     "text": [
      "Length of cluster 0 :  31\n",
      "Number of outliers :  5\n"
     ]
    },
    {
     "data": {
      "image/png": "[encoded data removed]",
      "text/plain": [
       "<Figure size 432x288 with 1 Axes>"
      ]
     },
     "metadata": {
      "needs_background": "light"
     },
     "output_type": "display_data"
    }
   ],
   "source": [
    "\n",
    "agent_id = 7238\n",
    "service_id = 700\n",
    "feature_list = ['client_tx_bytes', \"service_tx_bytes\"]\n",
    "epsilon = 1.6\n",
    "min_samples = 20\n",
    "dbscan_workflow(df, agent_id, service_id, feature_list, epsilon, min_samples)"
   ]
  },
  {
   "cell_type": "code",
   "execution_count": 45,
   "metadata": {},
   "outputs": [
    {
     "name": "stdout",
     "output_type": "stream",
     "text": [
      "Number of outliers :  8\n"
     ]
    },
    {
     "data": {
      "image/png": "[encoded data removed]",
      "text/plain": [
       "<Figure size 432x288 with 1 Axes>"
      ]
     },
     "metadata": {
      "needs_background": "light"
     },
     "output_type": "display_data"
    }
   ],
   "source": [
    "\n",
    "agent_id = 7238\n",
    "service_id = 838\n",
    "feature_list = ['client_tx_bytes', \"service_tx_bytes\"]\n",
    "epsilon = 0.6\n",
    "min_samples = 10\n",
    "dbscan_workflow(df, agent_id, service_id, feature_list, epsilon, min_samples)"
   ]
  },
  {
   "cell_type": "code",
   "execution_count": 47,
   "metadata": {},
   "outputs": [
    {
     "name": "stdout",
     "output_type": "stream",
     "text": [
      "Number of outliers :  8\n"
     ]
    },
    {
     "data": {
      "image/png": "[encoded data removed]",
      "text/plain": [
       "<Figure size 432x288 with 1 Axes>"
      ]
     },
     "metadata": {
      "needs_background": "light"
     },
     "output_type": "display_data"
    }
   ],
   "source": [
    "\n",
    "agent_id = 7238\n",
    "service_id = 838\n",
    "feature_list = ['client_tx_bytes', \"service_tx_bytes\"]\n",
    "epsilon = 0.1\n",
    "min_samples = 10\n",
    "dbscan_workflow(df, agent_id, service_id, feature_list, epsilon, min_samples)"
   ]
  },
  {
   "cell_type": "code",
   "execution_count": 48,
   "metadata": {},
   "outputs": [
    {
     "name": "stdout",
     "output_type": "stream",
     "text": [
      "Length of cluster 0 :  2\n",
      "Length of cluster 1 :  2\n",
      "Number of outliers :  4\n"
     ]
    },
    {
     "data": {
      "image/png": "[encoded data removed]",
      "text/plain": [
       "<Figure size 432x288 with 1 Axes>"
      ]
     },
     "metadata": {
      "needs_background": "light"
     },
     "output_type": "display_data"
    }
   ],
   "source": [
    "\n",
    "agent_id = 7238\n",
    "service_id = 838\n",
    "feature_list = ['client_tx_bytes', \"service_tx_bytes\"]\n",
    "epsilon = 0.6\n",
    "min_samples = 2\n",
    "dbscan_workflow(df, agent_id, service_id, feature_list, epsilon, min_samples)"
   ]
  },
  {
   "cell_type": "code",
   "execution_count": 49,
   "metadata": {},
   "outputs": [
    {
     "name": "stdout",
     "output_type": "stream",
     "text": [
      "Length of cluster 0 :  2\n",
      "Number of outliers :  6\n"
     ]
    },
    {
     "data": {
      "image/png": "[encoded data removed]",
      "text/plain": [
       "<Figure size 432x288 with 1 Axes>"
      ]
     },
     "metadata": {
      "needs_background": "light"
     },
     "output_type": "display_data"
    }
   ],
   "source": [
    "\n",
    "agent_id = 7238\n",
    "service_id = 838\n",
    "feature_list = ['client_tx_bytes', \"service_tx_bytes\"]\n",
    "epsilon = 0.5\n",
    "min_samples = 2\n",
    "dbscan_workflow(df, agent_id, service_id, feature_list, epsilon, min_samples)"
   ]
  },
  {
   "cell_type": "code",
   "execution_count": 50,
   "metadata": {},
   "outputs": [
    {
     "name": "stdout",
     "output_type": "stream",
     "text": [
      "service_id\n",
      "735    735\n",
      "800    800\n",
      "830    830\n",
      "Name: service_id, dtype: int64\n"
     ]
    }
   ],
   "source": [
    "agent_id = 7380\n",
    "show_unique_service_ids(df, agent_id)"
   ]
  },
  {
   "cell_type": "code",
   "execution_count": 51,
   "metadata": {},
   "outputs": [
    {
     "name": "stdout",
     "output_type": "stream",
     "text": [
      "Length of cluster 0 :  20\n",
      "Number of outliers :  3\n"
     ]
    },
    {
     "data": {
      "image/png": "[encoded data removed]",
      "text/plain": [
       "<Figure size 432x288 with 1 Axes>"
      ]
     },
     "metadata": {
      "needs_background": "light"
     },
     "output_type": "display_data"
    }
   ],
   "source": [
    "agent_id = 7380\n",
    "service_id = 735\n",
    "feature_list = ['client_tx_bytes', \"service_tx_bytes\"]\n",
    "epsilon = 0.5\n",
    "min_samples = 2\n",
    "dbscan_workflow(df, agent_id, service_id, feature_list, epsilon, min_samples)"
   ]
  },
  {
   "cell_type": "code",
   "execution_count": 52,
   "metadata": {},
   "outputs": [
    {
     "name": "stdout",
     "output_type": "stream",
     "text": [
      "Number of outliers :  23\n"
     ]
    },
    {
     "data": {
      "image/png": "[encoded data removed]",
      "text/plain": [
       "<Figure size 432x288 with 1 Axes>"
      ]
     },
     "metadata": {
      "needs_background": "light"
     },
     "output_type": "display_data"
    }
   ],
   "source": [
    "agent_id = 7380\n",
    "service_id = 735\n",
    "feature_list = ['client_tx_bytes', \"service_tx_bytes\"]\n",
    "epsilon = 0.1\n",
    "min_samples = 10\n",
    "dbscan_workflow(df, agent_id, service_id, feature_list, epsilon, min_samples)"
   ]
  },
  {
   "cell_type": "code",
   "execution_count": 53,
   "metadata": {},
   "outputs": [
    {
     "name": "stdout",
     "output_type": "stream",
     "text": [
      "Length of cluster 0 :  8\n",
      "Number of outliers :  15\n"
     ]
    },
    {
     "data": {
      "image/png": "[encoded data removed]",
      "text/plain": [
       "<Figure size 432x288 with 1 Axes>"
      ]
     },
     "metadata": {
      "needs_background": "light"
     },
     "output_type": "display_data"
    }
   ],
   "source": [
    "agent_id = 7380\n",
    "service_id = 735\n",
    "feature_list = ['difference', 'client_tx_bytes']\n",
    "epsilon = 0.1\n",
    "min_samples = 3\n",
    "dbscan_workflow(df, agent_id, service_id, feature_list, epsilon, min_samples)"
   ]
  },
  {
   "cell_type": "code",
   "execution_count": 54,
   "metadata": {},
   "outputs": [
    {
     "name": "stdout",
     "output_type": "stream",
     "text": [
      "Length of cluster 0 :  7\n",
      "Number of outliers :  16\n"
     ]
    },
    {
     "data": {
      "image/png": "[encoded data removed]",
      "text/plain": [
       "<Figure size 432x288 with 1 Axes>"
      ]
     },
     "metadata": {
      "needs_background": "light"
     },
     "output_type": "display_data"
    }
   ],
   "source": [
    "agent_id = 7380\n",
    "service_id = 735\n",
    "feature_list = ['client_tx_bytes', \"service_tx_bytes\"]\n",
    "epsilon = 0.1\n",
    "min_samples = 6\n",
    "dbscan_workflow(df, agent_id, service_id, feature_list, epsilon, min_samples)"
   ]
  },
  {
   "cell_type": "code",
   "execution_count": 55,
   "metadata": {},
   "outputs": [
    {
     "name": "stdout",
     "output_type": "stream",
     "text": [
      "Length of cluster 0 :  18\n",
      "Number of outliers :  5\n"
     ]
    },
    {
     "data": {
      "image/png": "[encoded data removed]",
      "text/plain": [
       "<Figure size 432x288 with 1 Axes>"
      ]
     },
     "metadata": {
      "needs_background": "light"
     },
     "output_type": "display_data"
    }
   ],
   "source": [
    "agent_id = 7380\n",
    "service_id = 735\n",
    "feature_list = ['client_tx_bytes', \"service_tx_bytes\"]\n",
    "epsilon = 0.4\n",
    "min_samples = 3\n",
    "dbscan_workflow(df, agent_id, service_id, feature_list, epsilon, min_samples)"
   ]
  },
  {
   "cell_type": "code",
   "execution_count": 56,
   "metadata": {},
   "outputs": [
    {
     "name": "stdout",
     "output_type": "stream",
     "text": [
      "Number of outliers :  23\n"
     ]
    },
    {
     "data": {
      "image/png": "[encoded data removed]",
      "text/plain": [
       "<Figure size 432x288 with 1 Axes>"
      ]
     },
     "metadata": {
      "needs_background": "light"
     },
     "output_type": "display_data"
    }
   ],
   "source": [
    "agent_id = 7380\n",
    "service_id = 735\n",
    "feature_list = ['client_tx_bytes', \"service_tx_bytes\"]\n",
    "epsilon = 0.8\n",
    "min_samples = 20\n",
    "dbscan_workflow(df, agent_id, service_id, feature_list, epsilon, min_samples)"
   ]
  },
  {
   "cell_type": "code",
   "execution_count": 57,
   "metadata": {},
   "outputs": [
    {
     "name": "stdout",
     "output_type": "stream",
     "text": [
      "Number of outliers :  4\n"
     ]
    },
    {
     "data": {
      "image/png": "[encoded data removed]",
      "text/plain": [
       "<Figure size 432x288 with 1 Axes>"
      ]
     },
     "metadata": {
      "needs_background": "light"
     },
     "output_type": "display_data"
    }
   ],
   "source": [
    "agent_id = 7380\n",
    "service_id = 800\n",
    "feature_list = ['client_tx_bytes', \"service_tx_bytes\"]\n",
    "epsilon = 0.1\n",
    "min_samples = 10\n",
    "dbscan_workflow(df, agent_id, service_id, feature_list, epsilon, min_samples)"
   ]
  },
  {
   "cell_type": "code",
   "execution_count": 58,
   "metadata": {},
   "outputs": [
    {
     "name": "stdout",
     "output_type": "stream",
     "text": [
      "Number of outliers :  4\n"
     ]
    },
    {
     "data": {
      "image/png": "[encoded data removed]",
      "text/plain": [
       "<Figure size 432x288 with 1 Axes>"
      ]
     },
     "metadata": {
      "needs_background": "light"
     },
     "output_type": "display_data"
    }
   ],
   "source": [
    "agent_id = 7380\n",
    "service_id = 800\n",
    "feature_list = ['client_tx_bytes', \"service_tx_bytes\"]\n",
    "epsilon = 0.3\n",
    "min_samples = 10\n",
    "dbscan_workflow(df, agent_id, service_id, feature_list, epsilon, min_samples)"
   ]
  },
  {
   "cell_type": "code",
   "execution_count": 59,
   "metadata": {},
   "outputs": [
    {
     "name": "stdout",
     "output_type": "stream",
     "text": [
      "Number of outliers :  4\n"
     ]
    },
    {
     "data": {
      "image/png": "[encoded data removed]",
      "text/plain": [
       "<Figure size 432x288 with 1 Axes>"
      ]
     },
     "metadata": {
      "needs_background": "light"
     },
     "output_type": "display_data"
    }
   ],
   "source": [
    "agent_id = 7380\n",
    "service_id = 800\n",
    "feature_list = ['client_tx_bytes', \"service_tx_bytes\"]\n",
    "epsilon = 0.8\n",
    "min_samples = 10\n",
    "dbscan_workflow(df, agent_id, service_id, feature_list, epsilon, min_samples)"
   ]
  },
  {
   "cell_type": "code",
   "execution_count": 60,
   "metadata": {},
   "outputs": [
    {
     "name": "stdout",
     "output_type": "stream",
     "text": [
      "Length of cluster 0 :  2\n",
      "Number of outliers :  2\n"
     ]
    },
    {
     "data": {
      "image/png": "[encoded data removed]",
      "text/plain": [
       "<Figure size 432x288 with 1 Axes>"
      ]
     },
     "metadata": {
      "needs_background": "light"
     },
     "output_type": "display_data"
    }
   ],
   "source": [
    "agent_id = 7380\n",
    "service_id = 800\n",
    "feature_list = ['client_tx_bytes', \"service_tx_bytes\"]\n",
    "epsilon = 0.3\n",
    "min_samples = 2\n",
    "dbscan_workflow(df, agent_id, service_id, feature_list, epsilon, min_samples)"
   ]
  },
  {
   "cell_type": "code",
   "execution_count": 61,
   "metadata": {},
   "outputs": [
    {
     "name": "stdout",
     "output_type": "stream",
     "text": [
      "Number of outliers :  4\n"
     ]
    },
    {
     "data": {
      "image/png": "[encoded data removed]",
      "text/plain": [
       "<Figure size 432x288 with 1 Axes>"
      ]
     },
     "metadata": {
      "needs_background": "light"
     },
     "output_type": "display_data"
    }
   ],
   "source": [
    "agent_id = 7380\n",
    "service_id = 800\n",
    "feature_list = ['client_tx_bytes', \"service_tx_bytes\"]\n",
    "epsilon = 0.3\n",
    "min_samples = 6\n",
    "dbscan_workflow(df, agent_id, service_id, feature_list, epsilon, min_samples)"
   ]
  },
  {
   "cell_type": "code",
   "execution_count": 62,
   "metadata": {},
   "outputs": [
    {
     "name": "stdout",
     "output_type": "stream",
     "text": [
      "Length of cluster 0 :  2\n",
      "Number of outliers :  2\n"
     ]
    },
    {
     "data": {
      "image/png": "[encoded data removed]",
      "text/plain": [
       "<Figure size 432x288 with 1 Axes>"
      ]
     },
     "metadata": {
      "needs_background": "light"
     },
     "output_type": "display_data"
    }
   ],
   "source": [
    "agent_id = 7380\n",
    "service_id = 800\n",
    "feature_list = ['client_tx_bytes', \"service_tx_bytes\"]\n",
    "epsilon = 0.6\n",
    "min_samples = 2\n",
    "dbscan_workflow(df, agent_id, service_id, feature_list, epsilon, min_samples)"
   ]
  },
  {
   "cell_type": "code",
   "execution_count": 63,
   "metadata": {},
   "outputs": [
    {
     "name": "stdout",
     "output_type": "stream",
     "text": [
      "Number of outliers :  4\n"
     ]
    },
    {
     "data": {
      "image/png": "[encoded data removed]",
      "text/plain": [
       "<Figure size 432x288 with 1 Axes>"
      ]
     },
     "metadata": {
      "needs_background": "light"
     },
     "output_type": "display_data"
    }
   ],
   "source": [
    "agent_id = 7380\n",
    "service_id = 800\n",
    "feature_list = ['client_tx_bytes', \"service_tx_bytes\"]\n",
    "epsilon = 0.8\n",
    "min_samples = 9\n",
    "dbscan_workflow(df, agent_id, service_id, feature_list, epsilon, min_samples)"
   ]
  },
  {
   "cell_type": "code",
   "execution_count": 64,
   "metadata": {},
   "outputs": [
    {
     "name": "stdout",
     "output_type": "stream",
     "text": [
      "Length of cluster 0 :  2\n",
      "Number of outliers :  2\n"
     ]
    },
    {
     "data": {
      "image/png": "[encoded data removed]",
      "text/plain": [
       "<Figure size 432x288 with 1 Axes>"
      ]
     },
     "metadata": {
      "needs_background": "light"
     },
     "output_type": "display_data"
    }
   ],
   "source": [
    "agent_id = 7380\n",
    "service_id = 800\n",
    "feature_list = ['client_tx_bytes', \"service_tx_bytes\"]\n",
    "epsilon = 0.3\n",
    "min_samples = 2\n",
    "dbscan_workflow(df, agent_id, service_id, feature_list, epsilon, min_samples)"
   ]
  },
  {
   "cell_type": "code",
   "execution_count": 65,
   "metadata": {},
   "outputs": [
    {
     "name": "stdout",
     "output_type": "stream",
     "text": [
      "Length of cluster 0 :  59\n",
      "Length of cluster 1 :  4\n",
      "Length of cluster 2 :  2\n",
      "Length of cluster 3 :  4\n",
      "Number of outliers :  6\n"
     ]
    },
    {
     "data": {
      "image/png": "[encoded data removed]",
      "text/plain": [
       "<Figure size 432x288 with 1 Axes>"
      ]
     },
     "metadata": {
      "needs_background": "light"
     },
     "output_type": "display_data"
    }
   ],
   "source": [
    "agent_id = 7380\n",
    "service_id = 830\n",
    "feature_list = ['client_tx_bytes', \"service_tx_bytes\"]\n",
    "epsilon = 0.1\n",
    "min_samples = 2\n",
    "dbscan_workflow(df, agent_id, service_id, feature_list, epsilon, min_samples)"
   ]
  },
  {
   "cell_type": "code",
   "execution_count": 66,
   "metadata": {},
   "outputs": [
    {
     "name": "stdout",
     "output_type": "stream",
     "text": [
      "Length of cluster 0 :  50\n",
      "Number of outliers :  25\n"
     ]
    },
    {
     "data": {
      "image/png": "[encoded data removed]",
      "text/plain": [
       "<Figure size 432x288 with 1 Axes>"
      ]
     },
     "metadata": {
      "needs_background": "light"
     },
     "output_type": "display_data"
    }
   ],
   "source": [
    "agent_id = 7380\n",
    "service_id = 830\n",
    "feature_list = ['client_tx_bytes', \"service_tx_bytes\"]\n",
    "epsilon = 0.1\n",
    "min_samples = 7\n",
    "dbscan_workflow(df, agent_id, service_id, feature_list, epsilon, min_samples)"
   ]
  },
  {
   "cell_type": "code",
   "execution_count": 67,
   "metadata": {},
   "outputs": [
    {
     "name": "stdout",
     "output_type": "stream",
     "text": [
      "Length of cluster 0 :  50\n",
      "Number of outliers :  25\n"
     ]
    },
    {
     "data": {
      "image/png": "[encoded data removed]",
      "text/plain": [
       "<Figure size 432x288 with 1 Axes>"
      ]
     },
     "metadata": {
      "needs_background": "light"
     },
     "output_type": "display_data"
    }
   ],
   "source": [
    "agent_id = 7380\n",
    "service_id = 830\n",
    "feature_list = ['client_tx_bytes', \"service_tx_bytes\"]\n",
    "epsilon = 0.1\n",
    "min_samples = 9\n",
    "dbscan_workflow(df, agent_id, service_id, feature_list, epsilon, min_samples)"
   ]
  },
  {
   "cell_type": "code",
   "execution_count": 69,
   "metadata": {},
   "outputs": [
    {
     "name": "stdout",
     "output_type": "stream",
     "text": [
      "Length of cluster 0 :  34\n",
      "Number of outliers :  41\n"
     ]
    },
    {
     "data": {
      "image/png": "[encoded data removed]",
      "text/plain": [
       "<Figure size 432x288 with 1 Axes>"
      ]
     },
     "metadata": {
      "needs_background": "light"
     },
     "output_type": "display_data"
    }
   ],
   "source": [
    "agent_id = 7380\n",
    "service_id = 830\n",
    "feature_list = ['client_tx_bytes', \"service_tx_bytes\"]\n",
    "epsilon = 0.1\n",
    "min_samples = 13\n",
    "dbscan_workflow(df, agent_id, service_id, feature_list, epsilon, min_samples)"
   ]
  },
  {
   "cell_type": "code",
   "execution_count": 70,
   "metadata": {},
   "outputs": [
    {
     "name": "stdout",
     "output_type": "stream",
     "text": [
      "Length of cluster 0 :  73\n",
      "Number of outliers :  2\n"
     ]
    },
    {
     "data": {
      "image/png": "[encoded data removed]",
      "text/plain": [
       "<Figure size 432x288 with 1 Axes>"
      ]
     },
     "metadata": {
      "needs_background": "light"
     },
     "output_type": "display_data"
    }
   ],
   "source": [
    "agent_id = 7380\n",
    "service_id = 830\n",
    "feature_list = ['client_tx_bytes', \"service_tx_bytes\"]\n",
    "epsilon = 0.3\n",
    "min_samples = 2\n",
    "dbscan_workflow(df, agent_id, service_id, feature_list, epsilon, min_samples)"
   ]
  },
  {
   "cell_type": "code",
   "execution_count": 71,
   "metadata": {},
   "outputs": [
    {
     "name": "stdout",
     "output_type": "stream",
     "text": [
      "Length of cluster 0 :  74\n",
      "Number of outliers :  1\n"
     ]
    },
    {
     "data": {
      "image/png": "[encoded data removed]",
      "text/plain": [
       "<Figure size 432x288 with 1 Axes>"
      ]
     },
     "metadata": {
      "needs_background": "light"
     },
     "output_type": "display_data"
    }
   ],
   "source": [
    "agent_id = 7380\n",
    "service_id = 830\n",
    "feature_list = ['client_tx_bytes', \"service_tx_bytes\"]\n",
    "epsilon = 0.6\n",
    "min_samples = 7\n",
    "dbscan_workflow(df, agent_id, service_id, feature_list, epsilon, min_samples)"
   ]
  },
  {
   "cell_type": "code",
   "execution_count": 72,
   "metadata": {},
   "outputs": [
    {
     "name": "stdout",
     "output_type": "stream",
     "text": [
      "Length of cluster 0 :  73\n",
      "Number of outliers :  2\n"
     ]
    },
    {
     "data": {
      "image/png": "[encoded data removed]",
      "text/plain": [
       "<Figure size 432x288 with 1 Axes>"
      ]
     },
     "metadata": {
      "needs_background": "light"
     },
     "output_type": "display_data"
    }
   ],
   "source": [
    "agent_id = 7380\n",
    "service_id = 830\n",
    "feature_list = ['client_tx_bytes', \"service_tx_bytes\"]\n",
    "epsilon = 0.7\n",
    "min_samples = 20\n",
    "dbscan_workflow(df, agent_id, service_id, feature_list, epsilon, min_samples)"
   ]
  },
  {
   "cell_type": "code",
   "execution_count": null,
   "metadata": {},
   "outputs": [],
   "source": []
  }
 ],
 "metadata": {
  "kernelspec": {
   "display_name": "Python 3",
   "language": "python",
   "name": "python3"
  },
  "language_info": {
   "codemirror_mode": {
    "name": "ipython",
    "version": 3
   },
   "file_extension": ".py",
   "mimetype": "text/x-python",
   "name": "python",
   "nbconvert_exporter": "python",
   "pygments_lexer": "ipython3",
   "version": "3.7.6"
  }
 },
 "nbformat": 4,
 "nbformat_minor": 4
}
